{
 "cells": [
  {
   "cell_type": "markdown",
   "metadata": {
    "toc": true
   },
   "source": [
    "<h1>Содержание<span class=\"tocSkip\"></span></h1>\n",
    "<div class=\"toc\"><ul class=\"toc-item\"><li><span><a href=\"#Подготовка-данных\" data-toc-modified-id=\"Подготовка-данных-1\"><span class=\"toc-item-num\">1&nbsp;&nbsp;</span>Подготовка данных</a></span><ul class=\"toc-item\"><li><span><a href=\"#Открытие-файлов-и-изучение-информации\" data-toc-modified-id=\"Открытие-файлов-и-изучение-информации-1.1\"><span class=\"toc-item-num\">1.1&nbsp;&nbsp;</span>Открытие файлов и изучение информации</a></span></li><li><span><a href=\"#Анализ-эффективности-обогащения\" data-toc-modified-id=\"Анализ-эффективности-обогащения-1.2\"><span class=\"toc-item-num\">1.2&nbsp;&nbsp;</span>Анализ эффективности обогащения</a></span></li><li><span><a href=\"#Анализ-признаков-тестовой-и-обучающей-выборках.\" data-toc-modified-id=\"Анализ-признаков-тестовой-и-обучающей-выборках.-1.3\"><span class=\"toc-item-num\">1.3&nbsp;&nbsp;</span>Анализ признаков тестовой и обучающей выборках.</a></span><ul class=\"toc-item\"><li><span><a href=\"#Определим-признаки-в-обучающей-выборке,-которые-отсутствуют-в-тестовой-выборке.\" data-toc-modified-id=\"Определим-признаки-в-обучающей-выборке,-которые-отсутствуют-в-тестовой-выборке.-1.3.1\"><span class=\"toc-item-num\">1.3.1&nbsp;&nbsp;</span>Определим признаки в обучающей выборке, которые отсутствуют в тестовой выборке.</a></span></li></ul></li><li><span><a href=\"#Предобработка-данных\" data-toc-modified-id=\"Предобработка-данных-1.4\"><span class=\"toc-item-num\">1.4&nbsp;&nbsp;</span>Предобработка данных</a></span></li></ul></li><li><span><a href=\"#Анализ-данных\" data-toc-modified-id=\"Анализ-данных-2\"><span class=\"toc-item-num\">2&nbsp;&nbsp;</span>Анализ данных</a></span><ul class=\"toc-item\"><li><span><a href=\"#Анализ-концентрации-металлов-на-разных-этапах-очистки\" data-toc-modified-id=\"Анализ-концентрации-металлов-на-разных-этапах-очистки-2.1\"><span class=\"toc-item-num\">2.1&nbsp;&nbsp;</span>Анализ концентрации металлов на разных этапах очистки</a></span></li><li><span><a href=\"#Сравнение-распределений-размеров-гранул-сырья\" data-toc-modified-id=\"Сравнение-распределений-размеров-гранул-сырья-2.2\"><span class=\"toc-item-num\">2.2&nbsp;&nbsp;</span>Сравнение распределений размеров гранул сырья</a></span></li><li><span><a href=\"#Анализ-суммарной-концентрации--веществ-на-разных-стадиях-обработки\" data-toc-modified-id=\"Анализ-суммарной-концентрации--веществ-на-разных-стадиях-обработки-2.3\"><span class=\"toc-item-num\">2.3&nbsp;&nbsp;</span>Анализ суммарной концентрации  веществ на разных стадиях обработки</a></span></li></ul></li><li><span><a href=\"#Модель\" data-toc-modified-id=\"Модель-3\"><span class=\"toc-item-num\">3&nbsp;&nbsp;</span>Модель</a></span><ul class=\"toc-item\"><li><span><a href=\"#Фунция-sMAPE\" data-toc-modified-id=\"Фунция-sMAPE-3.1\"><span class=\"toc-item-num\">3.1&nbsp;&nbsp;</span>Фунция sMAPE</a></span></li><li><span><a href=\"#Обучение-моделей\" data-toc-modified-id=\"Обучение-моделей-3.2\"><span class=\"toc-item-num\">3.2&nbsp;&nbsp;</span>Обучение моделей</a></span><ul class=\"toc-item\"><li><span><a href=\"#Линейная-регрессия\" data-toc-modified-id=\"Линейная-регрессия-3.2.1\"><span class=\"toc-item-num\">3.2.1&nbsp;&nbsp;</span>Линейная регрессия</a></span></li><li><span><a href=\"#Дерево-решений\" data-toc-modified-id=\"Дерево-решений-3.2.2\"><span class=\"toc-item-num\">3.2.2&nbsp;&nbsp;</span>Дерево решений</a></span></li><li><span><a href=\"#Случайный-лес\" data-toc-modified-id=\"Случайный-лес-3.2.3\"><span class=\"toc-item-num\">3.2.3&nbsp;&nbsp;</span>Случайный лес</a></span></li></ul></li></ul></li><li><span><a href=\"#Вывод:\" data-toc-modified-id=\"Вывод:-4\"><span class=\"toc-item-num\">4&nbsp;&nbsp;</span>Вывод:</a></span></li><li><span><a href=\"#Чек-лист-готовности-проекта\" data-toc-modified-id=\"Чек-лист-готовности-проекта-5\"><span class=\"toc-item-num\">5&nbsp;&nbsp;</span>Чек-лист готовности проекта</a></span></li></ul></div>"
   ]
  },
  {
   "cell_type": "markdown",
   "metadata": {},
   "source": [
    "# Восстановление золота из руды"
   ]
  },
  {
   "cell_type": "markdown",
   "metadata": {},
   "source": [
    "Подготовьте прототип модели машинного обучения для «Цифры». Компания разрабатывает решения для эффективной работы промышленных предприятий.\n",
    "\n",
    "Модель должна предсказать коэффициент восстановления золота из золотосодержащей руды. Используйте данные с параметрами добычи и очистки. \n",
    "\n",
    "Модель поможет оптимизировать производство, чтобы не запускать предприятие с убыточными характеристиками.\n",
    "\n",
    "Вам нужно:\n",
    "\n",
    "1. Подготовить данные;\n",
    "2. Провести исследовательский анализ данных;\n",
    "3. Построить и обучить модель.\n",
    "\n",
    "Чтобы выполнить проект, обращайтесь к библиотекам *pandas*, *matplotlib* и *sklearn.* Вам поможет их документация."
   ]
  },
  {
   "cell_type": "markdown",
   "metadata": {},
   "source": [
    "## Подготовка данных\n",
    "\n",
    "### Открытие файлов и изучение информации"
   ]
  },
  {
   "cell_type": "code",
   "execution_count": 1,
   "metadata": {},
   "outputs": [],
   "source": [
    "import pandas as pd\n",
    "import matplotlib.pyplot as plt\n",
    "from scipy import stats as st\n",
    "import numpy as np\n",
    "import seaborn\n",
    "\n",
    "from sklearn.linear_model import LinearRegression\n",
    "from sklearn.ensemble import RandomForestRegressor\n",
    "from sklearn.model_selection import cross_val_score\n",
    "from sklearn.model_selection import GridSearchCV\n",
    "from sklearn.tree import DecisionTreeRegressor\n",
    "from sklearn.metrics import accuracy_score\n",
    "from sklearn.metrics import make_scorer\n",
    "from sklearn.metrics import mean_absolute_error\n",
    "from sklearn.ensemble import RandomForestClassifier\n",
    "from sklearn.model_selection import train_test_split"
   ]
  },
  {
   "cell_type": "code",
   "execution_count": 2,
   "metadata": {
    "scrolled": true
   },
   "outputs": [
    {
     "name": "stdout",
     "output_type": "stream",
     "text": [
      "(14149, 86)\n",
      "(5290, 52)\n",
      "(19439, 86)\n"
     ]
    }
   ],
   "source": [
    "df_train = pd.read_csv('/datasets/gold_recovery_train_new.csv',index_col=0)\n",
    "df_test = pd.read_csv('/datasets/gold_recovery_test_new.csv',index_col=0)\n",
    "df_full = pd.read_csv('/datasets/gold_recovery_full_new.csv',index_col=0)\n",
    "print(df_train.shape)\n",
    "print(df_test.shape)\n",
    "print(df_full.shape)"
   ]
  },
  {
   "cell_type": "code",
   "execution_count": 3,
   "metadata": {
    "scrolled": false
   },
   "outputs": [
    {
     "name": "stdout",
     "output_type": "stream",
     "text": [
      "<class 'pandas.core.frame.DataFrame'>\n",
      "Index: 14149 entries, 2016-01-15 00:00:00 to 2018-08-18 10:59:59\n",
      "Data columns (total 86 columns):\n",
      " #   Column                                              Non-Null Count  Dtype  \n",
      "---  ------                                              --------------  -----  \n",
      " 0   final.output.concentrate_ag                         14148 non-null  float64\n",
      " 1   final.output.concentrate_pb                         14148 non-null  float64\n",
      " 2   final.output.concentrate_sol                        13938 non-null  float64\n",
      " 3   final.output.concentrate_au                         14149 non-null  float64\n",
      " 4   final.output.recovery                               14149 non-null  float64\n",
      " 5   final.output.tail_ag                                14149 non-null  float64\n",
      " 6   final.output.tail_pb                                14049 non-null  float64\n",
      " 7   final.output.tail_sol                               14144 non-null  float64\n",
      " 8   final.output.tail_au                                14149 non-null  float64\n",
      " 9   primary_cleaner.input.sulfate                       14129 non-null  float64\n",
      " 10  primary_cleaner.input.depressant                    14117 non-null  float64\n",
      " 11  primary_cleaner.input.feed_size                     14149 non-null  float64\n",
      " 12  primary_cleaner.input.xanthate                      14049 non-null  float64\n",
      " 13  primary_cleaner.output.concentrate_ag               14149 non-null  float64\n",
      " 14  primary_cleaner.output.concentrate_pb               14063 non-null  float64\n",
      " 15  primary_cleaner.output.concentrate_sol              13863 non-null  float64\n",
      " 16  primary_cleaner.output.concentrate_au               14149 non-null  float64\n",
      " 17  primary_cleaner.output.tail_ag                      14148 non-null  float64\n",
      " 18  primary_cleaner.output.tail_pb                      14134 non-null  float64\n",
      " 19  primary_cleaner.output.tail_sol                     14103 non-null  float64\n",
      " 20  primary_cleaner.output.tail_au                      14149 non-null  float64\n",
      " 21  primary_cleaner.state.floatbank8_a_air              14145 non-null  float64\n",
      " 22  primary_cleaner.state.floatbank8_a_level            14148 non-null  float64\n",
      " 23  primary_cleaner.state.floatbank8_b_air              14145 non-null  float64\n",
      " 24  primary_cleaner.state.floatbank8_b_level            14148 non-null  float64\n",
      " 25  primary_cleaner.state.floatbank8_c_air              14147 non-null  float64\n",
      " 26  primary_cleaner.state.floatbank8_c_level            14148 non-null  float64\n",
      " 27  primary_cleaner.state.floatbank8_d_air              14146 non-null  float64\n",
      " 28  primary_cleaner.state.floatbank8_d_level            14148 non-null  float64\n",
      " 29  rougher.calculation.sulfate_to_au_concentrate       14148 non-null  float64\n",
      " 30  rougher.calculation.floatbank10_sulfate_to_au_feed  14148 non-null  float64\n",
      " 31  rougher.calculation.floatbank11_sulfate_to_au_feed  14148 non-null  float64\n",
      " 32  rougher.calculation.au_pb_ratio                     14149 non-null  float64\n",
      " 33  rougher.input.feed_ag                               14149 non-null  float64\n",
      " 34  rougher.input.feed_pb                               14049 non-null  float64\n",
      " 35  rougher.input.feed_rate                             14141 non-null  float64\n",
      " 36  rougher.input.feed_size                             14005 non-null  float64\n",
      " 37  rougher.input.feed_sol                              14071 non-null  float64\n",
      " 38  rougher.input.feed_au                               14149 non-null  float64\n",
      " 39  rougher.input.floatbank10_sulfate                   14120 non-null  float64\n",
      " 40  rougher.input.floatbank10_xanthate                  14141 non-null  float64\n",
      " 41  rougher.input.floatbank11_sulfate                   14113 non-null  float64\n",
      " 42  rougher.input.floatbank11_xanthate                  13721 non-null  float64\n",
      " 43  rougher.output.concentrate_ag                       14149 non-null  float64\n",
      " 44  rougher.output.concentrate_pb                       14149 non-null  float64\n",
      " 45  rougher.output.concentrate_sol                      14127 non-null  float64\n",
      " 46  rougher.output.concentrate_au                       14149 non-null  float64\n",
      " 47  rougher.output.recovery                             14149 non-null  float64\n",
      " 48  rougher.output.tail_ag                              14148 non-null  float64\n",
      " 49  rougher.output.tail_pb                              14149 non-null  float64\n",
      " 50  rougher.output.tail_sol                             14149 non-null  float64\n",
      " 51  rougher.output.tail_au                              14149 non-null  float64\n",
      " 52  rougher.state.floatbank10_a_air                     14148 non-null  float64\n",
      " 53  rougher.state.floatbank10_a_level                   14148 non-null  float64\n",
      " 54  rougher.state.floatbank10_b_air                     14148 non-null  float64\n",
      " 55  rougher.state.floatbank10_b_level                   14148 non-null  float64\n",
      " 56  rougher.state.floatbank10_c_air                     14148 non-null  float64\n",
      " 57  rougher.state.floatbank10_c_level                   14148 non-null  float64\n",
      " 58  rougher.state.floatbank10_d_air                     14149 non-null  float64\n",
      " 59  rougher.state.floatbank10_d_level                   14149 non-null  float64\n",
      " 60  rougher.state.floatbank10_e_air                     13713 non-null  float64\n",
      " 61  rougher.state.floatbank10_e_level                   14149 non-null  float64\n",
      " 62  rougher.state.floatbank10_f_air                     14149 non-null  float64\n",
      " 63  rougher.state.floatbank10_f_level                   14149 non-null  float64\n",
      " 64  secondary_cleaner.output.tail_ag                    14147 non-null  float64\n",
      " 65  secondary_cleaner.output.tail_pb                    14139 non-null  float64\n",
      " 66  secondary_cleaner.output.tail_sol                   12544 non-null  float64\n",
      " 67  secondary_cleaner.output.tail_au                    14149 non-null  float64\n",
      " 68  secondary_cleaner.state.floatbank2_a_air            13932 non-null  float64\n",
      " 69  secondary_cleaner.state.floatbank2_a_level          14148 non-null  float64\n",
      " 70  secondary_cleaner.state.floatbank2_b_air            14128 non-null  float64\n",
      " 71  secondary_cleaner.state.floatbank2_b_level          14148 non-null  float64\n",
      " 72  secondary_cleaner.state.floatbank3_a_air            14145 non-null  float64\n",
      " 73  secondary_cleaner.state.floatbank3_a_level          14148 non-null  float64\n",
      " 74  secondary_cleaner.state.floatbank3_b_air            14148 non-null  float64\n",
      " 75  secondary_cleaner.state.floatbank3_b_level          14148 non-null  float64\n",
      " 76  secondary_cleaner.state.floatbank4_a_air            14143 non-null  float64\n",
      " 77  secondary_cleaner.state.floatbank4_a_level          14148 non-null  float64\n",
      " 78  secondary_cleaner.state.floatbank4_b_air            14148 non-null  float64\n",
      " 79  secondary_cleaner.state.floatbank4_b_level          14148 non-null  float64\n",
      " 80  secondary_cleaner.state.floatbank5_a_air            14148 non-null  float64\n",
      " 81  secondary_cleaner.state.floatbank5_a_level          14148 non-null  float64\n",
      " 82  secondary_cleaner.state.floatbank5_b_air            14148 non-null  float64\n",
      " 83  secondary_cleaner.state.floatbank5_b_level          14148 non-null  float64\n",
      " 84  secondary_cleaner.state.floatbank6_a_air            14147 non-null  float64\n",
      " 85  secondary_cleaner.state.floatbank6_a_level          14148 non-null  float64\n",
      "dtypes: float64(86)\n",
      "memory usage: 9.4+ MB\n"
     ]
    },
    {
     "data": {
      "text/plain": [
       "None"
      ]
     },
     "metadata": {},
     "output_type": "display_data"
    },
    {
     "name": "stdout",
     "output_type": "stream",
     "text": [
      "<class 'pandas.core.frame.DataFrame'>\n",
      "Index: 5290 entries, 2016-09-01 00:59:59 to 2017-12-31 23:59:59\n",
      "Data columns (total 52 columns):\n",
      " #   Column                                      Non-Null Count  Dtype  \n",
      "---  ------                                      --------------  -----  \n",
      " 0   primary_cleaner.input.sulfate               5286 non-null   float64\n",
      " 1   primary_cleaner.input.depressant            5285 non-null   float64\n",
      " 2   primary_cleaner.input.feed_size             5290 non-null   float64\n",
      " 3   primary_cleaner.input.xanthate              5286 non-null   float64\n",
      " 4   primary_cleaner.state.floatbank8_a_air      5290 non-null   float64\n",
      " 5   primary_cleaner.state.floatbank8_a_level    5290 non-null   float64\n",
      " 6   primary_cleaner.state.floatbank8_b_air      5290 non-null   float64\n",
      " 7   primary_cleaner.state.floatbank8_b_level    5290 non-null   float64\n",
      " 8   primary_cleaner.state.floatbank8_c_air      5290 non-null   float64\n",
      " 9   primary_cleaner.state.floatbank8_c_level    5290 non-null   float64\n",
      " 10  primary_cleaner.state.floatbank8_d_air      5290 non-null   float64\n",
      " 11  primary_cleaner.state.floatbank8_d_level    5290 non-null   float64\n",
      " 12  rougher.input.feed_ag                       5290 non-null   float64\n",
      " 13  rougher.input.feed_pb                       5290 non-null   float64\n",
      " 14  rougher.input.feed_rate                     5287 non-null   float64\n",
      " 15  rougher.input.feed_size                     5289 non-null   float64\n",
      " 16  rougher.input.feed_sol                      5269 non-null   float64\n",
      " 17  rougher.input.feed_au                       5290 non-null   float64\n",
      " 18  rougher.input.floatbank10_sulfate           5285 non-null   float64\n",
      " 19  rougher.input.floatbank10_xanthate          5290 non-null   float64\n",
      " 20  rougher.input.floatbank11_sulfate           5282 non-null   float64\n",
      " 21  rougher.input.floatbank11_xanthate          5265 non-null   float64\n",
      " 22  rougher.state.floatbank10_a_air             5290 non-null   float64\n",
      " 23  rougher.state.floatbank10_a_level           5290 non-null   float64\n",
      " 24  rougher.state.floatbank10_b_air             5290 non-null   float64\n",
      " 25  rougher.state.floatbank10_b_level           5290 non-null   float64\n",
      " 26  rougher.state.floatbank10_c_air             5290 non-null   float64\n",
      " 27  rougher.state.floatbank10_c_level           5290 non-null   float64\n",
      " 28  rougher.state.floatbank10_d_air             5290 non-null   float64\n",
      " 29  rougher.state.floatbank10_d_level           5290 non-null   float64\n",
      " 30  rougher.state.floatbank10_e_air             5290 non-null   float64\n",
      " 31  rougher.state.floatbank10_e_level           5290 non-null   float64\n",
      " 32  rougher.state.floatbank10_f_air             5290 non-null   float64\n",
      " 33  rougher.state.floatbank10_f_level           5290 non-null   float64\n",
      " 34  secondary_cleaner.state.floatbank2_a_air    5287 non-null   float64\n",
      " 35  secondary_cleaner.state.floatbank2_a_level  5290 non-null   float64\n",
      " 36  secondary_cleaner.state.floatbank2_b_air    5288 non-null   float64\n",
      " 37  secondary_cleaner.state.floatbank2_b_level  5290 non-null   float64\n",
      " 38  secondary_cleaner.state.floatbank3_a_air    5281 non-null   float64\n",
      " 39  secondary_cleaner.state.floatbank3_a_level  5290 non-null   float64\n",
      " 40  secondary_cleaner.state.floatbank3_b_air    5290 non-null   float64\n",
      " 41  secondary_cleaner.state.floatbank3_b_level  5290 non-null   float64\n",
      " 42  secondary_cleaner.state.floatbank4_a_air    5290 non-null   float64\n",
      " 43  secondary_cleaner.state.floatbank4_a_level  5290 non-null   float64\n",
      " 44  secondary_cleaner.state.floatbank4_b_air    5290 non-null   float64\n",
      " 45  secondary_cleaner.state.floatbank4_b_level  5290 non-null   float64\n",
      " 46  secondary_cleaner.state.floatbank5_a_air    5290 non-null   float64\n",
      " 47  secondary_cleaner.state.floatbank5_a_level  5290 non-null   float64\n",
      " 48  secondary_cleaner.state.floatbank5_b_air    5290 non-null   float64\n",
      " 49  secondary_cleaner.state.floatbank5_b_level  5290 non-null   float64\n",
      " 50  secondary_cleaner.state.floatbank6_a_air    5290 non-null   float64\n",
      " 51  secondary_cleaner.state.floatbank6_a_level  5290 non-null   float64\n",
      "dtypes: float64(52)\n",
      "memory usage: 2.1+ MB\n"
     ]
    },
    {
     "data": {
      "text/plain": [
       "None"
      ]
     },
     "metadata": {},
     "output_type": "display_data"
    },
    {
     "name": "stdout",
     "output_type": "stream",
     "text": [
      "<class 'pandas.core.frame.DataFrame'>\n",
      "Index: 19439 entries, 2016-01-15 00:00:00 to 2018-08-18 10:59:59\n",
      "Data columns (total 86 columns):\n",
      " #   Column                                              Non-Null Count  Dtype  \n",
      "---  ------                                              --------------  -----  \n",
      " 0   final.output.concentrate_ag                         19438 non-null  float64\n",
      " 1   final.output.concentrate_pb                         19438 non-null  float64\n",
      " 2   final.output.concentrate_sol                        19228 non-null  float64\n",
      " 3   final.output.concentrate_au                         19439 non-null  float64\n",
      " 4   final.output.recovery                               19439 non-null  float64\n",
      " 5   final.output.tail_ag                                19438 non-null  float64\n",
      " 6   final.output.tail_pb                                19338 non-null  float64\n",
      " 7   final.output.tail_sol                               19433 non-null  float64\n",
      " 8   final.output.tail_au                                19439 non-null  float64\n",
      " 9   primary_cleaner.input.sulfate                       19415 non-null  float64\n",
      " 10  primary_cleaner.input.depressant                    19402 non-null  float64\n",
      " 11  primary_cleaner.input.feed_size                     19439 non-null  float64\n",
      " 12  primary_cleaner.input.xanthate                      19335 non-null  float64\n",
      " 13  primary_cleaner.output.concentrate_ag               19439 non-null  float64\n",
      " 14  primary_cleaner.output.concentrate_pb               19323 non-null  float64\n",
      " 15  primary_cleaner.output.concentrate_sol              19069 non-null  float64\n",
      " 16  primary_cleaner.output.concentrate_au               19439 non-null  float64\n",
      " 17  primary_cleaner.output.tail_ag                      19435 non-null  float64\n",
      " 18  primary_cleaner.output.tail_pb                      19418 non-null  float64\n",
      " 19  primary_cleaner.output.tail_sol                     19377 non-null  float64\n",
      " 20  primary_cleaner.output.tail_au                      19439 non-null  float64\n",
      " 21  primary_cleaner.state.floatbank8_a_air              19435 non-null  float64\n",
      " 22  primary_cleaner.state.floatbank8_a_level            19438 non-null  float64\n",
      " 23  primary_cleaner.state.floatbank8_b_air              19435 non-null  float64\n",
      " 24  primary_cleaner.state.floatbank8_b_level            19438 non-null  float64\n",
      " 25  primary_cleaner.state.floatbank8_c_air              19437 non-null  float64\n",
      " 26  primary_cleaner.state.floatbank8_c_level            19438 non-null  float64\n",
      " 27  primary_cleaner.state.floatbank8_d_air              19436 non-null  float64\n",
      " 28  primary_cleaner.state.floatbank8_d_level            19438 non-null  float64\n",
      " 29  rougher.calculation.sulfate_to_au_concentrate       19437 non-null  float64\n",
      " 30  rougher.calculation.floatbank10_sulfate_to_au_feed  19437 non-null  float64\n",
      " 31  rougher.calculation.floatbank11_sulfate_to_au_feed  19437 non-null  float64\n",
      " 32  rougher.calculation.au_pb_ratio                     19439 non-null  float64\n",
      " 33  rougher.input.feed_ag                               19439 non-null  float64\n",
      " 34  rougher.input.feed_pb                               19339 non-null  float64\n",
      " 35  rougher.input.feed_rate                             19428 non-null  float64\n",
      " 36  rougher.input.feed_size                             19294 non-null  float64\n",
      " 37  rougher.input.feed_sol                              19340 non-null  float64\n",
      " 38  rougher.input.feed_au                               19439 non-null  float64\n",
      " 39  rougher.input.floatbank10_sulfate                   19405 non-null  float64\n",
      " 40  rougher.input.floatbank10_xanthate                  19431 non-null  float64\n",
      " 41  rougher.input.floatbank11_sulfate                   19395 non-null  float64\n",
      " 42  rougher.input.floatbank11_xanthate                  18986 non-null  float64\n",
      " 43  rougher.output.concentrate_ag                       19439 non-null  float64\n",
      " 44  rougher.output.concentrate_pb                       19439 non-null  float64\n",
      " 45  rougher.output.concentrate_sol                      19416 non-null  float64\n",
      " 46  rougher.output.concentrate_au                       19439 non-null  float64\n",
      " 47  rougher.output.recovery                             19439 non-null  float64\n",
      " 48  rougher.output.tail_ag                              19438 non-null  float64\n",
      " 49  rougher.output.tail_pb                              19439 non-null  float64\n",
      " 50  rougher.output.tail_sol                             19439 non-null  float64\n",
      " 51  rougher.output.tail_au                              19439 non-null  float64\n",
      " 52  rougher.state.floatbank10_a_air                     19438 non-null  float64\n",
      " 53  rougher.state.floatbank10_a_level                   19438 non-null  float64\n",
      " 54  rougher.state.floatbank10_b_air                     19438 non-null  float64\n",
      " 55  rougher.state.floatbank10_b_level                   19438 non-null  float64\n",
      " 56  rougher.state.floatbank10_c_air                     19438 non-null  float64\n",
      " 57  rougher.state.floatbank10_c_level                   19438 non-null  float64\n",
      " 58  rougher.state.floatbank10_d_air                     19439 non-null  float64\n",
      " 59  rougher.state.floatbank10_d_level                   19439 non-null  float64\n",
      " 60  rougher.state.floatbank10_e_air                     19003 non-null  float64\n",
      " 61  rougher.state.floatbank10_e_level                   19439 non-null  float64\n",
      " 62  rougher.state.floatbank10_f_air                     19439 non-null  float64\n",
      " 63  rougher.state.floatbank10_f_level                   19439 non-null  float64\n",
      " 64  secondary_cleaner.output.tail_ag                    19437 non-null  float64\n",
      " 65  secondary_cleaner.output.tail_pb                    19427 non-null  float64\n",
      " 66  secondary_cleaner.output.tail_sol                   17691 non-null  float64\n",
      " 67  secondary_cleaner.output.tail_au                    19439 non-null  float64\n",
      " 68  secondary_cleaner.state.floatbank2_a_air            19219 non-null  float64\n",
      " 69  secondary_cleaner.state.floatbank2_a_level          19438 non-null  float64\n",
      " 70  secondary_cleaner.state.floatbank2_b_air            19416 non-null  float64\n",
      " 71  secondary_cleaner.state.floatbank2_b_level          19438 non-null  float64\n",
      " 72  secondary_cleaner.state.floatbank3_a_air            19426 non-null  float64\n",
      " 73  secondary_cleaner.state.floatbank3_a_level          19438 non-null  float64\n",
      " 74  secondary_cleaner.state.floatbank3_b_air            19438 non-null  float64\n",
      " 75  secondary_cleaner.state.floatbank3_b_level          19438 non-null  float64\n",
      " 76  secondary_cleaner.state.floatbank4_a_air            19433 non-null  float64\n",
      " 77  secondary_cleaner.state.floatbank4_a_level          19438 non-null  float64\n",
      " 78  secondary_cleaner.state.floatbank4_b_air            19438 non-null  float64\n",
      " 79  secondary_cleaner.state.floatbank4_b_level          19438 non-null  float64\n",
      " 80  secondary_cleaner.state.floatbank5_a_air            19438 non-null  float64\n",
      " 81  secondary_cleaner.state.floatbank5_a_level          19438 non-null  float64\n",
      " 82  secondary_cleaner.state.floatbank5_b_air            19438 non-null  float64\n",
      " 83  secondary_cleaner.state.floatbank5_b_level          19438 non-null  float64\n",
      " 84  secondary_cleaner.state.floatbank6_a_air            19437 non-null  float64\n",
      " 85  secondary_cleaner.state.floatbank6_a_level          19438 non-null  float64\n",
      "dtypes: float64(86)\n",
      "memory usage: 12.9+ MB\n"
     ]
    },
    {
     "data": {
      "text/plain": [
       "None"
      ]
     },
     "metadata": {},
     "output_type": "display_data"
    }
   ],
   "source": [
    "display(df_train.info())\n",
    "display(df_test.info())\n",
    "display(df_full.info())"
   ]
  },
  {
   "cell_type": "code",
   "execution_count": 4,
   "metadata": {},
   "outputs": [
    {
     "data": {
      "text/html": [
       "<div>\n",
       "<style scoped>\n",
       "    .dataframe tbody tr th:only-of-type {\n",
       "        vertical-align: middle;\n",
       "    }\n",
       "\n",
       "    .dataframe tbody tr th {\n",
       "        vertical-align: top;\n",
       "    }\n",
       "\n",
       "    .dataframe thead th {\n",
       "        text-align: right;\n",
       "    }\n",
       "</style>\n",
       "<table border=\"1\" class=\"dataframe\">\n",
       "  <thead>\n",
       "    <tr style=\"text-align: right;\">\n",
       "      <th></th>\n",
       "      <th>final.output.concentrate_ag</th>\n",
       "      <th>final.output.concentrate_pb</th>\n",
       "      <th>final.output.concentrate_sol</th>\n",
       "      <th>final.output.concentrate_au</th>\n",
       "      <th>final.output.recovery</th>\n",
       "      <th>final.output.tail_ag</th>\n",
       "      <th>final.output.tail_pb</th>\n",
       "      <th>final.output.tail_sol</th>\n",
       "      <th>final.output.tail_au</th>\n",
       "      <th>primary_cleaner.input.sulfate</th>\n",
       "      <th>...</th>\n",
       "      <th>secondary_cleaner.state.floatbank4_a_air</th>\n",
       "      <th>secondary_cleaner.state.floatbank4_a_level</th>\n",
       "      <th>secondary_cleaner.state.floatbank4_b_air</th>\n",
       "      <th>secondary_cleaner.state.floatbank4_b_level</th>\n",
       "      <th>secondary_cleaner.state.floatbank5_a_air</th>\n",
       "      <th>secondary_cleaner.state.floatbank5_a_level</th>\n",
       "      <th>secondary_cleaner.state.floatbank5_b_air</th>\n",
       "      <th>secondary_cleaner.state.floatbank5_b_level</th>\n",
       "      <th>secondary_cleaner.state.floatbank6_a_air</th>\n",
       "      <th>secondary_cleaner.state.floatbank6_a_level</th>\n",
       "    </tr>\n",
       "    <tr>\n",
       "      <th>date</th>\n",
       "      <th></th>\n",
       "      <th></th>\n",
       "      <th></th>\n",
       "      <th></th>\n",
       "      <th></th>\n",
       "      <th></th>\n",
       "      <th></th>\n",
       "      <th></th>\n",
       "      <th></th>\n",
       "      <th></th>\n",
       "      <th></th>\n",
       "      <th></th>\n",
       "      <th></th>\n",
       "      <th></th>\n",
       "      <th></th>\n",
       "      <th></th>\n",
       "      <th></th>\n",
       "      <th></th>\n",
       "      <th></th>\n",
       "      <th></th>\n",
       "      <th></th>\n",
       "    </tr>\n",
       "  </thead>\n",
       "  <tbody>\n",
       "    <tr>\n",
       "      <th>2016-01-15 00:00:00</th>\n",
       "      <td>6.055403</td>\n",
       "      <td>9.889648</td>\n",
       "      <td>5.507324</td>\n",
       "      <td>42.192020</td>\n",
       "      <td>70.541216</td>\n",
       "      <td>10.411962</td>\n",
       "      <td>0.895447</td>\n",
       "      <td>16.904297</td>\n",
       "      <td>2.143149</td>\n",
       "      <td>127.092003</td>\n",
       "      <td>...</td>\n",
       "      <td>14.016835</td>\n",
       "      <td>-502.488007</td>\n",
       "      <td>12.099931</td>\n",
       "      <td>-504.715942</td>\n",
       "      <td>9.925633</td>\n",
       "      <td>-498.310211</td>\n",
       "      <td>8.079666</td>\n",
       "      <td>-500.470978</td>\n",
       "      <td>14.151341</td>\n",
       "      <td>-605.841980</td>\n",
       "    </tr>\n",
       "    <tr>\n",
       "      <th>2016-01-15 01:00:00</th>\n",
       "      <td>6.029369</td>\n",
       "      <td>9.968944</td>\n",
       "      <td>5.257781</td>\n",
       "      <td>42.701629</td>\n",
       "      <td>69.266198</td>\n",
       "      <td>10.462676</td>\n",
       "      <td>0.927452</td>\n",
       "      <td>16.634514</td>\n",
       "      <td>2.224930</td>\n",
       "      <td>125.629232</td>\n",
       "      <td>...</td>\n",
       "      <td>13.992281</td>\n",
       "      <td>-505.503262</td>\n",
       "      <td>11.950531</td>\n",
       "      <td>-501.331529</td>\n",
       "      <td>10.039245</td>\n",
       "      <td>-500.169983</td>\n",
       "      <td>7.984757</td>\n",
       "      <td>-500.582168</td>\n",
       "      <td>13.998353</td>\n",
       "      <td>-599.787184</td>\n",
       "    </tr>\n",
       "    <tr>\n",
       "      <th>2016-01-15 02:00:00</th>\n",
       "      <td>6.055926</td>\n",
       "      <td>10.213995</td>\n",
       "      <td>5.383759</td>\n",
       "      <td>42.657501</td>\n",
       "      <td>68.116445</td>\n",
       "      <td>10.507046</td>\n",
       "      <td>0.953716</td>\n",
       "      <td>16.208849</td>\n",
       "      <td>2.257889</td>\n",
       "      <td>123.819808</td>\n",
       "      <td>...</td>\n",
       "      <td>14.015015</td>\n",
       "      <td>-502.520901</td>\n",
       "      <td>11.912783</td>\n",
       "      <td>-501.133383</td>\n",
       "      <td>10.070913</td>\n",
       "      <td>-500.129135</td>\n",
       "      <td>8.013877</td>\n",
       "      <td>-500.517572</td>\n",
       "      <td>14.028663</td>\n",
       "      <td>-601.427363</td>\n",
       "    </tr>\n",
       "    <tr>\n",
       "      <th>2016-01-15 03:00:00</th>\n",
       "      <td>6.047977</td>\n",
       "      <td>9.977019</td>\n",
       "      <td>4.858634</td>\n",
       "      <td>42.689819</td>\n",
       "      <td>68.347543</td>\n",
       "      <td>10.422762</td>\n",
       "      <td>0.883763</td>\n",
       "      <td>16.532835</td>\n",
       "      <td>2.146849</td>\n",
       "      <td>122.270188</td>\n",
       "      <td>...</td>\n",
       "      <td>14.036510</td>\n",
       "      <td>-500.857308</td>\n",
       "      <td>11.999550</td>\n",
       "      <td>-501.193686</td>\n",
       "      <td>9.970366</td>\n",
       "      <td>-499.201640</td>\n",
       "      <td>7.977324</td>\n",
       "      <td>-500.255908</td>\n",
       "      <td>14.005551</td>\n",
       "      <td>-599.996129</td>\n",
       "    </tr>\n",
       "    <tr>\n",
       "      <th>2016-01-15 04:00:00</th>\n",
       "      <td>6.148599</td>\n",
       "      <td>10.142511</td>\n",
       "      <td>4.939416</td>\n",
       "      <td>42.774141</td>\n",
       "      <td>66.927016</td>\n",
       "      <td>10.360302</td>\n",
       "      <td>0.792826</td>\n",
       "      <td>16.525686</td>\n",
       "      <td>2.055292</td>\n",
       "      <td>117.988169</td>\n",
       "      <td>...</td>\n",
       "      <td>14.027298</td>\n",
       "      <td>-499.838632</td>\n",
       "      <td>11.953070</td>\n",
       "      <td>-501.053894</td>\n",
       "      <td>9.925709</td>\n",
       "      <td>-501.686727</td>\n",
       "      <td>7.894242</td>\n",
       "      <td>-500.356035</td>\n",
       "      <td>13.996647</td>\n",
       "      <td>-601.496691</td>\n",
       "    </tr>\n",
       "  </tbody>\n",
       "</table>\n",
       "<p>5 rows × 86 columns</p>\n",
       "</div>"
      ],
      "text/plain": [
       "                     final.output.concentrate_ag  final.output.concentrate_pb  \\\n",
       "date                                                                            \n",
       "2016-01-15 00:00:00                     6.055403                     9.889648   \n",
       "2016-01-15 01:00:00                     6.029369                     9.968944   \n",
       "2016-01-15 02:00:00                     6.055926                    10.213995   \n",
       "2016-01-15 03:00:00                     6.047977                     9.977019   \n",
       "2016-01-15 04:00:00                     6.148599                    10.142511   \n",
       "\n",
       "                     final.output.concentrate_sol  \\\n",
       "date                                                \n",
       "2016-01-15 00:00:00                      5.507324   \n",
       "2016-01-15 01:00:00                      5.257781   \n",
       "2016-01-15 02:00:00                      5.383759   \n",
       "2016-01-15 03:00:00                      4.858634   \n",
       "2016-01-15 04:00:00                      4.939416   \n",
       "\n",
       "                     final.output.concentrate_au  final.output.recovery  \\\n",
       "date                                                                      \n",
       "2016-01-15 00:00:00                    42.192020              70.541216   \n",
       "2016-01-15 01:00:00                    42.701629              69.266198   \n",
       "2016-01-15 02:00:00                    42.657501              68.116445   \n",
       "2016-01-15 03:00:00                    42.689819              68.347543   \n",
       "2016-01-15 04:00:00                    42.774141              66.927016   \n",
       "\n",
       "                     final.output.tail_ag  final.output.tail_pb  \\\n",
       "date                                                              \n",
       "2016-01-15 00:00:00             10.411962              0.895447   \n",
       "2016-01-15 01:00:00             10.462676              0.927452   \n",
       "2016-01-15 02:00:00             10.507046              0.953716   \n",
       "2016-01-15 03:00:00             10.422762              0.883763   \n",
       "2016-01-15 04:00:00             10.360302              0.792826   \n",
       "\n",
       "                     final.output.tail_sol  final.output.tail_au  \\\n",
       "date                                                               \n",
       "2016-01-15 00:00:00              16.904297              2.143149   \n",
       "2016-01-15 01:00:00              16.634514              2.224930   \n",
       "2016-01-15 02:00:00              16.208849              2.257889   \n",
       "2016-01-15 03:00:00              16.532835              2.146849   \n",
       "2016-01-15 04:00:00              16.525686              2.055292   \n",
       "\n",
       "                     primary_cleaner.input.sulfate  ...  \\\n",
       "date                                                ...   \n",
       "2016-01-15 00:00:00                     127.092003  ...   \n",
       "2016-01-15 01:00:00                     125.629232  ...   \n",
       "2016-01-15 02:00:00                     123.819808  ...   \n",
       "2016-01-15 03:00:00                     122.270188  ...   \n",
       "2016-01-15 04:00:00                     117.988169  ...   \n",
       "\n",
       "                     secondary_cleaner.state.floatbank4_a_air  \\\n",
       "date                                                            \n",
       "2016-01-15 00:00:00                                 14.016835   \n",
       "2016-01-15 01:00:00                                 13.992281   \n",
       "2016-01-15 02:00:00                                 14.015015   \n",
       "2016-01-15 03:00:00                                 14.036510   \n",
       "2016-01-15 04:00:00                                 14.027298   \n",
       "\n",
       "                     secondary_cleaner.state.floatbank4_a_level  \\\n",
       "date                                                              \n",
       "2016-01-15 00:00:00                                 -502.488007   \n",
       "2016-01-15 01:00:00                                 -505.503262   \n",
       "2016-01-15 02:00:00                                 -502.520901   \n",
       "2016-01-15 03:00:00                                 -500.857308   \n",
       "2016-01-15 04:00:00                                 -499.838632   \n",
       "\n",
       "                     secondary_cleaner.state.floatbank4_b_air  \\\n",
       "date                                                            \n",
       "2016-01-15 00:00:00                                 12.099931   \n",
       "2016-01-15 01:00:00                                 11.950531   \n",
       "2016-01-15 02:00:00                                 11.912783   \n",
       "2016-01-15 03:00:00                                 11.999550   \n",
       "2016-01-15 04:00:00                                 11.953070   \n",
       "\n",
       "                     secondary_cleaner.state.floatbank4_b_level  \\\n",
       "date                                                              \n",
       "2016-01-15 00:00:00                                 -504.715942   \n",
       "2016-01-15 01:00:00                                 -501.331529   \n",
       "2016-01-15 02:00:00                                 -501.133383   \n",
       "2016-01-15 03:00:00                                 -501.193686   \n",
       "2016-01-15 04:00:00                                 -501.053894   \n",
       "\n",
       "                     secondary_cleaner.state.floatbank5_a_air  \\\n",
       "date                                                            \n",
       "2016-01-15 00:00:00                                  9.925633   \n",
       "2016-01-15 01:00:00                                 10.039245   \n",
       "2016-01-15 02:00:00                                 10.070913   \n",
       "2016-01-15 03:00:00                                  9.970366   \n",
       "2016-01-15 04:00:00                                  9.925709   \n",
       "\n",
       "                     secondary_cleaner.state.floatbank5_a_level  \\\n",
       "date                                                              \n",
       "2016-01-15 00:00:00                                 -498.310211   \n",
       "2016-01-15 01:00:00                                 -500.169983   \n",
       "2016-01-15 02:00:00                                 -500.129135   \n",
       "2016-01-15 03:00:00                                 -499.201640   \n",
       "2016-01-15 04:00:00                                 -501.686727   \n",
       "\n",
       "                     secondary_cleaner.state.floatbank5_b_air  \\\n",
       "date                                                            \n",
       "2016-01-15 00:00:00                                  8.079666   \n",
       "2016-01-15 01:00:00                                  7.984757   \n",
       "2016-01-15 02:00:00                                  8.013877   \n",
       "2016-01-15 03:00:00                                  7.977324   \n",
       "2016-01-15 04:00:00                                  7.894242   \n",
       "\n",
       "                     secondary_cleaner.state.floatbank5_b_level  \\\n",
       "date                                                              \n",
       "2016-01-15 00:00:00                                 -500.470978   \n",
       "2016-01-15 01:00:00                                 -500.582168   \n",
       "2016-01-15 02:00:00                                 -500.517572   \n",
       "2016-01-15 03:00:00                                 -500.255908   \n",
       "2016-01-15 04:00:00                                 -500.356035   \n",
       "\n",
       "                     secondary_cleaner.state.floatbank6_a_air  \\\n",
       "date                                                            \n",
       "2016-01-15 00:00:00                                 14.151341   \n",
       "2016-01-15 01:00:00                                 13.998353   \n",
       "2016-01-15 02:00:00                                 14.028663   \n",
       "2016-01-15 03:00:00                                 14.005551   \n",
       "2016-01-15 04:00:00                                 13.996647   \n",
       "\n",
       "                     secondary_cleaner.state.floatbank6_a_level  \n",
       "date                                                             \n",
       "2016-01-15 00:00:00                                 -605.841980  \n",
       "2016-01-15 01:00:00                                 -599.787184  \n",
       "2016-01-15 02:00:00                                 -601.427363  \n",
       "2016-01-15 03:00:00                                 -599.996129  \n",
       "2016-01-15 04:00:00                                 -601.496691  \n",
       "\n",
       "[5 rows x 86 columns]"
      ]
     },
     "metadata": {},
     "output_type": "display_data"
    },
    {
     "data": {
      "text/html": [
       "<div>\n",
       "<style scoped>\n",
       "    .dataframe tbody tr th:only-of-type {\n",
       "        vertical-align: middle;\n",
       "    }\n",
       "\n",
       "    .dataframe tbody tr th {\n",
       "        vertical-align: top;\n",
       "    }\n",
       "\n",
       "    .dataframe thead th {\n",
       "        text-align: right;\n",
       "    }\n",
       "</style>\n",
       "<table border=\"1\" class=\"dataframe\">\n",
       "  <thead>\n",
       "    <tr style=\"text-align: right;\">\n",
       "      <th></th>\n",
       "      <th>primary_cleaner.input.sulfate</th>\n",
       "      <th>primary_cleaner.input.depressant</th>\n",
       "      <th>primary_cleaner.input.feed_size</th>\n",
       "      <th>primary_cleaner.input.xanthate</th>\n",
       "      <th>primary_cleaner.state.floatbank8_a_air</th>\n",
       "      <th>primary_cleaner.state.floatbank8_a_level</th>\n",
       "      <th>primary_cleaner.state.floatbank8_b_air</th>\n",
       "      <th>primary_cleaner.state.floatbank8_b_level</th>\n",
       "      <th>primary_cleaner.state.floatbank8_c_air</th>\n",
       "      <th>primary_cleaner.state.floatbank8_c_level</th>\n",
       "      <th>...</th>\n",
       "      <th>secondary_cleaner.state.floatbank4_a_air</th>\n",
       "      <th>secondary_cleaner.state.floatbank4_a_level</th>\n",
       "      <th>secondary_cleaner.state.floatbank4_b_air</th>\n",
       "      <th>secondary_cleaner.state.floatbank4_b_level</th>\n",
       "      <th>secondary_cleaner.state.floatbank5_a_air</th>\n",
       "      <th>secondary_cleaner.state.floatbank5_a_level</th>\n",
       "      <th>secondary_cleaner.state.floatbank5_b_air</th>\n",
       "      <th>secondary_cleaner.state.floatbank5_b_level</th>\n",
       "      <th>secondary_cleaner.state.floatbank6_a_air</th>\n",
       "      <th>secondary_cleaner.state.floatbank6_a_level</th>\n",
       "    </tr>\n",
       "    <tr>\n",
       "      <th>date</th>\n",
       "      <th></th>\n",
       "      <th></th>\n",
       "      <th></th>\n",
       "      <th></th>\n",
       "      <th></th>\n",
       "      <th></th>\n",
       "      <th></th>\n",
       "      <th></th>\n",
       "      <th></th>\n",
       "      <th></th>\n",
       "      <th></th>\n",
       "      <th></th>\n",
       "      <th></th>\n",
       "      <th></th>\n",
       "      <th></th>\n",
       "      <th></th>\n",
       "      <th></th>\n",
       "      <th></th>\n",
       "      <th></th>\n",
       "      <th></th>\n",
       "      <th></th>\n",
       "    </tr>\n",
       "  </thead>\n",
       "  <tbody>\n",
       "    <tr>\n",
       "      <th>2016-09-01 00:59:59</th>\n",
       "      <td>210.800909</td>\n",
       "      <td>14.993118</td>\n",
       "      <td>8.080000</td>\n",
       "      <td>1.005021</td>\n",
       "      <td>1398.981301</td>\n",
       "      <td>-500.225577</td>\n",
       "      <td>1399.144926</td>\n",
       "      <td>-499.919735</td>\n",
       "      <td>1400.102998</td>\n",
       "      <td>-500.704369</td>\n",
       "      <td>...</td>\n",
       "      <td>12.023554</td>\n",
       "      <td>-497.795834</td>\n",
       "      <td>8.016656</td>\n",
       "      <td>-501.289139</td>\n",
       "      <td>7.946562</td>\n",
       "      <td>-432.317850</td>\n",
       "      <td>4.872511</td>\n",
       "      <td>-500.037437</td>\n",
       "      <td>26.705889</td>\n",
       "      <td>-499.709414</td>\n",
       "    </tr>\n",
       "    <tr>\n",
       "      <th>2016-09-01 01:59:59</th>\n",
       "      <td>215.392455</td>\n",
       "      <td>14.987471</td>\n",
       "      <td>8.080000</td>\n",
       "      <td>0.990469</td>\n",
       "      <td>1398.777912</td>\n",
       "      <td>-500.057435</td>\n",
       "      <td>1398.055362</td>\n",
       "      <td>-499.778182</td>\n",
       "      <td>1396.151033</td>\n",
       "      <td>-499.240168</td>\n",
       "      <td>...</td>\n",
       "      <td>12.058140</td>\n",
       "      <td>-498.695773</td>\n",
       "      <td>8.130979</td>\n",
       "      <td>-499.634209</td>\n",
       "      <td>7.958270</td>\n",
       "      <td>-525.839648</td>\n",
       "      <td>4.878850</td>\n",
       "      <td>-500.162375</td>\n",
       "      <td>25.019940</td>\n",
       "      <td>-499.819438</td>\n",
       "    </tr>\n",
       "    <tr>\n",
       "      <th>2016-09-01 02:59:59</th>\n",
       "      <td>215.259946</td>\n",
       "      <td>12.884934</td>\n",
       "      <td>7.786667</td>\n",
       "      <td>0.996043</td>\n",
       "      <td>1398.493666</td>\n",
       "      <td>-500.868360</td>\n",
       "      <td>1398.860436</td>\n",
       "      <td>-499.764529</td>\n",
       "      <td>1398.075709</td>\n",
       "      <td>-502.151509</td>\n",
       "      <td>...</td>\n",
       "      <td>11.962366</td>\n",
       "      <td>-498.767484</td>\n",
       "      <td>8.096893</td>\n",
       "      <td>-500.827423</td>\n",
       "      <td>8.071056</td>\n",
       "      <td>-500.801673</td>\n",
       "      <td>4.905125</td>\n",
       "      <td>-499.828510</td>\n",
       "      <td>24.994862</td>\n",
       "      <td>-500.622559</td>\n",
       "    </tr>\n",
       "    <tr>\n",
       "      <th>2016-09-01 03:59:59</th>\n",
       "      <td>215.336236</td>\n",
       "      <td>12.006805</td>\n",
       "      <td>7.640000</td>\n",
       "      <td>0.863514</td>\n",
       "      <td>1399.618111</td>\n",
       "      <td>-498.863574</td>\n",
       "      <td>1397.440120</td>\n",
       "      <td>-499.211024</td>\n",
       "      <td>1400.129303</td>\n",
       "      <td>-498.355873</td>\n",
       "      <td>...</td>\n",
       "      <td>12.033091</td>\n",
       "      <td>-498.350935</td>\n",
       "      <td>8.074946</td>\n",
       "      <td>-499.474407</td>\n",
       "      <td>7.897085</td>\n",
       "      <td>-500.868509</td>\n",
       "      <td>4.931400</td>\n",
       "      <td>-499.963623</td>\n",
       "      <td>24.948919</td>\n",
       "      <td>-498.709987</td>\n",
       "    </tr>\n",
       "    <tr>\n",
       "      <th>2016-09-01 04:59:59</th>\n",
       "      <td>199.099327</td>\n",
       "      <td>10.682530</td>\n",
       "      <td>7.530000</td>\n",
       "      <td>0.805575</td>\n",
       "      <td>1401.268123</td>\n",
       "      <td>-500.808305</td>\n",
       "      <td>1398.128818</td>\n",
       "      <td>-499.504543</td>\n",
       "      <td>1402.172226</td>\n",
       "      <td>-500.810606</td>\n",
       "      <td>...</td>\n",
       "      <td>12.025367</td>\n",
       "      <td>-500.786497</td>\n",
       "      <td>8.054678</td>\n",
       "      <td>-500.397500</td>\n",
       "      <td>8.107890</td>\n",
       "      <td>-509.526725</td>\n",
       "      <td>4.957674</td>\n",
       "      <td>-500.360026</td>\n",
       "      <td>25.003331</td>\n",
       "      <td>-500.856333</td>\n",
       "    </tr>\n",
       "  </tbody>\n",
       "</table>\n",
       "<p>5 rows × 52 columns</p>\n",
       "</div>"
      ],
      "text/plain": [
       "                     primary_cleaner.input.sulfate  \\\n",
       "date                                                 \n",
       "2016-09-01 00:59:59                     210.800909   \n",
       "2016-09-01 01:59:59                     215.392455   \n",
       "2016-09-01 02:59:59                     215.259946   \n",
       "2016-09-01 03:59:59                     215.336236   \n",
       "2016-09-01 04:59:59                     199.099327   \n",
       "\n",
       "                     primary_cleaner.input.depressant  \\\n",
       "date                                                    \n",
       "2016-09-01 00:59:59                         14.993118   \n",
       "2016-09-01 01:59:59                         14.987471   \n",
       "2016-09-01 02:59:59                         12.884934   \n",
       "2016-09-01 03:59:59                         12.006805   \n",
       "2016-09-01 04:59:59                         10.682530   \n",
       "\n",
       "                     primary_cleaner.input.feed_size  \\\n",
       "date                                                   \n",
       "2016-09-01 00:59:59                         8.080000   \n",
       "2016-09-01 01:59:59                         8.080000   \n",
       "2016-09-01 02:59:59                         7.786667   \n",
       "2016-09-01 03:59:59                         7.640000   \n",
       "2016-09-01 04:59:59                         7.530000   \n",
       "\n",
       "                     primary_cleaner.input.xanthate  \\\n",
       "date                                                  \n",
       "2016-09-01 00:59:59                        1.005021   \n",
       "2016-09-01 01:59:59                        0.990469   \n",
       "2016-09-01 02:59:59                        0.996043   \n",
       "2016-09-01 03:59:59                        0.863514   \n",
       "2016-09-01 04:59:59                        0.805575   \n",
       "\n",
       "                     primary_cleaner.state.floatbank8_a_air  \\\n",
       "date                                                          \n",
       "2016-09-01 00:59:59                             1398.981301   \n",
       "2016-09-01 01:59:59                             1398.777912   \n",
       "2016-09-01 02:59:59                             1398.493666   \n",
       "2016-09-01 03:59:59                             1399.618111   \n",
       "2016-09-01 04:59:59                             1401.268123   \n",
       "\n",
       "                     primary_cleaner.state.floatbank8_a_level  \\\n",
       "date                                                            \n",
       "2016-09-01 00:59:59                               -500.225577   \n",
       "2016-09-01 01:59:59                               -500.057435   \n",
       "2016-09-01 02:59:59                               -500.868360   \n",
       "2016-09-01 03:59:59                               -498.863574   \n",
       "2016-09-01 04:59:59                               -500.808305   \n",
       "\n",
       "                     primary_cleaner.state.floatbank8_b_air  \\\n",
       "date                                                          \n",
       "2016-09-01 00:59:59                             1399.144926   \n",
       "2016-09-01 01:59:59                             1398.055362   \n",
       "2016-09-01 02:59:59                             1398.860436   \n",
       "2016-09-01 03:59:59                             1397.440120   \n",
       "2016-09-01 04:59:59                             1398.128818   \n",
       "\n",
       "                     primary_cleaner.state.floatbank8_b_level  \\\n",
       "date                                                            \n",
       "2016-09-01 00:59:59                               -499.919735   \n",
       "2016-09-01 01:59:59                               -499.778182   \n",
       "2016-09-01 02:59:59                               -499.764529   \n",
       "2016-09-01 03:59:59                               -499.211024   \n",
       "2016-09-01 04:59:59                               -499.504543   \n",
       "\n",
       "                     primary_cleaner.state.floatbank8_c_air  \\\n",
       "date                                                          \n",
       "2016-09-01 00:59:59                             1400.102998   \n",
       "2016-09-01 01:59:59                             1396.151033   \n",
       "2016-09-01 02:59:59                             1398.075709   \n",
       "2016-09-01 03:59:59                             1400.129303   \n",
       "2016-09-01 04:59:59                             1402.172226   \n",
       "\n",
       "                     primary_cleaner.state.floatbank8_c_level  ...  \\\n",
       "date                                                           ...   \n",
       "2016-09-01 00:59:59                               -500.704369  ...   \n",
       "2016-09-01 01:59:59                               -499.240168  ...   \n",
       "2016-09-01 02:59:59                               -502.151509  ...   \n",
       "2016-09-01 03:59:59                               -498.355873  ...   \n",
       "2016-09-01 04:59:59                               -500.810606  ...   \n",
       "\n",
       "                     secondary_cleaner.state.floatbank4_a_air  \\\n",
       "date                                                            \n",
       "2016-09-01 00:59:59                                 12.023554   \n",
       "2016-09-01 01:59:59                                 12.058140   \n",
       "2016-09-01 02:59:59                                 11.962366   \n",
       "2016-09-01 03:59:59                                 12.033091   \n",
       "2016-09-01 04:59:59                                 12.025367   \n",
       "\n",
       "                     secondary_cleaner.state.floatbank4_a_level  \\\n",
       "date                                                              \n",
       "2016-09-01 00:59:59                                 -497.795834   \n",
       "2016-09-01 01:59:59                                 -498.695773   \n",
       "2016-09-01 02:59:59                                 -498.767484   \n",
       "2016-09-01 03:59:59                                 -498.350935   \n",
       "2016-09-01 04:59:59                                 -500.786497   \n",
       "\n",
       "                     secondary_cleaner.state.floatbank4_b_air  \\\n",
       "date                                                            \n",
       "2016-09-01 00:59:59                                  8.016656   \n",
       "2016-09-01 01:59:59                                  8.130979   \n",
       "2016-09-01 02:59:59                                  8.096893   \n",
       "2016-09-01 03:59:59                                  8.074946   \n",
       "2016-09-01 04:59:59                                  8.054678   \n",
       "\n",
       "                     secondary_cleaner.state.floatbank4_b_level  \\\n",
       "date                                                              \n",
       "2016-09-01 00:59:59                                 -501.289139   \n",
       "2016-09-01 01:59:59                                 -499.634209   \n",
       "2016-09-01 02:59:59                                 -500.827423   \n",
       "2016-09-01 03:59:59                                 -499.474407   \n",
       "2016-09-01 04:59:59                                 -500.397500   \n",
       "\n",
       "                     secondary_cleaner.state.floatbank5_a_air  \\\n",
       "date                                                            \n",
       "2016-09-01 00:59:59                                  7.946562   \n",
       "2016-09-01 01:59:59                                  7.958270   \n",
       "2016-09-01 02:59:59                                  8.071056   \n",
       "2016-09-01 03:59:59                                  7.897085   \n",
       "2016-09-01 04:59:59                                  8.107890   \n",
       "\n",
       "                     secondary_cleaner.state.floatbank5_a_level  \\\n",
       "date                                                              \n",
       "2016-09-01 00:59:59                                 -432.317850   \n",
       "2016-09-01 01:59:59                                 -525.839648   \n",
       "2016-09-01 02:59:59                                 -500.801673   \n",
       "2016-09-01 03:59:59                                 -500.868509   \n",
       "2016-09-01 04:59:59                                 -509.526725   \n",
       "\n",
       "                     secondary_cleaner.state.floatbank5_b_air  \\\n",
       "date                                                            \n",
       "2016-09-01 00:59:59                                  4.872511   \n",
       "2016-09-01 01:59:59                                  4.878850   \n",
       "2016-09-01 02:59:59                                  4.905125   \n",
       "2016-09-01 03:59:59                                  4.931400   \n",
       "2016-09-01 04:59:59                                  4.957674   \n",
       "\n",
       "                     secondary_cleaner.state.floatbank5_b_level  \\\n",
       "date                                                              \n",
       "2016-09-01 00:59:59                                 -500.037437   \n",
       "2016-09-01 01:59:59                                 -500.162375   \n",
       "2016-09-01 02:59:59                                 -499.828510   \n",
       "2016-09-01 03:59:59                                 -499.963623   \n",
       "2016-09-01 04:59:59                                 -500.360026   \n",
       "\n",
       "                     secondary_cleaner.state.floatbank6_a_air  \\\n",
       "date                                                            \n",
       "2016-09-01 00:59:59                                 26.705889   \n",
       "2016-09-01 01:59:59                                 25.019940   \n",
       "2016-09-01 02:59:59                                 24.994862   \n",
       "2016-09-01 03:59:59                                 24.948919   \n",
       "2016-09-01 04:59:59                                 25.003331   \n",
       "\n",
       "                     secondary_cleaner.state.floatbank6_a_level  \n",
       "date                                                             \n",
       "2016-09-01 00:59:59                                 -499.709414  \n",
       "2016-09-01 01:59:59                                 -499.819438  \n",
       "2016-09-01 02:59:59                                 -500.622559  \n",
       "2016-09-01 03:59:59                                 -498.709987  \n",
       "2016-09-01 04:59:59                                 -500.856333  \n",
       "\n",
       "[5 rows x 52 columns]"
      ]
     },
     "metadata": {},
     "output_type": "display_data"
    },
    {
     "data": {
      "text/html": [
       "<div>\n",
       "<style scoped>\n",
       "    .dataframe tbody tr th:only-of-type {\n",
       "        vertical-align: middle;\n",
       "    }\n",
       "\n",
       "    .dataframe tbody tr th {\n",
       "        vertical-align: top;\n",
       "    }\n",
       "\n",
       "    .dataframe thead th {\n",
       "        text-align: right;\n",
       "    }\n",
       "</style>\n",
       "<table border=\"1\" class=\"dataframe\">\n",
       "  <thead>\n",
       "    <tr style=\"text-align: right;\">\n",
       "      <th></th>\n",
       "      <th>final.output.concentrate_ag</th>\n",
       "      <th>final.output.concentrate_pb</th>\n",
       "      <th>final.output.concentrate_sol</th>\n",
       "      <th>final.output.concentrate_au</th>\n",
       "      <th>final.output.recovery</th>\n",
       "      <th>final.output.tail_ag</th>\n",
       "      <th>final.output.tail_pb</th>\n",
       "      <th>final.output.tail_sol</th>\n",
       "      <th>final.output.tail_au</th>\n",
       "      <th>primary_cleaner.input.sulfate</th>\n",
       "      <th>...</th>\n",
       "      <th>secondary_cleaner.state.floatbank4_a_air</th>\n",
       "      <th>secondary_cleaner.state.floatbank4_a_level</th>\n",
       "      <th>secondary_cleaner.state.floatbank4_b_air</th>\n",
       "      <th>secondary_cleaner.state.floatbank4_b_level</th>\n",
       "      <th>secondary_cleaner.state.floatbank5_a_air</th>\n",
       "      <th>secondary_cleaner.state.floatbank5_a_level</th>\n",
       "      <th>secondary_cleaner.state.floatbank5_b_air</th>\n",
       "      <th>secondary_cleaner.state.floatbank5_b_level</th>\n",
       "      <th>secondary_cleaner.state.floatbank6_a_air</th>\n",
       "      <th>secondary_cleaner.state.floatbank6_a_level</th>\n",
       "    </tr>\n",
       "    <tr>\n",
       "      <th>date</th>\n",
       "      <th></th>\n",
       "      <th></th>\n",
       "      <th></th>\n",
       "      <th></th>\n",
       "      <th></th>\n",
       "      <th></th>\n",
       "      <th></th>\n",
       "      <th></th>\n",
       "      <th></th>\n",
       "      <th></th>\n",
       "      <th></th>\n",
       "      <th></th>\n",
       "      <th></th>\n",
       "      <th></th>\n",
       "      <th></th>\n",
       "      <th></th>\n",
       "      <th></th>\n",
       "      <th></th>\n",
       "      <th></th>\n",
       "      <th></th>\n",
       "      <th></th>\n",
       "    </tr>\n",
       "  </thead>\n",
       "  <tbody>\n",
       "    <tr>\n",
       "      <th>2016-01-15 00:00:00</th>\n",
       "      <td>6.055403</td>\n",
       "      <td>9.889648</td>\n",
       "      <td>5.507324</td>\n",
       "      <td>42.192020</td>\n",
       "      <td>70.541216</td>\n",
       "      <td>10.411962</td>\n",
       "      <td>0.895447</td>\n",
       "      <td>16.904297</td>\n",
       "      <td>2.143149</td>\n",
       "      <td>127.092003</td>\n",
       "      <td>...</td>\n",
       "      <td>14.016835</td>\n",
       "      <td>-502.488007</td>\n",
       "      <td>12.099931</td>\n",
       "      <td>-504.715942</td>\n",
       "      <td>9.925633</td>\n",
       "      <td>-498.310211</td>\n",
       "      <td>8.079666</td>\n",
       "      <td>-500.470978</td>\n",
       "      <td>14.151341</td>\n",
       "      <td>-605.841980</td>\n",
       "    </tr>\n",
       "    <tr>\n",
       "      <th>2016-01-15 01:00:00</th>\n",
       "      <td>6.029369</td>\n",
       "      <td>9.968944</td>\n",
       "      <td>5.257781</td>\n",
       "      <td>42.701629</td>\n",
       "      <td>69.266198</td>\n",
       "      <td>10.462676</td>\n",
       "      <td>0.927452</td>\n",
       "      <td>16.634514</td>\n",
       "      <td>2.224930</td>\n",
       "      <td>125.629232</td>\n",
       "      <td>...</td>\n",
       "      <td>13.992281</td>\n",
       "      <td>-505.503262</td>\n",
       "      <td>11.950531</td>\n",
       "      <td>-501.331529</td>\n",
       "      <td>10.039245</td>\n",
       "      <td>-500.169983</td>\n",
       "      <td>7.984757</td>\n",
       "      <td>-500.582168</td>\n",
       "      <td>13.998353</td>\n",
       "      <td>-599.787184</td>\n",
       "    </tr>\n",
       "    <tr>\n",
       "      <th>2016-01-15 02:00:00</th>\n",
       "      <td>6.055926</td>\n",
       "      <td>10.213995</td>\n",
       "      <td>5.383759</td>\n",
       "      <td>42.657501</td>\n",
       "      <td>68.116445</td>\n",
       "      <td>10.507046</td>\n",
       "      <td>0.953716</td>\n",
       "      <td>16.208849</td>\n",
       "      <td>2.257889</td>\n",
       "      <td>123.819808</td>\n",
       "      <td>...</td>\n",
       "      <td>14.015015</td>\n",
       "      <td>-502.520901</td>\n",
       "      <td>11.912783</td>\n",
       "      <td>-501.133383</td>\n",
       "      <td>10.070913</td>\n",
       "      <td>-500.129135</td>\n",
       "      <td>8.013877</td>\n",
       "      <td>-500.517572</td>\n",
       "      <td>14.028663</td>\n",
       "      <td>-601.427363</td>\n",
       "    </tr>\n",
       "    <tr>\n",
       "      <th>2016-01-15 03:00:00</th>\n",
       "      <td>6.047977</td>\n",
       "      <td>9.977019</td>\n",
       "      <td>4.858634</td>\n",
       "      <td>42.689819</td>\n",
       "      <td>68.347543</td>\n",
       "      <td>10.422762</td>\n",
       "      <td>0.883763</td>\n",
       "      <td>16.532835</td>\n",
       "      <td>2.146849</td>\n",
       "      <td>122.270188</td>\n",
       "      <td>...</td>\n",
       "      <td>14.036510</td>\n",
       "      <td>-500.857308</td>\n",
       "      <td>11.999550</td>\n",
       "      <td>-501.193686</td>\n",
       "      <td>9.970366</td>\n",
       "      <td>-499.201640</td>\n",
       "      <td>7.977324</td>\n",
       "      <td>-500.255908</td>\n",
       "      <td>14.005551</td>\n",
       "      <td>-599.996129</td>\n",
       "    </tr>\n",
       "    <tr>\n",
       "      <th>2016-01-15 04:00:00</th>\n",
       "      <td>6.148599</td>\n",
       "      <td>10.142511</td>\n",
       "      <td>4.939416</td>\n",
       "      <td>42.774141</td>\n",
       "      <td>66.927016</td>\n",
       "      <td>10.360302</td>\n",
       "      <td>0.792826</td>\n",
       "      <td>16.525686</td>\n",
       "      <td>2.055292</td>\n",
       "      <td>117.988169</td>\n",
       "      <td>...</td>\n",
       "      <td>14.027298</td>\n",
       "      <td>-499.838632</td>\n",
       "      <td>11.953070</td>\n",
       "      <td>-501.053894</td>\n",
       "      <td>9.925709</td>\n",
       "      <td>-501.686727</td>\n",
       "      <td>7.894242</td>\n",
       "      <td>-500.356035</td>\n",
       "      <td>13.996647</td>\n",
       "      <td>-601.496691</td>\n",
       "    </tr>\n",
       "  </tbody>\n",
       "</table>\n",
       "<p>5 rows × 86 columns</p>\n",
       "</div>"
      ],
      "text/plain": [
       "                     final.output.concentrate_ag  final.output.concentrate_pb  \\\n",
       "date                                                                            \n",
       "2016-01-15 00:00:00                     6.055403                     9.889648   \n",
       "2016-01-15 01:00:00                     6.029369                     9.968944   \n",
       "2016-01-15 02:00:00                     6.055926                    10.213995   \n",
       "2016-01-15 03:00:00                     6.047977                     9.977019   \n",
       "2016-01-15 04:00:00                     6.148599                    10.142511   \n",
       "\n",
       "                     final.output.concentrate_sol  \\\n",
       "date                                                \n",
       "2016-01-15 00:00:00                      5.507324   \n",
       "2016-01-15 01:00:00                      5.257781   \n",
       "2016-01-15 02:00:00                      5.383759   \n",
       "2016-01-15 03:00:00                      4.858634   \n",
       "2016-01-15 04:00:00                      4.939416   \n",
       "\n",
       "                     final.output.concentrate_au  final.output.recovery  \\\n",
       "date                                                                      \n",
       "2016-01-15 00:00:00                    42.192020              70.541216   \n",
       "2016-01-15 01:00:00                    42.701629              69.266198   \n",
       "2016-01-15 02:00:00                    42.657501              68.116445   \n",
       "2016-01-15 03:00:00                    42.689819              68.347543   \n",
       "2016-01-15 04:00:00                    42.774141              66.927016   \n",
       "\n",
       "                     final.output.tail_ag  final.output.tail_pb  \\\n",
       "date                                                              \n",
       "2016-01-15 00:00:00             10.411962              0.895447   \n",
       "2016-01-15 01:00:00             10.462676              0.927452   \n",
       "2016-01-15 02:00:00             10.507046              0.953716   \n",
       "2016-01-15 03:00:00             10.422762              0.883763   \n",
       "2016-01-15 04:00:00             10.360302              0.792826   \n",
       "\n",
       "                     final.output.tail_sol  final.output.tail_au  \\\n",
       "date                                                               \n",
       "2016-01-15 00:00:00              16.904297              2.143149   \n",
       "2016-01-15 01:00:00              16.634514              2.224930   \n",
       "2016-01-15 02:00:00              16.208849              2.257889   \n",
       "2016-01-15 03:00:00              16.532835              2.146849   \n",
       "2016-01-15 04:00:00              16.525686              2.055292   \n",
       "\n",
       "                     primary_cleaner.input.sulfate  ...  \\\n",
       "date                                                ...   \n",
       "2016-01-15 00:00:00                     127.092003  ...   \n",
       "2016-01-15 01:00:00                     125.629232  ...   \n",
       "2016-01-15 02:00:00                     123.819808  ...   \n",
       "2016-01-15 03:00:00                     122.270188  ...   \n",
       "2016-01-15 04:00:00                     117.988169  ...   \n",
       "\n",
       "                     secondary_cleaner.state.floatbank4_a_air  \\\n",
       "date                                                            \n",
       "2016-01-15 00:00:00                                 14.016835   \n",
       "2016-01-15 01:00:00                                 13.992281   \n",
       "2016-01-15 02:00:00                                 14.015015   \n",
       "2016-01-15 03:00:00                                 14.036510   \n",
       "2016-01-15 04:00:00                                 14.027298   \n",
       "\n",
       "                     secondary_cleaner.state.floatbank4_a_level  \\\n",
       "date                                                              \n",
       "2016-01-15 00:00:00                                 -502.488007   \n",
       "2016-01-15 01:00:00                                 -505.503262   \n",
       "2016-01-15 02:00:00                                 -502.520901   \n",
       "2016-01-15 03:00:00                                 -500.857308   \n",
       "2016-01-15 04:00:00                                 -499.838632   \n",
       "\n",
       "                     secondary_cleaner.state.floatbank4_b_air  \\\n",
       "date                                                            \n",
       "2016-01-15 00:00:00                                 12.099931   \n",
       "2016-01-15 01:00:00                                 11.950531   \n",
       "2016-01-15 02:00:00                                 11.912783   \n",
       "2016-01-15 03:00:00                                 11.999550   \n",
       "2016-01-15 04:00:00                                 11.953070   \n",
       "\n",
       "                     secondary_cleaner.state.floatbank4_b_level  \\\n",
       "date                                                              \n",
       "2016-01-15 00:00:00                                 -504.715942   \n",
       "2016-01-15 01:00:00                                 -501.331529   \n",
       "2016-01-15 02:00:00                                 -501.133383   \n",
       "2016-01-15 03:00:00                                 -501.193686   \n",
       "2016-01-15 04:00:00                                 -501.053894   \n",
       "\n",
       "                     secondary_cleaner.state.floatbank5_a_air  \\\n",
       "date                                                            \n",
       "2016-01-15 00:00:00                                  9.925633   \n",
       "2016-01-15 01:00:00                                 10.039245   \n",
       "2016-01-15 02:00:00                                 10.070913   \n",
       "2016-01-15 03:00:00                                  9.970366   \n",
       "2016-01-15 04:00:00                                  9.925709   \n",
       "\n",
       "                     secondary_cleaner.state.floatbank5_a_level  \\\n",
       "date                                                              \n",
       "2016-01-15 00:00:00                                 -498.310211   \n",
       "2016-01-15 01:00:00                                 -500.169983   \n",
       "2016-01-15 02:00:00                                 -500.129135   \n",
       "2016-01-15 03:00:00                                 -499.201640   \n",
       "2016-01-15 04:00:00                                 -501.686727   \n",
       "\n",
       "                     secondary_cleaner.state.floatbank5_b_air  \\\n",
       "date                                                            \n",
       "2016-01-15 00:00:00                                  8.079666   \n",
       "2016-01-15 01:00:00                                  7.984757   \n",
       "2016-01-15 02:00:00                                  8.013877   \n",
       "2016-01-15 03:00:00                                  7.977324   \n",
       "2016-01-15 04:00:00                                  7.894242   \n",
       "\n",
       "                     secondary_cleaner.state.floatbank5_b_level  \\\n",
       "date                                                              \n",
       "2016-01-15 00:00:00                                 -500.470978   \n",
       "2016-01-15 01:00:00                                 -500.582168   \n",
       "2016-01-15 02:00:00                                 -500.517572   \n",
       "2016-01-15 03:00:00                                 -500.255908   \n",
       "2016-01-15 04:00:00                                 -500.356035   \n",
       "\n",
       "                     secondary_cleaner.state.floatbank6_a_air  \\\n",
       "date                                                            \n",
       "2016-01-15 00:00:00                                 14.151341   \n",
       "2016-01-15 01:00:00                                 13.998353   \n",
       "2016-01-15 02:00:00                                 14.028663   \n",
       "2016-01-15 03:00:00                                 14.005551   \n",
       "2016-01-15 04:00:00                                 13.996647   \n",
       "\n",
       "                     secondary_cleaner.state.floatbank6_a_level  \n",
       "date                                                             \n",
       "2016-01-15 00:00:00                                 -605.841980  \n",
       "2016-01-15 01:00:00                                 -599.787184  \n",
       "2016-01-15 02:00:00                                 -601.427363  \n",
       "2016-01-15 03:00:00                                 -599.996129  \n",
       "2016-01-15 04:00:00                                 -601.496691  \n",
       "\n",
       "[5 rows x 86 columns]"
      ]
     },
     "metadata": {},
     "output_type": "display_data"
    }
   ],
   "source": [
    "display(df_train.head())\n",
    "display(df_test.head())\n",
    "display(df_full.head())\n"
   ]
  },
  {
   "cell_type": "markdown",
   "metadata": {},
   "source": [
    "\n",
    "<div class=\"alert alert-block alert-success\">\n",
    "<b>Успех:</b> Данные загружены корректно, первичный осмотр проведен.\n",
    "</div>"
   ]
  },
  {
   "cell_type": "markdown",
   "metadata": {},
   "source": [
    "### Анализ эффективности обогащения\n",
    "\n",
    "Создадим новую переменную и сохраним в ней результат расчета параметра эффективности обогащения."
   ]
  },
  {
   "cell_type": "code",
   "execution_count": 5,
   "metadata": {},
   "outputs": [
    {
     "data": {
      "text/plain": [
       "date\n",
       "2016-01-15 00:00:00    87.107763\n",
       "2016-01-15 01:00:00    86.843261\n",
       "2016-01-15 02:00:00    86.842308\n",
       "2016-01-15 03:00:00    87.226430\n",
       "2016-01-15 04:00:00    86.688794\n",
       "                         ...    \n",
       "2018-08-18 06:59:59    89.574376\n",
       "2018-08-18 07:59:59    87.724007\n",
       "2018-08-18 08:59:59    88.890579\n",
       "2018-08-18 09:59:59    89.858126\n",
       "2018-08-18 10:59:59    89.514960\n",
       "Length: 14149, dtype: float64"
      ]
     },
     "execution_count": 5,
     "metadata": {},
     "output_type": "execute_result"
    }
   ],
   "source": [
    "recovery = (df_train['rougher.output.concentrate_au']*(df_train['rougher.input.feed_au']-df_train['rougher.output.tail_au']) ) / (df_train['rougher.input.feed_au']*(df_train['rougher.output.concentrate_au']-df_train['rougher.output.tail_au']))*100\n",
    "recovery"
   ]
  },
  {
   "cell_type": "markdown",
   "metadata": {},
   "source": [
    "Определим MAE между расчётным значением эффективности обогащения \"recovery\" и значением признака \"rougher.output.recovery\""
   ]
  },
  {
   "cell_type": "code",
   "execution_count": 6,
   "metadata": {},
   "outputs": [
    {
     "name": "stdout",
     "output_type": "stream",
     "text": [
      "0.0\n"
     ]
    }
   ],
   "source": [
    "print(mean_absolute_error(df_train['rougher.output.recovery'], recovery).round(6))"
   ]
  },
  {
   "cell_type": "markdown",
   "metadata": {},
   "source": [
    " Эффективность обогащения рассчитана корректно, т.к. значение МАЕ практически равно нулю\n",
    " \n",
    " \n",
    " ### Анализ признаков тестовой и обучающей выборках. \n"
   ]
  },
  {
   "cell_type": "markdown",
   "metadata": {},
   "source": [
    "#### Определим признаки в обучающей выборке, которые отсутствуют в тестовой выборке."
   ]
  },
  {
   "cell_type": "code",
   "execution_count": 7,
   "metadata": {
    "scrolled": true
   },
   "outputs": [],
   "source": [
    "#df_train_columns = df_train.columns\n",
    "#df_test_columns = df_test.columns\n",
    "#error_columns = []\n",
    "#for column in df_train_columns:\n",
    "#    if column not in df_test_columns:\n",
    "#        error_columns.append(column)\n",
    "#error_columns"
   ]
  },
  {
   "cell_type": "code",
   "execution_count": 8,
   "metadata": {},
   "outputs": [
    {
     "data": {
      "text/plain": [
       "{'final.output.concentrate_ag',\n",
       " 'final.output.concentrate_au',\n",
       " 'final.output.concentrate_pb',\n",
       " 'final.output.concentrate_sol',\n",
       " 'final.output.recovery',\n",
       " 'final.output.tail_ag',\n",
       " 'final.output.tail_au',\n",
       " 'final.output.tail_pb',\n",
       " 'final.output.tail_sol',\n",
       " 'primary_cleaner.output.concentrate_ag',\n",
       " 'primary_cleaner.output.concentrate_au',\n",
       " 'primary_cleaner.output.concentrate_pb',\n",
       " 'primary_cleaner.output.concentrate_sol',\n",
       " 'primary_cleaner.output.tail_ag',\n",
       " 'primary_cleaner.output.tail_au',\n",
       " 'primary_cleaner.output.tail_pb',\n",
       " 'primary_cleaner.output.tail_sol',\n",
       " 'rougher.calculation.au_pb_ratio',\n",
       " 'rougher.calculation.floatbank10_sulfate_to_au_feed',\n",
       " 'rougher.calculation.floatbank11_sulfate_to_au_feed',\n",
       " 'rougher.calculation.sulfate_to_au_concentrate',\n",
       " 'rougher.output.concentrate_ag',\n",
       " 'rougher.output.concentrate_au',\n",
       " 'rougher.output.concentrate_pb',\n",
       " 'rougher.output.concentrate_sol',\n",
       " 'rougher.output.recovery',\n",
       " 'rougher.output.tail_ag',\n",
       " 'rougher.output.tail_au',\n",
       " 'rougher.output.tail_pb',\n",
       " 'rougher.output.tail_sol',\n",
       " 'secondary_cleaner.output.tail_ag',\n",
       " 'secondary_cleaner.output.tail_au',\n",
       " 'secondary_cleaner.output.tail_pb',\n",
       " 'secondary_cleaner.output.tail_sol'}"
      ]
     },
     "execution_count": 8,
     "metadata": {},
     "output_type": "execute_result"
    }
   ],
   "source": [
    "set_needless = set(df_train.columns)-set(df_test.columns)\n",
    "set_needless"
   ]
  },
  {
   "cell_type": "markdown",
   "metadata": {},
   "source": [
    "В тестовой выборке у нас даны только концентрации во входящем сырье, остальные признаки-параметры процесса. Из обучающей выборки удалим найденные ненужные признаки"
   ]
  },
  {
   "cell_type": "code",
   "execution_count": 9,
   "metadata": {},
   "outputs": [],
   "source": [
    "df_train = df_train.drop(set_needless, axis=1)"
   ]
  },
  {
   "cell_type": "code",
   "execution_count": 10,
   "metadata": {},
   "outputs": [
    {
     "name": "stdout",
     "output_type": "stream",
     "text": [
      "<class 'pandas.core.frame.DataFrame'>\n",
      "Index: 14149 entries, 2016-01-15 00:00:00 to 2018-08-18 10:59:59\n",
      "Data columns (total 52 columns):\n",
      " #   Column                                      Non-Null Count  Dtype  \n",
      "---  ------                                      --------------  -----  \n",
      " 0   primary_cleaner.input.sulfate               14129 non-null  float64\n",
      " 1   primary_cleaner.input.depressant            14117 non-null  float64\n",
      " 2   primary_cleaner.input.feed_size             14149 non-null  float64\n",
      " 3   primary_cleaner.input.xanthate              14049 non-null  float64\n",
      " 4   primary_cleaner.state.floatbank8_a_air      14145 non-null  float64\n",
      " 5   primary_cleaner.state.floatbank8_a_level    14148 non-null  float64\n",
      " 6   primary_cleaner.state.floatbank8_b_air      14145 non-null  float64\n",
      " 7   primary_cleaner.state.floatbank8_b_level    14148 non-null  float64\n",
      " 8   primary_cleaner.state.floatbank8_c_air      14147 non-null  float64\n",
      " 9   primary_cleaner.state.floatbank8_c_level    14148 non-null  float64\n",
      " 10  primary_cleaner.state.floatbank8_d_air      14146 non-null  float64\n",
      " 11  primary_cleaner.state.floatbank8_d_level    14148 non-null  float64\n",
      " 12  rougher.input.feed_ag                       14149 non-null  float64\n",
      " 13  rougher.input.feed_pb                       14049 non-null  float64\n",
      " 14  rougher.input.feed_rate                     14141 non-null  float64\n",
      " 15  rougher.input.feed_size                     14005 non-null  float64\n",
      " 16  rougher.input.feed_sol                      14071 non-null  float64\n",
      " 17  rougher.input.feed_au                       14149 non-null  float64\n",
      " 18  rougher.input.floatbank10_sulfate           14120 non-null  float64\n",
      " 19  rougher.input.floatbank10_xanthate          14141 non-null  float64\n",
      " 20  rougher.input.floatbank11_sulfate           14113 non-null  float64\n",
      " 21  rougher.input.floatbank11_xanthate          13721 non-null  float64\n",
      " 22  rougher.state.floatbank10_a_air             14148 non-null  float64\n",
      " 23  rougher.state.floatbank10_a_level           14148 non-null  float64\n",
      " 24  rougher.state.floatbank10_b_air             14148 non-null  float64\n",
      " 25  rougher.state.floatbank10_b_level           14148 non-null  float64\n",
      " 26  rougher.state.floatbank10_c_air             14148 non-null  float64\n",
      " 27  rougher.state.floatbank10_c_level           14148 non-null  float64\n",
      " 28  rougher.state.floatbank10_d_air             14149 non-null  float64\n",
      " 29  rougher.state.floatbank10_d_level           14149 non-null  float64\n",
      " 30  rougher.state.floatbank10_e_air             13713 non-null  float64\n",
      " 31  rougher.state.floatbank10_e_level           14149 non-null  float64\n",
      " 32  rougher.state.floatbank10_f_air             14149 non-null  float64\n",
      " 33  rougher.state.floatbank10_f_level           14149 non-null  float64\n",
      " 34  secondary_cleaner.state.floatbank2_a_air    13932 non-null  float64\n",
      " 35  secondary_cleaner.state.floatbank2_a_level  14148 non-null  float64\n",
      " 36  secondary_cleaner.state.floatbank2_b_air    14128 non-null  float64\n",
      " 37  secondary_cleaner.state.floatbank2_b_level  14148 non-null  float64\n",
      " 38  secondary_cleaner.state.floatbank3_a_air    14145 non-null  float64\n",
      " 39  secondary_cleaner.state.floatbank3_a_level  14148 non-null  float64\n",
      " 40  secondary_cleaner.state.floatbank3_b_air    14148 non-null  float64\n",
      " 41  secondary_cleaner.state.floatbank3_b_level  14148 non-null  float64\n",
      " 42  secondary_cleaner.state.floatbank4_a_air    14143 non-null  float64\n",
      " 43  secondary_cleaner.state.floatbank4_a_level  14148 non-null  float64\n",
      " 44  secondary_cleaner.state.floatbank4_b_air    14148 non-null  float64\n",
      " 45  secondary_cleaner.state.floatbank4_b_level  14148 non-null  float64\n",
      " 46  secondary_cleaner.state.floatbank5_a_air    14148 non-null  float64\n",
      " 47  secondary_cleaner.state.floatbank5_a_level  14148 non-null  float64\n",
      " 48  secondary_cleaner.state.floatbank5_b_air    14148 non-null  float64\n",
      " 49  secondary_cleaner.state.floatbank5_b_level  14148 non-null  float64\n",
      " 50  secondary_cleaner.state.floatbank6_a_air    14147 non-null  float64\n",
      " 51  secondary_cleaner.state.floatbank6_a_level  14148 non-null  float64\n",
      "dtypes: float64(52)\n",
      "memory usage: 6.2+ MB\n"
     ]
    }
   ],
   "source": [
    "df_train.info()"
   ]
  },
  {
   "cell_type": "code",
   "execution_count": 11,
   "metadata": {},
   "outputs": [
    {
     "data": {
      "text/html": [
       "<div>\n",
       "<style scoped>\n",
       "    .dataframe tbody tr th:only-of-type {\n",
       "        vertical-align: middle;\n",
       "    }\n",
       "\n",
       "    .dataframe tbody tr th {\n",
       "        vertical-align: top;\n",
       "    }\n",
       "\n",
       "    .dataframe thead th {\n",
       "        text-align: right;\n",
       "    }\n",
       "</style>\n",
       "<table border=\"1\" class=\"dataframe\">\n",
       "  <thead>\n",
       "    <tr style=\"text-align: right;\">\n",
       "      <th></th>\n",
       "      <th>primary_cleaner.input.sulfate</th>\n",
       "      <th>primary_cleaner.input.depressant</th>\n",
       "      <th>primary_cleaner.input.feed_size</th>\n",
       "      <th>primary_cleaner.input.xanthate</th>\n",
       "      <th>primary_cleaner.state.floatbank8_a_air</th>\n",
       "      <th>primary_cleaner.state.floatbank8_a_level</th>\n",
       "      <th>primary_cleaner.state.floatbank8_b_air</th>\n",
       "      <th>primary_cleaner.state.floatbank8_b_level</th>\n",
       "      <th>primary_cleaner.state.floatbank8_c_air</th>\n",
       "      <th>primary_cleaner.state.floatbank8_c_level</th>\n",
       "      <th>...</th>\n",
       "      <th>secondary_cleaner.state.floatbank4_a_air</th>\n",
       "      <th>secondary_cleaner.state.floatbank4_a_level</th>\n",
       "      <th>secondary_cleaner.state.floatbank4_b_air</th>\n",
       "      <th>secondary_cleaner.state.floatbank4_b_level</th>\n",
       "      <th>secondary_cleaner.state.floatbank5_a_air</th>\n",
       "      <th>secondary_cleaner.state.floatbank5_a_level</th>\n",
       "      <th>secondary_cleaner.state.floatbank5_b_air</th>\n",
       "      <th>secondary_cleaner.state.floatbank5_b_level</th>\n",
       "      <th>secondary_cleaner.state.floatbank6_a_air</th>\n",
       "      <th>secondary_cleaner.state.floatbank6_a_level</th>\n",
       "    </tr>\n",
       "    <tr>\n",
       "      <th>date</th>\n",
       "      <th></th>\n",
       "      <th></th>\n",
       "      <th></th>\n",
       "      <th></th>\n",
       "      <th></th>\n",
       "      <th></th>\n",
       "      <th></th>\n",
       "      <th></th>\n",
       "      <th></th>\n",
       "      <th></th>\n",
       "      <th></th>\n",
       "      <th></th>\n",
       "      <th></th>\n",
       "      <th></th>\n",
       "      <th></th>\n",
       "      <th></th>\n",
       "      <th></th>\n",
       "      <th></th>\n",
       "      <th></th>\n",
       "      <th></th>\n",
       "      <th></th>\n",
       "    </tr>\n",
       "  </thead>\n",
       "  <tbody>\n",
       "    <tr>\n",
       "      <th>2016-01-15 00:00:00</th>\n",
       "      <td>127.092003</td>\n",
       "      <td>10.128295</td>\n",
       "      <td>7.25</td>\n",
       "      <td>0.988759</td>\n",
       "      <td>1549.775757</td>\n",
       "      <td>-498.912140</td>\n",
       "      <td>1551.434204</td>\n",
       "      <td>-516.403442</td>\n",
       "      <td>1549.873901</td>\n",
       "      <td>-498.666595</td>\n",
       "      <td>...</td>\n",
       "      <td>14.016835</td>\n",
       "      <td>-502.488007</td>\n",
       "      <td>12.099931</td>\n",
       "      <td>-504.715942</td>\n",
       "      <td>9.925633</td>\n",
       "      <td>-498.310211</td>\n",
       "      <td>8.079666</td>\n",
       "      <td>-500.470978</td>\n",
       "      <td>14.151341</td>\n",
       "      <td>-605.841980</td>\n",
       "    </tr>\n",
       "    <tr>\n",
       "      <th>2016-01-15 01:00:00</th>\n",
       "      <td>125.629232</td>\n",
       "      <td>10.296251</td>\n",
       "      <td>7.25</td>\n",
       "      <td>1.002663</td>\n",
       "      <td>1576.166671</td>\n",
       "      <td>-500.904965</td>\n",
       "      <td>1575.950626</td>\n",
       "      <td>-499.865889</td>\n",
       "      <td>1575.994189</td>\n",
       "      <td>-499.315107</td>\n",
       "      <td>...</td>\n",
       "      <td>13.992281</td>\n",
       "      <td>-505.503262</td>\n",
       "      <td>11.950531</td>\n",
       "      <td>-501.331529</td>\n",
       "      <td>10.039245</td>\n",
       "      <td>-500.169983</td>\n",
       "      <td>7.984757</td>\n",
       "      <td>-500.582168</td>\n",
       "      <td>13.998353</td>\n",
       "      <td>-599.787184</td>\n",
       "    </tr>\n",
       "    <tr>\n",
       "      <th>2016-01-15 02:00:00</th>\n",
       "      <td>123.819808</td>\n",
       "      <td>11.316280</td>\n",
       "      <td>7.25</td>\n",
       "      <td>0.991265</td>\n",
       "      <td>1601.556163</td>\n",
       "      <td>-499.997791</td>\n",
       "      <td>1600.386685</td>\n",
       "      <td>-500.607762</td>\n",
       "      <td>1602.003542</td>\n",
       "      <td>-500.870069</td>\n",
       "      <td>...</td>\n",
       "      <td>14.015015</td>\n",
       "      <td>-502.520901</td>\n",
       "      <td>11.912783</td>\n",
       "      <td>-501.133383</td>\n",
       "      <td>10.070913</td>\n",
       "      <td>-500.129135</td>\n",
       "      <td>8.013877</td>\n",
       "      <td>-500.517572</td>\n",
       "      <td>14.028663</td>\n",
       "      <td>-601.427363</td>\n",
       "    </tr>\n",
       "    <tr>\n",
       "      <th>2016-01-15 03:00:00</th>\n",
       "      <td>122.270188</td>\n",
       "      <td>11.322140</td>\n",
       "      <td>7.25</td>\n",
       "      <td>0.996739</td>\n",
       "      <td>1599.968720</td>\n",
       "      <td>-500.951778</td>\n",
       "      <td>1600.659236</td>\n",
       "      <td>-499.677094</td>\n",
       "      <td>1600.304144</td>\n",
       "      <td>-500.727997</td>\n",
       "      <td>...</td>\n",
       "      <td>14.036510</td>\n",
       "      <td>-500.857308</td>\n",
       "      <td>11.999550</td>\n",
       "      <td>-501.193686</td>\n",
       "      <td>9.970366</td>\n",
       "      <td>-499.201640</td>\n",
       "      <td>7.977324</td>\n",
       "      <td>-500.255908</td>\n",
       "      <td>14.005551</td>\n",
       "      <td>-599.996129</td>\n",
       "    </tr>\n",
       "    <tr>\n",
       "      <th>2016-01-15 04:00:00</th>\n",
       "      <td>117.988169</td>\n",
       "      <td>11.913613</td>\n",
       "      <td>7.25</td>\n",
       "      <td>1.009869</td>\n",
       "      <td>1601.339707</td>\n",
       "      <td>-498.975456</td>\n",
       "      <td>1601.437854</td>\n",
       "      <td>-500.323246</td>\n",
       "      <td>1599.581894</td>\n",
       "      <td>-500.888152</td>\n",
       "      <td>...</td>\n",
       "      <td>14.027298</td>\n",
       "      <td>-499.838632</td>\n",
       "      <td>11.953070</td>\n",
       "      <td>-501.053894</td>\n",
       "      <td>9.925709</td>\n",
       "      <td>-501.686727</td>\n",
       "      <td>7.894242</td>\n",
       "      <td>-500.356035</td>\n",
       "      <td>13.996647</td>\n",
       "      <td>-601.496691</td>\n",
       "    </tr>\n",
       "  </tbody>\n",
       "</table>\n",
       "<p>5 rows × 52 columns</p>\n",
       "</div>"
      ],
      "text/plain": [
       "                     primary_cleaner.input.sulfate  \\\n",
       "date                                                 \n",
       "2016-01-15 00:00:00                     127.092003   \n",
       "2016-01-15 01:00:00                     125.629232   \n",
       "2016-01-15 02:00:00                     123.819808   \n",
       "2016-01-15 03:00:00                     122.270188   \n",
       "2016-01-15 04:00:00                     117.988169   \n",
       "\n",
       "                     primary_cleaner.input.depressant  \\\n",
       "date                                                    \n",
       "2016-01-15 00:00:00                         10.128295   \n",
       "2016-01-15 01:00:00                         10.296251   \n",
       "2016-01-15 02:00:00                         11.316280   \n",
       "2016-01-15 03:00:00                         11.322140   \n",
       "2016-01-15 04:00:00                         11.913613   \n",
       "\n",
       "                     primary_cleaner.input.feed_size  \\\n",
       "date                                                   \n",
       "2016-01-15 00:00:00                             7.25   \n",
       "2016-01-15 01:00:00                             7.25   \n",
       "2016-01-15 02:00:00                             7.25   \n",
       "2016-01-15 03:00:00                             7.25   \n",
       "2016-01-15 04:00:00                             7.25   \n",
       "\n",
       "                     primary_cleaner.input.xanthate  \\\n",
       "date                                                  \n",
       "2016-01-15 00:00:00                        0.988759   \n",
       "2016-01-15 01:00:00                        1.002663   \n",
       "2016-01-15 02:00:00                        0.991265   \n",
       "2016-01-15 03:00:00                        0.996739   \n",
       "2016-01-15 04:00:00                        1.009869   \n",
       "\n",
       "                     primary_cleaner.state.floatbank8_a_air  \\\n",
       "date                                                          \n",
       "2016-01-15 00:00:00                             1549.775757   \n",
       "2016-01-15 01:00:00                             1576.166671   \n",
       "2016-01-15 02:00:00                             1601.556163   \n",
       "2016-01-15 03:00:00                             1599.968720   \n",
       "2016-01-15 04:00:00                             1601.339707   \n",
       "\n",
       "                     primary_cleaner.state.floatbank8_a_level  \\\n",
       "date                                                            \n",
       "2016-01-15 00:00:00                               -498.912140   \n",
       "2016-01-15 01:00:00                               -500.904965   \n",
       "2016-01-15 02:00:00                               -499.997791   \n",
       "2016-01-15 03:00:00                               -500.951778   \n",
       "2016-01-15 04:00:00                               -498.975456   \n",
       "\n",
       "                     primary_cleaner.state.floatbank8_b_air  \\\n",
       "date                                                          \n",
       "2016-01-15 00:00:00                             1551.434204   \n",
       "2016-01-15 01:00:00                             1575.950626   \n",
       "2016-01-15 02:00:00                             1600.386685   \n",
       "2016-01-15 03:00:00                             1600.659236   \n",
       "2016-01-15 04:00:00                             1601.437854   \n",
       "\n",
       "                     primary_cleaner.state.floatbank8_b_level  \\\n",
       "date                                                            \n",
       "2016-01-15 00:00:00                               -516.403442   \n",
       "2016-01-15 01:00:00                               -499.865889   \n",
       "2016-01-15 02:00:00                               -500.607762   \n",
       "2016-01-15 03:00:00                               -499.677094   \n",
       "2016-01-15 04:00:00                               -500.323246   \n",
       "\n",
       "                     primary_cleaner.state.floatbank8_c_air  \\\n",
       "date                                                          \n",
       "2016-01-15 00:00:00                             1549.873901   \n",
       "2016-01-15 01:00:00                             1575.994189   \n",
       "2016-01-15 02:00:00                             1602.003542   \n",
       "2016-01-15 03:00:00                             1600.304144   \n",
       "2016-01-15 04:00:00                             1599.581894   \n",
       "\n",
       "                     primary_cleaner.state.floatbank8_c_level  ...  \\\n",
       "date                                                           ...   \n",
       "2016-01-15 00:00:00                               -498.666595  ...   \n",
       "2016-01-15 01:00:00                               -499.315107  ...   \n",
       "2016-01-15 02:00:00                               -500.870069  ...   \n",
       "2016-01-15 03:00:00                               -500.727997  ...   \n",
       "2016-01-15 04:00:00                               -500.888152  ...   \n",
       "\n",
       "                     secondary_cleaner.state.floatbank4_a_air  \\\n",
       "date                                                            \n",
       "2016-01-15 00:00:00                                 14.016835   \n",
       "2016-01-15 01:00:00                                 13.992281   \n",
       "2016-01-15 02:00:00                                 14.015015   \n",
       "2016-01-15 03:00:00                                 14.036510   \n",
       "2016-01-15 04:00:00                                 14.027298   \n",
       "\n",
       "                     secondary_cleaner.state.floatbank4_a_level  \\\n",
       "date                                                              \n",
       "2016-01-15 00:00:00                                 -502.488007   \n",
       "2016-01-15 01:00:00                                 -505.503262   \n",
       "2016-01-15 02:00:00                                 -502.520901   \n",
       "2016-01-15 03:00:00                                 -500.857308   \n",
       "2016-01-15 04:00:00                                 -499.838632   \n",
       "\n",
       "                     secondary_cleaner.state.floatbank4_b_air  \\\n",
       "date                                                            \n",
       "2016-01-15 00:00:00                                 12.099931   \n",
       "2016-01-15 01:00:00                                 11.950531   \n",
       "2016-01-15 02:00:00                                 11.912783   \n",
       "2016-01-15 03:00:00                                 11.999550   \n",
       "2016-01-15 04:00:00                                 11.953070   \n",
       "\n",
       "                     secondary_cleaner.state.floatbank4_b_level  \\\n",
       "date                                                              \n",
       "2016-01-15 00:00:00                                 -504.715942   \n",
       "2016-01-15 01:00:00                                 -501.331529   \n",
       "2016-01-15 02:00:00                                 -501.133383   \n",
       "2016-01-15 03:00:00                                 -501.193686   \n",
       "2016-01-15 04:00:00                                 -501.053894   \n",
       "\n",
       "                     secondary_cleaner.state.floatbank5_a_air  \\\n",
       "date                                                            \n",
       "2016-01-15 00:00:00                                  9.925633   \n",
       "2016-01-15 01:00:00                                 10.039245   \n",
       "2016-01-15 02:00:00                                 10.070913   \n",
       "2016-01-15 03:00:00                                  9.970366   \n",
       "2016-01-15 04:00:00                                  9.925709   \n",
       "\n",
       "                     secondary_cleaner.state.floatbank5_a_level  \\\n",
       "date                                                              \n",
       "2016-01-15 00:00:00                                 -498.310211   \n",
       "2016-01-15 01:00:00                                 -500.169983   \n",
       "2016-01-15 02:00:00                                 -500.129135   \n",
       "2016-01-15 03:00:00                                 -499.201640   \n",
       "2016-01-15 04:00:00                                 -501.686727   \n",
       "\n",
       "                     secondary_cleaner.state.floatbank5_b_air  \\\n",
       "date                                                            \n",
       "2016-01-15 00:00:00                                  8.079666   \n",
       "2016-01-15 01:00:00                                  7.984757   \n",
       "2016-01-15 02:00:00                                  8.013877   \n",
       "2016-01-15 03:00:00                                  7.977324   \n",
       "2016-01-15 04:00:00                                  7.894242   \n",
       "\n",
       "                     secondary_cleaner.state.floatbank5_b_level  \\\n",
       "date                                                              \n",
       "2016-01-15 00:00:00                                 -500.470978   \n",
       "2016-01-15 01:00:00                                 -500.582168   \n",
       "2016-01-15 02:00:00                                 -500.517572   \n",
       "2016-01-15 03:00:00                                 -500.255908   \n",
       "2016-01-15 04:00:00                                 -500.356035   \n",
       "\n",
       "                     secondary_cleaner.state.floatbank6_a_air  \\\n",
       "date                                                            \n",
       "2016-01-15 00:00:00                                 14.151341   \n",
       "2016-01-15 01:00:00                                 13.998353   \n",
       "2016-01-15 02:00:00                                 14.028663   \n",
       "2016-01-15 03:00:00                                 14.005551   \n",
       "2016-01-15 04:00:00                                 13.996647   \n",
       "\n",
       "                     secondary_cleaner.state.floatbank6_a_level  \n",
       "date                                                             \n",
       "2016-01-15 00:00:00                                 -605.841980  \n",
       "2016-01-15 01:00:00                                 -599.787184  \n",
       "2016-01-15 02:00:00                                 -601.427363  \n",
       "2016-01-15 03:00:00                                 -599.996129  \n",
       "2016-01-15 04:00:00                                 -601.496691  \n",
       "\n",
       "[5 rows x 52 columns]"
      ]
     },
     "execution_count": 11,
     "metadata": {},
     "output_type": "execute_result"
    }
   ],
   "source": [
    "df_train.head()"
   ]
  },
  {
   "cell_type": "code",
   "execution_count": 12,
   "metadata": {
    "scrolled": true
   },
   "outputs": [
    {
     "data": {
      "text/html": [
       "<div>\n",
       "<style scoped>\n",
       "    .dataframe tbody tr th:only-of-type {\n",
       "        vertical-align: middle;\n",
       "    }\n",
       "\n",
       "    .dataframe tbody tr th {\n",
       "        vertical-align: top;\n",
       "    }\n",
       "\n",
       "    .dataframe thead th {\n",
       "        text-align: right;\n",
       "    }\n",
       "</style>\n",
       "<table border=\"1\" class=\"dataframe\">\n",
       "  <thead>\n",
       "    <tr style=\"text-align: right;\">\n",
       "      <th></th>\n",
       "      <th>rougher.output.recovery</th>\n",
       "      <th>final.output.recovery</th>\n",
       "    </tr>\n",
       "    <tr>\n",
       "      <th>date</th>\n",
       "      <th></th>\n",
       "      <th></th>\n",
       "    </tr>\n",
       "  </thead>\n",
       "  <tbody>\n",
       "    <tr>\n",
       "      <th>2016-09-01 00:59:59</th>\n",
       "      <td>89.993421</td>\n",
       "      <td>70.273583</td>\n",
       "    </tr>\n",
       "    <tr>\n",
       "      <th>2016-09-01 01:59:59</th>\n",
       "      <td>88.089657</td>\n",
       "      <td>68.910432</td>\n",
       "    </tr>\n",
       "    <tr>\n",
       "      <th>2016-09-01 02:59:59</th>\n",
       "      <td>88.412756</td>\n",
       "      <td>68.143213</td>\n",
       "    </tr>\n",
       "    <tr>\n",
       "      <th>2016-09-01 03:59:59</th>\n",
       "      <td>87.360133</td>\n",
       "      <td>67.776393</td>\n",
       "    </tr>\n",
       "    <tr>\n",
       "      <th>2016-09-01 04:59:59</th>\n",
       "      <td>83.236367</td>\n",
       "      <td>61.467078</td>\n",
       "    </tr>\n",
       "    <tr>\n",
       "      <th>...</th>\n",
       "      <td>...</td>\n",
       "      <td>...</td>\n",
       "    </tr>\n",
       "    <tr>\n",
       "      <th>2017-12-31 19:59:59</th>\n",
       "      <td>95.172585</td>\n",
       "      <td>68.919891</td>\n",
       "    </tr>\n",
       "    <tr>\n",
       "      <th>2017-12-31 20:59:59</th>\n",
       "      <td>94.575036</td>\n",
       "      <td>68.440582</td>\n",
       "    </tr>\n",
       "    <tr>\n",
       "      <th>2017-12-31 21:59:59</th>\n",
       "      <td>93.018138</td>\n",
       "      <td>67.092759</td>\n",
       "    </tr>\n",
       "    <tr>\n",
       "      <th>2017-12-31 22:59:59</th>\n",
       "      <td>92.599042</td>\n",
       "      <td>68.061186</td>\n",
       "    </tr>\n",
       "    <tr>\n",
       "      <th>2017-12-31 23:59:59</th>\n",
       "      <td>91.177695</td>\n",
       "      <td>71.699976</td>\n",
       "    </tr>\n",
       "  </tbody>\n",
       "</table>\n",
       "<p>5290 rows × 2 columns</p>\n",
       "</div>"
      ],
      "text/plain": [
       "                     rougher.output.recovery  final.output.recovery\n",
       "date                                                               \n",
       "2016-09-01 00:59:59                89.993421              70.273583\n",
       "2016-09-01 01:59:59                88.089657              68.910432\n",
       "2016-09-01 02:59:59                88.412756              68.143213\n",
       "2016-09-01 03:59:59                87.360133              67.776393\n",
       "2016-09-01 04:59:59                83.236367              61.467078\n",
       "...                                      ...                    ...\n",
       "2017-12-31 19:59:59                95.172585              68.919891\n",
       "2017-12-31 20:59:59                94.575036              68.440582\n",
       "2017-12-31 21:59:59                93.018138              67.092759\n",
       "2017-12-31 22:59:59                92.599042              68.061186\n",
       "2017-12-31 23:59:59                91.177695              71.699976\n",
       "\n",
       "[5290 rows x 2 columns]"
      ]
     },
     "execution_count": 12,
     "metadata": {},
     "output_type": "execute_result"
    }
   ],
   "source": [
    "targets = ['rougher.output.recovery', 'final.output.recovery']\n",
    "target_test = df_full[targets].loc[df_test.index]\n",
    "target_test"
   ]
  },
  {
   "cell_type": "code",
   "execution_count": 13,
   "metadata": {},
   "outputs": [
    {
     "data": {
      "text/html": [
       "<div>\n",
       "<style scoped>\n",
       "    .dataframe tbody tr th:only-of-type {\n",
       "        vertical-align: middle;\n",
       "    }\n",
       "\n",
       "    .dataframe tbody tr th {\n",
       "        vertical-align: top;\n",
       "    }\n",
       "\n",
       "    .dataframe thead th {\n",
       "        text-align: right;\n",
       "    }\n",
       "</style>\n",
       "<table border=\"1\" class=\"dataframe\">\n",
       "  <thead>\n",
       "    <tr style=\"text-align: right;\">\n",
       "      <th></th>\n",
       "      <th>rougher.output.recovery</th>\n",
       "      <th>final.output.recovery</th>\n",
       "    </tr>\n",
       "    <tr>\n",
       "      <th>date</th>\n",
       "      <th></th>\n",
       "      <th></th>\n",
       "    </tr>\n",
       "  </thead>\n",
       "  <tbody>\n",
       "    <tr>\n",
       "      <th>2016-01-15 00:00:00</th>\n",
       "      <td>87.107763</td>\n",
       "      <td>70.541216</td>\n",
       "    </tr>\n",
       "    <tr>\n",
       "      <th>2016-01-15 01:00:00</th>\n",
       "      <td>86.843261</td>\n",
       "      <td>69.266198</td>\n",
       "    </tr>\n",
       "    <tr>\n",
       "      <th>2016-01-15 02:00:00</th>\n",
       "      <td>86.842308</td>\n",
       "      <td>68.116445</td>\n",
       "    </tr>\n",
       "    <tr>\n",
       "      <th>2016-01-15 03:00:00</th>\n",
       "      <td>87.226430</td>\n",
       "      <td>68.347543</td>\n",
       "    </tr>\n",
       "    <tr>\n",
       "      <th>2016-01-15 04:00:00</th>\n",
       "      <td>86.688794</td>\n",
       "      <td>66.927016</td>\n",
       "    </tr>\n",
       "    <tr>\n",
       "      <th>...</th>\n",
       "      <td>...</td>\n",
       "      <td>...</td>\n",
       "    </tr>\n",
       "    <tr>\n",
       "      <th>2018-08-18 06:59:59</th>\n",
       "      <td>89.574376</td>\n",
       "      <td>73.755150</td>\n",
       "    </tr>\n",
       "    <tr>\n",
       "      <th>2018-08-18 07:59:59</th>\n",
       "      <td>87.724007</td>\n",
       "      <td>69.049291</td>\n",
       "    </tr>\n",
       "    <tr>\n",
       "      <th>2018-08-18 08:59:59</th>\n",
       "      <td>88.890579</td>\n",
       "      <td>67.002189</td>\n",
       "    </tr>\n",
       "    <tr>\n",
       "      <th>2018-08-18 09:59:59</th>\n",
       "      <td>89.858126</td>\n",
       "      <td>65.523246</td>\n",
       "    </tr>\n",
       "    <tr>\n",
       "      <th>2018-08-18 10:59:59</th>\n",
       "      <td>89.514960</td>\n",
       "      <td>70.281454</td>\n",
       "    </tr>\n",
       "  </tbody>\n",
       "</table>\n",
       "<p>14149 rows × 2 columns</p>\n",
       "</div>"
      ],
      "text/plain": [
       "                     rougher.output.recovery  final.output.recovery\n",
       "date                                                               \n",
       "2016-01-15 00:00:00                87.107763              70.541216\n",
       "2016-01-15 01:00:00                86.843261              69.266198\n",
       "2016-01-15 02:00:00                86.842308              68.116445\n",
       "2016-01-15 03:00:00                87.226430              68.347543\n",
       "2016-01-15 04:00:00                86.688794              66.927016\n",
       "...                                      ...                    ...\n",
       "2018-08-18 06:59:59                89.574376              73.755150\n",
       "2018-08-18 07:59:59                87.724007              69.049291\n",
       "2018-08-18 08:59:59                88.890579              67.002189\n",
       "2018-08-18 09:59:59                89.858126              65.523246\n",
       "2018-08-18 10:59:59                89.514960              70.281454\n",
       "\n",
       "[14149 rows x 2 columns]"
      ]
     },
     "execution_count": 13,
     "metadata": {},
     "output_type": "execute_result"
    }
   ],
   "source": [
    "target_train = df_full[targets].loc[df_train.index]\n",
    "target_train"
   ]
  },
  {
   "cell_type": "code",
   "execution_count": 14,
   "metadata": {},
   "outputs": [
    {
     "name": "stdout",
     "output_type": "stream",
     "text": [
      "(14149, 52)\n",
      "(14149, 2)\n",
      "(5290, 52)\n",
      "(5290, 2)\n"
     ]
    }
   ],
   "source": [
    "print(df_train.shape)\n",
    "print(target_train.shape)\n",
    "print(df_test.shape)\n",
    "print(target_test.shape)"
   ]
  },
  {
   "cell_type": "markdown",
   "metadata": {},
   "source": [
    "### Предобработка данных\n",
    "\n",
    "Произведем поиск и замену пропусков в выборках"
   ]
  },
  {
   "cell_type": "code",
   "execution_count": 15,
   "metadata": {
    "scrolled": false
   },
   "outputs": [
    {
     "name": "stdout",
     "output_type": "stream",
     "text": [
      "Количество пропусков в выборке df_train \n",
      "primary_cleaner.input.sulfate                  20\n",
      "primary_cleaner.input.depressant               32\n",
      "primary_cleaner.input.feed_size                 0\n",
      "primary_cleaner.input.xanthate                100\n",
      "primary_cleaner.state.floatbank8_a_air          4\n",
      "primary_cleaner.state.floatbank8_a_level        1\n",
      "primary_cleaner.state.floatbank8_b_air          4\n",
      "primary_cleaner.state.floatbank8_b_level        1\n",
      "primary_cleaner.state.floatbank8_c_air          2\n",
      "primary_cleaner.state.floatbank8_c_level        1\n",
      "primary_cleaner.state.floatbank8_d_air          3\n",
      "primary_cleaner.state.floatbank8_d_level        1\n",
      "rougher.input.feed_ag                           0\n",
      "rougher.input.feed_pb                         100\n",
      "rougher.input.feed_rate                         8\n",
      "rougher.input.feed_size                       144\n",
      "rougher.input.feed_sol                         78\n",
      "rougher.input.feed_au                           0\n",
      "rougher.input.floatbank10_sulfate              29\n",
      "rougher.input.floatbank10_xanthate              8\n",
      "rougher.input.floatbank11_sulfate              36\n",
      "rougher.input.floatbank11_xanthate            428\n",
      "rougher.state.floatbank10_a_air                 1\n",
      "rougher.state.floatbank10_a_level               1\n",
      "rougher.state.floatbank10_b_air                 1\n",
      "rougher.state.floatbank10_b_level               1\n",
      "rougher.state.floatbank10_c_air                 1\n",
      "rougher.state.floatbank10_c_level               1\n",
      "rougher.state.floatbank10_d_air                 0\n",
      "rougher.state.floatbank10_d_level               0\n",
      "rougher.state.floatbank10_e_air               436\n",
      "rougher.state.floatbank10_e_level               0\n",
      "rougher.state.floatbank10_f_air                 0\n",
      "rougher.state.floatbank10_f_level               0\n",
      "secondary_cleaner.state.floatbank2_a_air      217\n",
      "secondary_cleaner.state.floatbank2_a_level      1\n",
      "secondary_cleaner.state.floatbank2_b_air       21\n",
      "secondary_cleaner.state.floatbank2_b_level      1\n",
      "secondary_cleaner.state.floatbank3_a_air        4\n",
      "secondary_cleaner.state.floatbank3_a_level      1\n",
      "secondary_cleaner.state.floatbank3_b_air        1\n",
      "secondary_cleaner.state.floatbank3_b_level      1\n",
      "secondary_cleaner.state.floatbank4_a_air        6\n",
      "secondary_cleaner.state.floatbank4_a_level      1\n",
      "secondary_cleaner.state.floatbank4_b_air        1\n",
      "secondary_cleaner.state.floatbank4_b_level      1\n",
      "secondary_cleaner.state.floatbank5_a_air        1\n",
      "secondary_cleaner.state.floatbank5_a_level      1\n",
      "secondary_cleaner.state.floatbank5_b_air        1\n",
      "secondary_cleaner.state.floatbank5_b_level      1\n",
      "secondary_cleaner.state.floatbank6_a_air        2\n",
      "secondary_cleaner.state.floatbank6_a_level      1\n",
      "dtype: int64\n",
      "Количество пропусков в выборке df_train \n",
      "primary_cleaner.input.sulfate                  4\n",
      "primary_cleaner.input.depressant               5\n",
      "primary_cleaner.input.feed_size                0\n",
      "primary_cleaner.input.xanthate                 4\n",
      "primary_cleaner.state.floatbank8_a_air         0\n",
      "primary_cleaner.state.floatbank8_a_level       0\n",
      "primary_cleaner.state.floatbank8_b_air         0\n",
      "primary_cleaner.state.floatbank8_b_level       0\n",
      "primary_cleaner.state.floatbank8_c_air         0\n",
      "primary_cleaner.state.floatbank8_c_level       0\n",
      "primary_cleaner.state.floatbank8_d_air         0\n",
      "primary_cleaner.state.floatbank8_d_level       0\n",
      "rougher.input.feed_ag                          0\n",
      "rougher.input.feed_pb                          0\n",
      "rougher.input.feed_rate                        3\n",
      "rougher.input.feed_size                        1\n",
      "rougher.input.feed_sol                        21\n",
      "rougher.input.feed_au                          0\n",
      "rougher.input.floatbank10_sulfate              5\n",
      "rougher.input.floatbank10_xanthate             0\n",
      "rougher.input.floatbank11_sulfate              8\n",
      "rougher.input.floatbank11_xanthate            25\n",
      "rougher.state.floatbank10_a_air                0\n",
      "rougher.state.floatbank10_a_level              0\n",
      "rougher.state.floatbank10_b_air                0\n",
      "rougher.state.floatbank10_b_level              0\n",
      "rougher.state.floatbank10_c_air                0\n",
      "rougher.state.floatbank10_c_level              0\n",
      "rougher.state.floatbank10_d_air                0\n",
      "rougher.state.floatbank10_d_level              0\n",
      "rougher.state.floatbank10_e_air                0\n",
      "rougher.state.floatbank10_e_level              0\n",
      "rougher.state.floatbank10_f_air                0\n",
      "rougher.state.floatbank10_f_level              0\n",
      "secondary_cleaner.state.floatbank2_a_air       3\n",
      "secondary_cleaner.state.floatbank2_a_level     0\n",
      "secondary_cleaner.state.floatbank2_b_air       2\n",
      "secondary_cleaner.state.floatbank2_b_level     0\n",
      "secondary_cleaner.state.floatbank3_a_air       9\n",
      "secondary_cleaner.state.floatbank3_a_level     0\n",
      "secondary_cleaner.state.floatbank3_b_air       0\n",
      "secondary_cleaner.state.floatbank3_b_level     0\n",
      "secondary_cleaner.state.floatbank4_a_air       0\n",
      "secondary_cleaner.state.floatbank4_a_level     0\n",
      "secondary_cleaner.state.floatbank4_b_air       0\n",
      "secondary_cleaner.state.floatbank4_b_level     0\n",
      "secondary_cleaner.state.floatbank5_a_air       0\n",
      "secondary_cleaner.state.floatbank5_a_level     0\n",
      "secondary_cleaner.state.floatbank5_b_air       0\n",
      "secondary_cleaner.state.floatbank5_b_level     0\n",
      "secondary_cleaner.state.floatbank6_a_air       0\n",
      "secondary_cleaner.state.floatbank6_a_level     0\n",
      "dtype: int64\n",
      "Количество пропусков в выборке df_train \n",
      "rougher.output.recovery    0\n",
      "final.output.recovery      0\n",
      "dtype: int64\n",
      "Количество пропусков в выборке df_train \n",
      "rougher.output.recovery    0\n",
      "final.output.recovery      0\n",
      "dtype: int64\n"
     ]
    }
   ],
   "source": [
    "print(f'Количество пропусков в выборке df_train \\n{df_train.isna().sum()}')\n",
    "print(f'Количество пропусков в выборке df_train \\n{df_test.isna().sum()}')\n",
    "print(f'Количество пропусков в выборке df_train \\n{target_train.isna().sum()}')\n",
    "print(f'Количество пропусков в выборке df_train \\n{target_test.isna().sum()}')"
   ]
  },
  {
   "cell_type": "markdown",
   "metadata": {},
   "source": [
    "Учитывая, что имеющимся вводным, соседние по времени параметры часто похожи, заполним пропущенные значения соседними значениями используя метод ffill и bfill:"
   ]
  },
  {
   "cell_type": "code",
   "execution_count": 16,
   "metadata": {
    "scrolled": true
   },
   "outputs": [
    {
     "name": "stdout",
     "output_type": "stream",
     "text": [
      "Количество пропусков в выборке df_train \n",
      "primary_cleaner.input.sulfate                 0\n",
      "primary_cleaner.input.depressant              0\n",
      "primary_cleaner.input.feed_size               0\n",
      "primary_cleaner.input.xanthate                0\n",
      "primary_cleaner.state.floatbank8_a_air        0\n",
      "primary_cleaner.state.floatbank8_a_level      0\n",
      "primary_cleaner.state.floatbank8_b_air        0\n",
      "primary_cleaner.state.floatbank8_b_level      0\n",
      "primary_cleaner.state.floatbank8_c_air        0\n",
      "primary_cleaner.state.floatbank8_c_level      0\n",
      "primary_cleaner.state.floatbank8_d_air        0\n",
      "primary_cleaner.state.floatbank8_d_level      0\n",
      "rougher.input.feed_ag                         0\n",
      "rougher.input.feed_pb                         0\n",
      "rougher.input.feed_rate                       0\n",
      "rougher.input.feed_size                       0\n",
      "rougher.input.feed_sol                        0\n",
      "rougher.input.feed_au                         0\n",
      "rougher.input.floatbank10_sulfate             0\n",
      "rougher.input.floatbank10_xanthate            0\n",
      "rougher.input.floatbank11_sulfate             0\n",
      "rougher.input.floatbank11_xanthate            0\n",
      "rougher.state.floatbank10_a_air               0\n",
      "rougher.state.floatbank10_a_level             0\n",
      "rougher.state.floatbank10_b_air               0\n",
      "rougher.state.floatbank10_b_level             0\n",
      "rougher.state.floatbank10_c_air               0\n",
      "rougher.state.floatbank10_c_level             0\n",
      "rougher.state.floatbank10_d_air               0\n",
      "rougher.state.floatbank10_d_level             0\n",
      "rougher.state.floatbank10_e_air               0\n",
      "rougher.state.floatbank10_e_level             0\n",
      "rougher.state.floatbank10_f_air               0\n",
      "rougher.state.floatbank10_f_level             0\n",
      "secondary_cleaner.state.floatbank2_a_air      0\n",
      "secondary_cleaner.state.floatbank2_a_level    0\n",
      "secondary_cleaner.state.floatbank2_b_air      0\n",
      "secondary_cleaner.state.floatbank2_b_level    0\n",
      "secondary_cleaner.state.floatbank3_a_air      0\n",
      "secondary_cleaner.state.floatbank3_a_level    0\n",
      "secondary_cleaner.state.floatbank3_b_air      0\n",
      "secondary_cleaner.state.floatbank3_b_level    0\n",
      "secondary_cleaner.state.floatbank4_a_air      0\n",
      "secondary_cleaner.state.floatbank4_a_level    0\n",
      "secondary_cleaner.state.floatbank4_b_air      0\n",
      "secondary_cleaner.state.floatbank4_b_level    0\n",
      "secondary_cleaner.state.floatbank5_a_air      0\n",
      "secondary_cleaner.state.floatbank5_a_level    0\n",
      "secondary_cleaner.state.floatbank5_b_air      0\n",
      "secondary_cleaner.state.floatbank5_b_level    0\n",
      "secondary_cleaner.state.floatbank6_a_air      0\n",
      "secondary_cleaner.state.floatbank6_a_level    0\n",
      "dtype: int64\n",
      "Количество пропусков в выборке df_train \n",
      "primary_cleaner.input.sulfate                 0\n",
      "primary_cleaner.input.depressant              0\n",
      "primary_cleaner.input.feed_size               0\n",
      "primary_cleaner.input.xanthate                0\n",
      "primary_cleaner.state.floatbank8_a_air        0\n",
      "primary_cleaner.state.floatbank8_a_level      0\n",
      "primary_cleaner.state.floatbank8_b_air        0\n",
      "primary_cleaner.state.floatbank8_b_level      0\n",
      "primary_cleaner.state.floatbank8_c_air        0\n",
      "primary_cleaner.state.floatbank8_c_level      0\n",
      "primary_cleaner.state.floatbank8_d_air        0\n",
      "primary_cleaner.state.floatbank8_d_level      0\n",
      "rougher.input.feed_ag                         0\n",
      "rougher.input.feed_pb                         0\n",
      "rougher.input.feed_rate                       0\n",
      "rougher.input.feed_size                       0\n",
      "rougher.input.feed_sol                        0\n",
      "rougher.input.feed_au                         0\n",
      "rougher.input.floatbank10_sulfate             0\n",
      "rougher.input.floatbank10_xanthate            0\n",
      "rougher.input.floatbank11_sulfate             0\n",
      "rougher.input.floatbank11_xanthate            0\n",
      "rougher.state.floatbank10_a_air               0\n",
      "rougher.state.floatbank10_a_level             0\n",
      "rougher.state.floatbank10_b_air               0\n",
      "rougher.state.floatbank10_b_level             0\n",
      "rougher.state.floatbank10_c_air               0\n",
      "rougher.state.floatbank10_c_level             0\n",
      "rougher.state.floatbank10_d_air               0\n",
      "rougher.state.floatbank10_d_level             0\n",
      "rougher.state.floatbank10_e_air               0\n",
      "rougher.state.floatbank10_e_level             0\n",
      "rougher.state.floatbank10_f_air               0\n",
      "rougher.state.floatbank10_f_level             0\n",
      "secondary_cleaner.state.floatbank2_a_air      0\n",
      "secondary_cleaner.state.floatbank2_a_level    0\n",
      "secondary_cleaner.state.floatbank2_b_air      0\n",
      "secondary_cleaner.state.floatbank2_b_level    0\n",
      "secondary_cleaner.state.floatbank3_a_air      0\n",
      "secondary_cleaner.state.floatbank3_a_level    0\n",
      "secondary_cleaner.state.floatbank3_b_air      0\n",
      "secondary_cleaner.state.floatbank3_b_level    0\n",
      "secondary_cleaner.state.floatbank4_a_air      0\n",
      "secondary_cleaner.state.floatbank4_a_level    0\n",
      "secondary_cleaner.state.floatbank4_b_air      0\n",
      "secondary_cleaner.state.floatbank4_b_level    0\n",
      "secondary_cleaner.state.floatbank5_a_air      0\n",
      "secondary_cleaner.state.floatbank5_a_level    0\n",
      "secondary_cleaner.state.floatbank5_b_air      0\n",
      "secondary_cleaner.state.floatbank5_b_level    0\n",
      "secondary_cleaner.state.floatbank6_a_air      0\n",
      "secondary_cleaner.state.floatbank6_a_level    0\n",
      "dtype: int64\n"
     ]
    }
   ],
   "source": [
    "df_train = df_train.ffill().bfill()\n",
    "df_test = df_test.ffill().bfill()\n",
    "print(f'Количество пропусков в выборке df_train \\n{df_train.isna().sum()}')\n",
    "print(f'Количество пропусков в выборке df_train \\n{df_test.isna().sum()}')"
   ]
  },
  {
   "cell_type": "code",
   "execution_count": 17,
   "metadata": {
    "scrolled": true
   },
   "outputs": [
    {
     "name": "stdout",
     "output_type": "stream",
     "text": [
      "<class 'pandas.core.frame.DataFrame'>\n",
      "Index: 14149 entries, 2016-01-15 00:00:00 to 2018-08-18 10:59:59\n",
      "Data columns (total 52 columns):\n",
      " #   Column                                      Non-Null Count  Dtype  \n",
      "---  ------                                      --------------  -----  \n",
      " 0   primary_cleaner.input.sulfate               14149 non-null  float64\n",
      " 1   primary_cleaner.input.depressant            14149 non-null  float64\n",
      " 2   primary_cleaner.input.feed_size             14149 non-null  float64\n",
      " 3   primary_cleaner.input.xanthate              14149 non-null  float64\n",
      " 4   primary_cleaner.state.floatbank8_a_air      14149 non-null  float64\n",
      " 5   primary_cleaner.state.floatbank8_a_level    14149 non-null  float64\n",
      " 6   primary_cleaner.state.floatbank8_b_air      14149 non-null  float64\n",
      " 7   primary_cleaner.state.floatbank8_b_level    14149 non-null  float64\n",
      " 8   primary_cleaner.state.floatbank8_c_air      14149 non-null  float64\n",
      " 9   primary_cleaner.state.floatbank8_c_level    14149 non-null  float64\n",
      " 10  primary_cleaner.state.floatbank8_d_air      14149 non-null  float64\n",
      " 11  primary_cleaner.state.floatbank8_d_level    14149 non-null  float64\n",
      " 12  rougher.input.feed_ag                       14149 non-null  float64\n",
      " 13  rougher.input.feed_pb                       14149 non-null  float64\n",
      " 14  rougher.input.feed_rate                     14149 non-null  float64\n",
      " 15  rougher.input.feed_size                     14149 non-null  float64\n",
      " 16  rougher.input.feed_sol                      14149 non-null  float64\n",
      " 17  rougher.input.feed_au                       14149 non-null  float64\n",
      " 18  rougher.input.floatbank10_sulfate           14149 non-null  float64\n",
      " 19  rougher.input.floatbank10_xanthate          14149 non-null  float64\n",
      " 20  rougher.input.floatbank11_sulfate           14149 non-null  float64\n",
      " 21  rougher.input.floatbank11_xanthate          14149 non-null  float64\n",
      " 22  rougher.state.floatbank10_a_air             14149 non-null  float64\n",
      " 23  rougher.state.floatbank10_a_level           14149 non-null  float64\n",
      " 24  rougher.state.floatbank10_b_air             14149 non-null  float64\n",
      " 25  rougher.state.floatbank10_b_level           14149 non-null  float64\n",
      " 26  rougher.state.floatbank10_c_air             14149 non-null  float64\n",
      " 27  rougher.state.floatbank10_c_level           14149 non-null  float64\n",
      " 28  rougher.state.floatbank10_d_air             14149 non-null  float64\n",
      " 29  rougher.state.floatbank10_d_level           14149 non-null  float64\n",
      " 30  rougher.state.floatbank10_e_air             14149 non-null  float64\n",
      " 31  rougher.state.floatbank10_e_level           14149 non-null  float64\n",
      " 32  rougher.state.floatbank10_f_air             14149 non-null  float64\n",
      " 33  rougher.state.floatbank10_f_level           14149 non-null  float64\n",
      " 34  secondary_cleaner.state.floatbank2_a_air    14149 non-null  float64\n",
      " 35  secondary_cleaner.state.floatbank2_a_level  14149 non-null  float64\n",
      " 36  secondary_cleaner.state.floatbank2_b_air    14149 non-null  float64\n",
      " 37  secondary_cleaner.state.floatbank2_b_level  14149 non-null  float64\n",
      " 38  secondary_cleaner.state.floatbank3_a_air    14149 non-null  float64\n",
      " 39  secondary_cleaner.state.floatbank3_a_level  14149 non-null  float64\n",
      " 40  secondary_cleaner.state.floatbank3_b_air    14149 non-null  float64\n",
      " 41  secondary_cleaner.state.floatbank3_b_level  14149 non-null  float64\n",
      " 42  secondary_cleaner.state.floatbank4_a_air    14149 non-null  float64\n",
      " 43  secondary_cleaner.state.floatbank4_a_level  14149 non-null  float64\n",
      " 44  secondary_cleaner.state.floatbank4_b_air    14149 non-null  float64\n",
      " 45  secondary_cleaner.state.floatbank4_b_level  14149 non-null  float64\n",
      " 46  secondary_cleaner.state.floatbank5_a_air    14149 non-null  float64\n",
      " 47  secondary_cleaner.state.floatbank5_a_level  14149 non-null  float64\n",
      " 48  secondary_cleaner.state.floatbank5_b_air    14149 non-null  float64\n",
      " 49  secondary_cleaner.state.floatbank5_b_level  14149 non-null  float64\n",
      " 50  secondary_cleaner.state.floatbank6_a_air    14149 non-null  float64\n",
      " 51  secondary_cleaner.state.floatbank6_a_level  14149 non-null  float64\n",
      "dtypes: float64(52)\n",
      "memory usage: 6.2+ MB\n",
      "None\n",
      "<class 'pandas.core.frame.DataFrame'>\n",
      "Index: 5290 entries, 2016-09-01 00:59:59 to 2017-12-31 23:59:59\n",
      "Data columns (total 52 columns):\n",
      " #   Column                                      Non-Null Count  Dtype  \n",
      "---  ------                                      --------------  -----  \n",
      " 0   primary_cleaner.input.sulfate               5290 non-null   float64\n",
      " 1   primary_cleaner.input.depressant            5290 non-null   float64\n",
      " 2   primary_cleaner.input.feed_size             5290 non-null   float64\n",
      " 3   primary_cleaner.input.xanthate              5290 non-null   float64\n",
      " 4   primary_cleaner.state.floatbank8_a_air      5290 non-null   float64\n",
      " 5   primary_cleaner.state.floatbank8_a_level    5290 non-null   float64\n",
      " 6   primary_cleaner.state.floatbank8_b_air      5290 non-null   float64\n",
      " 7   primary_cleaner.state.floatbank8_b_level    5290 non-null   float64\n",
      " 8   primary_cleaner.state.floatbank8_c_air      5290 non-null   float64\n",
      " 9   primary_cleaner.state.floatbank8_c_level    5290 non-null   float64\n",
      " 10  primary_cleaner.state.floatbank8_d_air      5290 non-null   float64\n",
      " 11  primary_cleaner.state.floatbank8_d_level    5290 non-null   float64\n",
      " 12  rougher.input.feed_ag                       5290 non-null   float64\n",
      " 13  rougher.input.feed_pb                       5290 non-null   float64\n",
      " 14  rougher.input.feed_rate                     5290 non-null   float64\n",
      " 15  rougher.input.feed_size                     5290 non-null   float64\n",
      " 16  rougher.input.feed_sol                      5290 non-null   float64\n",
      " 17  rougher.input.feed_au                       5290 non-null   float64\n",
      " 18  rougher.input.floatbank10_sulfate           5290 non-null   float64\n",
      " 19  rougher.input.floatbank10_xanthate          5290 non-null   float64\n",
      " 20  rougher.input.floatbank11_sulfate           5290 non-null   float64\n",
      " 21  rougher.input.floatbank11_xanthate          5290 non-null   float64\n",
      " 22  rougher.state.floatbank10_a_air             5290 non-null   float64\n",
      " 23  rougher.state.floatbank10_a_level           5290 non-null   float64\n",
      " 24  rougher.state.floatbank10_b_air             5290 non-null   float64\n",
      " 25  rougher.state.floatbank10_b_level           5290 non-null   float64\n",
      " 26  rougher.state.floatbank10_c_air             5290 non-null   float64\n",
      " 27  rougher.state.floatbank10_c_level           5290 non-null   float64\n",
      " 28  rougher.state.floatbank10_d_air             5290 non-null   float64\n",
      " 29  rougher.state.floatbank10_d_level           5290 non-null   float64\n",
      " 30  rougher.state.floatbank10_e_air             5290 non-null   float64\n",
      " 31  rougher.state.floatbank10_e_level           5290 non-null   float64\n",
      " 32  rougher.state.floatbank10_f_air             5290 non-null   float64\n",
      " 33  rougher.state.floatbank10_f_level           5290 non-null   float64\n",
      " 34  secondary_cleaner.state.floatbank2_a_air    5290 non-null   float64\n",
      " 35  secondary_cleaner.state.floatbank2_a_level  5290 non-null   float64\n",
      " 36  secondary_cleaner.state.floatbank2_b_air    5290 non-null   float64\n",
      " 37  secondary_cleaner.state.floatbank2_b_level  5290 non-null   float64\n",
      " 38  secondary_cleaner.state.floatbank3_a_air    5290 non-null   float64\n",
      " 39  secondary_cleaner.state.floatbank3_a_level  5290 non-null   float64\n",
      " 40  secondary_cleaner.state.floatbank3_b_air    5290 non-null   float64\n",
      " 41  secondary_cleaner.state.floatbank3_b_level  5290 non-null   float64\n",
      " 42  secondary_cleaner.state.floatbank4_a_air    5290 non-null   float64\n",
      " 43  secondary_cleaner.state.floatbank4_a_level  5290 non-null   float64\n",
      " 44  secondary_cleaner.state.floatbank4_b_air    5290 non-null   float64\n",
      " 45  secondary_cleaner.state.floatbank4_b_level  5290 non-null   float64\n",
      " 46  secondary_cleaner.state.floatbank5_a_air    5290 non-null   float64\n",
      " 47  secondary_cleaner.state.floatbank5_a_level  5290 non-null   float64\n",
      " 48  secondary_cleaner.state.floatbank5_b_air    5290 non-null   float64\n",
      " 49  secondary_cleaner.state.floatbank5_b_level  5290 non-null   float64\n",
      " 50  secondary_cleaner.state.floatbank6_a_air    5290 non-null   float64\n",
      " 51  secondary_cleaner.state.floatbank6_a_level  5290 non-null   float64\n",
      "dtypes: float64(52)\n",
      "memory usage: 2.1+ MB\n",
      "None\n",
      "<class 'pandas.core.frame.DataFrame'>\n",
      "Index: 14149 entries, 2016-01-15 00:00:00 to 2018-08-18 10:59:59\n",
      "Data columns (total 2 columns):\n",
      " #   Column                   Non-Null Count  Dtype  \n",
      "---  ------                   --------------  -----  \n",
      " 0   rougher.output.recovery  14149 non-null  float64\n",
      " 1   final.output.recovery    14149 non-null  float64\n",
      "dtypes: float64(2)\n",
      "memory usage: 847.7+ KB\n",
      "None\n",
      "<class 'pandas.core.frame.DataFrame'>\n",
      "Index: 5290 entries, 2016-09-01 00:59:59 to 2017-12-31 23:59:59\n",
      "Data columns (total 2 columns):\n",
      " #   Column                   Non-Null Count  Dtype  \n",
      "---  ------                   --------------  -----  \n",
      " 0   rougher.output.recovery  5290 non-null   float64\n",
      " 1   final.output.recovery    5290 non-null   float64\n",
      "dtypes: float64(2)\n",
      "memory usage: 124.0+ KB\n",
      "None\n"
     ]
    }
   ],
   "source": [
    "print(df_train.info())\n",
    "print(df_test.info())\n",
    "print(target_train.info())\n",
    "print(target_test.info())"
   ]
  },
  {
   "cell_type": "code",
   "execution_count": 18,
   "metadata": {
    "scrolled": false
   },
   "outputs": [
    {
     "data": {
      "text/html": [
       "<div>\n",
       "<style scoped>\n",
       "    .dataframe tbody tr th:only-of-type {\n",
       "        vertical-align: middle;\n",
       "    }\n",
       "\n",
       "    .dataframe tbody tr th {\n",
       "        vertical-align: top;\n",
       "    }\n",
       "\n",
       "    .dataframe thead th {\n",
       "        text-align: right;\n",
       "    }\n",
       "</style>\n",
       "<table border=\"1\" class=\"dataframe\">\n",
       "  <thead>\n",
       "    <tr style=\"text-align: right;\">\n",
       "      <th></th>\n",
       "      <th>primary_cleaner.input.sulfate</th>\n",
       "      <th>primary_cleaner.input.depressant</th>\n",
       "      <th>primary_cleaner.input.feed_size</th>\n",
       "      <th>primary_cleaner.input.xanthate</th>\n",
       "      <th>primary_cleaner.state.floatbank8_a_air</th>\n",
       "      <th>primary_cleaner.state.floatbank8_a_level</th>\n",
       "      <th>primary_cleaner.state.floatbank8_b_air</th>\n",
       "      <th>primary_cleaner.state.floatbank8_b_level</th>\n",
       "      <th>primary_cleaner.state.floatbank8_c_air</th>\n",
       "      <th>primary_cleaner.state.floatbank8_c_level</th>\n",
       "      <th>primary_cleaner.state.floatbank8_d_air</th>\n",
       "      <th>primary_cleaner.state.floatbank8_d_level</th>\n",
       "      <th>rougher.input.feed_ag</th>\n",
       "      <th>rougher.input.feed_pb</th>\n",
       "      <th>rougher.input.feed_rate</th>\n",
       "      <th>rougher.input.feed_size</th>\n",
       "      <th>rougher.input.feed_sol</th>\n",
       "      <th>rougher.input.feed_au</th>\n",
       "      <th>rougher.input.floatbank10_sulfate</th>\n",
       "      <th>rougher.input.floatbank10_xanthate</th>\n",
       "      <th>rougher.input.floatbank11_sulfate</th>\n",
       "      <th>rougher.input.floatbank11_xanthate</th>\n",
       "      <th>rougher.state.floatbank10_a_air</th>\n",
       "      <th>rougher.state.floatbank10_a_level</th>\n",
       "      <th>rougher.state.floatbank10_b_air</th>\n",
       "      <th>rougher.state.floatbank10_b_level</th>\n",
       "      <th>rougher.state.floatbank10_c_air</th>\n",
       "      <th>rougher.state.floatbank10_c_level</th>\n",
       "      <th>rougher.state.floatbank10_d_air</th>\n",
       "      <th>rougher.state.floatbank10_d_level</th>\n",
       "      <th>rougher.state.floatbank10_e_air</th>\n",
       "      <th>rougher.state.floatbank10_e_level</th>\n",
       "      <th>rougher.state.floatbank10_f_air</th>\n",
       "      <th>rougher.state.floatbank10_f_level</th>\n",
       "      <th>secondary_cleaner.state.floatbank2_a_air</th>\n",
       "      <th>secondary_cleaner.state.floatbank2_a_level</th>\n",
       "      <th>secondary_cleaner.state.floatbank2_b_air</th>\n",
       "      <th>secondary_cleaner.state.floatbank2_b_level</th>\n",
       "      <th>secondary_cleaner.state.floatbank3_a_air</th>\n",
       "      <th>secondary_cleaner.state.floatbank3_a_level</th>\n",
       "      <th>secondary_cleaner.state.floatbank3_b_air</th>\n",
       "      <th>secondary_cleaner.state.floatbank3_b_level</th>\n",
       "      <th>secondary_cleaner.state.floatbank4_a_air</th>\n",
       "      <th>secondary_cleaner.state.floatbank4_a_level</th>\n",
       "      <th>secondary_cleaner.state.floatbank4_b_air</th>\n",
       "      <th>secondary_cleaner.state.floatbank4_b_level</th>\n",
       "      <th>secondary_cleaner.state.floatbank5_a_air</th>\n",
       "      <th>secondary_cleaner.state.floatbank5_a_level</th>\n",
       "      <th>secondary_cleaner.state.floatbank5_b_air</th>\n",
       "      <th>secondary_cleaner.state.floatbank5_b_level</th>\n",
       "      <th>secondary_cleaner.state.floatbank6_a_air</th>\n",
       "      <th>secondary_cleaner.state.floatbank6_a_level</th>\n",
       "    </tr>\n",
       "    <tr>\n",
       "      <th>date</th>\n",
       "      <th></th>\n",
       "      <th></th>\n",
       "      <th></th>\n",
       "      <th></th>\n",
       "      <th></th>\n",
       "      <th></th>\n",
       "      <th></th>\n",
       "      <th></th>\n",
       "      <th></th>\n",
       "      <th></th>\n",
       "      <th></th>\n",
       "      <th></th>\n",
       "      <th></th>\n",
       "      <th></th>\n",
       "      <th></th>\n",
       "      <th></th>\n",
       "      <th></th>\n",
       "      <th></th>\n",
       "      <th></th>\n",
       "      <th></th>\n",
       "      <th></th>\n",
       "      <th></th>\n",
       "      <th></th>\n",
       "      <th></th>\n",
       "      <th></th>\n",
       "      <th></th>\n",
       "      <th></th>\n",
       "      <th></th>\n",
       "      <th></th>\n",
       "      <th></th>\n",
       "      <th></th>\n",
       "      <th></th>\n",
       "      <th></th>\n",
       "      <th></th>\n",
       "      <th></th>\n",
       "      <th></th>\n",
       "      <th></th>\n",
       "      <th></th>\n",
       "      <th></th>\n",
       "      <th></th>\n",
       "      <th></th>\n",
       "      <th></th>\n",
       "      <th></th>\n",
       "      <th></th>\n",
       "      <th></th>\n",
       "      <th></th>\n",
       "      <th></th>\n",
       "      <th></th>\n",
       "      <th></th>\n",
       "      <th></th>\n",
       "      <th></th>\n",
       "      <th></th>\n",
       "    </tr>\n",
       "  </thead>\n",
       "  <tbody>\n",
       "    <tr>\n",
       "      <th>2016-01-15 00:00:00</th>\n",
       "      <td>127.092003</td>\n",
       "      <td>10.128295</td>\n",
       "      <td>7.25</td>\n",
       "      <td>0.988759</td>\n",
       "      <td>1549.775757</td>\n",
       "      <td>-498.912140</td>\n",
       "      <td>1551.434204</td>\n",
       "      <td>-516.403442</td>\n",
       "      <td>1549.873901</td>\n",
       "      <td>-498.666595</td>\n",
       "      <td>1554.367432</td>\n",
       "      <td>-493.428131</td>\n",
       "      <td>6.100378</td>\n",
       "      <td>2.284912</td>\n",
       "      <td>523.546326</td>\n",
       "      <td>55.486599</td>\n",
       "      <td>36.808594</td>\n",
       "      <td>6.486150</td>\n",
       "      <td>11.986616</td>\n",
       "      <td>6.007990</td>\n",
       "      <td>11.836743</td>\n",
       "      <td>6.005818</td>\n",
       "      <td>999.706909</td>\n",
       "      <td>-404.066986</td>\n",
       "      <td>1603.011353</td>\n",
       "      <td>-434.715027</td>\n",
       "      <td>1602.375000</td>\n",
       "      <td>-442.204468</td>\n",
       "      <td>1598.937256</td>\n",
       "      <td>-451.294128</td>\n",
       "      <td>1404.472046</td>\n",
       "      <td>-455.462982</td>\n",
       "      <td>1416.354980</td>\n",
       "      <td>-451.939636</td>\n",
       "      <td>25.853109</td>\n",
       "      <td>-498.526489</td>\n",
       "      <td>23.893660</td>\n",
       "      <td>-501.406281</td>\n",
       "      <td>23.961798</td>\n",
       "      <td>-495.262817</td>\n",
       "      <td>21.940409</td>\n",
       "      <td>-499.340973</td>\n",
       "      <td>14.016835</td>\n",
       "      <td>-502.488007</td>\n",
       "      <td>12.099931</td>\n",
       "      <td>-504.715942</td>\n",
       "      <td>9.925633</td>\n",
       "      <td>-498.310211</td>\n",
       "      <td>8.079666</td>\n",
       "      <td>-500.470978</td>\n",
       "      <td>14.151341</td>\n",
       "      <td>-605.841980</td>\n",
       "    </tr>\n",
       "    <tr>\n",
       "      <th>2016-01-15 01:00:00</th>\n",
       "      <td>125.629232</td>\n",
       "      <td>10.296251</td>\n",
       "      <td>7.25</td>\n",
       "      <td>1.002663</td>\n",
       "      <td>1576.166671</td>\n",
       "      <td>-500.904965</td>\n",
       "      <td>1575.950626</td>\n",
       "      <td>-499.865889</td>\n",
       "      <td>1575.994189</td>\n",
       "      <td>-499.315107</td>\n",
       "      <td>1574.479259</td>\n",
       "      <td>-498.931665</td>\n",
       "      <td>6.161113</td>\n",
       "      <td>2.266033</td>\n",
       "      <td>525.290581</td>\n",
       "      <td>57.278666</td>\n",
       "      <td>35.753385</td>\n",
       "      <td>6.478583</td>\n",
       "      <td>11.971193</td>\n",
       "      <td>6.005766</td>\n",
       "      <td>11.996163</td>\n",
       "      <td>6.012594</td>\n",
       "      <td>1000.286398</td>\n",
       "      <td>-400.065196</td>\n",
       "      <td>1600.754587</td>\n",
       "      <td>-449.953435</td>\n",
       "      <td>1600.479580</td>\n",
       "      <td>-449.830646</td>\n",
       "      <td>1600.527589</td>\n",
       "      <td>-449.953649</td>\n",
       "      <td>1399.227084</td>\n",
       "      <td>-450.869848</td>\n",
       "      <td>1399.719514</td>\n",
       "      <td>-450.119001</td>\n",
       "      <td>25.880539</td>\n",
       "      <td>-499.989656</td>\n",
       "      <td>23.889530</td>\n",
       "      <td>-500.372428</td>\n",
       "      <td>23.970550</td>\n",
       "      <td>-500.085473</td>\n",
       "      <td>22.085714</td>\n",
       "      <td>-499.446897</td>\n",
       "      <td>13.992281</td>\n",
       "      <td>-505.503262</td>\n",
       "      <td>11.950531</td>\n",
       "      <td>-501.331529</td>\n",
       "      <td>10.039245</td>\n",
       "      <td>-500.169983</td>\n",
       "      <td>7.984757</td>\n",
       "      <td>-500.582168</td>\n",
       "      <td>13.998353</td>\n",
       "      <td>-599.787184</td>\n",
       "    </tr>\n",
       "    <tr>\n",
       "      <th>2016-01-15 02:00:00</th>\n",
       "      <td>123.819808</td>\n",
       "      <td>11.316280</td>\n",
       "      <td>7.25</td>\n",
       "      <td>0.991265</td>\n",
       "      <td>1601.556163</td>\n",
       "      <td>-499.997791</td>\n",
       "      <td>1600.386685</td>\n",
       "      <td>-500.607762</td>\n",
       "      <td>1602.003542</td>\n",
       "      <td>-500.870069</td>\n",
       "      <td>1599.541515</td>\n",
       "      <td>-499.827444</td>\n",
       "      <td>6.116455</td>\n",
       "      <td>2.159622</td>\n",
       "      <td>530.026610</td>\n",
       "      <td>57.510649</td>\n",
       "      <td>35.971630</td>\n",
       "      <td>6.362222</td>\n",
       "      <td>11.920603</td>\n",
       "      <td>6.197377</td>\n",
       "      <td>11.920305</td>\n",
       "      <td>6.204633</td>\n",
       "      <td>999.719565</td>\n",
       "      <td>-400.074028</td>\n",
       "      <td>1599.337330</td>\n",
       "      <td>-450.008530</td>\n",
       "      <td>1599.672797</td>\n",
       "      <td>-449.954491</td>\n",
       "      <td>1599.849325</td>\n",
       "      <td>-449.954185</td>\n",
       "      <td>1399.180945</td>\n",
       "      <td>-449.937588</td>\n",
       "      <td>1400.316682</td>\n",
       "      <td>-450.527147</td>\n",
       "      <td>26.005245</td>\n",
       "      <td>-499.929616</td>\n",
       "      <td>23.886657</td>\n",
       "      <td>-499.951928</td>\n",
       "      <td>23.913535</td>\n",
       "      <td>-499.442343</td>\n",
       "      <td>23.957717</td>\n",
       "      <td>-499.901982</td>\n",
       "      <td>14.015015</td>\n",
       "      <td>-502.520901</td>\n",
       "      <td>11.912783</td>\n",
       "      <td>-501.133383</td>\n",
       "      <td>10.070913</td>\n",
       "      <td>-500.129135</td>\n",
       "      <td>8.013877</td>\n",
       "      <td>-500.517572</td>\n",
       "      <td>14.028663</td>\n",
       "      <td>-601.427363</td>\n",
       "    </tr>\n",
       "    <tr>\n",
       "      <th>2016-01-15 03:00:00</th>\n",
       "      <td>122.270188</td>\n",
       "      <td>11.322140</td>\n",
       "      <td>7.25</td>\n",
       "      <td>0.996739</td>\n",
       "      <td>1599.968720</td>\n",
       "      <td>-500.951778</td>\n",
       "      <td>1600.659236</td>\n",
       "      <td>-499.677094</td>\n",
       "      <td>1600.304144</td>\n",
       "      <td>-500.727997</td>\n",
       "      <td>1600.449520</td>\n",
       "      <td>-500.052575</td>\n",
       "      <td>6.043309</td>\n",
       "      <td>2.037807</td>\n",
       "      <td>542.590390</td>\n",
       "      <td>57.792734</td>\n",
       "      <td>36.862241</td>\n",
       "      <td>6.118189</td>\n",
       "      <td>11.630094</td>\n",
       "      <td>6.203177</td>\n",
       "      <td>11.692450</td>\n",
       "      <td>6.196578</td>\n",
       "      <td>999.814770</td>\n",
       "      <td>-400.200179</td>\n",
       "      <td>1600.059442</td>\n",
       "      <td>-450.619948</td>\n",
       "      <td>1600.012842</td>\n",
       "      <td>-449.910497</td>\n",
       "      <td>1597.725177</td>\n",
       "      <td>-450.130127</td>\n",
       "      <td>1400.943157</td>\n",
       "      <td>-450.030142</td>\n",
       "      <td>1400.234743</td>\n",
       "      <td>-449.790835</td>\n",
       "      <td>25.942508</td>\n",
       "      <td>-499.176749</td>\n",
       "      <td>23.955516</td>\n",
       "      <td>-499.848796</td>\n",
       "      <td>23.966838</td>\n",
       "      <td>-500.008812</td>\n",
       "      <td>23.954443</td>\n",
       "      <td>-499.944710</td>\n",
       "      <td>14.036510</td>\n",
       "      <td>-500.857308</td>\n",
       "      <td>11.999550</td>\n",
       "      <td>-501.193686</td>\n",
       "      <td>9.970366</td>\n",
       "      <td>-499.201640</td>\n",
       "      <td>7.977324</td>\n",
       "      <td>-500.255908</td>\n",
       "      <td>14.005551</td>\n",
       "      <td>-599.996129</td>\n",
       "    </tr>\n",
       "    <tr>\n",
       "      <th>2016-01-15 04:00:00</th>\n",
       "      <td>117.988169</td>\n",
       "      <td>11.913613</td>\n",
       "      <td>7.25</td>\n",
       "      <td>1.009869</td>\n",
       "      <td>1601.339707</td>\n",
       "      <td>-498.975456</td>\n",
       "      <td>1601.437854</td>\n",
       "      <td>-500.323246</td>\n",
       "      <td>1599.581894</td>\n",
       "      <td>-500.888152</td>\n",
       "      <td>1602.649541</td>\n",
       "      <td>-500.593010</td>\n",
       "      <td>6.060915</td>\n",
       "      <td>1.786875</td>\n",
       "      <td>540.531893</td>\n",
       "      <td>56.047189</td>\n",
       "      <td>34.347666</td>\n",
       "      <td>5.663707</td>\n",
       "      <td>10.957755</td>\n",
       "      <td>6.198826</td>\n",
       "      <td>10.960521</td>\n",
       "      <td>6.194897</td>\n",
       "      <td>999.678690</td>\n",
       "      <td>-399.752729</td>\n",
       "      <td>1600.208824</td>\n",
       "      <td>-449.599614</td>\n",
       "      <td>1600.357732</td>\n",
       "      <td>-450.034364</td>\n",
       "      <td>1599.759049</td>\n",
       "      <td>-449.909799</td>\n",
       "      <td>1401.560902</td>\n",
       "      <td>-448.877187</td>\n",
       "      <td>1401.160227</td>\n",
       "      <td>-450.407128</td>\n",
       "      <td>26.024787</td>\n",
       "      <td>-500.279091</td>\n",
       "      <td>23.955345</td>\n",
       "      <td>-500.593614</td>\n",
       "      <td>23.985703</td>\n",
       "      <td>-500.083811</td>\n",
       "      <td>23.958945</td>\n",
       "      <td>-499.990309</td>\n",
       "      <td>14.027298</td>\n",
       "      <td>-499.838632</td>\n",
       "      <td>11.953070</td>\n",
       "      <td>-501.053894</td>\n",
       "      <td>9.925709</td>\n",
       "      <td>-501.686727</td>\n",
       "      <td>7.894242</td>\n",
       "      <td>-500.356035</td>\n",
       "      <td>13.996647</td>\n",
       "      <td>-601.496691</td>\n",
       "    </tr>\n",
       "  </tbody>\n",
       "</table>\n",
       "</div>"
      ],
      "text/plain": [
       "                     primary_cleaner.input.sulfate  \\\n",
       "date                                                 \n",
       "2016-01-15 00:00:00                     127.092003   \n",
       "2016-01-15 01:00:00                     125.629232   \n",
       "2016-01-15 02:00:00                     123.819808   \n",
       "2016-01-15 03:00:00                     122.270188   \n",
       "2016-01-15 04:00:00                     117.988169   \n",
       "\n",
       "                     primary_cleaner.input.depressant  \\\n",
       "date                                                    \n",
       "2016-01-15 00:00:00                         10.128295   \n",
       "2016-01-15 01:00:00                         10.296251   \n",
       "2016-01-15 02:00:00                         11.316280   \n",
       "2016-01-15 03:00:00                         11.322140   \n",
       "2016-01-15 04:00:00                         11.913613   \n",
       "\n",
       "                     primary_cleaner.input.feed_size  \\\n",
       "date                                                   \n",
       "2016-01-15 00:00:00                             7.25   \n",
       "2016-01-15 01:00:00                             7.25   \n",
       "2016-01-15 02:00:00                             7.25   \n",
       "2016-01-15 03:00:00                             7.25   \n",
       "2016-01-15 04:00:00                             7.25   \n",
       "\n",
       "                     primary_cleaner.input.xanthate  \\\n",
       "date                                                  \n",
       "2016-01-15 00:00:00                        0.988759   \n",
       "2016-01-15 01:00:00                        1.002663   \n",
       "2016-01-15 02:00:00                        0.991265   \n",
       "2016-01-15 03:00:00                        0.996739   \n",
       "2016-01-15 04:00:00                        1.009869   \n",
       "\n",
       "                     primary_cleaner.state.floatbank8_a_air  \\\n",
       "date                                                          \n",
       "2016-01-15 00:00:00                             1549.775757   \n",
       "2016-01-15 01:00:00                             1576.166671   \n",
       "2016-01-15 02:00:00                             1601.556163   \n",
       "2016-01-15 03:00:00                             1599.968720   \n",
       "2016-01-15 04:00:00                             1601.339707   \n",
       "\n",
       "                     primary_cleaner.state.floatbank8_a_level  \\\n",
       "date                                                            \n",
       "2016-01-15 00:00:00                               -498.912140   \n",
       "2016-01-15 01:00:00                               -500.904965   \n",
       "2016-01-15 02:00:00                               -499.997791   \n",
       "2016-01-15 03:00:00                               -500.951778   \n",
       "2016-01-15 04:00:00                               -498.975456   \n",
       "\n",
       "                     primary_cleaner.state.floatbank8_b_air  \\\n",
       "date                                                          \n",
       "2016-01-15 00:00:00                             1551.434204   \n",
       "2016-01-15 01:00:00                             1575.950626   \n",
       "2016-01-15 02:00:00                             1600.386685   \n",
       "2016-01-15 03:00:00                             1600.659236   \n",
       "2016-01-15 04:00:00                             1601.437854   \n",
       "\n",
       "                     primary_cleaner.state.floatbank8_b_level  \\\n",
       "date                                                            \n",
       "2016-01-15 00:00:00                               -516.403442   \n",
       "2016-01-15 01:00:00                               -499.865889   \n",
       "2016-01-15 02:00:00                               -500.607762   \n",
       "2016-01-15 03:00:00                               -499.677094   \n",
       "2016-01-15 04:00:00                               -500.323246   \n",
       "\n",
       "                     primary_cleaner.state.floatbank8_c_air  \\\n",
       "date                                                          \n",
       "2016-01-15 00:00:00                             1549.873901   \n",
       "2016-01-15 01:00:00                             1575.994189   \n",
       "2016-01-15 02:00:00                             1602.003542   \n",
       "2016-01-15 03:00:00                             1600.304144   \n",
       "2016-01-15 04:00:00                             1599.581894   \n",
       "\n",
       "                     primary_cleaner.state.floatbank8_c_level  \\\n",
       "date                                                            \n",
       "2016-01-15 00:00:00                               -498.666595   \n",
       "2016-01-15 01:00:00                               -499.315107   \n",
       "2016-01-15 02:00:00                               -500.870069   \n",
       "2016-01-15 03:00:00                               -500.727997   \n",
       "2016-01-15 04:00:00                               -500.888152   \n",
       "\n",
       "                     primary_cleaner.state.floatbank8_d_air  \\\n",
       "date                                                          \n",
       "2016-01-15 00:00:00                             1554.367432   \n",
       "2016-01-15 01:00:00                             1574.479259   \n",
       "2016-01-15 02:00:00                             1599.541515   \n",
       "2016-01-15 03:00:00                             1600.449520   \n",
       "2016-01-15 04:00:00                             1602.649541   \n",
       "\n",
       "                     primary_cleaner.state.floatbank8_d_level  \\\n",
       "date                                                            \n",
       "2016-01-15 00:00:00                               -493.428131   \n",
       "2016-01-15 01:00:00                               -498.931665   \n",
       "2016-01-15 02:00:00                               -499.827444   \n",
       "2016-01-15 03:00:00                               -500.052575   \n",
       "2016-01-15 04:00:00                               -500.593010   \n",
       "\n",
       "                     rougher.input.feed_ag  rougher.input.feed_pb  \\\n",
       "date                                                                \n",
       "2016-01-15 00:00:00               6.100378               2.284912   \n",
       "2016-01-15 01:00:00               6.161113               2.266033   \n",
       "2016-01-15 02:00:00               6.116455               2.159622   \n",
       "2016-01-15 03:00:00               6.043309               2.037807   \n",
       "2016-01-15 04:00:00               6.060915               1.786875   \n",
       "\n",
       "                     rougher.input.feed_rate  rougher.input.feed_size  \\\n",
       "date                                                                    \n",
       "2016-01-15 00:00:00               523.546326                55.486599   \n",
       "2016-01-15 01:00:00               525.290581                57.278666   \n",
       "2016-01-15 02:00:00               530.026610                57.510649   \n",
       "2016-01-15 03:00:00               542.590390                57.792734   \n",
       "2016-01-15 04:00:00               540.531893                56.047189   \n",
       "\n",
       "                     rougher.input.feed_sol  rougher.input.feed_au  \\\n",
       "date                                                                 \n",
       "2016-01-15 00:00:00               36.808594               6.486150   \n",
       "2016-01-15 01:00:00               35.753385               6.478583   \n",
       "2016-01-15 02:00:00               35.971630               6.362222   \n",
       "2016-01-15 03:00:00               36.862241               6.118189   \n",
       "2016-01-15 04:00:00               34.347666               5.663707   \n",
       "\n",
       "                     rougher.input.floatbank10_sulfate  \\\n",
       "date                                                     \n",
       "2016-01-15 00:00:00                          11.986616   \n",
       "2016-01-15 01:00:00                          11.971193   \n",
       "2016-01-15 02:00:00                          11.920603   \n",
       "2016-01-15 03:00:00                          11.630094   \n",
       "2016-01-15 04:00:00                          10.957755   \n",
       "\n",
       "                     rougher.input.floatbank10_xanthate  \\\n",
       "date                                                      \n",
       "2016-01-15 00:00:00                            6.007990   \n",
       "2016-01-15 01:00:00                            6.005766   \n",
       "2016-01-15 02:00:00                            6.197377   \n",
       "2016-01-15 03:00:00                            6.203177   \n",
       "2016-01-15 04:00:00                            6.198826   \n",
       "\n",
       "                     rougher.input.floatbank11_sulfate  \\\n",
       "date                                                     \n",
       "2016-01-15 00:00:00                          11.836743   \n",
       "2016-01-15 01:00:00                          11.996163   \n",
       "2016-01-15 02:00:00                          11.920305   \n",
       "2016-01-15 03:00:00                          11.692450   \n",
       "2016-01-15 04:00:00                          10.960521   \n",
       "\n",
       "                     rougher.input.floatbank11_xanthate  \\\n",
       "date                                                      \n",
       "2016-01-15 00:00:00                            6.005818   \n",
       "2016-01-15 01:00:00                            6.012594   \n",
       "2016-01-15 02:00:00                            6.204633   \n",
       "2016-01-15 03:00:00                            6.196578   \n",
       "2016-01-15 04:00:00                            6.194897   \n",
       "\n",
       "                     rougher.state.floatbank10_a_air  \\\n",
       "date                                                   \n",
       "2016-01-15 00:00:00                       999.706909   \n",
       "2016-01-15 01:00:00                      1000.286398   \n",
       "2016-01-15 02:00:00                       999.719565   \n",
       "2016-01-15 03:00:00                       999.814770   \n",
       "2016-01-15 04:00:00                       999.678690   \n",
       "\n",
       "                     rougher.state.floatbank10_a_level  \\\n",
       "date                                                     \n",
       "2016-01-15 00:00:00                        -404.066986   \n",
       "2016-01-15 01:00:00                        -400.065196   \n",
       "2016-01-15 02:00:00                        -400.074028   \n",
       "2016-01-15 03:00:00                        -400.200179   \n",
       "2016-01-15 04:00:00                        -399.752729   \n",
       "\n",
       "                     rougher.state.floatbank10_b_air  \\\n",
       "date                                                   \n",
       "2016-01-15 00:00:00                      1603.011353   \n",
       "2016-01-15 01:00:00                      1600.754587   \n",
       "2016-01-15 02:00:00                      1599.337330   \n",
       "2016-01-15 03:00:00                      1600.059442   \n",
       "2016-01-15 04:00:00                      1600.208824   \n",
       "\n",
       "                     rougher.state.floatbank10_b_level  \\\n",
       "date                                                     \n",
       "2016-01-15 00:00:00                        -434.715027   \n",
       "2016-01-15 01:00:00                        -449.953435   \n",
       "2016-01-15 02:00:00                        -450.008530   \n",
       "2016-01-15 03:00:00                        -450.619948   \n",
       "2016-01-15 04:00:00                        -449.599614   \n",
       "\n",
       "                     rougher.state.floatbank10_c_air  \\\n",
       "date                                                   \n",
       "2016-01-15 00:00:00                      1602.375000   \n",
       "2016-01-15 01:00:00                      1600.479580   \n",
       "2016-01-15 02:00:00                      1599.672797   \n",
       "2016-01-15 03:00:00                      1600.012842   \n",
       "2016-01-15 04:00:00                      1600.357732   \n",
       "\n",
       "                     rougher.state.floatbank10_c_level  \\\n",
       "date                                                     \n",
       "2016-01-15 00:00:00                        -442.204468   \n",
       "2016-01-15 01:00:00                        -449.830646   \n",
       "2016-01-15 02:00:00                        -449.954491   \n",
       "2016-01-15 03:00:00                        -449.910497   \n",
       "2016-01-15 04:00:00                        -450.034364   \n",
       "\n",
       "                     rougher.state.floatbank10_d_air  \\\n",
       "date                                                   \n",
       "2016-01-15 00:00:00                      1598.937256   \n",
       "2016-01-15 01:00:00                      1600.527589   \n",
       "2016-01-15 02:00:00                      1599.849325   \n",
       "2016-01-15 03:00:00                      1597.725177   \n",
       "2016-01-15 04:00:00                      1599.759049   \n",
       "\n",
       "                     rougher.state.floatbank10_d_level  \\\n",
       "date                                                     \n",
       "2016-01-15 00:00:00                        -451.294128   \n",
       "2016-01-15 01:00:00                        -449.953649   \n",
       "2016-01-15 02:00:00                        -449.954185   \n",
       "2016-01-15 03:00:00                        -450.130127   \n",
       "2016-01-15 04:00:00                        -449.909799   \n",
       "\n",
       "                     rougher.state.floatbank10_e_air  \\\n",
       "date                                                   \n",
       "2016-01-15 00:00:00                      1404.472046   \n",
       "2016-01-15 01:00:00                      1399.227084   \n",
       "2016-01-15 02:00:00                      1399.180945   \n",
       "2016-01-15 03:00:00                      1400.943157   \n",
       "2016-01-15 04:00:00                      1401.560902   \n",
       "\n",
       "                     rougher.state.floatbank10_e_level  \\\n",
       "date                                                     \n",
       "2016-01-15 00:00:00                        -455.462982   \n",
       "2016-01-15 01:00:00                        -450.869848   \n",
       "2016-01-15 02:00:00                        -449.937588   \n",
       "2016-01-15 03:00:00                        -450.030142   \n",
       "2016-01-15 04:00:00                        -448.877187   \n",
       "\n",
       "                     rougher.state.floatbank10_f_air  \\\n",
       "date                                                   \n",
       "2016-01-15 00:00:00                      1416.354980   \n",
       "2016-01-15 01:00:00                      1399.719514   \n",
       "2016-01-15 02:00:00                      1400.316682   \n",
       "2016-01-15 03:00:00                      1400.234743   \n",
       "2016-01-15 04:00:00                      1401.160227   \n",
       "\n",
       "                     rougher.state.floatbank10_f_level  \\\n",
       "date                                                     \n",
       "2016-01-15 00:00:00                        -451.939636   \n",
       "2016-01-15 01:00:00                        -450.119001   \n",
       "2016-01-15 02:00:00                        -450.527147   \n",
       "2016-01-15 03:00:00                        -449.790835   \n",
       "2016-01-15 04:00:00                        -450.407128   \n",
       "\n",
       "                     secondary_cleaner.state.floatbank2_a_air  \\\n",
       "date                                                            \n",
       "2016-01-15 00:00:00                                 25.853109   \n",
       "2016-01-15 01:00:00                                 25.880539   \n",
       "2016-01-15 02:00:00                                 26.005245   \n",
       "2016-01-15 03:00:00                                 25.942508   \n",
       "2016-01-15 04:00:00                                 26.024787   \n",
       "\n",
       "                     secondary_cleaner.state.floatbank2_a_level  \\\n",
       "date                                                              \n",
       "2016-01-15 00:00:00                                 -498.526489   \n",
       "2016-01-15 01:00:00                                 -499.989656   \n",
       "2016-01-15 02:00:00                                 -499.929616   \n",
       "2016-01-15 03:00:00                                 -499.176749   \n",
       "2016-01-15 04:00:00                                 -500.279091   \n",
       "\n",
       "                     secondary_cleaner.state.floatbank2_b_air  \\\n",
       "date                                                            \n",
       "2016-01-15 00:00:00                                 23.893660   \n",
       "2016-01-15 01:00:00                                 23.889530   \n",
       "2016-01-15 02:00:00                                 23.886657   \n",
       "2016-01-15 03:00:00                                 23.955516   \n",
       "2016-01-15 04:00:00                                 23.955345   \n",
       "\n",
       "                     secondary_cleaner.state.floatbank2_b_level  \\\n",
       "date                                                              \n",
       "2016-01-15 00:00:00                                 -501.406281   \n",
       "2016-01-15 01:00:00                                 -500.372428   \n",
       "2016-01-15 02:00:00                                 -499.951928   \n",
       "2016-01-15 03:00:00                                 -499.848796   \n",
       "2016-01-15 04:00:00                                 -500.593614   \n",
       "\n",
       "                     secondary_cleaner.state.floatbank3_a_air  \\\n",
       "date                                                            \n",
       "2016-01-15 00:00:00                                 23.961798   \n",
       "2016-01-15 01:00:00                                 23.970550   \n",
       "2016-01-15 02:00:00                                 23.913535   \n",
       "2016-01-15 03:00:00                                 23.966838   \n",
       "2016-01-15 04:00:00                                 23.985703   \n",
       "\n",
       "                     secondary_cleaner.state.floatbank3_a_level  \\\n",
       "date                                                              \n",
       "2016-01-15 00:00:00                                 -495.262817   \n",
       "2016-01-15 01:00:00                                 -500.085473   \n",
       "2016-01-15 02:00:00                                 -499.442343   \n",
       "2016-01-15 03:00:00                                 -500.008812   \n",
       "2016-01-15 04:00:00                                 -500.083811   \n",
       "\n",
       "                     secondary_cleaner.state.floatbank3_b_air  \\\n",
       "date                                                            \n",
       "2016-01-15 00:00:00                                 21.940409   \n",
       "2016-01-15 01:00:00                                 22.085714   \n",
       "2016-01-15 02:00:00                                 23.957717   \n",
       "2016-01-15 03:00:00                                 23.954443   \n",
       "2016-01-15 04:00:00                                 23.958945   \n",
       "\n",
       "                     secondary_cleaner.state.floatbank3_b_level  \\\n",
       "date                                                              \n",
       "2016-01-15 00:00:00                                 -499.340973   \n",
       "2016-01-15 01:00:00                                 -499.446897   \n",
       "2016-01-15 02:00:00                                 -499.901982   \n",
       "2016-01-15 03:00:00                                 -499.944710   \n",
       "2016-01-15 04:00:00                                 -499.990309   \n",
       "\n",
       "                     secondary_cleaner.state.floatbank4_a_air  \\\n",
       "date                                                            \n",
       "2016-01-15 00:00:00                                 14.016835   \n",
       "2016-01-15 01:00:00                                 13.992281   \n",
       "2016-01-15 02:00:00                                 14.015015   \n",
       "2016-01-15 03:00:00                                 14.036510   \n",
       "2016-01-15 04:00:00                                 14.027298   \n",
       "\n",
       "                     secondary_cleaner.state.floatbank4_a_level  \\\n",
       "date                                                              \n",
       "2016-01-15 00:00:00                                 -502.488007   \n",
       "2016-01-15 01:00:00                                 -505.503262   \n",
       "2016-01-15 02:00:00                                 -502.520901   \n",
       "2016-01-15 03:00:00                                 -500.857308   \n",
       "2016-01-15 04:00:00                                 -499.838632   \n",
       "\n",
       "                     secondary_cleaner.state.floatbank4_b_air  \\\n",
       "date                                                            \n",
       "2016-01-15 00:00:00                                 12.099931   \n",
       "2016-01-15 01:00:00                                 11.950531   \n",
       "2016-01-15 02:00:00                                 11.912783   \n",
       "2016-01-15 03:00:00                                 11.999550   \n",
       "2016-01-15 04:00:00                                 11.953070   \n",
       "\n",
       "                     secondary_cleaner.state.floatbank4_b_level  \\\n",
       "date                                                              \n",
       "2016-01-15 00:00:00                                 -504.715942   \n",
       "2016-01-15 01:00:00                                 -501.331529   \n",
       "2016-01-15 02:00:00                                 -501.133383   \n",
       "2016-01-15 03:00:00                                 -501.193686   \n",
       "2016-01-15 04:00:00                                 -501.053894   \n",
       "\n",
       "                     secondary_cleaner.state.floatbank5_a_air  \\\n",
       "date                                                            \n",
       "2016-01-15 00:00:00                                  9.925633   \n",
       "2016-01-15 01:00:00                                 10.039245   \n",
       "2016-01-15 02:00:00                                 10.070913   \n",
       "2016-01-15 03:00:00                                  9.970366   \n",
       "2016-01-15 04:00:00                                  9.925709   \n",
       "\n",
       "                     secondary_cleaner.state.floatbank5_a_level  \\\n",
       "date                                                              \n",
       "2016-01-15 00:00:00                                 -498.310211   \n",
       "2016-01-15 01:00:00                                 -500.169983   \n",
       "2016-01-15 02:00:00                                 -500.129135   \n",
       "2016-01-15 03:00:00                                 -499.201640   \n",
       "2016-01-15 04:00:00                                 -501.686727   \n",
       "\n",
       "                     secondary_cleaner.state.floatbank5_b_air  \\\n",
       "date                                                            \n",
       "2016-01-15 00:00:00                                  8.079666   \n",
       "2016-01-15 01:00:00                                  7.984757   \n",
       "2016-01-15 02:00:00                                  8.013877   \n",
       "2016-01-15 03:00:00                                  7.977324   \n",
       "2016-01-15 04:00:00                                  7.894242   \n",
       "\n",
       "                     secondary_cleaner.state.floatbank5_b_level  \\\n",
       "date                                                              \n",
       "2016-01-15 00:00:00                                 -500.470978   \n",
       "2016-01-15 01:00:00                                 -500.582168   \n",
       "2016-01-15 02:00:00                                 -500.517572   \n",
       "2016-01-15 03:00:00                                 -500.255908   \n",
       "2016-01-15 04:00:00                                 -500.356035   \n",
       "\n",
       "                     secondary_cleaner.state.floatbank6_a_air  \\\n",
       "date                                                            \n",
       "2016-01-15 00:00:00                                 14.151341   \n",
       "2016-01-15 01:00:00                                 13.998353   \n",
       "2016-01-15 02:00:00                                 14.028663   \n",
       "2016-01-15 03:00:00                                 14.005551   \n",
       "2016-01-15 04:00:00                                 13.996647   \n",
       "\n",
       "                     secondary_cleaner.state.floatbank6_a_level  \n",
       "date                                                             \n",
       "2016-01-15 00:00:00                                 -605.841980  \n",
       "2016-01-15 01:00:00                                 -599.787184  \n",
       "2016-01-15 02:00:00                                 -601.427363  \n",
       "2016-01-15 03:00:00                                 -599.996129  \n",
       "2016-01-15 04:00:00                                 -601.496691  "
      ]
     },
     "metadata": {},
     "output_type": "display_data"
    },
    {
     "data": {
      "text/html": [
       "<div>\n",
       "<style scoped>\n",
       "    .dataframe tbody tr th:only-of-type {\n",
       "        vertical-align: middle;\n",
       "    }\n",
       "\n",
       "    .dataframe tbody tr th {\n",
       "        vertical-align: top;\n",
       "    }\n",
       "\n",
       "    .dataframe thead th {\n",
       "        text-align: right;\n",
       "    }\n",
       "</style>\n",
       "<table border=\"1\" class=\"dataframe\">\n",
       "  <thead>\n",
       "    <tr style=\"text-align: right;\">\n",
       "      <th></th>\n",
       "      <th>primary_cleaner.input.sulfate</th>\n",
       "      <th>primary_cleaner.input.depressant</th>\n",
       "      <th>primary_cleaner.input.feed_size</th>\n",
       "      <th>primary_cleaner.input.xanthate</th>\n",
       "      <th>primary_cleaner.state.floatbank8_a_air</th>\n",
       "      <th>primary_cleaner.state.floatbank8_a_level</th>\n",
       "      <th>primary_cleaner.state.floatbank8_b_air</th>\n",
       "      <th>primary_cleaner.state.floatbank8_b_level</th>\n",
       "      <th>primary_cleaner.state.floatbank8_c_air</th>\n",
       "      <th>primary_cleaner.state.floatbank8_c_level</th>\n",
       "      <th>primary_cleaner.state.floatbank8_d_air</th>\n",
       "      <th>primary_cleaner.state.floatbank8_d_level</th>\n",
       "      <th>rougher.input.feed_ag</th>\n",
       "      <th>rougher.input.feed_pb</th>\n",
       "      <th>rougher.input.feed_rate</th>\n",
       "      <th>rougher.input.feed_size</th>\n",
       "      <th>rougher.input.feed_sol</th>\n",
       "      <th>rougher.input.feed_au</th>\n",
       "      <th>rougher.input.floatbank10_sulfate</th>\n",
       "      <th>rougher.input.floatbank10_xanthate</th>\n",
       "      <th>rougher.input.floatbank11_sulfate</th>\n",
       "      <th>rougher.input.floatbank11_xanthate</th>\n",
       "      <th>rougher.state.floatbank10_a_air</th>\n",
       "      <th>rougher.state.floatbank10_a_level</th>\n",
       "      <th>rougher.state.floatbank10_b_air</th>\n",
       "      <th>rougher.state.floatbank10_b_level</th>\n",
       "      <th>rougher.state.floatbank10_c_air</th>\n",
       "      <th>rougher.state.floatbank10_c_level</th>\n",
       "      <th>rougher.state.floatbank10_d_air</th>\n",
       "      <th>rougher.state.floatbank10_d_level</th>\n",
       "      <th>rougher.state.floatbank10_e_air</th>\n",
       "      <th>rougher.state.floatbank10_e_level</th>\n",
       "      <th>rougher.state.floatbank10_f_air</th>\n",
       "      <th>rougher.state.floatbank10_f_level</th>\n",
       "      <th>secondary_cleaner.state.floatbank2_a_air</th>\n",
       "      <th>secondary_cleaner.state.floatbank2_a_level</th>\n",
       "      <th>secondary_cleaner.state.floatbank2_b_air</th>\n",
       "      <th>secondary_cleaner.state.floatbank2_b_level</th>\n",
       "      <th>secondary_cleaner.state.floatbank3_a_air</th>\n",
       "      <th>secondary_cleaner.state.floatbank3_a_level</th>\n",
       "      <th>secondary_cleaner.state.floatbank3_b_air</th>\n",
       "      <th>secondary_cleaner.state.floatbank3_b_level</th>\n",
       "      <th>secondary_cleaner.state.floatbank4_a_air</th>\n",
       "      <th>secondary_cleaner.state.floatbank4_a_level</th>\n",
       "      <th>secondary_cleaner.state.floatbank4_b_air</th>\n",
       "      <th>secondary_cleaner.state.floatbank4_b_level</th>\n",
       "      <th>secondary_cleaner.state.floatbank5_a_air</th>\n",
       "      <th>secondary_cleaner.state.floatbank5_a_level</th>\n",
       "      <th>secondary_cleaner.state.floatbank5_b_air</th>\n",
       "      <th>secondary_cleaner.state.floatbank5_b_level</th>\n",
       "      <th>secondary_cleaner.state.floatbank6_a_air</th>\n",
       "      <th>secondary_cleaner.state.floatbank6_a_level</th>\n",
       "    </tr>\n",
       "    <tr>\n",
       "      <th>date</th>\n",
       "      <th></th>\n",
       "      <th></th>\n",
       "      <th></th>\n",
       "      <th></th>\n",
       "      <th></th>\n",
       "      <th></th>\n",
       "      <th></th>\n",
       "      <th></th>\n",
       "      <th></th>\n",
       "      <th></th>\n",
       "      <th></th>\n",
       "      <th></th>\n",
       "      <th></th>\n",
       "      <th></th>\n",
       "      <th></th>\n",
       "      <th></th>\n",
       "      <th></th>\n",
       "      <th></th>\n",
       "      <th></th>\n",
       "      <th></th>\n",
       "      <th></th>\n",
       "      <th></th>\n",
       "      <th></th>\n",
       "      <th></th>\n",
       "      <th></th>\n",
       "      <th></th>\n",
       "      <th></th>\n",
       "      <th></th>\n",
       "      <th></th>\n",
       "      <th></th>\n",
       "      <th></th>\n",
       "      <th></th>\n",
       "      <th></th>\n",
       "      <th></th>\n",
       "      <th></th>\n",
       "      <th></th>\n",
       "      <th></th>\n",
       "      <th></th>\n",
       "      <th></th>\n",
       "      <th></th>\n",
       "      <th></th>\n",
       "      <th></th>\n",
       "      <th></th>\n",
       "      <th></th>\n",
       "      <th></th>\n",
       "      <th></th>\n",
       "      <th></th>\n",
       "      <th></th>\n",
       "      <th></th>\n",
       "      <th></th>\n",
       "      <th></th>\n",
       "      <th></th>\n",
       "    </tr>\n",
       "  </thead>\n",
       "  <tbody>\n",
       "    <tr>\n",
       "      <th>2016-09-01 00:59:59</th>\n",
       "      <td>210.800909</td>\n",
       "      <td>14.993118</td>\n",
       "      <td>8.080000</td>\n",
       "      <td>1.005021</td>\n",
       "      <td>1398.981301</td>\n",
       "      <td>-500.225577</td>\n",
       "      <td>1399.144926</td>\n",
       "      <td>-499.919735</td>\n",
       "      <td>1400.102998</td>\n",
       "      <td>-500.704369</td>\n",
       "      <td>1399.001695</td>\n",
       "      <td>-499.485144</td>\n",
       "      <td>13.128569</td>\n",
       "      <td>5.636710</td>\n",
       "      <td>489.793655</td>\n",
       "      <td>62.710452</td>\n",
       "      <td>42.022440</td>\n",
       "      <td>12.084103</td>\n",
       "      <td>16.922877</td>\n",
       "      <td>6.153479</td>\n",
       "      <td>16.867518</td>\n",
       "      <td>6.150709</td>\n",
       "      <td>1001.849317</td>\n",
       "      <td>-350.301265</td>\n",
       "      <td>1249.738612</td>\n",
       "      <td>-399.107531</td>\n",
       "      <td>1249.750520</td>\n",
       "      <td>-399.396730</td>\n",
       "      <td>1198.287855</td>\n",
       "      <td>-399.488594</td>\n",
       "      <td>999.472250</td>\n",
       "      <td>-399.530962</td>\n",
       "      <td>949.566189</td>\n",
       "      <td>-398.180807</td>\n",
       "      <td>24.938200</td>\n",
       "      <td>-500.490963</td>\n",
       "      <td>14.947607</td>\n",
       "      <td>-500.013837</td>\n",
       "      <td>20.018166</td>\n",
       "      <td>-450.395995</td>\n",
       "      <td>13.987058</td>\n",
       "      <td>-449.831513</td>\n",
       "      <td>12.023554</td>\n",
       "      <td>-497.795834</td>\n",
       "      <td>8.016656</td>\n",
       "      <td>-501.289139</td>\n",
       "      <td>7.946562</td>\n",
       "      <td>-432.317850</td>\n",
       "      <td>4.872511</td>\n",
       "      <td>-500.037437</td>\n",
       "      <td>26.705889</td>\n",
       "      <td>-499.709414</td>\n",
       "    </tr>\n",
       "    <tr>\n",
       "      <th>2016-09-01 01:59:59</th>\n",
       "      <td>215.392455</td>\n",
       "      <td>14.987471</td>\n",
       "      <td>8.080000</td>\n",
       "      <td>0.990469</td>\n",
       "      <td>1398.777912</td>\n",
       "      <td>-500.057435</td>\n",
       "      <td>1398.055362</td>\n",
       "      <td>-499.778182</td>\n",
       "      <td>1396.151033</td>\n",
       "      <td>-499.240168</td>\n",
       "      <td>1399.508091</td>\n",
       "      <td>-500.416324</td>\n",
       "      <td>13.036280</td>\n",
       "      <td>5.526065</td>\n",
       "      <td>490.104534</td>\n",
       "      <td>61.961163</td>\n",
       "      <td>41.187903</td>\n",
       "      <td>11.918977</td>\n",
       "      <td>17.002532</td>\n",
       "      <td>5.999043</td>\n",
       "      <td>16.996063</td>\n",
       "      <td>6.002315</td>\n",
       "      <td>998.690785</td>\n",
       "      <td>-350.425704</td>\n",
       "      <td>1248.395457</td>\n",
       "      <td>-399.946025</td>\n",
       "      <td>1249.514451</td>\n",
       "      <td>-399.630810</td>\n",
       "      <td>1200.506459</td>\n",
       "      <td>-399.942434</td>\n",
       "      <td>1000.002114</td>\n",
       "      <td>-399.491528</td>\n",
       "      <td>950.200009</td>\n",
       "      <td>-405.787514</td>\n",
       "      <td>24.923466</td>\n",
       "      <td>-499.813963</td>\n",
       "      <td>14.930873</td>\n",
       "      <td>-500.764452</td>\n",
       "      <td>19.988503</td>\n",
       "      <td>-450.114024</td>\n",
       "      <td>14.092981</td>\n",
       "      <td>-450.059163</td>\n",
       "      <td>12.058140</td>\n",
       "      <td>-498.695773</td>\n",
       "      <td>8.130979</td>\n",
       "      <td>-499.634209</td>\n",
       "      <td>7.958270</td>\n",
       "      <td>-525.839648</td>\n",
       "      <td>4.878850</td>\n",
       "      <td>-500.162375</td>\n",
       "      <td>25.019940</td>\n",
       "      <td>-499.819438</td>\n",
       "    </tr>\n",
       "    <tr>\n",
       "      <th>2016-09-01 02:59:59</th>\n",
       "      <td>215.259946</td>\n",
       "      <td>12.884934</td>\n",
       "      <td>7.786667</td>\n",
       "      <td>0.996043</td>\n",
       "      <td>1398.493666</td>\n",
       "      <td>-500.868360</td>\n",
       "      <td>1398.860436</td>\n",
       "      <td>-499.764529</td>\n",
       "      <td>1398.075709</td>\n",
       "      <td>-502.151509</td>\n",
       "      <td>1399.497088</td>\n",
       "      <td>-499.715479</td>\n",
       "      <td>13.138412</td>\n",
       "      <td>5.426561</td>\n",
       "      <td>489.617969</td>\n",
       "      <td>66.903807</td>\n",
       "      <td>42.546294</td>\n",
       "      <td>12.091332</td>\n",
       "      <td>16.992520</td>\n",
       "      <td>5.850632</td>\n",
       "      <td>16.982096</td>\n",
       "      <td>5.853594</td>\n",
       "      <td>998.516720</td>\n",
       "      <td>-349.783538</td>\n",
       "      <td>1247.440748</td>\n",
       "      <td>-400.264330</td>\n",
       "      <td>1248.207204</td>\n",
       "      <td>-401.074405</td>\n",
       "      <td>1199.770026</td>\n",
       "      <td>-400.790582</td>\n",
       "      <td>999.925519</td>\n",
       "      <td>-399.236999</td>\n",
       "      <td>950.320481</td>\n",
       "      <td>-400.864340</td>\n",
       "      <td>24.908732</td>\n",
       "      <td>-500.304035</td>\n",
       "      <td>14.996511</td>\n",
       "      <td>-500.993821</td>\n",
       "      <td>20.039689</td>\n",
       "      <td>-450.263164</td>\n",
       "      <td>14.077881</td>\n",
       "      <td>-449.660997</td>\n",
       "      <td>11.962366</td>\n",
       "      <td>-498.767484</td>\n",
       "      <td>8.096893</td>\n",
       "      <td>-500.827423</td>\n",
       "      <td>8.071056</td>\n",
       "      <td>-500.801673</td>\n",
       "      <td>4.905125</td>\n",
       "      <td>-499.828510</td>\n",
       "      <td>24.994862</td>\n",
       "      <td>-500.622559</td>\n",
       "    </tr>\n",
       "    <tr>\n",
       "      <th>2016-09-01 03:59:59</th>\n",
       "      <td>215.336236</td>\n",
       "      <td>12.006805</td>\n",
       "      <td>7.640000</td>\n",
       "      <td>0.863514</td>\n",
       "      <td>1399.618111</td>\n",
       "      <td>-498.863574</td>\n",
       "      <td>1397.440120</td>\n",
       "      <td>-499.211024</td>\n",
       "      <td>1400.129303</td>\n",
       "      <td>-498.355873</td>\n",
       "      <td>1401.065165</td>\n",
       "      <td>-501.038738</td>\n",
       "      <td>12.400507</td>\n",
       "      <td>5.114758</td>\n",
       "      <td>476.618130</td>\n",
       "      <td>59.865919</td>\n",
       "      <td>41.060195</td>\n",
       "      <td>12.181597</td>\n",
       "      <td>16.532144</td>\n",
       "      <td>5.801935</td>\n",
       "      <td>16.515277</td>\n",
       "      <td>5.803657</td>\n",
       "      <td>1000.276604</td>\n",
       "      <td>-350.172597</td>\n",
       "      <td>1251.322675</td>\n",
       "      <td>-398.655289</td>\n",
       "      <td>1250.493702</td>\n",
       "      <td>-399.746728</td>\n",
       "      <td>1199.398691</td>\n",
       "      <td>-397.503052</td>\n",
       "      <td>1001.930679</td>\n",
       "      <td>-400.437573</td>\n",
       "      <td>950.735324</td>\n",
       "      <td>-399.802986</td>\n",
       "      <td>24.893998</td>\n",
       "      <td>-499.382374</td>\n",
       "      <td>14.916674</td>\n",
       "      <td>-499.862299</td>\n",
       "      <td>20.031100</td>\n",
       "      <td>-449.372570</td>\n",
       "      <td>14.013968</td>\n",
       "      <td>-449.526900</td>\n",
       "      <td>12.033091</td>\n",
       "      <td>-498.350935</td>\n",
       "      <td>8.074946</td>\n",
       "      <td>-499.474407</td>\n",
       "      <td>7.897085</td>\n",
       "      <td>-500.868509</td>\n",
       "      <td>4.931400</td>\n",
       "      <td>-499.963623</td>\n",
       "      <td>24.948919</td>\n",
       "      <td>-498.709987</td>\n",
       "    </tr>\n",
       "    <tr>\n",
       "      <th>2016-09-01 04:59:59</th>\n",
       "      <td>199.099327</td>\n",
       "      <td>10.682530</td>\n",
       "      <td>7.530000</td>\n",
       "      <td>0.805575</td>\n",
       "      <td>1401.268123</td>\n",
       "      <td>-500.808305</td>\n",
       "      <td>1398.128818</td>\n",
       "      <td>-499.504543</td>\n",
       "      <td>1402.172226</td>\n",
       "      <td>-500.810606</td>\n",
       "      <td>1399.480508</td>\n",
       "      <td>-499.374053</td>\n",
       "      <td>11.327427</td>\n",
       "      <td>4.767383</td>\n",
       "      <td>488.248117</td>\n",
       "      <td>63.315324</td>\n",
       "      <td>41.269161</td>\n",
       "      <td>11.290425</td>\n",
       "      <td>13.607257</td>\n",
       "      <td>5.738081</td>\n",
       "      <td>13.650053</td>\n",
       "      <td>5.739634</td>\n",
       "      <td>996.541302</td>\n",
       "      <td>-350.562517</td>\n",
       "      <td>1304.658848</td>\n",
       "      <td>-399.511519</td>\n",
       "      <td>1306.455515</td>\n",
       "      <td>-399.050685</td>\n",
       "      <td>1248.699349</td>\n",
       "      <td>-400.876894</td>\n",
       "      <td>1058.839106</td>\n",
       "      <td>-398.988239</td>\n",
       "      <td>949.645313</td>\n",
       "      <td>-399.277632</td>\n",
       "      <td>24.886905</td>\n",
       "      <td>-499.357375</td>\n",
       "      <td>14.979233</td>\n",
       "      <td>-500.186804</td>\n",
       "      <td>19.962364</td>\n",
       "      <td>-450.638828</td>\n",
       "      <td>14.009245</td>\n",
       "      <td>-450.022259</td>\n",
       "      <td>12.025367</td>\n",
       "      <td>-500.786497</td>\n",
       "      <td>8.054678</td>\n",
       "      <td>-500.397500</td>\n",
       "      <td>8.107890</td>\n",
       "      <td>-509.526725</td>\n",
       "      <td>4.957674</td>\n",
       "      <td>-500.360026</td>\n",
       "      <td>25.003331</td>\n",
       "      <td>-500.856333</td>\n",
       "    </tr>\n",
       "  </tbody>\n",
       "</table>\n",
       "</div>"
      ],
      "text/plain": [
       "                     primary_cleaner.input.sulfate  \\\n",
       "date                                                 \n",
       "2016-09-01 00:59:59                     210.800909   \n",
       "2016-09-01 01:59:59                     215.392455   \n",
       "2016-09-01 02:59:59                     215.259946   \n",
       "2016-09-01 03:59:59                     215.336236   \n",
       "2016-09-01 04:59:59                     199.099327   \n",
       "\n",
       "                     primary_cleaner.input.depressant  \\\n",
       "date                                                    \n",
       "2016-09-01 00:59:59                         14.993118   \n",
       "2016-09-01 01:59:59                         14.987471   \n",
       "2016-09-01 02:59:59                         12.884934   \n",
       "2016-09-01 03:59:59                         12.006805   \n",
       "2016-09-01 04:59:59                         10.682530   \n",
       "\n",
       "                     primary_cleaner.input.feed_size  \\\n",
       "date                                                   \n",
       "2016-09-01 00:59:59                         8.080000   \n",
       "2016-09-01 01:59:59                         8.080000   \n",
       "2016-09-01 02:59:59                         7.786667   \n",
       "2016-09-01 03:59:59                         7.640000   \n",
       "2016-09-01 04:59:59                         7.530000   \n",
       "\n",
       "                     primary_cleaner.input.xanthate  \\\n",
       "date                                                  \n",
       "2016-09-01 00:59:59                        1.005021   \n",
       "2016-09-01 01:59:59                        0.990469   \n",
       "2016-09-01 02:59:59                        0.996043   \n",
       "2016-09-01 03:59:59                        0.863514   \n",
       "2016-09-01 04:59:59                        0.805575   \n",
       "\n",
       "                     primary_cleaner.state.floatbank8_a_air  \\\n",
       "date                                                          \n",
       "2016-09-01 00:59:59                             1398.981301   \n",
       "2016-09-01 01:59:59                             1398.777912   \n",
       "2016-09-01 02:59:59                             1398.493666   \n",
       "2016-09-01 03:59:59                             1399.618111   \n",
       "2016-09-01 04:59:59                             1401.268123   \n",
       "\n",
       "                     primary_cleaner.state.floatbank8_a_level  \\\n",
       "date                                                            \n",
       "2016-09-01 00:59:59                               -500.225577   \n",
       "2016-09-01 01:59:59                               -500.057435   \n",
       "2016-09-01 02:59:59                               -500.868360   \n",
       "2016-09-01 03:59:59                               -498.863574   \n",
       "2016-09-01 04:59:59                               -500.808305   \n",
       "\n",
       "                     primary_cleaner.state.floatbank8_b_air  \\\n",
       "date                                                          \n",
       "2016-09-01 00:59:59                             1399.144926   \n",
       "2016-09-01 01:59:59                             1398.055362   \n",
       "2016-09-01 02:59:59                             1398.860436   \n",
       "2016-09-01 03:59:59                             1397.440120   \n",
       "2016-09-01 04:59:59                             1398.128818   \n",
       "\n",
       "                     primary_cleaner.state.floatbank8_b_level  \\\n",
       "date                                                            \n",
       "2016-09-01 00:59:59                               -499.919735   \n",
       "2016-09-01 01:59:59                               -499.778182   \n",
       "2016-09-01 02:59:59                               -499.764529   \n",
       "2016-09-01 03:59:59                               -499.211024   \n",
       "2016-09-01 04:59:59                               -499.504543   \n",
       "\n",
       "                     primary_cleaner.state.floatbank8_c_air  \\\n",
       "date                                                          \n",
       "2016-09-01 00:59:59                             1400.102998   \n",
       "2016-09-01 01:59:59                             1396.151033   \n",
       "2016-09-01 02:59:59                             1398.075709   \n",
       "2016-09-01 03:59:59                             1400.129303   \n",
       "2016-09-01 04:59:59                             1402.172226   \n",
       "\n",
       "                     primary_cleaner.state.floatbank8_c_level  \\\n",
       "date                                                            \n",
       "2016-09-01 00:59:59                               -500.704369   \n",
       "2016-09-01 01:59:59                               -499.240168   \n",
       "2016-09-01 02:59:59                               -502.151509   \n",
       "2016-09-01 03:59:59                               -498.355873   \n",
       "2016-09-01 04:59:59                               -500.810606   \n",
       "\n",
       "                     primary_cleaner.state.floatbank8_d_air  \\\n",
       "date                                                          \n",
       "2016-09-01 00:59:59                             1399.001695   \n",
       "2016-09-01 01:59:59                             1399.508091   \n",
       "2016-09-01 02:59:59                             1399.497088   \n",
       "2016-09-01 03:59:59                             1401.065165   \n",
       "2016-09-01 04:59:59                             1399.480508   \n",
       "\n",
       "                     primary_cleaner.state.floatbank8_d_level  \\\n",
       "date                                                            \n",
       "2016-09-01 00:59:59                               -499.485144   \n",
       "2016-09-01 01:59:59                               -500.416324   \n",
       "2016-09-01 02:59:59                               -499.715479   \n",
       "2016-09-01 03:59:59                               -501.038738   \n",
       "2016-09-01 04:59:59                               -499.374053   \n",
       "\n",
       "                     rougher.input.feed_ag  rougher.input.feed_pb  \\\n",
       "date                                                                \n",
       "2016-09-01 00:59:59              13.128569               5.636710   \n",
       "2016-09-01 01:59:59              13.036280               5.526065   \n",
       "2016-09-01 02:59:59              13.138412               5.426561   \n",
       "2016-09-01 03:59:59              12.400507               5.114758   \n",
       "2016-09-01 04:59:59              11.327427               4.767383   \n",
       "\n",
       "                     rougher.input.feed_rate  rougher.input.feed_size  \\\n",
       "date                                                                    \n",
       "2016-09-01 00:59:59               489.793655                62.710452   \n",
       "2016-09-01 01:59:59               490.104534                61.961163   \n",
       "2016-09-01 02:59:59               489.617969                66.903807   \n",
       "2016-09-01 03:59:59               476.618130                59.865919   \n",
       "2016-09-01 04:59:59               488.248117                63.315324   \n",
       "\n",
       "                     rougher.input.feed_sol  rougher.input.feed_au  \\\n",
       "date                                                                 \n",
       "2016-09-01 00:59:59               42.022440              12.084103   \n",
       "2016-09-01 01:59:59               41.187903              11.918977   \n",
       "2016-09-01 02:59:59               42.546294              12.091332   \n",
       "2016-09-01 03:59:59               41.060195              12.181597   \n",
       "2016-09-01 04:59:59               41.269161              11.290425   \n",
       "\n",
       "                     rougher.input.floatbank10_sulfate  \\\n",
       "date                                                     \n",
       "2016-09-01 00:59:59                          16.922877   \n",
       "2016-09-01 01:59:59                          17.002532   \n",
       "2016-09-01 02:59:59                          16.992520   \n",
       "2016-09-01 03:59:59                          16.532144   \n",
       "2016-09-01 04:59:59                          13.607257   \n",
       "\n",
       "                     rougher.input.floatbank10_xanthate  \\\n",
       "date                                                      \n",
       "2016-09-01 00:59:59                            6.153479   \n",
       "2016-09-01 01:59:59                            5.999043   \n",
       "2016-09-01 02:59:59                            5.850632   \n",
       "2016-09-01 03:59:59                            5.801935   \n",
       "2016-09-01 04:59:59                            5.738081   \n",
       "\n",
       "                     rougher.input.floatbank11_sulfate  \\\n",
       "date                                                     \n",
       "2016-09-01 00:59:59                          16.867518   \n",
       "2016-09-01 01:59:59                          16.996063   \n",
       "2016-09-01 02:59:59                          16.982096   \n",
       "2016-09-01 03:59:59                          16.515277   \n",
       "2016-09-01 04:59:59                          13.650053   \n",
       "\n",
       "                     rougher.input.floatbank11_xanthate  \\\n",
       "date                                                      \n",
       "2016-09-01 00:59:59                            6.150709   \n",
       "2016-09-01 01:59:59                            6.002315   \n",
       "2016-09-01 02:59:59                            5.853594   \n",
       "2016-09-01 03:59:59                            5.803657   \n",
       "2016-09-01 04:59:59                            5.739634   \n",
       "\n",
       "                     rougher.state.floatbank10_a_air  \\\n",
       "date                                                   \n",
       "2016-09-01 00:59:59                      1001.849317   \n",
       "2016-09-01 01:59:59                       998.690785   \n",
       "2016-09-01 02:59:59                       998.516720   \n",
       "2016-09-01 03:59:59                      1000.276604   \n",
       "2016-09-01 04:59:59                       996.541302   \n",
       "\n",
       "                     rougher.state.floatbank10_a_level  \\\n",
       "date                                                     \n",
       "2016-09-01 00:59:59                        -350.301265   \n",
       "2016-09-01 01:59:59                        -350.425704   \n",
       "2016-09-01 02:59:59                        -349.783538   \n",
       "2016-09-01 03:59:59                        -350.172597   \n",
       "2016-09-01 04:59:59                        -350.562517   \n",
       "\n",
       "                     rougher.state.floatbank10_b_air  \\\n",
       "date                                                   \n",
       "2016-09-01 00:59:59                      1249.738612   \n",
       "2016-09-01 01:59:59                      1248.395457   \n",
       "2016-09-01 02:59:59                      1247.440748   \n",
       "2016-09-01 03:59:59                      1251.322675   \n",
       "2016-09-01 04:59:59                      1304.658848   \n",
       "\n",
       "                     rougher.state.floatbank10_b_level  \\\n",
       "date                                                     \n",
       "2016-09-01 00:59:59                        -399.107531   \n",
       "2016-09-01 01:59:59                        -399.946025   \n",
       "2016-09-01 02:59:59                        -400.264330   \n",
       "2016-09-01 03:59:59                        -398.655289   \n",
       "2016-09-01 04:59:59                        -399.511519   \n",
       "\n",
       "                     rougher.state.floatbank10_c_air  \\\n",
       "date                                                   \n",
       "2016-09-01 00:59:59                      1249.750520   \n",
       "2016-09-01 01:59:59                      1249.514451   \n",
       "2016-09-01 02:59:59                      1248.207204   \n",
       "2016-09-01 03:59:59                      1250.493702   \n",
       "2016-09-01 04:59:59                      1306.455515   \n",
       "\n",
       "                     rougher.state.floatbank10_c_level  \\\n",
       "date                                                     \n",
       "2016-09-01 00:59:59                        -399.396730   \n",
       "2016-09-01 01:59:59                        -399.630810   \n",
       "2016-09-01 02:59:59                        -401.074405   \n",
       "2016-09-01 03:59:59                        -399.746728   \n",
       "2016-09-01 04:59:59                        -399.050685   \n",
       "\n",
       "                     rougher.state.floatbank10_d_air  \\\n",
       "date                                                   \n",
       "2016-09-01 00:59:59                      1198.287855   \n",
       "2016-09-01 01:59:59                      1200.506459   \n",
       "2016-09-01 02:59:59                      1199.770026   \n",
       "2016-09-01 03:59:59                      1199.398691   \n",
       "2016-09-01 04:59:59                      1248.699349   \n",
       "\n",
       "                     rougher.state.floatbank10_d_level  \\\n",
       "date                                                     \n",
       "2016-09-01 00:59:59                        -399.488594   \n",
       "2016-09-01 01:59:59                        -399.942434   \n",
       "2016-09-01 02:59:59                        -400.790582   \n",
       "2016-09-01 03:59:59                        -397.503052   \n",
       "2016-09-01 04:59:59                        -400.876894   \n",
       "\n",
       "                     rougher.state.floatbank10_e_air  \\\n",
       "date                                                   \n",
       "2016-09-01 00:59:59                       999.472250   \n",
       "2016-09-01 01:59:59                      1000.002114   \n",
       "2016-09-01 02:59:59                       999.925519   \n",
       "2016-09-01 03:59:59                      1001.930679   \n",
       "2016-09-01 04:59:59                      1058.839106   \n",
       "\n",
       "                     rougher.state.floatbank10_e_level  \\\n",
       "date                                                     \n",
       "2016-09-01 00:59:59                        -399.530962   \n",
       "2016-09-01 01:59:59                        -399.491528   \n",
       "2016-09-01 02:59:59                        -399.236999   \n",
       "2016-09-01 03:59:59                        -400.437573   \n",
       "2016-09-01 04:59:59                        -398.988239   \n",
       "\n",
       "                     rougher.state.floatbank10_f_air  \\\n",
       "date                                                   \n",
       "2016-09-01 00:59:59                       949.566189   \n",
       "2016-09-01 01:59:59                       950.200009   \n",
       "2016-09-01 02:59:59                       950.320481   \n",
       "2016-09-01 03:59:59                       950.735324   \n",
       "2016-09-01 04:59:59                       949.645313   \n",
       "\n",
       "                     rougher.state.floatbank10_f_level  \\\n",
       "date                                                     \n",
       "2016-09-01 00:59:59                        -398.180807   \n",
       "2016-09-01 01:59:59                        -405.787514   \n",
       "2016-09-01 02:59:59                        -400.864340   \n",
       "2016-09-01 03:59:59                        -399.802986   \n",
       "2016-09-01 04:59:59                        -399.277632   \n",
       "\n",
       "                     secondary_cleaner.state.floatbank2_a_air  \\\n",
       "date                                                            \n",
       "2016-09-01 00:59:59                                 24.938200   \n",
       "2016-09-01 01:59:59                                 24.923466   \n",
       "2016-09-01 02:59:59                                 24.908732   \n",
       "2016-09-01 03:59:59                                 24.893998   \n",
       "2016-09-01 04:59:59                                 24.886905   \n",
       "\n",
       "                     secondary_cleaner.state.floatbank2_a_level  \\\n",
       "date                                                              \n",
       "2016-09-01 00:59:59                                 -500.490963   \n",
       "2016-09-01 01:59:59                                 -499.813963   \n",
       "2016-09-01 02:59:59                                 -500.304035   \n",
       "2016-09-01 03:59:59                                 -499.382374   \n",
       "2016-09-01 04:59:59                                 -499.357375   \n",
       "\n",
       "                     secondary_cleaner.state.floatbank2_b_air  \\\n",
       "date                                                            \n",
       "2016-09-01 00:59:59                                 14.947607   \n",
       "2016-09-01 01:59:59                                 14.930873   \n",
       "2016-09-01 02:59:59                                 14.996511   \n",
       "2016-09-01 03:59:59                                 14.916674   \n",
       "2016-09-01 04:59:59                                 14.979233   \n",
       "\n",
       "                     secondary_cleaner.state.floatbank2_b_level  \\\n",
       "date                                                              \n",
       "2016-09-01 00:59:59                                 -500.013837   \n",
       "2016-09-01 01:59:59                                 -500.764452   \n",
       "2016-09-01 02:59:59                                 -500.993821   \n",
       "2016-09-01 03:59:59                                 -499.862299   \n",
       "2016-09-01 04:59:59                                 -500.186804   \n",
       "\n",
       "                     secondary_cleaner.state.floatbank3_a_air  \\\n",
       "date                                                            \n",
       "2016-09-01 00:59:59                                 20.018166   \n",
       "2016-09-01 01:59:59                                 19.988503   \n",
       "2016-09-01 02:59:59                                 20.039689   \n",
       "2016-09-01 03:59:59                                 20.031100   \n",
       "2016-09-01 04:59:59                                 19.962364   \n",
       "\n",
       "                     secondary_cleaner.state.floatbank3_a_level  \\\n",
       "date                                                              \n",
       "2016-09-01 00:59:59                                 -450.395995   \n",
       "2016-09-01 01:59:59                                 -450.114024   \n",
       "2016-09-01 02:59:59                                 -450.263164   \n",
       "2016-09-01 03:59:59                                 -449.372570   \n",
       "2016-09-01 04:59:59                                 -450.638828   \n",
       "\n",
       "                     secondary_cleaner.state.floatbank3_b_air  \\\n",
       "date                                                            \n",
       "2016-09-01 00:59:59                                 13.987058   \n",
       "2016-09-01 01:59:59                                 14.092981   \n",
       "2016-09-01 02:59:59                                 14.077881   \n",
       "2016-09-01 03:59:59                                 14.013968   \n",
       "2016-09-01 04:59:59                                 14.009245   \n",
       "\n",
       "                     secondary_cleaner.state.floatbank3_b_level  \\\n",
       "date                                                              \n",
       "2016-09-01 00:59:59                                 -449.831513   \n",
       "2016-09-01 01:59:59                                 -450.059163   \n",
       "2016-09-01 02:59:59                                 -449.660997   \n",
       "2016-09-01 03:59:59                                 -449.526900   \n",
       "2016-09-01 04:59:59                                 -450.022259   \n",
       "\n",
       "                     secondary_cleaner.state.floatbank4_a_air  \\\n",
       "date                                                            \n",
       "2016-09-01 00:59:59                                 12.023554   \n",
       "2016-09-01 01:59:59                                 12.058140   \n",
       "2016-09-01 02:59:59                                 11.962366   \n",
       "2016-09-01 03:59:59                                 12.033091   \n",
       "2016-09-01 04:59:59                                 12.025367   \n",
       "\n",
       "                     secondary_cleaner.state.floatbank4_a_level  \\\n",
       "date                                                              \n",
       "2016-09-01 00:59:59                                 -497.795834   \n",
       "2016-09-01 01:59:59                                 -498.695773   \n",
       "2016-09-01 02:59:59                                 -498.767484   \n",
       "2016-09-01 03:59:59                                 -498.350935   \n",
       "2016-09-01 04:59:59                                 -500.786497   \n",
       "\n",
       "                     secondary_cleaner.state.floatbank4_b_air  \\\n",
       "date                                                            \n",
       "2016-09-01 00:59:59                                  8.016656   \n",
       "2016-09-01 01:59:59                                  8.130979   \n",
       "2016-09-01 02:59:59                                  8.096893   \n",
       "2016-09-01 03:59:59                                  8.074946   \n",
       "2016-09-01 04:59:59                                  8.054678   \n",
       "\n",
       "                     secondary_cleaner.state.floatbank4_b_level  \\\n",
       "date                                                              \n",
       "2016-09-01 00:59:59                                 -501.289139   \n",
       "2016-09-01 01:59:59                                 -499.634209   \n",
       "2016-09-01 02:59:59                                 -500.827423   \n",
       "2016-09-01 03:59:59                                 -499.474407   \n",
       "2016-09-01 04:59:59                                 -500.397500   \n",
       "\n",
       "                     secondary_cleaner.state.floatbank5_a_air  \\\n",
       "date                                                            \n",
       "2016-09-01 00:59:59                                  7.946562   \n",
       "2016-09-01 01:59:59                                  7.958270   \n",
       "2016-09-01 02:59:59                                  8.071056   \n",
       "2016-09-01 03:59:59                                  7.897085   \n",
       "2016-09-01 04:59:59                                  8.107890   \n",
       "\n",
       "                     secondary_cleaner.state.floatbank5_a_level  \\\n",
       "date                                                              \n",
       "2016-09-01 00:59:59                                 -432.317850   \n",
       "2016-09-01 01:59:59                                 -525.839648   \n",
       "2016-09-01 02:59:59                                 -500.801673   \n",
       "2016-09-01 03:59:59                                 -500.868509   \n",
       "2016-09-01 04:59:59                                 -509.526725   \n",
       "\n",
       "                     secondary_cleaner.state.floatbank5_b_air  \\\n",
       "date                                                            \n",
       "2016-09-01 00:59:59                                  4.872511   \n",
       "2016-09-01 01:59:59                                  4.878850   \n",
       "2016-09-01 02:59:59                                  4.905125   \n",
       "2016-09-01 03:59:59                                  4.931400   \n",
       "2016-09-01 04:59:59                                  4.957674   \n",
       "\n",
       "                     secondary_cleaner.state.floatbank5_b_level  \\\n",
       "date                                                              \n",
       "2016-09-01 00:59:59                                 -500.037437   \n",
       "2016-09-01 01:59:59                                 -500.162375   \n",
       "2016-09-01 02:59:59                                 -499.828510   \n",
       "2016-09-01 03:59:59                                 -499.963623   \n",
       "2016-09-01 04:59:59                                 -500.360026   \n",
       "\n",
       "                     secondary_cleaner.state.floatbank6_a_air  \\\n",
       "date                                                            \n",
       "2016-09-01 00:59:59                                 26.705889   \n",
       "2016-09-01 01:59:59                                 25.019940   \n",
       "2016-09-01 02:59:59                                 24.994862   \n",
       "2016-09-01 03:59:59                                 24.948919   \n",
       "2016-09-01 04:59:59                                 25.003331   \n",
       "\n",
       "                     secondary_cleaner.state.floatbank6_a_level  \n",
       "date                                                             \n",
       "2016-09-01 00:59:59                                 -499.709414  \n",
       "2016-09-01 01:59:59                                 -499.819438  \n",
       "2016-09-01 02:59:59                                 -500.622559  \n",
       "2016-09-01 03:59:59                                 -498.709987  \n",
       "2016-09-01 04:59:59                                 -500.856333  "
      ]
     },
     "metadata": {},
     "output_type": "display_data"
    },
    {
     "data": {
      "text/html": [
       "<div>\n",
       "<style scoped>\n",
       "    .dataframe tbody tr th:only-of-type {\n",
       "        vertical-align: middle;\n",
       "    }\n",
       "\n",
       "    .dataframe tbody tr th {\n",
       "        vertical-align: top;\n",
       "    }\n",
       "\n",
       "    .dataframe thead th {\n",
       "        text-align: right;\n",
       "    }\n",
       "</style>\n",
       "<table border=\"1\" class=\"dataframe\">\n",
       "  <thead>\n",
       "    <tr style=\"text-align: right;\">\n",
       "      <th></th>\n",
       "      <th>rougher.output.recovery</th>\n",
       "      <th>final.output.recovery</th>\n",
       "    </tr>\n",
       "    <tr>\n",
       "      <th>date</th>\n",
       "      <th></th>\n",
       "      <th></th>\n",
       "    </tr>\n",
       "  </thead>\n",
       "  <tbody>\n",
       "    <tr>\n",
       "      <th>2016-01-15 00:00:00</th>\n",
       "      <td>87.107763</td>\n",
       "      <td>70.541216</td>\n",
       "    </tr>\n",
       "    <tr>\n",
       "      <th>2016-01-15 01:00:00</th>\n",
       "      <td>86.843261</td>\n",
       "      <td>69.266198</td>\n",
       "    </tr>\n",
       "    <tr>\n",
       "      <th>2016-01-15 02:00:00</th>\n",
       "      <td>86.842308</td>\n",
       "      <td>68.116445</td>\n",
       "    </tr>\n",
       "    <tr>\n",
       "      <th>2016-01-15 03:00:00</th>\n",
       "      <td>87.226430</td>\n",
       "      <td>68.347543</td>\n",
       "    </tr>\n",
       "    <tr>\n",
       "      <th>2016-01-15 04:00:00</th>\n",
       "      <td>86.688794</td>\n",
       "      <td>66.927016</td>\n",
       "    </tr>\n",
       "  </tbody>\n",
       "</table>\n",
       "</div>"
      ],
      "text/plain": [
       "                     rougher.output.recovery  final.output.recovery\n",
       "date                                                               \n",
       "2016-01-15 00:00:00                87.107763              70.541216\n",
       "2016-01-15 01:00:00                86.843261              69.266198\n",
       "2016-01-15 02:00:00                86.842308              68.116445\n",
       "2016-01-15 03:00:00                87.226430              68.347543\n",
       "2016-01-15 04:00:00                86.688794              66.927016"
      ]
     },
     "metadata": {},
     "output_type": "display_data"
    },
    {
     "data": {
      "text/html": [
       "<div>\n",
       "<style scoped>\n",
       "    .dataframe tbody tr th:only-of-type {\n",
       "        vertical-align: middle;\n",
       "    }\n",
       "\n",
       "    .dataframe tbody tr th {\n",
       "        vertical-align: top;\n",
       "    }\n",
       "\n",
       "    .dataframe thead th {\n",
       "        text-align: right;\n",
       "    }\n",
       "</style>\n",
       "<table border=\"1\" class=\"dataframe\">\n",
       "  <thead>\n",
       "    <tr style=\"text-align: right;\">\n",
       "      <th></th>\n",
       "      <th>rougher.output.recovery</th>\n",
       "      <th>final.output.recovery</th>\n",
       "    </tr>\n",
       "    <tr>\n",
       "      <th>date</th>\n",
       "      <th></th>\n",
       "      <th></th>\n",
       "    </tr>\n",
       "  </thead>\n",
       "  <tbody>\n",
       "    <tr>\n",
       "      <th>2016-09-01 00:59:59</th>\n",
       "      <td>89.993421</td>\n",
       "      <td>70.273583</td>\n",
       "    </tr>\n",
       "    <tr>\n",
       "      <th>2016-09-01 01:59:59</th>\n",
       "      <td>88.089657</td>\n",
       "      <td>68.910432</td>\n",
       "    </tr>\n",
       "    <tr>\n",
       "      <th>2016-09-01 02:59:59</th>\n",
       "      <td>88.412756</td>\n",
       "      <td>68.143213</td>\n",
       "    </tr>\n",
       "    <tr>\n",
       "      <th>2016-09-01 03:59:59</th>\n",
       "      <td>87.360133</td>\n",
       "      <td>67.776393</td>\n",
       "    </tr>\n",
       "    <tr>\n",
       "      <th>2016-09-01 04:59:59</th>\n",
       "      <td>83.236367</td>\n",
       "      <td>61.467078</td>\n",
       "    </tr>\n",
       "  </tbody>\n",
       "</table>\n",
       "</div>"
      ],
      "text/plain": [
       "                     rougher.output.recovery  final.output.recovery\n",
       "date                                                               \n",
       "2016-09-01 00:59:59                89.993421              70.273583\n",
       "2016-09-01 01:59:59                88.089657              68.910432\n",
       "2016-09-01 02:59:59                88.412756              68.143213\n",
       "2016-09-01 03:59:59                87.360133              67.776393\n",
       "2016-09-01 04:59:59                83.236367              61.467078"
      ]
     },
     "metadata": {},
     "output_type": "display_data"
    }
   ],
   "source": [
    "pd.set_option('display.max_columns', 55)\n",
    "display(df_train.head())\n",
    "display(df_test.head())\n",
    "display(target_train.head())\n",
    "display(target_test.head())"
   ]
  },
  {
   "cell_type": "markdown",
   "metadata": {},
   "source": [
    "## Анализ данных"
   ]
  },
  {
   "cell_type": "markdown",
   "metadata": {},
   "source": [
    "### Анализ концентрации металлов на разных этапах очистки\n",
    "Посмотрим в исходных данных, как меняется концентрация металлов (Au, Ag, Pb) на различных этапах очистки. \n",
    "Для начала заменим пропуски в выборке аналогично тому как сделали на тестовой и обучающей выборках"
   ]
  },
  {
   "cell_type": "code",
   "execution_count": 19,
   "metadata": {
    "scrolled": false
   },
   "outputs": [
    {
     "data": {
      "text/plain": [
       "final.output.concentrate_ag                   0\n",
       "final.output.concentrate_pb                   0\n",
       "final.output.concentrate_sol                  0\n",
       "final.output.concentrate_au                   0\n",
       "final.output.recovery                         0\n",
       "                                             ..\n",
       "secondary_cleaner.state.floatbank5_a_level    0\n",
       "secondary_cleaner.state.floatbank5_b_air      0\n",
       "secondary_cleaner.state.floatbank5_b_level    0\n",
       "secondary_cleaner.state.floatbank6_a_air      0\n",
       "secondary_cleaner.state.floatbank6_a_level    0\n",
       "Length: 86, dtype: int64"
      ]
     },
     "execution_count": 19,
     "metadata": {},
     "output_type": "execute_result"
    }
   ],
   "source": [
    "df_full= df_full.ffill().bfill()\n",
    "df_full.isna().sum() # проверим оставшиеся нулевые значения"
   ]
  },
  {
   "cell_type": "markdown",
   "metadata": {},
   "source": [
    "Создадим переменые концентраций металлов на каждом этапе очистки"
   ]
  },
  {
   "cell_type": "code",
   "execution_count": 20,
   "metadata": {},
   "outputs": [],
   "source": [
    "rougher_input = ['rougher.input.feed_ag','rougher.input.feed_pb','rougher.input.feed_au','rougher.input.feed_sol']\n",
    "rougher_output = ['rougher.output.concentrate_ag','rougher.output.concentrate_pb','rougher.output.concentrate_au','rougher.output.concentrate_sol']\n",
    "primary_cleaner = ['primary_cleaner.output.concentrate_ag','primary_cleaner.output.concentrate_pb','primary_cleaner.output.concentrate_au','primary_cleaner.output.concentrate_sol']\n",
    "final_output = ['final.output.concentrate_ag','final.output.concentrate_pb','final.output.concentrate_au','final.output.concentrate_sol']\n",
    "name = ['Серебро','Свинец','Золото']"
   ]
  },
  {
   "cell_type": "markdown",
   "metadata": {},
   "source": [
    "Оценим значения в переменных"
   ]
  },
  {
   "cell_type": "code",
   "execution_count": 21,
   "metadata": {
    "scrolled": true
   },
   "outputs": [
    {
     "name": "stdout",
     "output_type": "stream",
     "text": [
      "Серебро\n",
      "count    19439.000000\n",
      "mean         8.794927\n",
      "std          1.936847\n",
      "min          0.010000\n",
      "25%          7.237967\n",
      "50%          8.593574\n",
      "75%         10.213771\n",
      "max         14.596026\n",
      "Name: rougher.input.feed_ag, dtype: float64\n",
      "count    19439.000000\n",
      "mean        11.994759\n",
      "std          2.733862\n",
      "min          0.000000\n",
      "25%         10.628337\n",
      "50%         12.098115\n",
      "75%         13.736996\n",
      "max         24.480271\n",
      "Name: rougher.output.concentrate_ag, dtype: float64\n",
      "count    19439.000000\n",
      "mean         8.442408\n",
      "std          2.054465\n",
      "min          0.000000\n",
      "25%          7.263288\n",
      "50%          8.507298\n",
      "75%          9.809001\n",
      "max         16.081632\n",
      "Name: primary_cleaner.output.concentrate_ag, dtype: float64\n",
      "count    19439.000000\n",
      "mean         5.168387\n",
      "std          1.372362\n",
      "min          0.000000\n",
      "25%          4.251000\n",
      "50%          5.066039\n",
      "75%          5.895401\n",
      "max         16.001945\n",
      "Name: final.output.concentrate_ag, dtype: float64\n",
      "---------------------------------------------\n",
      "Свинец\n",
      "count    19439.000000\n",
      "mean         3.585096\n",
      "std          1.062972\n",
      "min          0.010000\n",
      "25%          2.872178\n",
      "50%          3.528235\n",
      "75%          4.241005\n",
      "max          7.142594\n",
      "Name: rougher.input.feed_pb, dtype: float64\n",
      "count    19439.000000\n",
      "mean         7.606272\n",
      "std          1.796757\n",
      "min          0.000000\n",
      "25%          6.725987\n",
      "50%          7.742580\n",
      "75%          8.565199\n",
      "max         13.617072\n",
      "Name: rougher.output.concentrate_pb, dtype: float64\n",
      "count    19439.000000\n",
      "mean         9.810317\n",
      "std          2.572253\n",
      "min          0.000000\n",
      "25%          8.676500\n",
      "50%         10.142270\n",
      "75%         11.416298\n",
      "max         17.081278\n",
      "Name: primary_cleaner.output.concentrate_pb, dtype: float64\n",
      "count    19439.000000\n",
      "mean         9.978821\n",
      "std          1.669228\n",
      "min          0.000000\n",
      "25%          9.137225\n",
      "50%         10.102264\n",
      "75%         11.035644\n",
      "max         17.031899\n",
      "Name: final.output.concentrate_pb, dtype: float64\n",
      "---------------------------------------------\n",
      "Золото\n",
      "count    19439.000000\n",
      "mean         8.266097\n",
      "std          1.955092\n",
      "min          0.010000\n",
      "25%          6.854384\n",
      "50%          8.125839\n",
      "75%          9.769917\n",
      "max         13.731330\n",
      "Name: rougher.input.feed_au, dtype: float64\n",
      "count    19439.000000\n",
      "mean        19.772000\n",
      "std          3.753600\n",
      "min          0.000000\n",
      "25%         18.802523\n",
      "50%         20.280214\n",
      "75%         21.717843\n",
      "max         28.824507\n",
      "Name: rougher.output.concentrate_au, dtype: float64\n",
      "count    19439.000000\n",
      "mean        32.119400\n",
      "std          5.627611\n",
      "min          0.000000\n",
      "25%         30.463140\n",
      "50%         32.841295\n",
      "75%         35.048006\n",
      "max         45.933934\n",
      "Name: primary_cleaner.output.concentrate_au, dtype: float64\n",
      "count    19439.000000\n",
      "mean        44.076513\n",
      "std          5.129784\n",
      "min          0.000000\n",
      "25%         43.402215\n",
      "50%         45.011244\n",
      "75%         46.275313\n",
      "max         52.756638\n",
      "Name: final.output.concentrate_au, dtype: float64\n",
      "---------------------------------------------\n"
     ]
    }
   ],
   "source": [
    "for i in range(3):\n",
    "    print(name[i])\n",
    "    print(df_full[rougher_input[i]].describe())\n",
    "    print(df_full[rougher_output[i]].describe())\n",
    "    print(df_full[primary_cleaner[i]].describe())\n",
    "    print(df_full[final_output[i]].describe())\n",
    "    print('---------------------------------------------')"
   ]
  },
  {
   "cell_type": "markdown",
   "metadata": {},
   "source": [
    "Создадим функцию для построения гистограмм, отображающих изменение концентрации металлов в процессе этапов очистки"
   ]
  },
  {
   "cell_type": "code",
   "execution_count": 22,
   "metadata": {
    "scrolled": false
   },
   "outputs": [
    {
     "data": {
      "image/png": "[encoded data removed]",
      "text/plain": [
       "<Figure size 864x432 with 1 Axes>"
      ]
     },
     "metadata": {
      "needs_background": "light"
     },
     "output_type": "display_data"
    },
    {
     "data": {
      "image/png": "[encoded data removed]",
      "text/plain": [
       "<Figure size 864x432 with 1 Axes>"
      ]
     },
     "metadata": {
      "needs_background": "light"
     },
     "output_type": "display_data"
    },
    {
     "data": {
      "image/png": "[encoded data removed]",
      "text/plain": [
       "<Figure size 864x432 with 1 Axes>"
      ]
     },
     "metadata": {
      "needs_background": "light"
     },
     "output_type": "display_data"
    }
   ],
   "source": [
    "def hist_metal(r_input, output, primary, final, name): \n",
    "    plt.figure(figsize=(12, 6))\n",
    "    plt.hist(r_input, bins=50, alpha=0.5, label='Исходное сырьё')\n",
    "    plt.hist(output, bins=50, alpha=0.5, label='После флотации')\n",
    "    plt.hist(primary, bins=50, alpha=0.5, label='После первичной очистки')\n",
    "    plt.hist(final, bins=50, alpha=0.5, label='Финальный концентрат')\n",
    "    plt.title(name)\n",
    "    plt.xlabel('Концентрация')\n",
    "    plt.ylabel('Количество наблюдений')\n",
    "    plt.legend()\n",
    "    plt.show()\n",
    "for i in range(3):\n",
    "    hist_metal(df_full[rougher_input[i]],df_full[rougher_output[i]],df_full[primary_cleaner[i]],df_full[final_output[i]],name[i])"
   ]
  },
  {
   "cell_type": "markdown",
   "metadata": {},
   "source": [
    "На всех трех диаграммах видны выбросы околонулевых значений.\n",
    "Концентрация Серебра начинает снижаться на этапе \"Первичной очистки\".\n",
    "Концентрация Свинца после этапа \"Первичной очистки\" примерно остатся постоянной и в финальном этапе сохраняется.\n",
    "Концентрация Золота с каждым этапом очистки постепенно увеличивается\n",
    "\n",
    "\n",
    "### Сравнение распределений размеров гранул сырья\n",
    "\n",
    "Построим распределения размеров гранул сырья на обучающей и тестовой выборках.\n",
    "Распределения отобразим в относительных частотах, чтобы они были в одинаковом масштабе применим параметр density=True"
   ]
  },
  {
   "cell_type": "code",
   "execution_count": 23,
   "metadata": {
    "scrolled": true
   },
   "outputs": [
    {
     "data": {
      "image/png": "[encoded data removed]",
      "text/plain": [
       "<Figure size 864x432 with 1 Axes>"
      ]
     },
     "metadata": {
      "needs_background": "light"
     },
     "output_type": "display_data"
    }
   ],
   "source": [
    "plt.figure(figsize=(12, 6))\n",
    "df_train['primary_cleaner.input.feed_size'].plot(bins=50, kind='hist',alpha=0.9, label='train', density=True)\n",
    "df_test['primary_cleaner.input.feed_size'].plot(bins=50, kind='hist',alpha=0.7, label='test', density=True)\n",
    "plt.title('Распределение размеров гранул в выборках')\n",
    "plt.xlabel('Размер гранул')\n",
    "plt.ylabel('Количество наблюдений')\n",
    "plt.legend()\n",
    "plt.show()"
   ]
  },
  {
   "cell_type": "markdown",
   "metadata": {},
   "source": [
    "Распределения значений размеров гранул сырья в обучающей и тестовой выборках идентичны.\n",
    "\n",
    "\n",
    "### Анализ суммарной концентрации  веществ на разных стадиях обработки\n",
    "\n",
    "Исследуем суммарную концентрацию всех веществ на разных стадиях: в сырье, в черновом и финальном концентратах."
   ]
  },
  {
   "cell_type": "code",
   "execution_count": 24,
   "metadata": {},
   "outputs": [
    {
     "data": {
      "image/png": "[encoded data removed]",
      "text/plain": [
       "<Figure size 864x432 with 1 Axes>"
      ]
     },
     "metadata": {
      "needs_background": "light"
     },
     "output_type": "display_data"
    }
   ],
   "source": [
    "plt.figure(figsize=(12, 6))\n",
    "df_full[rougher_input].sum(1).plot(bins=100, kind='hist',alpha=1, label='rougher_input')\n",
    "df_full[rougher_output].sum(1).plot(bins=100, kind='hist',alpha=0.6, label='rougher_output')\n",
    "df_full[final_output].sum(1).plot(bins=100, kind='hist',alpha=0.6, label='final_output')\n",
    "plt.title('Cуммарная концентрация всех веществ на разных стадиях')\n",
    "plt.xlabel('Концентрация')\n",
    "plt.ylabel('Количество наблюдений')\n",
    "plt.legend()\n",
    "plt.show()"
   ]
  },
  {
   "cell_type": "markdown",
   "metadata": {},
   "source": [
    "На диаграме видны нулевые выбросы, которые следует убрать из выборки."
   ]
  },
  {
   "cell_type": "code",
   "execution_count": 25,
   "metadata": {},
   "outputs": [
    {
     "name": "stdout",
     "output_type": "stream",
     "text": [
      "(19439, 4)\n",
      "(19439, 4)\n",
      "(19439, 4)\n"
     ]
    }
   ],
   "source": [
    "print(df_full[rougher_input].shape)\n",
    "print(df_full[rougher_output].shape)\n",
    "print(df_full[final_output].shape)"
   ]
  },
  {
   "cell_type": "code",
   "execution_count": 26,
   "metadata": {},
   "outputs": [],
   "source": [
    "df_full = df_full[df_full[rougher_input].sum(1)>0]\n",
    "df_full = df_full[df_full[rougher_output].sum(1)>0]\n",
    "df_full = df_full[df_full[final_output].sum(1)>0]"
   ]
  },
  {
   "cell_type": "code",
   "execution_count": 27,
   "metadata": {},
   "outputs": [
    {
     "name": "stdout",
     "output_type": "stream",
     "text": [
      "(18949, 4)\n",
      "(18949, 4)\n",
      "(18949, 4)\n"
     ]
    }
   ],
   "source": [
    "print(df_full[rougher_input].shape)\n",
    "print(df_full[rougher_output].shape)\n",
    "print(df_full[final_output].shape)"
   ]
  },
  {
   "cell_type": "markdown",
   "metadata": {},
   "source": [
    "Нулевые значения из общей выборки убраны.\n",
    "Проверим наличие нулевых значений в обучающей и тестовой выборках"
   ]
  },
  {
   "cell_type": "code",
   "execution_count": 28,
   "metadata": {},
   "outputs": [
    {
     "data": {
      "text/plain": [
       "rougher.input.feed_ag     0\n",
       "rougher.input.feed_pb     0\n",
       "rougher.input.feed_au     0\n",
       "rougher.input.feed_sol    0\n",
       "dtype: int64"
      ]
     },
     "metadata": {},
     "output_type": "display_data"
    },
    {
     "data": {
      "text/plain": [
       "rougher.input.feed_ag     0\n",
       "rougher.input.feed_pb     0\n",
       "rougher.input.feed_au     0\n",
       "rougher.input.feed_sol    0\n",
       "dtype: int64"
      ]
     },
     "execution_count": 28,
     "metadata": {},
     "output_type": "execute_result"
    }
   ],
   "source": [
    "display(df_train[df_train[rougher_input].sum(1)==0][rougher_input].count())\n",
    "df_test[df_test[rougher_input].sum(1)==0][rougher_input].count()"
   ]
  },
  {
   "cell_type": "markdown",
   "metadata": {},
   "source": [
    "Нулевые значения суммарных концентраций всех веществ в обучающей и тестовой выборках отсутствуют."
   ]
  },
  {
   "cell_type": "markdown",
   "metadata": {},
   "source": [
    "## Модель"
   ]
  },
  {
   "cell_type": "markdown",
   "metadata": {},
   "source": [
    "### Фунция sMAPE\n",
    "\n",
    "Создадим функцию для вычисления итоговой sMAPE."
   ]
  },
  {
   "cell_type": "code",
   "execution_count": 29,
   "metadata": {},
   "outputs": [],
   "source": [
    "def smape(target_actual, target_predictions):\n",
    "    numerator = np.abs(target_actual - target_predictions)\n",
    "    denominator = (np.abs(target_actual) + np.abs(target_predictions)) / 2 \n",
    "    return 1 / len(target_actual) * np.sum(numerator / denominator) * 100 "
   ]
  },
  {
   "cell_type": "code",
   "execution_count": 30,
   "metadata": {},
   "outputs": [],
   "source": [
    "features_train = df_train.reset_index(drop=True) \n",
    "target_train = target_train.reset_index(drop=True)\n",
    "features_test = df_test.reset_index(drop=True) \n",
    "target_test = target_test.reset_index(drop=True) \n",
    "target_train_rougher = target_train['rougher.output.recovery']\n",
    "target_train_final = target_train['final.output.recovery']\n",
    "target_test_rougher = target_test['rougher.output.recovery']\n",
    "target_test_final = target_test['final.output.recovery']"
   ]
  },
  {
   "cell_type": "markdown",
   "metadata": {},
   "source": [
    "### Обучение моделей\n",
    "\n",
    "Обучим разные модели и оценим их качество кросс-валидацией.\n",
    "\n",
    "#### Линейная регрессия"
   ]
  },
  {
   "cell_type": "code",
   "execution_count": 31,
   "metadata": {},
   "outputs": [],
   "source": [
    "smape_score = make_scorer(smape, greater_is_better=False)\n",
    "from sklearn.model_selection import KFold\n",
    "cv = KFold(n_splits=3)"
   ]
  },
  {
   "cell_type": "code",
   "execution_count": 32,
   "metadata": {
    "scrolled": false
   },
   "outputs": [
    {
     "name": "stdout",
     "output_type": "stream",
     "text": [
      " sMAPE после флотации: -17.163023100267875\n",
      " Финальное sMAPE: -14.996697697574488\n",
      " Итоговое sMAPE:-15.538279048247833\n"
     ]
    }
   ],
   "source": [
    "model_lr = LinearRegression()\n",
    "\n",
    "rougher_smape = cross_val_score(model_lr, features_train, target_train_rougher, scoring = smape_score, cv=cv)\n",
    "final_smape = cross_val_score(model_lr, features_train, target_train_final, scoring = smape_score, cv=cv)\n",
    "smape_weighted = 0.25 * rougher_smape.mean() + 0.75 * final_smape.mean()\n",
    "\n",
    "print(f' sMAPE после флотации: {rougher_smape.mean()}')\n",
    "print(f' Финальное sMAPE: {final_smape.mean()}')\n",
    "print(f' Итоговое sMAPE:{smape_weighted}')"
   ]
  },
  {
   "cell_type": "markdown",
   "metadata": {},
   "source": [
    "#### Дерево решений"
   ]
  },
  {
   "cell_type": "code",
   "execution_count": 33,
   "metadata": {},
   "outputs": [
    {
     "name": "stdout",
     "output_type": "stream",
     "text": [
      " sMAPE после флотации: -12.318642119369068\n",
      "Гиперпараметры: {'max_depth': 4}\n",
      " sMAPE после флотации: -10.79793639337045\n",
      "Гиперпараметры: {'max_depth': 2}\n",
      "Итоговый sMAPE: -11.178112824870105\n"
     ]
    }
   ],
   "source": [
    "model_dtr = DecisionTreeRegressor(random_state=12345)\n",
    " \n",
    "parametrs = {'max_depth': range (1,10)}\n",
    " \n",
    "rougher_smape = GridSearchCV(model_dtr, parametrs, scoring=smape_score, cv=cv, n_jobs=4)\n",
    "rougher_smape.fit(features_train, target_train_rougher)\n",
    "\n",
    "print(f' sMAPE после флотации: {rougher_smape.best_score_}')\n",
    "print(f'Гиперпараметры: {rougher_smape.best_params_}')\n",
    " \n",
    "final_smape = GridSearchCV(model_dtr, parametrs, scoring=smape_score, cv=cv, n_jobs=4)\n",
    "final_smape.fit(features_train, target_train_final)\n",
    " \n",
    "print(f' sMAPE после флотации: {final_smape.best_score_}' )\n",
    "print(f'Гиперпараметры: {final_smape.best_params_}')\n",
    "smape_weighted = 0.25 * rougher_smape.best_score_ + 0.75 * final_smape.best_score_\n",
    "\n",
    "print(\"Итоговый sMAPE:\", smape_weighted)"
   ]
  },
  {
   "cell_type": "markdown",
   "metadata": {},
   "source": [
    "#### Случайный лес"
   ]
  },
  {
   "cell_type": "code",
   "execution_count": 34,
   "metadata": {},
   "outputs": [
    {
     "name": "stdout",
     "output_type": "stream",
     "text": [
      " sMAPE после флотации: -12.17947544765111\n",
      "Гиперпараметры: {'max_depth': 3, 'n_estimators': 10}\n",
      " sMAPE после флотации: -10.795676819447413\n",
      "Гиперпараметры: {'max_depth': 2, 'n_estimators': 10}\n",
      "Итоговый sMAPE: -11.141626476498336\n"
     ]
    }
   ],
   "source": [
    "model_rfr = RandomForestRegressor(random_state=12345)\n",
    " \n",
    "parametrs = {'n_estimators': range (10, 71, 10),  'max_depth': range (1,4)} #          \n",
    " \n",
    "rougher_smape = GridSearchCV(model_rfr, parametrs, scoring=smape_score, cv=cv, n_jobs=4)\n",
    "rougher_smape.fit(features_train, target_train_rougher)\n",
    " \n",
    "print(f' sMAPE после флотации: {rougher_smape.best_score_}')\n",
    "print(f'Гиперпараметры: {rougher_smape.best_params_}')\n",
    " \n",
    "final_smape = GridSearchCV(model_rfr, parametrs, scoring=smape_score, cv=cv, n_jobs=4)\n",
    "final_smape.fit(features_train, target_train_final)\n",
    " \n",
    "print(f' sMAPE после флотации: {final_smape.best_score_}' )\n",
    "print(f'Гиперпараметры: {final_smape.best_params_}')\n",
    "smape_weighted = 0.25 * rougher_smape.best_score_ + 0.75 * final_smape.best_score_\n",
    "\n",
    "print(\"Итоговый sMAPE:\", smape_weighted)"
   ]
  },
  {
   "cell_type": "markdown",
   "metadata": {},
   "source": [
    "Лучшая модель: RandomForestRegressor. Проверим её качество  на тестовой выборке:"
   ]
  },
  {
   "cell_type": "code",
   "execution_count": 35,
   "metadata": {},
   "outputs": [
    {
     "name": "stdout",
     "output_type": "stream",
     "text": [
      "13.677419527670088\n",
      "9.167660556372628\n",
      "Итоговый sMAPE: 10.295100299196992\n"
     ]
    }
   ],
   "source": [
    "test_model_rougher = RandomForestRegressor(random_state=12345, max_depth=2, n_estimators=10)\n",
    "rf = test_model_rougher.fit(features_train, target_train_rougher) \n",
    "predictions_rougher = rf.predict(features_test) \n",
    "res_rougher = smape(target_test_rougher, predictions_rougher)\n",
    "print(res_rougher)\n",
    " \n",
    "test_model_final = RandomForestRegressor(random_state=12345, max_depth=1, n_estimators=30)\n",
    "rff = test_model_final.fit(features_train, target_train_final) \n",
    "predictions_final = rff.predict(features_test)  \n",
    "res_final = smape(target_test_final, predictions_final)\n",
    "print(res_final)\n",
    "smape_weighted_final = 0.25 * res_rougher + 0.75 * res_final\n",
    "print(\"Итоговый sMAPE:\", smape_weighted_final)"
   ]
  },
  {
   "cell_type": "markdown",
   "metadata": {},
   "source": [
    "## Вывод: \n",
    "\n",
    "В ходе исследования была обработана данные по добыче золота с параметрами на разных этапах обработки.\n",
    "Данные были проверены путем вычисления эффективности обогащения и подготовлены для анализа. В результате исследования удалось получить вывод о том, что концентрация Золота с каждым этапом очистки постепенно увеличивается.\n",
    "\n",
    "С помощью введенной новой метрики качества sMAPE удалось обучить и проверить несколько моделей прогнозирования. Лучшая модель: RandomForestRegressor, ее качесво проверено на тестовой выборке\n"
   ]
  }
 ],
 "metadata": {
  "ExecuteTimeLog": [
   {
    "duration": 43,
    "start_time": "2022-04-15T15:13:41.230Z"
   },
   {
    "duration": 1516,
    "start_time": "2022-04-15T15:13:46.085Z"
   },
   {
    "duration": 575,
    "start_time": "2022-04-15T15:13:47.603Z"
   },
   {
    "duration": 620,
    "start_time": "2022-04-15T15:14:59.210Z"
   },
   {
    "duration": 19,
    "start_time": "2022-04-15T17:18:55.224Z"
   },
   {
    "duration": 2337,
    "start_time": "2022-04-15T17:22:12.496Z"
   },
   {
    "duration": 7,
    "start_time": "2022-04-15T17:23:58.723Z"
   },
   {
    "duration": 558,
    "start_time": "2022-04-15T17:28:25.349Z"
   },
   {
    "duration": 37,
    "start_time": "2022-04-15T17:28:31.715Z"
   },
   {
    "duration": 24,
    "start_time": "2022-04-15T17:28:57.613Z"
   },
   {
    "duration": 1805,
    "start_time": "2022-04-16T13:34:08.615Z"
   },
   {
    "duration": 714,
    "start_time": "2022-04-16T13:34:10.422Z"
   },
   {
    "duration": 36,
    "start_time": "2022-04-16T13:34:11.137Z"
   },
   {
    "duration": 40,
    "start_time": "2022-04-16T13:34:11.174Z"
   },
   {
    "duration": 7,
    "start_time": "2022-04-16T13:34:11.216Z"
   },
   {
    "duration": 9,
    "start_time": "2022-04-16T13:34:11.224Z"
   },
   {
    "duration": 7,
    "start_time": "2022-04-16T13:34:30.233Z"
   },
   {
    "duration": 154,
    "start_time": "2022-04-16T13:41:03.813Z"
   },
   {
    "duration": 4,
    "start_time": "2022-04-16T13:42:07.847Z"
   },
   {
    "duration": 662,
    "start_time": "2022-04-16T13:42:07.858Z"
   },
   {
    "duration": 34,
    "start_time": "2022-04-16T13:42:08.522Z"
   },
   {
    "duration": 23,
    "start_time": "2022-04-16T13:42:08.557Z"
   },
   {
    "duration": 25,
    "start_time": "2022-04-16T13:42:08.582Z"
   },
   {
    "duration": 10,
    "start_time": "2022-04-16T13:42:08.609Z"
   },
   {
    "duration": 20,
    "start_time": "2022-04-16T13:42:08.620Z"
   },
   {
    "duration": 5,
    "start_time": "2022-04-16T13:44:20.402Z"
   },
   {
    "duration": 5,
    "start_time": "2022-04-16T13:44:29.110Z"
   },
   {
    "duration": 4,
    "start_time": "2022-04-16T13:44:58.220Z"
   },
   {
    "duration": 5,
    "start_time": "2022-04-16T13:57:24.644Z"
   },
   {
    "duration": 188,
    "start_time": "2022-04-16T14:03:09.012Z"
   },
   {
    "duration": 204,
    "start_time": "2022-04-16T14:04:07.977Z"
   },
   {
    "duration": 181,
    "start_time": "2022-04-16T14:04:18.873Z"
   },
   {
    "duration": 3,
    "start_time": "2022-04-16T14:06:03.097Z"
   },
   {
    "duration": 4,
    "start_time": "2022-04-16T14:06:14.653Z"
   },
   {
    "duration": 5,
    "start_time": "2022-04-16T14:06:43.375Z"
   },
   {
    "duration": 72,
    "start_time": "2022-04-16T16:12:27.713Z"
   },
   {
    "duration": 158,
    "start_time": "2022-04-16T16:12:30.673Z"
   },
   {
    "duration": 1,
    "start_time": "2022-04-16T16:12:30.833Z"
   },
   {
    "duration": 0,
    "start_time": "2022-04-16T16:12:30.835Z"
   },
   {
    "duration": 0,
    "start_time": "2022-04-16T16:12:30.837Z"
   },
   {
    "duration": 0,
    "start_time": "2022-04-16T16:12:30.839Z"
   },
   {
    "duration": 0,
    "start_time": "2022-04-16T16:12:30.840Z"
   },
   {
    "duration": 0,
    "start_time": "2022-04-16T16:12:30.842Z"
   },
   {
    "duration": 0,
    "start_time": "2022-04-16T16:12:30.843Z"
   },
   {
    "duration": 9,
    "start_time": "2022-04-16T16:12:36.551Z"
   },
   {
    "duration": 9,
    "start_time": "2022-04-16T16:12:38.146Z"
   },
   {
    "duration": 121,
    "start_time": "2022-04-16T16:12:54.904Z"
   },
   {
    "duration": 0,
    "start_time": "2022-04-16T16:12:55.027Z"
   },
   {
    "duration": 0,
    "start_time": "2022-04-16T16:12:55.028Z"
   },
   {
    "duration": 0,
    "start_time": "2022-04-16T16:12:55.030Z"
   },
   {
    "duration": 0,
    "start_time": "2022-04-16T16:12:55.031Z"
   },
   {
    "duration": 0,
    "start_time": "2022-04-16T16:12:55.032Z"
   },
   {
    "duration": 0,
    "start_time": "2022-04-16T16:12:55.034Z"
   },
   {
    "duration": 0,
    "start_time": "2022-04-16T16:12:55.035Z"
   },
   {
    "duration": 120,
    "start_time": "2022-04-16T16:13:13.259Z"
   },
   {
    "duration": 0,
    "start_time": "2022-04-16T16:13:13.381Z"
   },
   {
    "duration": 0,
    "start_time": "2022-04-16T16:13:13.382Z"
   },
   {
    "duration": 0,
    "start_time": "2022-04-16T16:13:13.384Z"
   },
   {
    "duration": 0,
    "start_time": "2022-04-16T16:13:13.386Z"
   },
   {
    "duration": 0,
    "start_time": "2022-04-16T16:13:13.387Z"
   },
   {
    "duration": 0,
    "start_time": "2022-04-16T16:13:13.389Z"
   },
   {
    "duration": 0,
    "start_time": "2022-04-16T16:13:13.390Z"
   },
   {
    "duration": 0,
    "start_time": "2022-04-16T16:13:13.391Z"
   },
   {
    "duration": 8,
    "start_time": "2022-04-16T16:13:17.930Z"
   },
   {
    "duration": 4,
    "start_time": "2022-04-16T16:14:47.082Z"
   },
   {
    "duration": 8,
    "start_time": "2022-04-16T16:14:52.067Z"
   },
   {
    "duration": 2798,
    "start_time": "2022-04-16T16:15:02.695Z"
   },
   {
    "duration": 6,
    "start_time": "2022-04-16T16:15:19.430Z"
   },
   {
    "duration": 900,
    "start_time": "2022-04-16T16:15:19.438Z"
   },
   {
    "duration": 81,
    "start_time": "2022-04-16T16:15:20.341Z"
   },
   {
    "duration": 57,
    "start_time": "2022-04-16T16:15:20.424Z"
   },
   {
    "duration": 15,
    "start_time": "2022-04-16T16:15:20.486Z"
   },
   {
    "duration": 26,
    "start_time": "2022-04-16T16:15:20.504Z"
   },
   {
    "duration": 12,
    "start_time": "2022-04-16T16:15:20.532Z"
   },
   {
    "duration": 6,
    "start_time": "2022-04-16T16:15:20.547Z"
   },
   {
    "duration": 33,
    "start_time": "2022-04-16T16:15:20.554Z"
   },
   {
    "duration": 7,
    "start_time": "2022-04-16T16:15:38.008Z"
   },
   {
    "duration": 7,
    "start_time": "2022-04-16T16:17:16.195Z"
   },
   {
    "duration": 6,
    "start_time": "2022-04-16T16:17:23.955Z"
   },
   {
    "duration": 6,
    "start_time": "2022-04-16T16:17:24.700Z"
   },
   {
    "duration": 7,
    "start_time": "2022-04-16T16:17:53.730Z"
   },
   {
    "duration": 7,
    "start_time": "2022-04-16T16:18:04.625Z"
   },
   {
    "duration": 126,
    "start_time": "2022-04-16T16:19:06.473Z"
   },
   {
    "duration": 16,
    "start_time": "2022-04-16T16:19:26.496Z"
   },
   {
    "duration": 12,
    "start_time": "2022-04-16T16:22:46.909Z"
   },
   {
    "duration": 6,
    "start_time": "2022-04-16T16:30:18.579Z"
   },
   {
    "duration": 12,
    "start_time": "2022-04-16T16:31:56.700Z"
   },
   {
    "duration": 7,
    "start_time": "2022-04-16T16:32:06.557Z"
   },
   {
    "duration": 43,
    "start_time": "2022-04-16T16:32:12.468Z"
   },
   {
    "duration": 23,
    "start_time": "2022-04-16T16:32:24.149Z"
   },
   {
    "duration": 22,
    "start_time": "2022-04-16T16:32:29.066Z"
   },
   {
    "duration": 3,
    "start_time": "2022-04-16T16:54:04.015Z"
   },
   {
    "duration": 19,
    "start_time": "2022-04-16T17:18:57.331Z"
   },
   {
    "duration": 1697,
    "start_time": "2022-04-16T17:19:08.869Z"
   },
   {
    "duration": 16,
    "start_time": "2022-04-16T17:26:01.015Z"
   },
   {
    "duration": 15,
    "start_time": "2022-04-16T17:26:33.599Z"
   },
   {
    "duration": 1766,
    "start_time": "2022-04-16T17:48:17.805Z"
   },
   {
    "duration": 6,
    "start_time": "2022-04-16T17:48:28.983Z"
   },
   {
    "duration": 964,
    "start_time": "2022-04-16T17:48:28.992Z"
   },
   {
    "duration": 76,
    "start_time": "2022-04-16T17:48:29.959Z"
   },
   {
    "duration": 58,
    "start_time": "2022-04-16T17:48:30.038Z"
   },
   {
    "duration": 1671,
    "start_time": "2022-04-16T17:48:30.099Z"
   },
   {
    "duration": 0,
    "start_time": "2022-04-16T17:48:31.773Z"
   },
   {
    "duration": 0,
    "start_time": "2022-04-16T17:48:31.774Z"
   },
   {
    "duration": 0,
    "start_time": "2022-04-16T17:48:31.776Z"
   },
   {
    "duration": 0,
    "start_time": "2022-04-16T17:48:31.777Z"
   },
   {
    "duration": 0,
    "start_time": "2022-04-16T17:48:31.778Z"
   },
   {
    "duration": 0,
    "start_time": "2022-04-16T17:48:31.780Z"
   },
   {
    "duration": 0,
    "start_time": "2022-04-16T17:48:31.781Z"
   },
   {
    "duration": 0,
    "start_time": "2022-04-16T17:48:31.782Z"
   },
   {
    "duration": 4,
    "start_time": "2022-04-16T17:49:02.868Z"
   },
   {
    "duration": 1640,
    "start_time": "2022-04-16T17:49:16.544Z"
   },
   {
    "duration": 4,
    "start_time": "2022-04-16T17:49:39.177Z"
   },
   {
    "duration": 3,
    "start_time": "2022-04-16T17:49:44.350Z"
   },
   {
    "duration": 5,
    "start_time": "2022-04-16T17:50:03.290Z"
   },
   {
    "duration": 2345,
    "start_time": "2022-04-16T17:50:03.299Z"
   },
   {
    "duration": 73,
    "start_time": "2022-04-16T17:50:05.646Z"
   },
   {
    "duration": 40,
    "start_time": "2022-04-16T17:50:05.721Z"
   },
   {
    "duration": 4,
    "start_time": "2022-04-16T17:50:13.970Z"
   },
   {
    "duration": 12,
    "start_time": "2022-04-16T17:50:19.479Z"
   },
   {
    "duration": 7,
    "start_time": "2022-04-16T17:50:25.948Z"
   },
   {
    "duration": 5,
    "start_time": "2022-04-16T17:50:58.968Z"
   },
   {
    "duration": 13,
    "start_time": "2022-04-16T17:51:04.508Z"
   },
   {
    "duration": 15,
    "start_time": "2022-04-16T17:51:35.008Z"
   },
   {
    "duration": 5,
    "start_time": "2022-04-16T17:51:39.583Z"
   },
   {
    "duration": 787,
    "start_time": "2022-04-16T17:51:39.590Z"
   },
   {
    "duration": 62,
    "start_time": "2022-04-16T17:51:40.379Z"
   },
   {
    "duration": 63,
    "start_time": "2022-04-16T17:51:40.443Z"
   },
   {
    "duration": 12,
    "start_time": "2022-04-16T17:51:40.509Z"
   },
   {
    "duration": 6,
    "start_time": "2022-04-16T17:51:40.523Z"
   },
   {
    "duration": 6,
    "start_time": "2022-04-16T17:51:40.531Z"
   },
   {
    "duration": 44,
    "start_time": "2022-04-16T17:51:40.539Z"
   },
   {
    "duration": 14,
    "start_time": "2022-04-16T17:51:40.585Z"
   },
   {
    "duration": 23,
    "start_time": "2022-04-16T17:51:40.601Z"
   },
   {
    "duration": 5,
    "start_time": "2022-04-16T17:53:02.046Z"
   },
   {
    "duration": 807,
    "start_time": "2022-04-16T17:53:02.055Z"
   },
   {
    "duration": 67,
    "start_time": "2022-04-16T17:53:02.864Z"
   },
   {
    "duration": 55,
    "start_time": "2022-04-16T17:53:02.933Z"
   },
   {
    "duration": 14,
    "start_time": "2022-04-16T17:53:02.992Z"
   },
   {
    "duration": 5,
    "start_time": "2022-04-16T17:53:03.009Z"
   },
   {
    "duration": 5,
    "start_time": "2022-04-16T17:53:03.016Z"
   },
   {
    "duration": 7,
    "start_time": "2022-04-16T17:53:03.024Z"
   },
   {
    "duration": 54,
    "start_time": "2022-04-16T17:53:03.033Z"
   },
   {
    "duration": 21,
    "start_time": "2022-04-16T17:53:03.089Z"
   },
   {
    "duration": 17,
    "start_time": "2022-04-16T17:53:03.113Z"
   },
   {
    "duration": 0,
    "start_time": "2022-04-16T17:53:03.133Z"
   },
   {
    "duration": 0,
    "start_time": "2022-04-16T17:53:03.135Z"
   },
   {
    "duration": 7,
    "start_time": "2022-04-16T17:53:39.066Z"
   },
   {
    "duration": 1210,
    "start_time": "2022-04-16T17:53:39.077Z"
   },
   {
    "duration": 93,
    "start_time": "2022-04-16T17:53:40.289Z"
   },
   {
    "duration": 56,
    "start_time": "2022-04-16T17:53:40.385Z"
   },
   {
    "duration": 12,
    "start_time": "2022-04-16T17:53:40.444Z"
   },
   {
    "duration": 5,
    "start_time": "2022-04-16T17:53:40.483Z"
   },
   {
    "duration": 6,
    "start_time": "2022-04-16T17:53:40.491Z"
   },
   {
    "duration": 9,
    "start_time": "2022-04-16T17:53:40.499Z"
   },
   {
    "duration": 7,
    "start_time": "2022-04-16T17:53:40.511Z"
   },
   {
    "duration": 61,
    "start_time": "2022-04-16T17:53:40.521Z"
   },
   {
    "duration": 17,
    "start_time": "2022-04-16T17:53:40.584Z"
   },
   {
    "duration": 14,
    "start_time": "2022-04-16T17:53:40.603Z"
   },
   {
    "duration": 11,
    "start_time": "2022-04-16T18:01:40.987Z"
   },
   {
    "duration": 36,
    "start_time": "2022-04-16T18:01:48.601Z"
   },
   {
    "duration": 30,
    "start_time": "2022-04-16T19:13:57.553Z"
   },
   {
    "duration": 15,
    "start_time": "2022-04-16T19:33:47.553Z"
   },
   {
    "duration": 11,
    "start_time": "2022-04-16T19:33:55.535Z"
   },
   {
    "duration": 16,
    "start_time": "2022-04-16T19:34:42.891Z"
   },
   {
    "duration": 102,
    "start_time": "2022-04-16T19:35:46.457Z"
   },
   {
    "duration": 106,
    "start_time": "2022-04-16T19:35:50.911Z"
   },
   {
    "duration": 17,
    "start_time": "2022-04-16T19:36:06.653Z"
   },
   {
    "duration": 17,
    "start_time": "2022-04-16T19:37:57.019Z"
   },
   {
    "duration": 24,
    "start_time": "2022-04-16T19:38:42.813Z"
   },
   {
    "duration": 14,
    "start_time": "2022-04-16T19:42:49.802Z"
   },
   {
    "duration": 26,
    "start_time": "2022-04-16T19:43:00.249Z"
   },
   {
    "duration": 25,
    "start_time": "2022-04-16T19:45:48.885Z"
   },
   {
    "duration": 34,
    "start_time": "2022-04-16T19:48:59.033Z"
   },
   {
    "duration": 32,
    "start_time": "2022-04-16T19:49:03.087Z"
   },
   {
    "duration": 16,
    "start_time": "2022-04-16T19:49:47.610Z"
   },
   {
    "duration": 32,
    "start_time": "2022-04-16T19:49:57.210Z"
   },
   {
    "duration": 153,
    "start_time": "2022-04-16T19:51:12.875Z"
   },
   {
    "duration": 114,
    "start_time": "2022-04-16T19:51:18.697Z"
   },
   {
    "duration": 32,
    "start_time": "2022-04-16T19:51:22.946Z"
   },
   {
    "duration": 31,
    "start_time": "2022-04-16T19:51:34.523Z"
   },
   {
    "duration": 44,
    "start_time": "2022-04-16T19:52:25.315Z"
   },
   {
    "duration": 23,
    "start_time": "2022-04-16T19:53:09.279Z"
   },
   {
    "duration": 18,
    "start_time": "2022-04-16T19:54:29.971Z"
   },
   {
    "duration": 63,
    "start_time": "2022-04-16T19:54:34.896Z"
   },
   {
    "duration": 79,
    "start_time": "2022-04-16T19:54:44.125Z"
   },
   {
    "duration": 49,
    "start_time": "2022-04-16T19:58:23.610Z"
   },
   {
    "duration": 63,
    "start_time": "2022-04-16T19:58:49.493Z"
   },
   {
    "duration": 207,
    "start_time": "2022-04-16T19:59:41.710Z"
   },
   {
    "duration": 24,
    "start_time": "2022-04-16T20:27:16.244Z"
   },
   {
    "duration": 29,
    "start_time": "2022-04-16T20:27:32.571Z"
   },
   {
    "duration": 16,
    "start_time": "2022-04-16T21:05:43.810Z"
   },
   {
    "duration": 5,
    "start_time": "2022-04-16T21:05:58.520Z"
   },
   {
    "duration": 4099,
    "start_time": "2022-04-16T21:05:59.599Z"
   },
   {
    "duration": 16,
    "start_time": "2022-04-16T21:09:37.819Z"
   },
   {
    "duration": 8,
    "start_time": "2022-04-16T21:09:46.907Z"
   },
   {
    "duration": 19,
    "start_time": "2022-04-16T21:10:02.245Z"
   },
   {
    "duration": 4291,
    "start_time": "2022-04-16T21:11:25.015Z"
   },
   {
    "duration": 4151,
    "start_time": "2022-04-16T21:12:50.620Z"
   },
   {
    "duration": 3218,
    "start_time": "2022-04-16T21:13:15.636Z"
   },
   {
    "duration": 5312,
    "start_time": "2022-04-16T21:13:37.979Z"
   },
   {
    "duration": 46,
    "start_time": "2022-04-17T05:24:00.321Z"
   },
   {
    "duration": 1702,
    "start_time": "2022-04-17T05:24:04.521Z"
   },
   {
    "duration": 654,
    "start_time": "2022-04-17T05:24:06.225Z"
   },
   {
    "duration": 44,
    "start_time": "2022-04-17T05:24:06.881Z"
   },
   {
    "duration": 28,
    "start_time": "2022-04-17T05:24:06.928Z"
   },
   {
    "duration": 12,
    "start_time": "2022-04-17T05:24:06.958Z"
   },
   {
    "duration": 4,
    "start_time": "2022-04-17T05:24:06.972Z"
   },
   {
    "duration": 3,
    "start_time": "2022-04-17T05:24:06.978Z"
   },
   {
    "duration": 39,
    "start_time": "2022-04-17T05:24:06.983Z"
   },
   {
    "duration": 7,
    "start_time": "2022-04-17T05:24:07.024Z"
   },
   {
    "duration": 14,
    "start_time": "2022-04-17T05:24:07.034Z"
   },
   {
    "duration": 19,
    "start_time": "2022-04-17T05:24:07.050Z"
   },
   {
    "duration": 9,
    "start_time": "2022-04-17T05:24:07.071Z"
   },
   {
    "duration": 47,
    "start_time": "2022-04-17T05:24:07.082Z"
   },
   {
    "duration": 12,
    "start_time": "2022-04-17T05:24:07.130Z"
   },
   {
    "duration": 21,
    "start_time": "2022-04-17T05:24:07.144Z"
   },
   {
    "duration": 31,
    "start_time": "2022-04-17T05:24:07.167Z"
   },
   {
    "duration": 75,
    "start_time": "2022-04-17T05:24:07.223Z"
   },
   {
    "duration": 50,
    "start_time": "2022-04-17T05:24:07.300Z"
   },
   {
    "duration": 3,
    "start_time": "2022-04-17T05:24:07.352Z"
   },
   {
    "duration": 2628,
    "start_time": "2022-04-17T05:24:07.356Z"
   },
   {
    "duration": 19,
    "start_time": "2022-04-17T05:30:10.606Z"
   },
   {
    "duration": 20,
    "start_time": "2022-04-17T05:30:40.616Z"
   },
   {
    "duration": 27,
    "start_time": "2022-04-17T05:30:48.310Z"
   },
   {
    "duration": 2566,
    "start_time": "2022-04-17T06:23:50.273Z"
   },
   {
    "duration": 2749,
    "start_time": "2022-04-17T06:24:10.194Z"
   },
   {
    "duration": 2502,
    "start_time": "2022-04-17T06:24:33.782Z"
   },
   {
    "duration": 2826,
    "start_time": "2022-04-17T06:26:06.040Z"
   },
   {
    "duration": 3346,
    "start_time": "2022-04-17T06:26:49.135Z"
   },
   {
    "duration": 2790,
    "start_time": "2022-04-17T06:27:25.695Z"
   },
   {
    "duration": 267,
    "start_time": "2022-04-17T06:31:09.565Z"
   },
   {
    "duration": 48,
    "start_time": "2022-04-17T06:31:26.298Z"
   },
   {
    "duration": 44,
    "start_time": "2022-04-17T06:32:22.465Z"
   },
   {
    "duration": 47,
    "start_time": "2022-04-17T06:33:06.487Z"
   },
   {
    "duration": 50,
    "start_time": "2022-04-17T06:34:39.536Z"
   },
   {
    "duration": 2156,
    "start_time": "2022-04-17T06:42:51.083Z"
   },
   {
    "duration": 3,
    "start_time": "2022-04-17T06:43:54.474Z"
   },
   {
    "duration": 4,
    "start_time": "2022-04-17T06:44:16.847Z"
   },
   {
    "duration": 45,
    "start_time": "2022-04-17T06:44:30.374Z"
   },
   {
    "duration": 3,
    "start_time": "2022-04-17T06:48:41.597Z"
   },
   {
    "duration": 668,
    "start_time": "2022-04-17T06:48:41.607Z"
   },
   {
    "duration": 158,
    "start_time": "2022-04-17T06:48:42.277Z"
   },
   {
    "duration": 69,
    "start_time": "2022-04-17T06:48:42.437Z"
   },
   {
    "duration": 21,
    "start_time": "2022-04-17T06:48:42.508Z"
   },
   {
    "duration": 12,
    "start_time": "2022-04-17T06:48:42.531Z"
   },
   {
    "duration": 10,
    "start_time": "2022-04-17T06:48:42.545Z"
   },
   {
    "duration": 12,
    "start_time": "2022-04-17T06:48:42.556Z"
   },
   {
    "duration": 18,
    "start_time": "2022-04-17T06:48:42.570Z"
   },
   {
    "duration": 22,
    "start_time": "2022-04-17T06:48:42.590Z"
   },
   {
    "duration": 47,
    "start_time": "2022-04-17T06:48:42.615Z"
   },
   {
    "duration": 16,
    "start_time": "2022-04-17T06:48:42.664Z"
   },
   {
    "duration": 15,
    "start_time": "2022-04-17T06:48:42.682Z"
   },
   {
    "duration": 45,
    "start_time": "2022-04-17T06:48:42.699Z"
   },
   {
    "duration": 33,
    "start_time": "2022-04-17T06:48:42.747Z"
   },
   {
    "duration": 79,
    "start_time": "2022-04-17T06:48:42.782Z"
   },
   {
    "duration": 166,
    "start_time": "2022-04-17T06:48:42.863Z"
   },
   {
    "duration": 48,
    "start_time": "2022-04-17T06:48:43.032Z"
   },
   {
    "duration": 69,
    "start_time": "2022-04-17T06:48:43.082Z"
   },
   {
    "duration": 4,
    "start_time": "2022-04-17T06:48:43.154Z"
   },
   {
    "duration": 81,
    "start_time": "2022-04-17T06:48:43.160Z"
   },
   {
    "duration": 4104,
    "start_time": "2022-04-17T06:48:43.244Z"
   },
   {
    "duration": 2385,
    "start_time": "2022-04-17T06:52:21.166Z"
   },
   {
    "duration": 1414,
    "start_time": "2022-04-17T06:52:43.499Z"
   },
   {
    "duration": 1363,
    "start_time": "2022-04-17T06:53:08.880Z"
   },
   {
    "duration": 3,
    "start_time": "2022-04-17T07:05:51.856Z"
   },
   {
    "duration": 161,
    "start_time": "2022-04-17T07:07:21.871Z"
   },
   {
    "duration": 128,
    "start_time": "2022-04-17T07:07:35.839Z"
   },
   {
    "duration": 122,
    "start_time": "2022-04-17T07:08:04.326Z"
   },
   {
    "duration": 164,
    "start_time": "2022-04-17T07:08:17.248Z"
   },
   {
    "duration": 163,
    "start_time": "2022-04-17T07:08:25.280Z"
   },
   {
    "duration": 158,
    "start_time": "2022-04-17T07:08:29.740Z"
   },
   {
    "duration": 156,
    "start_time": "2022-04-17T07:08:36.453Z"
   },
   {
    "duration": 167,
    "start_time": "2022-04-17T07:08:41.573Z"
   },
   {
    "duration": 164,
    "start_time": "2022-04-17T08:31:32.865Z"
   },
   {
    "duration": 259,
    "start_time": "2022-04-17T08:31:38.398Z"
   },
   {
    "duration": 194,
    "start_time": "2022-04-17T08:32:58.754Z"
   },
   {
    "duration": 205,
    "start_time": "2022-04-17T08:33:19.722Z"
   },
   {
    "duration": 196,
    "start_time": "2022-04-17T08:33:49.622Z"
   },
   {
    "duration": 212,
    "start_time": "2022-04-17T08:35:20.567Z"
   },
   {
    "duration": 189,
    "start_time": "2022-04-17T08:36:49.061Z"
   },
   {
    "duration": 216,
    "start_time": "2022-04-17T08:37:08.173Z"
   },
   {
    "duration": 194,
    "start_time": "2022-04-17T08:37:23.348Z"
   },
   {
    "duration": 293,
    "start_time": "2022-04-17T08:37:33.902Z"
   },
   {
    "duration": 213,
    "start_time": "2022-04-17T08:37:44.054Z"
   },
   {
    "duration": 40,
    "start_time": "2022-04-17T08:42:30.666Z"
   },
   {
    "duration": 129,
    "start_time": "2022-04-17T09:02:45.194Z"
   },
   {
    "duration": 10,
    "start_time": "2022-04-17T09:02:52.196Z"
   },
   {
    "duration": 8,
    "start_time": "2022-04-17T11:53:42.350Z"
   },
   {
    "duration": 8,
    "start_time": "2022-04-17T11:53:56.855Z"
   },
   {
    "duration": 7,
    "start_time": "2022-04-17T11:54:15.014Z"
   },
   {
    "duration": 203,
    "start_time": "2022-04-17T11:59:12.155Z"
   },
   {
    "duration": 198,
    "start_time": "2022-04-17T11:59:34.650Z"
   },
   {
    "duration": 23,
    "start_time": "2022-04-17T11:59:57.517Z"
   },
   {
    "duration": 24,
    "start_time": "2022-04-17T12:00:21.946Z"
   },
   {
    "duration": 25,
    "start_time": "2022-04-17T12:00:30.062Z"
   },
   {
    "duration": 24,
    "start_time": "2022-04-17T12:00:30.961Z"
   },
   {
    "duration": 20,
    "start_time": "2022-04-17T12:00:34.028Z"
   },
   {
    "duration": 24,
    "start_time": "2022-04-17T12:00:39.156Z"
   },
   {
    "duration": 31,
    "start_time": "2022-04-17T12:00:46.831Z"
   },
   {
    "duration": 7,
    "start_time": "2022-04-17T12:04:19.627Z"
   },
   {
    "duration": 256,
    "start_time": "2022-04-17T12:04:37.157Z"
   },
   {
    "duration": 220,
    "start_time": "2022-04-17T12:05:47.359Z"
   },
   {
    "duration": 207,
    "start_time": "2022-04-17T12:06:36.628Z"
   },
   {
    "duration": 431,
    "start_time": "2022-04-17T12:06:50.018Z"
   },
   {
    "duration": 3,
    "start_time": "2022-04-17T12:06:59.122Z"
   },
   {
    "duration": 630,
    "start_time": "2022-04-17T12:06:59.127Z"
   },
   {
    "duration": 39,
    "start_time": "2022-04-17T12:06:59.759Z"
   },
   {
    "duration": 87,
    "start_time": "2022-04-17T12:06:59.800Z"
   },
   {
    "duration": 22,
    "start_time": "2022-04-17T12:06:59.889Z"
   },
   {
    "duration": 59,
    "start_time": "2022-04-17T12:06:59.912Z"
   },
   {
    "duration": 28,
    "start_time": "2022-04-17T12:06:59.973Z"
   },
   {
    "duration": 55,
    "start_time": "2022-04-17T12:07:00.004Z"
   },
   {
    "duration": 41,
    "start_time": "2022-04-17T12:07:00.061Z"
   },
   {
    "duration": 49,
    "start_time": "2022-04-17T12:07:00.104Z"
   },
   {
    "duration": 41,
    "start_time": "2022-04-17T12:07:00.156Z"
   },
   {
    "duration": 37,
    "start_time": "2022-04-17T12:07:00.199Z"
   },
   {
    "duration": 50,
    "start_time": "2022-04-17T12:07:00.238Z"
   },
   {
    "duration": 23,
    "start_time": "2022-04-17T12:07:00.291Z"
   },
   {
    "duration": 31,
    "start_time": "2022-04-17T12:07:00.316Z"
   },
   {
    "duration": 38,
    "start_time": "2022-04-17T12:07:00.349Z"
   },
   {
    "duration": 94,
    "start_time": "2022-04-17T12:07:00.389Z"
   },
   {
    "duration": 52,
    "start_time": "2022-04-17T12:07:00.485Z"
   },
   {
    "duration": 4,
    "start_time": "2022-04-17T12:07:00.539Z"
   },
   {
    "duration": 48,
    "start_time": "2022-04-17T12:07:00.545Z"
   },
   {
    "duration": 35,
    "start_time": "2022-04-17T12:07:00.595Z"
   },
   {
    "duration": 0,
    "start_time": "2022-04-17T12:07:00.631Z"
   },
   {
    "duration": 589,
    "start_time": "2022-04-17T12:07:05.438Z"
   },
   {
    "duration": 1103,
    "start_time": "2022-04-17T12:08:31.602Z"
   },
   {
    "duration": 12,
    "start_time": "2022-04-17T14:32:29.358Z"
   },
   {
    "duration": 37,
    "start_time": "2022-04-17T14:32:44.078Z"
   },
   {
    "duration": 26,
    "start_time": "2022-04-17T14:33:14.442Z"
   },
   {
    "duration": 19,
    "start_time": "2022-04-17T14:33:19.882Z"
   },
   {
    "duration": 1396,
    "start_time": "2022-04-17T14:36:33.388Z"
   },
   {
    "duration": 6,
    "start_time": "2022-04-17T14:38:44.621Z"
   },
   {
    "duration": 7,
    "start_time": "2022-04-17T14:38:51.180Z"
   },
   {
    "duration": 8,
    "start_time": "2022-04-17T14:38:54.353Z"
   },
   {
    "duration": 19,
    "start_time": "2022-04-17T14:38:55.562Z"
   },
   {
    "duration": 7,
    "start_time": "2022-04-17T14:38:56.710Z"
   },
   {
    "duration": 4,
    "start_time": "2022-04-17T14:39:01.876Z"
   },
   {
    "duration": 16399,
    "start_time": "2022-04-17T14:39:01.883Z"
   },
   {
    "duration": 59,
    "start_time": "2022-04-17T14:39:18.287Z"
   },
   {
    "duration": 92,
    "start_time": "2022-04-17T14:39:18.350Z"
   },
   {
    "duration": 10,
    "start_time": "2022-04-17T14:39:18.445Z"
   },
   {
    "duration": 6,
    "start_time": "2022-04-17T14:39:18.457Z"
   },
   {
    "duration": 4,
    "start_time": "2022-04-17T14:39:18.464Z"
   },
   {
    "duration": 10,
    "start_time": "2022-04-17T14:39:18.470Z"
   },
   {
    "duration": 41,
    "start_time": "2022-04-17T14:39:18.482Z"
   },
   {
    "duration": 21,
    "start_time": "2022-04-17T14:39:18.526Z"
   },
   {
    "duration": 38,
    "start_time": "2022-04-17T14:39:18.551Z"
   },
   {
    "duration": 32,
    "start_time": "2022-04-17T14:39:18.592Z"
   },
   {
    "duration": 16,
    "start_time": "2022-04-17T14:39:18.626Z"
   },
   {
    "duration": 17,
    "start_time": "2022-04-17T14:39:18.644Z"
   },
   {
    "duration": 61,
    "start_time": "2022-04-17T14:39:18.663Z"
   },
   {
    "duration": 53,
    "start_time": "2022-04-17T14:39:18.726Z"
   },
   {
    "duration": 151,
    "start_time": "2022-04-17T14:39:18.781Z"
   },
   {
    "duration": 38,
    "start_time": "2022-04-17T14:39:18.935Z"
   },
   {
    "duration": 4,
    "start_time": "2022-04-17T14:39:18.975Z"
   },
   {
    "duration": 71,
    "start_time": "2022-04-17T14:39:18.981Z"
   },
   {
    "duration": 1789,
    "start_time": "2022-04-17T14:39:19.055Z"
   },
   {
    "duration": 253,
    "start_time": "2022-04-17T14:39:20.846Z"
   },
   {
    "duration": 614,
    "start_time": "2022-04-17T14:39:21.101Z"
   },
   {
    "duration": 7,
    "start_time": "2022-04-17T14:39:21.722Z"
   },
   {
    "duration": 25,
    "start_time": "2022-04-17T14:39:21.731Z"
   },
   {
    "duration": 12,
    "start_time": "2022-04-17T14:41:44.303Z"
   },
   {
    "duration": 5,
    "start_time": "2022-04-17T14:41:46.879Z"
   },
   {
    "duration": 10,
    "start_time": "2022-04-17T14:44:40.574Z"
   },
   {
    "duration": 3,
    "start_time": "2022-04-17T14:45:02.711Z"
   },
   {
    "duration": 678,
    "start_time": "2022-04-17T14:45:02.716Z"
   },
   {
    "duration": 48,
    "start_time": "2022-04-17T14:45:03.396Z"
   },
   {
    "duration": 50,
    "start_time": "2022-04-17T14:45:03.446Z"
   },
   {
    "duration": 34,
    "start_time": "2022-04-17T14:45:03.498Z"
   },
   {
    "duration": 5,
    "start_time": "2022-04-17T14:45:03.534Z"
   },
   {
    "duration": 4,
    "start_time": "2022-04-17T14:45:03.540Z"
   },
   {
    "duration": 6,
    "start_time": "2022-04-17T14:45:03.546Z"
   },
   {
    "duration": 6,
    "start_time": "2022-04-17T14:45:03.553Z"
   },
   {
    "duration": 14,
    "start_time": "2022-04-17T14:45:03.560Z"
   },
   {
    "duration": 63,
    "start_time": "2022-04-17T14:45:03.577Z"
   },
   {
    "duration": 11,
    "start_time": "2022-04-17T14:45:03.642Z"
   },
   {
    "duration": 10,
    "start_time": "2022-04-17T14:45:03.654Z"
   },
   {
    "duration": 12,
    "start_time": "2022-04-17T14:45:03.665Z"
   },
   {
    "duration": 55,
    "start_time": "2022-04-17T14:45:03.678Z"
   },
   {
    "duration": 34,
    "start_time": "2022-04-17T14:45:03.736Z"
   },
   {
    "duration": 117,
    "start_time": "2022-04-17T14:45:03.771Z"
   },
   {
    "duration": 48,
    "start_time": "2022-04-17T14:45:03.889Z"
   },
   {
    "duration": 5,
    "start_time": "2022-04-17T14:45:03.941Z"
   },
   {
    "duration": 62,
    "start_time": "2022-04-17T14:45:03.948Z"
   },
   {
    "duration": 1484,
    "start_time": "2022-04-17T14:45:04.012Z"
   },
   {
    "duration": 247,
    "start_time": "2022-04-17T14:45:05.498Z"
   },
   {
    "duration": 758,
    "start_time": "2022-04-17T14:45:05.746Z"
   },
   {
    "duration": 6,
    "start_time": "2022-04-17T14:45:06.506Z"
   },
   {
    "duration": 27,
    "start_time": "2022-04-17T14:45:06.522Z"
   },
   {
    "duration": 6,
    "start_time": "2022-04-17T14:45:06.551Z"
   },
   {
    "duration": 187,
    "start_time": "2022-04-17T14:45:06.558Z"
   },
   {
    "duration": 0,
    "start_time": "2022-04-17T14:45:06.746Z"
   },
   {
    "duration": 13,
    "start_time": "2022-04-17T14:48:19.526Z"
   },
   {
    "duration": 80,
    "start_time": "2022-04-17T14:48:35.981Z"
   },
   {
    "duration": 6,
    "start_time": "2022-04-17T14:48:42.593Z"
   },
   {
    "duration": 8,
    "start_time": "2022-04-17T14:49:34.921Z"
   },
   {
    "duration": 199,
    "start_time": "2022-04-17T14:50:44.593Z"
   },
   {
    "duration": 376,
    "start_time": "2022-04-17T14:51:07.589Z"
   },
   {
    "duration": 7,
    "start_time": "2022-04-17T14:51:47.296Z"
   },
   {
    "duration": 6,
    "start_time": "2022-04-17T14:52:10.523Z"
   },
   {
    "duration": 18,
    "start_time": "2022-04-17T14:52:21.230Z"
   },
   {
    "duration": 8,
    "start_time": "2022-04-17T14:52:42.307Z"
   },
   {
    "duration": 1526,
    "start_time": "2022-04-17T14:53:05.945Z"
   },
   {
    "duration": 1532,
    "start_time": "2022-04-17T14:53:35.506Z"
   },
   {
    "duration": 205,
    "start_time": "2022-04-17T14:53:54.789Z"
   },
   {
    "duration": 1616,
    "start_time": "2022-04-17T14:54:04.966Z"
   },
   {
    "duration": 1538,
    "start_time": "2022-04-17T14:54:13.354Z"
   },
   {
    "duration": 8,
    "start_time": "2022-04-17T14:54:27.743Z"
   },
   {
    "duration": 17,
    "start_time": "2022-04-17T14:55:15.839Z"
   },
   {
    "duration": 12,
    "start_time": "2022-04-17T14:55:21.317Z"
   },
   {
    "duration": 15,
    "start_time": "2022-04-17T14:57:02.314Z"
   },
   {
    "duration": 1567,
    "start_time": "2022-04-17T14:58:01.931Z"
   },
   {
    "duration": 701,
    "start_time": "2022-04-17T14:58:03.500Z"
   },
   {
    "duration": 45,
    "start_time": "2022-04-17T14:58:04.202Z"
   },
   {
    "duration": 25,
    "start_time": "2022-04-17T14:58:04.249Z"
   },
   {
    "duration": 12,
    "start_time": "2022-04-17T14:58:04.276Z"
   },
   {
    "duration": 4,
    "start_time": "2022-04-17T14:58:04.289Z"
   },
   {
    "duration": 5,
    "start_time": "2022-04-17T14:58:04.294Z"
   },
   {
    "duration": 5,
    "start_time": "2022-04-17T14:58:04.323Z"
   },
   {
    "duration": 14,
    "start_time": "2022-04-17T14:58:04.330Z"
   },
   {
    "duration": 25,
    "start_time": "2022-04-17T14:58:04.348Z"
   },
   {
    "duration": 20,
    "start_time": "2022-04-17T14:58:04.375Z"
   },
   {
    "duration": 10,
    "start_time": "2022-04-17T14:58:04.397Z"
   },
   {
    "duration": 13,
    "start_time": "2022-04-17T14:58:04.428Z"
   },
   {
    "duration": 12,
    "start_time": "2022-04-17T14:58:04.443Z"
   },
   {
    "duration": 24,
    "start_time": "2022-04-17T14:58:04.457Z"
   },
   {
    "duration": 62,
    "start_time": "2022-04-17T14:58:04.483Z"
   },
   {
    "duration": 115,
    "start_time": "2022-04-17T14:58:04.548Z"
   },
   {
    "duration": 29,
    "start_time": "2022-04-17T14:58:04.665Z"
   },
   {
    "duration": 4,
    "start_time": "2022-04-17T14:58:04.695Z"
   },
   {
    "duration": 65,
    "start_time": "2022-04-17T14:58:04.700Z"
   },
   {
    "duration": 1516,
    "start_time": "2022-04-17T14:58:04.767Z"
   },
   {
    "duration": 256,
    "start_time": "2022-04-17T14:58:06.285Z"
   },
   {
    "duration": 715,
    "start_time": "2022-04-17T14:58:06.543Z"
   },
   {
    "duration": 6,
    "start_time": "2022-04-17T14:58:07.260Z"
   },
   {
    "duration": 28,
    "start_time": "2022-04-17T14:58:07.267Z"
   },
   {
    "duration": 6,
    "start_time": "2022-04-17T14:58:07.297Z"
   },
   {
    "duration": 33,
    "start_time": "2022-04-17T14:58:07.305Z"
   },
   {
    "duration": 620,
    "start_time": "2022-04-17T15:02:32.102Z"
   },
   {
    "duration": 1249,
    "start_time": "2022-04-17T15:02:40.952Z"
   },
   {
    "duration": 966,
    "start_time": "2022-04-17T15:02:58.400Z"
   },
   {
    "duration": 8,
    "start_time": "2022-04-17T15:10:36.538Z"
   },
   {
    "duration": 267,
    "start_time": "2022-04-17T15:28:05.860Z"
   },
   {
    "duration": 205,
    "start_time": "2022-04-17T15:28:13.526Z"
   },
   {
    "duration": 291,
    "start_time": "2022-04-17T15:28:20.423Z"
   },
   {
    "duration": 356,
    "start_time": "2022-04-17T15:28:28.531Z"
   },
   {
    "duration": 214,
    "start_time": "2022-04-17T15:28:38.477Z"
   },
   {
    "duration": 360,
    "start_time": "2022-04-17T15:28:43.136Z"
   },
   {
    "duration": 362,
    "start_time": "2022-04-17T15:28:51.031Z"
   },
   {
    "duration": 539,
    "start_time": "2022-04-17T15:28:57.237Z"
   },
   {
    "duration": 365,
    "start_time": "2022-04-17T15:29:08.823Z"
   },
   {
    "duration": 191,
    "start_time": "2022-04-17T16:50:13.847Z"
   },
   {
    "duration": 22,
    "start_time": "2022-04-17T16:50:37.967Z"
   },
   {
    "duration": 3136,
    "start_time": "2022-04-17T16:51:44.519Z"
   },
   {
    "duration": 3092,
    "start_time": "2022-04-17T16:51:47.998Z"
   },
   {
    "duration": 7,
    "start_time": "2022-04-17T16:53:39.525Z"
   },
   {
    "duration": 37,
    "start_time": "2022-04-17T17:03:22.773Z"
   },
   {
    "duration": 12,
    "start_time": "2022-04-17T17:03:39.576Z"
   },
   {
    "duration": 0,
    "start_time": "2022-04-17T17:03:39.592Z"
   },
   {
    "duration": 0,
    "start_time": "2022-04-17T17:03:39.593Z"
   },
   {
    "duration": 64,
    "start_time": "2022-04-17T17:03:39.599Z"
   },
   {
    "duration": 3298,
    "start_time": "2022-04-17T17:03:39.665Z"
   },
   {
    "duration": 0,
    "start_time": "2022-04-17T17:03:42.968Z"
   },
   {
    "duration": 0,
    "start_time": "2022-04-17T17:03:42.969Z"
   },
   {
    "duration": 0,
    "start_time": "2022-04-17T17:03:42.970Z"
   },
   {
    "duration": 0,
    "start_time": "2022-04-17T17:03:42.971Z"
   },
   {
    "duration": 0,
    "start_time": "2022-04-17T17:03:42.973Z"
   },
   {
    "duration": 0,
    "start_time": "2022-04-17T17:03:42.974Z"
   },
   {
    "duration": 0,
    "start_time": "2022-04-17T17:03:42.975Z"
   },
   {
    "duration": 0,
    "start_time": "2022-04-17T17:03:42.978Z"
   },
   {
    "duration": 0,
    "start_time": "2022-04-17T17:03:42.980Z"
   },
   {
    "duration": 0,
    "start_time": "2022-04-17T17:03:42.981Z"
   },
   {
    "duration": 0,
    "start_time": "2022-04-17T17:03:42.982Z"
   },
   {
    "duration": 0,
    "start_time": "2022-04-17T17:03:42.983Z"
   },
   {
    "duration": 0,
    "start_time": "2022-04-17T17:03:42.984Z"
   },
   {
    "duration": 0,
    "start_time": "2022-04-17T17:03:42.985Z"
   },
   {
    "duration": 0,
    "start_time": "2022-04-17T17:03:42.987Z"
   },
   {
    "duration": 0,
    "start_time": "2022-04-17T17:03:42.988Z"
   },
   {
    "duration": 0,
    "start_time": "2022-04-17T17:03:42.989Z"
   },
   {
    "duration": 0,
    "start_time": "2022-04-17T17:03:42.990Z"
   },
   {
    "duration": 0,
    "start_time": "2022-04-17T17:03:42.991Z"
   },
   {
    "duration": 0,
    "start_time": "2022-04-17T17:03:42.994Z"
   },
   {
    "duration": 0,
    "start_time": "2022-04-17T17:03:42.995Z"
   },
   {
    "duration": 0,
    "start_time": "2022-04-17T17:03:42.996Z"
   },
   {
    "duration": 0,
    "start_time": "2022-04-17T17:03:42.997Z"
   },
   {
    "duration": 0,
    "start_time": "2022-04-17T17:03:42.999Z"
   },
   {
    "duration": 0,
    "start_time": "2022-04-17T17:03:43.000Z"
   },
   {
    "duration": 3293,
    "start_time": "2022-04-17T17:04:23.066Z"
   },
   {
    "duration": 1914,
    "start_time": "2022-04-17T17:04:34.297Z"
   },
   {
    "duration": 0,
    "start_time": "2022-04-17T17:04:36.213Z"
   },
   {
    "duration": 0,
    "start_time": "2022-04-17T17:04:36.214Z"
   },
   {
    "duration": 0,
    "start_time": "2022-04-17T17:04:36.215Z"
   },
   {
    "duration": 0,
    "start_time": "2022-04-17T17:04:36.216Z"
   },
   {
    "duration": 0,
    "start_time": "2022-04-17T17:04:36.217Z"
   },
   {
    "duration": 0,
    "start_time": "2022-04-17T17:04:36.223Z"
   },
   {
    "duration": 1,
    "start_time": "2022-04-17T17:04:36.223Z"
   },
   {
    "duration": 0,
    "start_time": "2022-04-17T17:04:36.225Z"
   },
   {
    "duration": 0,
    "start_time": "2022-04-17T17:04:36.228Z"
   },
   {
    "duration": 0,
    "start_time": "2022-04-17T17:04:36.229Z"
   },
   {
    "duration": 0,
    "start_time": "2022-04-17T17:04:36.230Z"
   },
   {
    "duration": 0,
    "start_time": "2022-04-17T17:04:36.230Z"
   },
   {
    "duration": 0,
    "start_time": "2022-04-17T17:04:36.231Z"
   },
   {
    "duration": 0,
    "start_time": "2022-04-17T17:04:36.232Z"
   },
   {
    "duration": 0,
    "start_time": "2022-04-17T17:04:36.234Z"
   },
   {
    "duration": 0,
    "start_time": "2022-04-17T17:04:36.235Z"
   },
   {
    "duration": 0,
    "start_time": "2022-04-17T17:04:36.236Z"
   },
   {
    "duration": 0,
    "start_time": "2022-04-17T17:04:36.237Z"
   },
   {
    "duration": 0,
    "start_time": "2022-04-17T17:04:36.238Z"
   },
   {
    "duration": 0,
    "start_time": "2022-04-17T17:04:36.240Z"
   },
   {
    "duration": 0,
    "start_time": "2022-04-17T17:04:36.241Z"
   },
   {
    "duration": 0,
    "start_time": "2022-04-17T17:04:36.243Z"
   },
   {
    "duration": 0,
    "start_time": "2022-04-17T17:04:36.244Z"
   },
   {
    "duration": 0,
    "start_time": "2022-04-17T17:04:36.245Z"
   },
   {
    "duration": 0,
    "start_time": "2022-04-17T17:04:36.247Z"
   },
   {
    "duration": 0,
    "start_time": "2022-04-17T17:04:36.248Z"
   },
   {
    "duration": 0,
    "start_time": "2022-04-17T17:04:36.249Z"
   },
   {
    "duration": 0,
    "start_time": "2022-04-17T17:04:36.250Z"
   },
   {
    "duration": 0,
    "start_time": "2022-04-17T17:04:36.251Z"
   },
   {
    "duration": 15,
    "start_time": "2022-04-17T17:05:50.711Z"
   },
   {
    "duration": 1020,
    "start_time": "2022-04-17T17:05:50.728Z"
   },
   {
    "duration": 61,
    "start_time": "2022-04-17T17:05:51.750Z"
   },
   {
    "duration": 53,
    "start_time": "2022-04-17T17:05:51.813Z"
   },
   {
    "duration": 24,
    "start_time": "2022-04-17T17:05:51.867Z"
   },
   {
    "duration": 5,
    "start_time": "2022-04-17T17:05:51.894Z"
   },
   {
    "duration": 15,
    "start_time": "2022-04-17T17:05:51.903Z"
   },
   {
    "duration": 25,
    "start_time": "2022-04-17T17:05:51.921Z"
   },
   {
    "duration": 24,
    "start_time": "2022-04-17T17:05:51.951Z"
   },
   {
    "duration": 26,
    "start_time": "2022-04-17T17:05:51.978Z"
   },
   {
    "duration": 33,
    "start_time": "2022-04-17T17:05:52.006Z"
   },
   {
    "duration": 14,
    "start_time": "2022-04-17T17:05:52.041Z"
   },
   {
    "duration": 14,
    "start_time": "2022-04-17T17:05:52.057Z"
   },
   {
    "duration": 19,
    "start_time": "2022-04-17T17:05:52.073Z"
   },
   {
    "duration": 57,
    "start_time": "2022-04-17T17:05:52.094Z"
   },
   {
    "duration": 41,
    "start_time": "2022-04-17T17:05:52.153Z"
   },
   {
    "duration": 105,
    "start_time": "2022-04-17T17:05:52.196Z"
   },
   {
    "duration": 49,
    "start_time": "2022-04-17T17:05:52.302Z"
   },
   {
    "duration": 4,
    "start_time": "2022-04-17T17:05:52.353Z"
   },
   {
    "duration": 47,
    "start_time": "2022-04-17T17:05:52.358Z"
   },
   {
    "duration": 1713,
    "start_time": "2022-04-17T17:05:52.407Z"
   },
   {
    "duration": 290,
    "start_time": "2022-04-17T17:05:54.122Z"
   },
   {
    "duration": 820,
    "start_time": "2022-04-17T17:05:54.414Z"
   },
   {
    "duration": 11,
    "start_time": "2022-04-17T17:05:55.238Z"
   },
   {
    "duration": 49,
    "start_time": "2022-04-17T17:05:55.251Z"
   },
   {
    "duration": 7,
    "start_time": "2022-04-17T17:05:55.302Z"
   },
   {
    "duration": 15,
    "start_time": "2022-04-17T17:05:55.311Z"
   },
   {
    "duration": 23,
    "start_time": "2022-04-17T17:05:55.328Z"
   },
   {
    "duration": 19,
    "start_time": "2022-04-17T17:05:55.353Z"
   },
   {
    "duration": 77,
    "start_time": "2022-04-17T17:05:55.374Z"
   },
   {
    "duration": 87,
    "start_time": "2022-04-17T17:07:48.533Z"
   },
   {
    "duration": 73,
    "start_time": "2022-04-17T17:10:07.955Z"
   },
   {
    "duration": 35,
    "start_time": "2022-04-17T17:10:31.831Z"
   },
   {
    "duration": 84,
    "start_time": "2022-04-17T17:10:38.454Z"
   },
   {
    "duration": 89,
    "start_time": "2022-04-17T17:11:05.304Z"
   },
   {
    "duration": 101,
    "start_time": "2022-04-17T17:50:30.902Z"
   },
   {
    "duration": 54,
    "start_time": "2022-04-17T18:00:07.001Z"
   },
   {
    "duration": 14,
    "start_time": "2022-04-17T18:00:52.225Z"
   },
   {
    "duration": 4,
    "start_time": "2022-04-17T18:05:52.072Z"
   },
   {
    "duration": 55,
    "start_time": "2022-04-17T18:05:58.016Z"
   },
   {
    "duration": 6,
    "start_time": "2022-04-17T18:06:14.327Z"
   },
   {
    "duration": 8601,
    "start_time": "2022-04-17T18:06:14.336Z"
   },
   {
    "duration": 44,
    "start_time": "2022-04-17T18:06:22.939Z"
   },
   {
    "duration": 59,
    "start_time": "2022-04-17T18:06:22.984Z"
   },
   {
    "duration": 12,
    "start_time": "2022-04-17T18:06:23.049Z"
   },
   {
    "duration": 5,
    "start_time": "2022-04-17T18:06:23.063Z"
   },
   {
    "duration": 3,
    "start_time": "2022-04-17T18:06:23.070Z"
   },
   {
    "duration": 5,
    "start_time": "2022-04-17T18:06:23.075Z"
   },
   {
    "duration": 7,
    "start_time": "2022-04-17T18:06:23.082Z"
   },
   {
    "duration": 40,
    "start_time": "2022-04-17T18:06:23.091Z"
   },
   {
    "duration": 42,
    "start_time": "2022-04-17T18:06:23.135Z"
   },
   {
    "duration": 11,
    "start_time": "2022-04-17T18:06:23.179Z"
   },
   {
    "duration": 10,
    "start_time": "2022-04-17T18:06:23.191Z"
   },
   {
    "duration": 32,
    "start_time": "2022-04-17T18:06:23.203Z"
   },
   {
    "duration": 28,
    "start_time": "2022-04-17T18:06:23.237Z"
   },
   {
    "duration": 33,
    "start_time": "2022-04-17T18:06:23.267Z"
   },
   {
    "duration": 99,
    "start_time": "2022-04-17T18:06:23.323Z"
   },
   {
    "duration": 34,
    "start_time": "2022-04-17T18:06:23.427Z"
   },
   {
    "duration": 4,
    "start_time": "2022-04-17T18:06:23.463Z"
   },
   {
    "duration": 68,
    "start_time": "2022-04-17T18:06:23.469Z"
   },
   {
    "duration": 1655,
    "start_time": "2022-04-17T18:06:23.539Z"
   },
   {
    "duration": 269,
    "start_time": "2022-04-17T18:06:25.196Z"
   },
   {
    "duration": 639,
    "start_time": "2022-04-17T18:06:25.467Z"
   },
   {
    "duration": 7,
    "start_time": "2022-04-17T18:06:26.107Z"
   },
   {
    "duration": 33,
    "start_time": "2022-04-17T18:06:26.123Z"
   },
   {
    "duration": 6,
    "start_time": "2022-04-17T18:06:26.160Z"
   },
   {
    "duration": 15,
    "start_time": "2022-04-17T18:06:26.168Z"
   },
   {
    "duration": 5,
    "start_time": "2022-04-17T18:06:26.185Z"
   },
   {
    "duration": 76,
    "start_time": "2022-04-17T18:06:26.194Z"
   },
   {
    "duration": 3,
    "start_time": "2022-04-17T18:06:26.272Z"
   },
   {
    "duration": 81,
    "start_time": "2022-04-17T18:06:26.276Z"
   },
   {
    "duration": 52,
    "start_time": "2022-04-17T18:06:26.359Z"
   },
   {
    "duration": 2,
    "start_time": "2022-04-17T18:07:03.636Z"
   },
   {
    "duration": 6,
    "start_time": "2022-04-17T18:07:24.741Z"
   },
   {
    "duration": 49,
    "start_time": "2022-04-17T18:08:14.654Z"
   },
   {
    "duration": 72,
    "start_time": "2022-04-17T18:08:17.985Z"
   },
   {
    "duration": 68,
    "start_time": "2022-04-17T18:08:54.690Z"
   },
   {
    "duration": 65,
    "start_time": "2022-04-17T18:09:26.618Z"
   },
   {
    "duration": 87,
    "start_time": "2022-04-17T18:09:58.505Z"
   },
   {
    "duration": 86,
    "start_time": "2022-04-17T18:10:31.453Z"
   },
   {
    "duration": 78,
    "start_time": "2022-04-17T18:10:45.079Z"
   },
   {
    "duration": 111,
    "start_time": "2022-04-17T18:11:23.758Z"
   },
   {
    "duration": 87,
    "start_time": "2022-04-17T18:11:38.493Z"
   },
   {
    "duration": 83,
    "start_time": "2022-04-17T18:12:20.688Z"
   },
   {
    "duration": 69,
    "start_time": "2022-04-17T18:12:39.827Z"
   },
   {
    "duration": 73,
    "start_time": "2022-04-17T18:12:54.709Z"
   },
   {
    "duration": 59,
    "start_time": "2022-04-17T18:13:14.292Z"
   },
   {
    "duration": 78,
    "start_time": "2022-04-17T18:13:52.471Z"
   },
   {
    "duration": 52,
    "start_time": "2022-04-17T18:14:31.454Z"
   },
   {
    "duration": 4,
    "start_time": "2022-04-17T18:20:00.171Z"
   },
   {
    "duration": 773,
    "start_time": "2022-04-17T18:20:00.180Z"
   },
   {
    "duration": 38,
    "start_time": "2022-04-17T18:20:00.968Z"
   },
   {
    "duration": 59,
    "start_time": "2022-04-17T18:20:01.007Z"
   },
   {
    "duration": 11,
    "start_time": "2022-04-17T18:20:01.069Z"
   },
   {
    "duration": 15,
    "start_time": "2022-04-17T18:20:01.081Z"
   },
   {
    "duration": 5,
    "start_time": "2022-04-17T18:20:01.098Z"
   },
   {
    "duration": 41,
    "start_time": "2022-04-17T18:20:01.104Z"
   },
   {
    "duration": 11,
    "start_time": "2022-04-17T18:20:01.147Z"
   },
   {
    "duration": 26,
    "start_time": "2022-04-17T18:20:01.160Z"
   },
   {
    "duration": 42,
    "start_time": "2022-04-17T18:20:01.190Z"
   },
   {
    "duration": 22,
    "start_time": "2022-04-17T18:20:01.237Z"
   },
   {
    "duration": 19,
    "start_time": "2022-04-17T18:20:01.261Z"
   },
   {
    "duration": 17,
    "start_time": "2022-04-17T18:20:01.283Z"
   },
   {
    "duration": 39,
    "start_time": "2022-04-17T18:20:01.302Z"
   },
   {
    "duration": 42,
    "start_time": "2022-04-17T18:20:01.347Z"
   },
   {
    "duration": 112,
    "start_time": "2022-04-17T18:20:01.391Z"
   },
   {
    "duration": 51,
    "start_time": "2022-04-17T18:20:01.505Z"
   },
   {
    "duration": 5,
    "start_time": "2022-04-17T18:20:01.558Z"
   },
   {
    "duration": 70,
    "start_time": "2022-04-17T18:20:01.565Z"
   },
   {
    "duration": 1840,
    "start_time": "2022-04-17T18:20:01.639Z"
   },
   {
    "duration": 247,
    "start_time": "2022-04-17T18:20:03.481Z"
   },
   {
    "duration": 839,
    "start_time": "2022-04-17T18:20:03.731Z"
   },
   {
    "duration": 7,
    "start_time": "2022-04-17T18:20:04.572Z"
   },
   {
    "duration": 26,
    "start_time": "2022-04-17T18:20:04.580Z"
   },
   {
    "duration": 9,
    "start_time": "2022-04-17T18:20:04.624Z"
   },
   {
    "duration": 19,
    "start_time": "2022-04-17T18:20:04.636Z"
   },
   {
    "duration": 6,
    "start_time": "2022-04-17T18:20:04.657Z"
   },
   {
    "duration": 3,
    "start_time": "2022-04-17T18:20:04.666Z"
   },
   {
    "duration": 8,
    "start_time": "2022-04-17T18:20:04.671Z"
   },
   {
    "duration": 94,
    "start_time": "2022-04-17T18:20:04.681Z"
   },
   {
    "duration": 87,
    "start_time": "2022-04-17T18:21:09.771Z"
   },
   {
    "duration": 54,
    "start_time": "2022-04-17T18:22:39.078Z"
   },
   {
    "duration": 71,
    "start_time": "2022-04-17T18:22:51.626Z"
   },
   {
    "duration": 97,
    "start_time": "2022-04-17T18:23:08.122Z"
   },
   {
    "duration": 22,
    "start_time": "2022-04-17T18:28:13.507Z"
   },
   {
    "duration": 23,
    "start_time": "2022-04-17T18:28:35.348Z"
   },
   {
    "duration": 21,
    "start_time": "2022-04-17T18:28:36.440Z"
   },
   {
    "duration": 5,
    "start_time": "2022-04-17T18:28:39.736Z"
   },
   {
    "duration": 1108,
    "start_time": "2022-04-17T18:28:39.745Z"
   },
   {
    "duration": 52,
    "start_time": "2022-04-17T18:28:40.855Z"
   },
   {
    "duration": 86,
    "start_time": "2022-04-17T18:28:40.909Z"
   },
   {
    "duration": 8,
    "start_time": "2022-04-17T18:28:40.998Z"
   },
   {
    "duration": 13,
    "start_time": "2022-04-17T18:28:41.027Z"
   },
   {
    "duration": 28,
    "start_time": "2022-04-17T18:28:41.043Z"
   },
   {
    "duration": 20,
    "start_time": "2022-04-17T18:28:41.074Z"
   },
   {
    "duration": 34,
    "start_time": "2022-04-17T18:28:41.096Z"
   },
   {
    "duration": 38,
    "start_time": "2022-04-17T18:28:41.132Z"
   },
   {
    "duration": 71,
    "start_time": "2022-04-17T18:28:41.173Z"
   },
   {
    "duration": 13,
    "start_time": "2022-04-17T18:28:41.246Z"
   },
   {
    "duration": 26,
    "start_time": "2022-04-17T18:28:41.262Z"
   },
   {
    "duration": 22,
    "start_time": "2022-04-17T18:28:41.292Z"
   },
   {
    "duration": 40,
    "start_time": "2022-04-17T18:28:41.325Z"
   },
   {
    "duration": 46,
    "start_time": "2022-04-17T18:28:41.367Z"
   },
   {
    "duration": 141,
    "start_time": "2022-04-17T18:28:41.429Z"
   },
   {
    "duration": 33,
    "start_time": "2022-04-17T18:28:41.573Z"
   },
   {
    "duration": 17,
    "start_time": "2022-04-17T18:28:41.608Z"
   },
   {
    "duration": 82,
    "start_time": "2022-04-17T18:28:41.627Z"
   },
   {
    "duration": 2432,
    "start_time": "2022-04-17T18:28:41.711Z"
   },
   {
    "duration": 416,
    "start_time": "2022-04-17T18:28:44.147Z"
   },
   {
    "duration": 695,
    "start_time": "2022-04-17T18:28:44.568Z"
   },
   {
    "duration": 8,
    "start_time": "2022-04-17T18:28:45.271Z"
   },
   {
    "duration": 29,
    "start_time": "2022-04-17T18:28:45.280Z"
   },
   {
    "duration": 19,
    "start_time": "2022-04-17T18:28:45.311Z"
   },
   {
    "duration": 24,
    "start_time": "2022-04-17T18:28:45.332Z"
   },
   {
    "duration": 7,
    "start_time": "2022-04-17T18:28:45.358Z"
   },
   {
    "duration": 6,
    "start_time": "2022-04-17T18:28:45.370Z"
   },
   {
    "duration": 31,
    "start_time": "2022-04-17T18:28:45.378Z"
   },
   {
    "duration": 97,
    "start_time": "2022-04-17T18:28:45.411Z"
   },
   {
    "duration": 24,
    "start_time": "2022-04-17T18:30:30.531Z"
   },
   {
    "duration": 16,
    "start_time": "2022-04-17T18:36:49.400Z"
   },
   {
    "duration": 14,
    "start_time": "2022-04-17T18:36:57.707Z"
   },
   {
    "duration": 4,
    "start_time": "2022-04-17T18:37:12.296Z"
   },
   {
    "duration": 869,
    "start_time": "2022-04-17T18:37:12.304Z"
   },
   {
    "duration": 65,
    "start_time": "2022-04-17T18:37:13.175Z"
   },
   {
    "duration": 51,
    "start_time": "2022-04-17T18:37:13.242Z"
   },
   {
    "duration": 8,
    "start_time": "2022-04-17T18:37:13.295Z"
   },
   {
    "duration": 23,
    "start_time": "2022-04-17T18:37:13.304Z"
   },
   {
    "duration": 16,
    "start_time": "2022-04-17T18:37:13.331Z"
   },
   {
    "duration": 30,
    "start_time": "2022-04-17T18:37:13.349Z"
   },
   {
    "duration": 18,
    "start_time": "2022-04-17T18:37:13.381Z"
   },
   {
    "duration": 34,
    "start_time": "2022-04-17T18:37:13.401Z"
   },
   {
    "duration": 42,
    "start_time": "2022-04-17T18:37:13.438Z"
   },
   {
    "duration": 18,
    "start_time": "2022-04-17T18:37:13.482Z"
   },
   {
    "duration": 27,
    "start_time": "2022-04-17T18:37:13.502Z"
   },
   {
    "duration": 21,
    "start_time": "2022-04-17T18:37:13.531Z"
   },
   {
    "duration": 38,
    "start_time": "2022-04-17T18:37:13.554Z"
   },
   {
    "duration": 33,
    "start_time": "2022-04-17T18:37:13.594Z"
   },
   {
    "duration": 114,
    "start_time": "2022-04-17T18:37:13.629Z"
   },
   {
    "duration": 30,
    "start_time": "2022-04-17T18:37:13.744Z"
   },
   {
    "duration": 3,
    "start_time": "2022-04-17T18:37:13.776Z"
   },
   {
    "duration": 74,
    "start_time": "2022-04-17T18:37:13.781Z"
   },
   {
    "duration": 1512,
    "start_time": "2022-04-17T18:37:13.857Z"
   },
   {
    "duration": 261,
    "start_time": "2022-04-17T18:37:15.370Z"
   },
   {
    "duration": 798,
    "start_time": "2022-04-17T18:37:15.635Z"
   },
   {
    "duration": 9,
    "start_time": "2022-04-17T18:37:16.435Z"
   },
   {
    "duration": 29,
    "start_time": "2022-04-17T18:37:16.447Z"
   },
   {
    "duration": 7,
    "start_time": "2022-04-17T18:37:16.478Z"
   },
   {
    "duration": 17,
    "start_time": "2022-04-17T18:37:16.487Z"
   },
   {
    "duration": 6,
    "start_time": "2022-04-17T18:37:16.506Z"
   },
   {
    "duration": 5,
    "start_time": "2022-04-17T18:37:16.522Z"
   },
   {
    "duration": 21,
    "start_time": "2022-04-17T18:37:16.530Z"
   },
   {
    "duration": 198,
    "start_time": "2022-04-17T18:37:16.553Z"
   },
   {
    "duration": 4,
    "start_time": "2022-04-17T18:38:41.265Z"
   },
   {
    "duration": 890,
    "start_time": "2022-04-17T18:38:41.272Z"
   },
   {
    "duration": 68,
    "start_time": "2022-04-17T18:38:42.165Z"
   },
   {
    "duration": 60,
    "start_time": "2022-04-17T18:38:42.235Z"
   },
   {
    "duration": 29,
    "start_time": "2022-04-17T18:38:42.299Z"
   },
   {
    "duration": 5,
    "start_time": "2022-04-17T18:38:42.331Z"
   },
   {
    "duration": 6,
    "start_time": "2022-04-17T18:38:42.338Z"
   },
   {
    "duration": 13,
    "start_time": "2022-04-17T18:38:42.347Z"
   },
   {
    "duration": 17,
    "start_time": "2022-04-17T18:38:42.362Z"
   },
   {
    "duration": 27,
    "start_time": "2022-04-17T18:38:42.381Z"
   },
   {
    "duration": 59,
    "start_time": "2022-04-17T18:38:42.412Z"
   },
   {
    "duration": 11,
    "start_time": "2022-04-17T18:38:42.473Z"
   },
   {
    "duration": 17,
    "start_time": "2022-04-17T18:38:42.486Z"
   },
   {
    "duration": 41,
    "start_time": "2022-04-17T18:38:42.505Z"
   },
   {
    "duration": 23,
    "start_time": "2022-04-17T18:38:42.549Z"
   },
   {
    "duration": 61,
    "start_time": "2022-04-17T18:38:42.574Z"
   },
   {
    "duration": 113,
    "start_time": "2022-04-17T18:38:42.637Z"
   },
   {
    "duration": 33,
    "start_time": "2022-04-17T18:38:42.752Z"
   },
   {
    "duration": 4,
    "start_time": "2022-04-17T18:38:42.787Z"
   },
   {
    "duration": 86,
    "start_time": "2022-04-17T18:38:42.793Z"
   },
   {
    "duration": 1494,
    "start_time": "2022-04-17T18:38:42.881Z"
   },
   {
    "duration": 271,
    "start_time": "2022-04-17T18:38:44.379Z"
   },
   {
    "duration": 742,
    "start_time": "2022-04-17T18:38:44.652Z"
   },
   {
    "duration": 7,
    "start_time": "2022-04-17T18:38:45.397Z"
   },
   {
    "duration": 42,
    "start_time": "2022-04-17T18:38:45.406Z"
   },
   {
    "duration": 6,
    "start_time": "2022-04-17T18:38:45.449Z"
   },
   {
    "duration": 19,
    "start_time": "2022-04-17T18:38:45.457Z"
   },
   {
    "duration": 6,
    "start_time": "2022-04-17T18:38:45.478Z"
   },
   {
    "duration": 7,
    "start_time": "2022-04-17T18:38:45.487Z"
   },
   {
    "duration": 25,
    "start_time": "2022-04-17T18:38:45.496Z"
   },
   {
    "duration": 61,
    "start_time": "2022-04-17T18:38:45.529Z"
   },
   {
    "duration": 42,
    "start_time": "2022-04-17T18:39:43.411Z"
   },
   {
    "duration": 13,
    "start_time": "2022-04-17T18:39:50.546Z"
   },
   {
    "duration": 12,
    "start_time": "2022-04-17T18:40:03.290Z"
   },
   {
    "duration": 8,
    "start_time": "2022-04-17T18:40:11.480Z"
   },
   {
    "duration": 5,
    "start_time": "2022-04-17T18:40:15.755Z"
   },
   {
    "duration": 6,
    "start_time": "2022-04-17T18:41:06.843Z"
   },
   {
    "duration": 5,
    "start_time": "2022-04-17T18:41:35.658Z"
   },
   {
    "duration": 9,
    "start_time": "2022-04-17T18:41:43.268Z"
   },
   {
    "duration": 57,
    "start_time": "2022-04-17T18:41:53.625Z"
   },
   {
    "duration": 62,
    "start_time": "2022-04-17T18:42:39.844Z"
   },
   {
    "duration": 70,
    "start_time": "2022-04-17T18:42:45.763Z"
   },
   {
    "duration": 6,
    "start_time": "2022-04-17T18:43:09.091Z"
   },
   {
    "duration": 56,
    "start_time": "2022-04-17T18:43:12.038Z"
   },
   {
    "duration": 85,
    "start_time": "2022-04-17T18:43:41.633Z"
   },
   {
    "duration": 70,
    "start_time": "2022-04-17T18:44:20.692Z"
   },
   {
    "duration": 69,
    "start_time": "2022-04-17T18:45:35.707Z"
   },
   {
    "duration": 1005,
    "start_time": "2022-04-17T18:45:40.143Z"
   },
   {
    "duration": 2361,
    "start_time": "2022-04-17T18:46:18.079Z"
   },
   {
    "duration": 37,
    "start_time": "2022-04-17T18:58:39.258Z"
   },
   {
    "duration": 169,
    "start_time": "2022-04-17T18:58:56.738Z"
   },
   {
    "duration": 5,
    "start_time": "2022-04-17T18:59:04.426Z"
   },
   {
    "duration": 9856,
    "start_time": "2022-04-17T18:59:04.435Z"
   },
   {
    "duration": 53,
    "start_time": "2022-04-17T18:59:14.293Z"
   },
   {
    "duration": 111,
    "start_time": "2022-04-17T18:59:14.349Z"
   },
   {
    "duration": 8,
    "start_time": "2022-04-17T18:59:14.462Z"
   },
   {
    "duration": 4,
    "start_time": "2022-04-17T18:59:14.472Z"
   },
   {
    "duration": 8,
    "start_time": "2022-04-17T18:59:14.478Z"
   },
   {
    "duration": 7,
    "start_time": "2022-04-17T18:59:14.487Z"
   },
   {
    "duration": 42,
    "start_time": "2022-04-17T18:59:14.497Z"
   },
   {
    "duration": 19,
    "start_time": "2022-04-17T18:59:14.541Z"
   },
   {
    "duration": 35,
    "start_time": "2022-04-17T18:59:14.562Z"
   },
   {
    "duration": 11,
    "start_time": "2022-04-17T18:59:14.598Z"
   },
   {
    "duration": 18,
    "start_time": "2022-04-17T18:59:14.631Z"
   },
   {
    "duration": 15,
    "start_time": "2022-04-17T18:59:14.654Z"
   },
   {
    "duration": 25,
    "start_time": "2022-04-17T18:59:14.671Z"
   },
   {
    "duration": 60,
    "start_time": "2022-04-17T18:59:14.698Z"
   },
   {
    "duration": 93,
    "start_time": "2022-04-17T18:59:14.762Z"
   },
   {
    "duration": 39,
    "start_time": "2022-04-17T18:59:14.857Z"
   },
   {
    "duration": 4,
    "start_time": "2022-04-17T18:59:14.898Z"
   },
   {
    "duration": 61,
    "start_time": "2022-04-17T18:59:14.904Z"
   },
   {
    "duration": 1938,
    "start_time": "2022-04-17T18:59:14.967Z"
   },
   {
    "duration": 332,
    "start_time": "2022-04-17T18:59:16.907Z"
   },
   {
    "duration": 998,
    "start_time": "2022-04-17T18:59:17.241Z"
   },
   {
    "duration": 8,
    "start_time": "2022-04-17T18:59:18.243Z"
   },
   {
    "duration": 84,
    "start_time": "2022-04-17T18:59:18.253Z"
   },
   {
    "duration": 10,
    "start_time": "2022-04-17T18:59:18.339Z"
   },
   {
    "duration": 72,
    "start_time": "2022-04-17T18:59:18.354Z"
   },
   {
    "duration": 8,
    "start_time": "2022-04-17T18:59:18.428Z"
   },
   {
    "duration": 3,
    "start_time": "2022-04-17T18:59:18.438Z"
   },
   {
    "duration": 118,
    "start_time": "2022-04-17T18:59:18.444Z"
   },
   {
    "duration": 1562,
    "start_time": "2022-04-17T18:59:18.563Z"
   },
   {
    "duration": 150,
    "start_time": "2022-04-17T18:59:53.531Z"
   },
   {
    "duration": 5,
    "start_time": "2022-04-17T19:00:17.466Z"
   },
   {
    "duration": 5,
    "start_time": "2022-04-17T19:00:21.720Z"
   },
   {
    "duration": 12,
    "start_time": "2022-04-17T19:01:00.969Z"
   },
   {
    "duration": 780,
    "start_time": "2022-04-17T19:05:00.508Z"
   },
   {
    "duration": 40,
    "start_time": "2022-04-17T19:05:07.357Z"
   },
   {
    "duration": 110,
    "start_time": "2022-04-17T19:05:17.570Z"
   },
   {
    "duration": 4,
    "start_time": "2022-04-17T19:05:27.403Z"
   },
   {
    "duration": 753,
    "start_time": "2022-04-17T19:05:27.412Z"
   },
   {
    "duration": 73,
    "start_time": "2022-04-17T19:05:28.168Z"
   },
   {
    "duration": 114,
    "start_time": "2022-04-17T19:05:28.243Z"
   },
   {
    "duration": 6,
    "start_time": "2022-04-17T19:05:28.359Z"
   },
   {
    "duration": 7,
    "start_time": "2022-04-17T19:05:28.367Z"
   },
   {
    "duration": 4,
    "start_time": "2022-04-17T19:05:28.376Z"
   },
   {
    "duration": 3,
    "start_time": "2022-04-17T19:05:28.382Z"
   },
   {
    "duration": 48,
    "start_time": "2022-04-17T19:05:28.386Z"
   },
   {
    "duration": 12,
    "start_time": "2022-04-17T19:05:28.440Z"
   },
   {
    "duration": 18,
    "start_time": "2022-04-17T19:05:28.456Z"
   },
   {
    "duration": 58,
    "start_time": "2022-04-17T19:05:28.475Z"
   },
   {
    "duration": 12,
    "start_time": "2022-04-17T19:05:28.535Z"
   },
   {
    "duration": 13,
    "start_time": "2022-04-17T19:05:28.549Z"
   },
   {
    "duration": 16,
    "start_time": "2022-04-17T19:05:28.564Z"
   },
   {
    "duration": 62,
    "start_time": "2022-04-17T19:05:28.582Z"
   },
   {
    "duration": 154,
    "start_time": "2022-04-17T19:05:28.646Z"
   },
   {
    "duration": 96,
    "start_time": "2022-04-17T19:05:28.802Z"
   },
   {
    "duration": 52,
    "start_time": "2022-04-17T19:05:28.900Z"
   },
   {
    "duration": 5,
    "start_time": "2022-04-17T19:05:28.954Z"
   },
   {
    "duration": 72,
    "start_time": "2022-04-17T19:05:28.960Z"
   },
   {
    "duration": 1477,
    "start_time": "2022-04-17T19:05:29.034Z"
   },
   {
    "duration": 276,
    "start_time": "2022-04-17T19:05:30.513Z"
   },
   {
    "duration": 1634,
    "start_time": "2022-04-17T19:05:30.791Z"
   },
   {
    "duration": 9,
    "start_time": "2022-04-17T19:05:32.427Z"
   },
   {
    "duration": 34,
    "start_time": "2022-04-17T19:05:32.438Z"
   },
   {
    "duration": 56,
    "start_time": "2022-04-17T19:05:32.474Z"
   },
   {
    "duration": 16,
    "start_time": "2022-04-17T19:05:32.531Z"
   },
   {
    "duration": 5,
    "start_time": "2022-04-17T19:05:32.551Z"
   },
   {
    "duration": 6,
    "start_time": "2022-04-17T19:05:32.558Z"
   },
   {
    "duration": 172,
    "start_time": "2022-04-17T19:05:32.569Z"
   },
   {
    "duration": 1488,
    "start_time": "2022-04-17T19:05:32.746Z"
   },
   {
    "duration": 720,
    "start_time": "2022-04-17T19:06:07.219Z"
   },
   {
    "duration": 5,
    "start_time": "2022-04-17T19:06:10.666Z"
   },
   {
    "duration": 763,
    "start_time": "2022-04-17T19:06:10.674Z"
   },
   {
    "duration": 55,
    "start_time": "2022-04-17T19:06:11.440Z"
   },
   {
    "duration": 157,
    "start_time": "2022-04-17T19:06:11.496Z"
   },
   {
    "duration": 4,
    "start_time": "2022-04-17T19:06:11.655Z"
   },
   {
    "duration": 13,
    "start_time": "2022-04-17T19:06:11.660Z"
   },
   {
    "duration": 5,
    "start_time": "2022-04-17T19:06:11.674Z"
   },
   {
    "duration": 5,
    "start_time": "2022-04-17T19:06:11.680Z"
   },
   {
    "duration": 6,
    "start_time": "2022-04-17T19:06:11.687Z"
   },
   {
    "duration": 36,
    "start_time": "2022-04-17T19:06:11.695Z"
   },
   {
    "duration": 15,
    "start_time": "2022-04-17T19:06:11.735Z"
   },
   {
    "duration": 35,
    "start_time": "2022-04-17T19:06:11.752Z"
   },
   {
    "duration": 10,
    "start_time": "2022-04-17T19:06:11.789Z"
   },
   {
    "duration": 33,
    "start_time": "2022-04-17T19:06:11.801Z"
   },
   {
    "duration": 18,
    "start_time": "2022-04-17T19:06:11.836Z"
   },
   {
    "duration": 19,
    "start_time": "2022-04-17T19:06:11.855Z"
   },
   {
    "duration": 57,
    "start_time": "2022-04-17T19:06:11.875Z"
   },
   {
    "duration": 125,
    "start_time": "2022-04-17T19:06:11.934Z"
   },
   {
    "duration": 38,
    "start_time": "2022-04-17T19:06:12.061Z"
   },
   {
    "duration": 4,
    "start_time": "2022-04-17T19:06:12.101Z"
   },
   {
    "duration": 62,
    "start_time": "2022-04-17T19:06:12.124Z"
   },
   {
    "duration": 1631,
    "start_time": "2022-04-17T19:06:12.188Z"
   },
   {
    "duration": 341,
    "start_time": "2022-04-17T19:06:13.821Z"
   },
   {
    "duration": 1088,
    "start_time": "2022-04-17T19:06:14.164Z"
   },
   {
    "duration": 8,
    "start_time": "2022-04-17T19:06:15.255Z"
   },
   {
    "duration": 83,
    "start_time": "2022-04-17T19:06:15.267Z"
   },
   {
    "duration": 8,
    "start_time": "2022-04-17T19:06:15.352Z"
   },
   {
    "duration": 85,
    "start_time": "2022-04-17T19:06:15.362Z"
   },
   {
    "duration": 7,
    "start_time": "2022-04-17T19:06:15.451Z"
   },
   {
    "duration": 4,
    "start_time": "2022-04-17T19:06:15.460Z"
   },
   {
    "duration": 56,
    "start_time": "2022-04-17T19:06:15.466Z"
   },
   {
    "duration": 0,
    "start_time": "2022-04-17T19:06:15.524Z"
   },
   {
    "duration": 4,
    "start_time": "2022-04-17T19:06:49.999Z"
   },
   {
    "duration": 788,
    "start_time": "2022-04-17T19:06:50.008Z"
   },
   {
    "duration": 56,
    "start_time": "2022-04-17T19:06:50.799Z"
   },
   {
    "duration": 117,
    "start_time": "2022-04-17T19:06:50.864Z"
   },
   {
    "duration": 4,
    "start_time": "2022-04-17T19:06:50.983Z"
   },
   {
    "duration": 9,
    "start_time": "2022-04-17T19:06:50.989Z"
   },
   {
    "duration": 27,
    "start_time": "2022-04-17T19:06:51.000Z"
   },
   {
    "duration": 3,
    "start_time": "2022-04-17T19:06:51.029Z"
   },
   {
    "duration": 7,
    "start_time": "2022-04-17T19:06:51.034Z"
   },
   {
    "duration": 13,
    "start_time": "2022-04-17T19:06:51.043Z"
   },
   {
    "duration": 18,
    "start_time": "2022-04-17T19:06:51.061Z"
   },
   {
    "duration": 75,
    "start_time": "2022-04-17T19:06:51.081Z"
   },
   {
    "duration": 20,
    "start_time": "2022-04-17T19:06:51.158Z"
   },
   {
    "duration": 19,
    "start_time": "2022-04-17T19:06:51.180Z"
   },
   {
    "duration": 0,
    "start_time": "2022-04-17T19:06:51.201Z"
   },
   {
    "duration": 0,
    "start_time": "2022-04-17T19:06:51.202Z"
   },
   {
    "duration": 0,
    "start_time": "2022-04-17T19:06:51.203Z"
   },
   {
    "duration": 0,
    "start_time": "2022-04-17T19:06:51.204Z"
   },
   {
    "duration": 0,
    "start_time": "2022-04-17T19:06:51.206Z"
   },
   {
    "duration": 0,
    "start_time": "2022-04-17T19:06:51.232Z"
   },
   {
    "duration": 0,
    "start_time": "2022-04-17T19:06:51.233Z"
   },
   {
    "duration": 0,
    "start_time": "2022-04-17T19:06:51.235Z"
   },
   {
    "duration": 0,
    "start_time": "2022-04-17T19:06:51.236Z"
   },
   {
    "duration": 0,
    "start_time": "2022-04-17T19:06:51.239Z"
   },
   {
    "duration": 0,
    "start_time": "2022-04-17T19:06:51.241Z"
   },
   {
    "duration": 0,
    "start_time": "2022-04-17T19:06:51.242Z"
   },
   {
    "duration": 0,
    "start_time": "2022-04-17T19:06:51.243Z"
   },
   {
    "duration": 0,
    "start_time": "2022-04-17T19:06:51.244Z"
   },
   {
    "duration": 0,
    "start_time": "2022-04-17T19:06:51.245Z"
   },
   {
    "duration": 0,
    "start_time": "2022-04-17T19:06:51.246Z"
   },
   {
    "duration": 0,
    "start_time": "2022-04-17T19:06:51.247Z"
   },
   {
    "duration": 0,
    "start_time": "2022-04-17T19:06:51.249Z"
   },
   {
    "duration": 5,
    "start_time": "2022-04-17T19:07:27.826Z"
   },
   {
    "duration": 784,
    "start_time": "2022-04-17T19:07:27.833Z"
   },
   {
    "duration": 51,
    "start_time": "2022-04-17T19:07:28.625Z"
   },
   {
    "duration": 176,
    "start_time": "2022-04-17T19:07:28.678Z"
   },
   {
    "duration": 4,
    "start_time": "2022-04-17T19:07:28.857Z"
   },
   {
    "duration": 11,
    "start_time": "2022-04-17T19:07:28.863Z"
   },
   {
    "duration": 5,
    "start_time": "2022-04-17T19:07:28.875Z"
   },
   {
    "duration": 3,
    "start_time": "2022-04-17T19:07:28.882Z"
   },
   {
    "duration": 8,
    "start_time": "2022-04-17T19:07:28.886Z"
   },
   {
    "duration": 15,
    "start_time": "2022-04-17T19:07:28.933Z"
   },
   {
    "duration": 14,
    "start_time": "2022-04-17T19:07:28.954Z"
   },
   {
    "duration": 62,
    "start_time": "2022-04-17T19:07:28.970Z"
   },
   {
    "duration": 19,
    "start_time": "2022-04-17T19:07:29.034Z"
   },
   {
    "duration": 24,
    "start_time": "2022-04-17T19:07:29.055Z"
   },
   {
    "duration": 0,
    "start_time": "2022-04-17T19:07:29.081Z"
   },
   {
    "duration": 0,
    "start_time": "2022-04-17T19:07:29.083Z"
   },
   {
    "duration": 0,
    "start_time": "2022-04-17T19:07:29.084Z"
   },
   {
    "duration": 0,
    "start_time": "2022-04-17T19:07:29.085Z"
   },
   {
    "duration": 0,
    "start_time": "2022-04-17T19:07:29.086Z"
   },
   {
    "duration": 0,
    "start_time": "2022-04-17T19:07:29.087Z"
   },
   {
    "duration": 1,
    "start_time": "2022-04-17T19:07:29.088Z"
   },
   {
    "duration": 0,
    "start_time": "2022-04-17T19:07:29.090Z"
   },
   {
    "duration": 0,
    "start_time": "2022-04-17T19:07:29.092Z"
   },
   {
    "duration": 0,
    "start_time": "2022-04-17T19:07:29.093Z"
   },
   {
    "duration": 0,
    "start_time": "2022-04-17T19:07:29.122Z"
   },
   {
    "duration": 0,
    "start_time": "2022-04-17T19:07:29.123Z"
   },
   {
    "duration": 0,
    "start_time": "2022-04-17T19:07:29.124Z"
   },
   {
    "duration": 0,
    "start_time": "2022-04-17T19:07:29.127Z"
   },
   {
    "duration": 0,
    "start_time": "2022-04-17T19:07:29.128Z"
   },
   {
    "duration": 0,
    "start_time": "2022-04-17T19:07:29.128Z"
   },
   {
    "duration": 0,
    "start_time": "2022-04-17T19:07:29.129Z"
   },
   {
    "duration": 0,
    "start_time": "2022-04-17T19:07:29.130Z"
   },
   {
    "duration": 4,
    "start_time": "2022-04-17T19:08:21.861Z"
   },
   {
    "duration": 801,
    "start_time": "2022-04-17T19:08:21.867Z"
   },
   {
    "duration": 69,
    "start_time": "2022-04-17T19:08:22.670Z"
   },
   {
    "duration": 163,
    "start_time": "2022-04-17T19:08:22.741Z"
   },
   {
    "duration": 25,
    "start_time": "2022-04-17T19:08:22.907Z"
   },
   {
    "duration": 12,
    "start_time": "2022-04-17T19:08:22.940Z"
   },
   {
    "duration": 6,
    "start_time": "2022-04-17T19:08:22.955Z"
   },
   {
    "duration": 3,
    "start_time": "2022-04-17T19:08:22.966Z"
   },
   {
    "duration": 21,
    "start_time": "2022-04-17T19:08:22.971Z"
   },
   {
    "duration": 7,
    "start_time": "2022-04-17T19:08:22.994Z"
   },
   {
    "duration": 34,
    "start_time": "2022-04-17T19:08:23.005Z"
   },
   {
    "duration": 66,
    "start_time": "2022-04-17T19:08:23.041Z"
   },
   {
    "duration": 38,
    "start_time": "2022-04-17T19:08:23.109Z"
   },
   {
    "duration": 23,
    "start_time": "2022-04-17T19:08:23.154Z"
   },
   {
    "duration": 13,
    "start_time": "2022-04-17T19:08:23.179Z"
   },
   {
    "duration": 42,
    "start_time": "2022-04-17T19:08:23.193Z"
   },
   {
    "duration": 54,
    "start_time": "2022-04-17T19:08:23.238Z"
   },
   {
    "duration": 138,
    "start_time": "2022-04-17T19:08:23.294Z"
   },
   {
    "duration": 33,
    "start_time": "2022-04-17T19:08:23.437Z"
   },
   {
    "duration": 5,
    "start_time": "2022-04-17T19:08:23.472Z"
   },
   {
    "duration": 72,
    "start_time": "2022-04-17T19:08:23.478Z"
   },
   {
    "duration": 1663,
    "start_time": "2022-04-17T19:08:23.552Z"
   },
   {
    "duration": 273,
    "start_time": "2022-04-17T19:08:25.217Z"
   },
   {
    "duration": 784,
    "start_time": "2022-04-17T19:08:25.492Z"
   },
   {
    "duration": 7,
    "start_time": "2022-04-17T19:08:26.278Z"
   },
   {
    "duration": 45,
    "start_time": "2022-04-17T19:08:26.286Z"
   },
   {
    "duration": 9,
    "start_time": "2022-04-17T19:08:26.335Z"
   },
   {
    "duration": 26,
    "start_time": "2022-04-17T19:08:26.346Z"
   },
   {
    "duration": 8,
    "start_time": "2022-04-17T19:08:26.377Z"
   },
   {
    "duration": 4,
    "start_time": "2022-04-17T19:08:26.387Z"
   },
   {
    "duration": 4,
    "start_time": "2022-04-17T19:08:26.393Z"
   },
   {
    "duration": 36,
    "start_time": "2022-04-17T19:08:26.399Z"
   },
   {
    "duration": 5,
    "start_time": "2022-04-17T19:10:00.814Z"
   },
   {
    "duration": 43,
    "start_time": "2022-04-17T19:10:02.035Z"
   },
   {
    "duration": 46,
    "start_time": "2022-04-17T19:10:23.361Z"
   },
   {
    "duration": 4,
    "start_time": "2022-04-17T19:10:46.424Z"
   },
   {
    "duration": 801,
    "start_time": "2022-04-17T19:10:46.429Z"
   },
   {
    "duration": 57,
    "start_time": "2022-04-17T19:10:47.233Z"
   },
   {
    "duration": 136,
    "start_time": "2022-04-17T19:10:47.292Z"
   },
   {
    "duration": 7,
    "start_time": "2022-04-17T19:10:47.430Z"
   },
   {
    "duration": 16,
    "start_time": "2022-04-17T19:10:47.440Z"
   },
   {
    "duration": 4,
    "start_time": "2022-04-17T19:10:47.459Z"
   },
   {
    "duration": 5,
    "start_time": "2022-04-17T19:10:47.465Z"
   },
   {
    "duration": 5,
    "start_time": "2022-04-17T19:10:47.472Z"
   },
   {
    "duration": 15,
    "start_time": "2022-04-17T19:10:47.479Z"
   },
   {
    "duration": 41,
    "start_time": "2022-04-17T19:10:47.498Z"
   },
   {
    "duration": 51,
    "start_time": "2022-04-17T19:10:47.544Z"
   },
   {
    "duration": 14,
    "start_time": "2022-04-17T19:10:47.597Z"
   },
   {
    "duration": 41,
    "start_time": "2022-04-17T19:10:47.613Z"
   },
   {
    "duration": 16,
    "start_time": "2022-04-17T19:10:47.656Z"
   },
   {
    "duration": 18,
    "start_time": "2022-04-17T19:10:47.674Z"
   },
   {
    "duration": 69,
    "start_time": "2022-04-17T19:10:47.693Z"
   },
   {
    "duration": 97,
    "start_time": "2022-04-17T19:10:47.765Z"
   },
   {
    "duration": 27,
    "start_time": "2022-04-17T19:10:47.864Z"
   },
   {
    "duration": 4,
    "start_time": "2022-04-17T19:10:47.893Z"
   },
   {
    "duration": 73,
    "start_time": "2022-04-17T19:10:47.900Z"
   },
   {
    "duration": 1811,
    "start_time": "2022-04-17T19:10:47.974Z"
   },
   {
    "duration": 275,
    "start_time": "2022-04-17T19:10:49.787Z"
   },
   {
    "duration": 832,
    "start_time": "2022-04-17T19:10:50.064Z"
   },
   {
    "duration": 7,
    "start_time": "2022-04-17T19:10:50.898Z"
   },
   {
    "duration": 53,
    "start_time": "2022-04-17T19:10:50.907Z"
   },
   {
    "duration": 8,
    "start_time": "2022-04-17T19:10:50.961Z"
   },
   {
    "duration": 14,
    "start_time": "2022-04-17T19:10:50.971Z"
   },
   {
    "duration": 5,
    "start_time": "2022-04-17T19:10:50.988Z"
   },
   {
    "duration": 30,
    "start_time": "2022-04-17T19:10:50.996Z"
   },
   {
    "duration": 7,
    "start_time": "2022-04-17T19:10:51.032Z"
   },
   {
    "duration": 37,
    "start_time": "2022-04-17T19:10:51.043Z"
   },
   {
    "duration": 13,
    "start_time": "2022-04-17T19:11:45.878Z"
   },
   {
    "duration": 37,
    "start_time": "2022-04-17T19:11:52.030Z"
   },
   {
    "duration": 195,
    "start_time": "2022-04-17T19:13:19.010Z"
   },
   {
    "duration": 38,
    "start_time": "2022-04-17T19:13:32.944Z"
   },
   {
    "duration": 44,
    "start_time": "2022-04-17T19:13:50.108Z"
   },
   {
    "duration": 734,
    "start_time": "2022-04-17T19:15:03.095Z"
   },
   {
    "duration": 16,
    "start_time": "2022-04-17T19:17:32.699Z"
   },
   {
    "duration": 5,
    "start_time": "2022-04-17T19:20:33.474Z"
   },
   {
    "duration": 3563,
    "start_time": "2022-04-17T19:20:35.954Z"
   },
   {
    "duration": 44,
    "start_time": "2022-04-17T19:21:00.868Z"
   },
   {
    "duration": 7,
    "start_time": "2022-04-17T19:21:29.251Z"
   },
   {
    "duration": 3006,
    "start_time": "2022-04-17T19:21:32.031Z"
   },
   {
    "duration": 44,
    "start_time": "2022-04-17T19:21:45.958Z"
   },
   {
    "duration": 4,
    "start_time": "2022-04-17T19:21:49.226Z"
   },
   {
    "duration": 796,
    "start_time": "2022-04-17T19:21:49.232Z"
   },
   {
    "duration": 45,
    "start_time": "2022-04-17T19:21:50.033Z"
   },
   {
    "duration": 123,
    "start_time": "2022-04-17T19:21:50.080Z"
   },
   {
    "duration": 3,
    "start_time": "2022-04-17T19:21:50.206Z"
   },
   {
    "duration": 16,
    "start_time": "2022-04-17T19:21:50.228Z"
   },
   {
    "duration": 4,
    "start_time": "2022-04-17T19:21:50.246Z"
   },
   {
    "duration": 13,
    "start_time": "2022-04-17T19:21:50.252Z"
   },
   {
    "duration": 8,
    "start_time": "2022-04-17T19:21:50.267Z"
   },
   {
    "duration": 19,
    "start_time": "2022-04-17T19:21:50.277Z"
   },
   {
    "duration": 19,
    "start_time": "2022-04-17T19:21:50.298Z"
   },
   {
    "duration": 45,
    "start_time": "2022-04-17T19:21:50.319Z"
   },
   {
    "duration": 19,
    "start_time": "2022-04-17T19:21:50.365Z"
   },
   {
    "duration": 19,
    "start_time": "2022-04-17T19:21:50.387Z"
   },
   {
    "duration": 30,
    "start_time": "2022-04-17T19:21:50.407Z"
   },
   {
    "duration": 22,
    "start_time": "2022-04-17T19:21:50.439Z"
   },
   {
    "duration": 30,
    "start_time": "2022-04-17T19:21:50.462Z"
   },
   {
    "duration": 97,
    "start_time": "2022-04-17T19:21:50.493Z"
   },
   {
    "duration": 43,
    "start_time": "2022-04-17T19:21:50.591Z"
   },
   {
    "duration": 7,
    "start_time": "2022-04-17T19:21:50.636Z"
   },
   {
    "duration": 57,
    "start_time": "2022-04-17T19:21:50.644Z"
   },
   {
    "duration": 1527,
    "start_time": "2022-04-17T19:21:50.703Z"
   },
   {
    "duration": 241,
    "start_time": "2022-04-17T19:21:52.232Z"
   },
   {
    "duration": 761,
    "start_time": "2022-04-17T19:21:52.474Z"
   },
   {
    "duration": 9,
    "start_time": "2022-04-17T19:21:53.239Z"
   },
   {
    "duration": 35,
    "start_time": "2022-04-17T19:21:53.250Z"
   },
   {
    "duration": 5,
    "start_time": "2022-04-17T19:21:53.287Z"
   },
   {
    "duration": 43,
    "start_time": "2022-04-17T19:21:53.294Z"
   },
   {
    "duration": 10,
    "start_time": "2022-04-17T19:21:53.339Z"
   },
   {
    "duration": 27,
    "start_time": "2022-04-17T19:21:53.350Z"
   },
   {
    "duration": 773,
    "start_time": "2022-04-17T19:21:53.378Z"
   },
   {
    "duration": 1480,
    "start_time": "2022-04-17T19:23:08.590Z"
   },
   {
    "duration": 2093,
    "start_time": "2022-04-17T19:23:26.340Z"
   },
   {
    "duration": 637,
    "start_time": "2022-04-17T19:23:42.821Z"
   },
   {
    "duration": 806,
    "start_time": "2022-04-17T19:24:33.755Z"
   },
   {
    "duration": 1926,
    "start_time": "2022-04-17T19:24:46.844Z"
   },
   {
    "duration": 1240,
    "start_time": "2022-04-17T19:25:16.805Z"
   },
   {
    "duration": 712,
    "start_time": "2022-04-17T19:27:10.642Z"
   },
   {
    "duration": 965,
    "start_time": "2022-04-17T19:30:20.511Z"
   },
   {
    "duration": 1416,
    "start_time": "2022-04-17T19:33:51.163Z"
   },
   {
    "duration": 1146,
    "start_time": "2022-04-17T19:34:21.510Z"
   },
   {
    "duration": 1962,
    "start_time": "2022-04-17T19:36:44.098Z"
   },
   {
    "duration": 1400,
    "start_time": "2022-04-17T19:36:56.962Z"
   },
   {
    "duration": 3519,
    "start_time": "2022-04-17T20:09:12.648Z"
   },
   {
    "duration": 3189,
    "start_time": "2022-04-17T20:15:17.663Z"
   },
   {
    "duration": 3077,
    "start_time": "2022-04-17T20:15:49.496Z"
   },
   {
    "duration": 3136,
    "start_time": "2022-04-17T20:16:27.815Z"
   },
   {
    "duration": 9,
    "start_time": "2022-04-17T20:16:46.273Z"
   },
   {
    "duration": 924,
    "start_time": "2022-04-17T20:16:46.284Z"
   },
   {
    "duration": 66,
    "start_time": "2022-04-17T20:16:47.211Z"
   },
   {
    "duration": 181,
    "start_time": "2022-04-17T20:16:47.279Z"
   },
   {
    "duration": 4,
    "start_time": "2022-04-17T20:16:47.463Z"
   },
   {
    "duration": 12,
    "start_time": "2022-04-17T20:16:47.469Z"
   },
   {
    "duration": 17,
    "start_time": "2022-04-17T20:16:47.483Z"
   },
   {
    "duration": 30,
    "start_time": "2022-04-17T20:16:47.502Z"
   },
   {
    "duration": 15,
    "start_time": "2022-04-17T20:16:47.534Z"
   },
   {
    "duration": 29,
    "start_time": "2022-04-17T20:16:47.551Z"
   },
   {
    "duration": 18,
    "start_time": "2022-04-17T20:16:47.584Z"
   },
   {
    "duration": 50,
    "start_time": "2022-04-17T20:16:47.604Z"
   },
   {
    "duration": 24,
    "start_time": "2022-04-17T20:16:47.656Z"
   },
   {
    "duration": 40,
    "start_time": "2022-04-17T20:16:47.682Z"
   },
   {
    "duration": 41,
    "start_time": "2022-04-17T20:16:47.724Z"
   },
   {
    "duration": 16,
    "start_time": "2022-04-17T20:16:47.767Z"
   },
   {
    "duration": 47,
    "start_time": "2022-04-17T20:16:47.785Z"
   },
   {
    "duration": 90,
    "start_time": "2022-04-17T20:16:47.835Z"
   },
   {
    "duration": 33,
    "start_time": "2022-04-17T20:16:47.928Z"
   },
   {
    "duration": 4,
    "start_time": "2022-04-17T20:16:47.963Z"
   },
   {
    "duration": 94,
    "start_time": "2022-04-17T20:16:47.970Z"
   },
   {
    "duration": 2482,
    "start_time": "2022-04-17T20:16:48.067Z"
   },
   {
    "duration": 338,
    "start_time": "2022-04-17T20:16:50.551Z"
   },
   {
    "duration": 882,
    "start_time": "2022-04-17T20:16:50.891Z"
   },
   {
    "duration": 8,
    "start_time": "2022-04-17T20:16:51.776Z"
   },
   {
    "duration": 53,
    "start_time": "2022-04-17T20:16:51.786Z"
   },
   {
    "duration": 8,
    "start_time": "2022-04-17T20:16:51.842Z"
   },
   {
    "duration": 15,
    "start_time": "2022-04-17T20:16:51.852Z"
   },
   {
    "duration": 4,
    "start_time": "2022-04-17T20:16:51.870Z"
   },
   {
    "duration": 3097,
    "start_time": "2022-04-17T20:16:51.875Z"
   },
   {
    "duration": 0,
    "start_time": "2022-04-17T20:16:54.974Z"
   },
   {
    "duration": 3045,
    "start_time": "2022-04-17T20:18:08.324Z"
   },
   {
    "duration": 11,
    "start_time": "2022-04-17T20:18:31.905Z"
   },
   {
    "duration": 5,
    "start_time": "2022-04-17T20:19:14.069Z"
   },
   {
    "duration": 203,
    "start_time": "2022-04-17T20:26:51.152Z"
   },
   {
    "duration": 1772,
    "start_time": "2022-04-17T20:27:14.563Z"
   },
   {
    "duration": 6,
    "start_time": "2022-04-17T20:53:09.943Z"
   },
   {
    "duration": 815,
    "start_time": "2022-04-17T20:55:16.708Z"
   },
   {
    "duration": 719,
    "start_time": "2022-04-17T20:56:07.607Z"
   },
   {
    "duration": 43,
    "start_time": "2022-04-17T20:56:34.682Z"
   },
   {
    "duration": 4,
    "start_time": "2022-04-17T20:57:14.211Z"
   },
   {
    "duration": 678,
    "start_time": "2022-04-17T20:57:14.219Z"
   },
   {
    "duration": 57,
    "start_time": "2022-04-17T20:57:14.899Z"
   },
   {
    "duration": 126,
    "start_time": "2022-04-17T20:57:14.958Z"
   },
   {
    "duration": 4,
    "start_time": "2022-04-17T20:57:15.086Z"
   },
   {
    "duration": 12,
    "start_time": "2022-04-17T20:57:15.091Z"
   },
   {
    "duration": 11,
    "start_time": "2022-04-17T20:57:15.123Z"
   },
   {
    "duration": 3,
    "start_time": "2022-04-17T20:57:15.136Z"
   },
   {
    "duration": 6,
    "start_time": "2022-04-17T20:57:15.141Z"
   },
   {
    "duration": 7,
    "start_time": "2022-04-17T20:57:15.149Z"
   },
   {
    "duration": 14,
    "start_time": "2022-04-17T20:57:15.158Z"
   },
   {
    "duration": 72,
    "start_time": "2022-04-17T20:57:15.173Z"
   },
   {
    "duration": 13,
    "start_time": "2022-04-17T20:57:15.247Z"
   },
   {
    "duration": 17,
    "start_time": "2022-04-17T20:57:15.262Z"
   },
   {
    "duration": 10,
    "start_time": "2022-04-17T20:57:15.281Z"
   },
   {
    "duration": 47,
    "start_time": "2022-04-17T20:57:15.293Z"
   },
   {
    "duration": 31,
    "start_time": "2022-04-17T20:57:15.343Z"
   },
   {
    "duration": 110,
    "start_time": "2022-04-17T20:57:15.376Z"
   },
   {
    "duration": 40,
    "start_time": "2022-04-17T20:57:15.488Z"
   },
   {
    "duration": 5,
    "start_time": "2022-04-17T20:57:15.530Z"
   },
   {
    "duration": 54,
    "start_time": "2022-04-17T20:57:15.537Z"
   },
   {
    "duration": 1570,
    "start_time": "2022-04-17T20:57:15.593Z"
   },
   {
    "duration": 243,
    "start_time": "2022-04-17T20:57:17.166Z"
   },
   {
    "duration": 733,
    "start_time": "2022-04-17T20:57:17.411Z"
   },
   {
    "duration": 6,
    "start_time": "2022-04-17T20:57:18.145Z"
   },
   {
    "duration": 24,
    "start_time": "2022-04-17T20:57:18.153Z"
   },
   {
    "duration": 6,
    "start_time": "2022-04-17T20:57:18.179Z"
   },
   {
    "duration": 42,
    "start_time": "2022-04-17T20:57:18.186Z"
   },
   {
    "duration": 4,
    "start_time": "2022-04-17T20:57:18.232Z"
   },
   {
    "duration": 49,
    "start_time": "2022-04-17T20:57:18.237Z"
   },
   {
    "duration": 746,
    "start_time": "2022-04-17T20:57:18.287Z"
   },
   {
    "duration": 1019,
    "start_time": "2022-04-17T20:57:48.928Z"
   },
   {
    "duration": 181,
    "start_time": "2022-04-17T20:58:04.259Z"
   },
   {
    "duration": 1011,
    "start_time": "2022-04-17T20:58:09.915Z"
   },
   {
    "duration": 810,
    "start_time": "2022-04-17T20:58:34.034Z"
   },
   {
    "duration": 4,
    "start_time": "2022-04-17T21:02:45.168Z"
   },
   {
    "duration": 7,
    "start_time": "2022-04-17T21:09:11.859Z"
   },
   {
    "duration": 11,
    "start_time": "2022-04-17T21:09:21.382Z"
   },
   {
    "duration": 11,
    "start_time": "2022-04-17T21:09:44.073Z"
   },
   {
    "duration": 1001,
    "start_time": "2022-04-17T21:10:04.031Z"
   },
   {
    "duration": 11,
    "start_time": "2022-04-17T21:22:02.838Z"
   },
   {
    "duration": 4,
    "start_time": "2022-04-17T21:23:06.004Z"
   },
   {
    "duration": 5,
    "start_time": "2022-04-17T21:23:12.762Z"
   },
   {
    "duration": 5,
    "start_time": "2022-04-17T21:23:19.491Z"
   },
   {
    "duration": 10,
    "start_time": "2022-04-17T21:24:45.528Z"
   },
   {
    "duration": 4,
    "start_time": "2022-04-17T21:25:22.488Z"
   },
   {
    "duration": 4,
    "start_time": "2022-04-17T21:25:30.592Z"
   },
   {
    "duration": 11,
    "start_time": "2022-04-17T21:25:31.785Z"
   },
   {
    "duration": 4,
    "start_time": "2022-04-17T21:27:01.463Z"
   },
   {
    "duration": 27222,
    "start_time": "2022-04-17T21:27:05.376Z"
   },
   {
    "duration": 27451,
    "start_time": "2022-04-17T21:28:49.320Z"
   },
   {
    "duration": 4,
    "start_time": "2022-04-17T21:29:49.129Z"
   },
   {
    "duration": 9,
    "start_time": "2022-04-17T21:29:52.137Z"
   },
   {
    "duration": 5,
    "start_time": "2022-04-17T21:29:55.262Z"
   },
   {
    "duration": 27246,
    "start_time": "2022-04-17T21:29:56.991Z"
   },
   {
    "duration": 32951,
    "start_time": "2022-04-17T21:30:26.045Z"
   },
   {
    "duration": 514,
    "start_time": "2022-04-17T21:36:29.810Z"
   },
   {
    "duration": 1929,
    "start_time": "2022-04-17T21:37:02.179Z"
   },
   {
    "duration": 679,
    "start_time": "2022-04-17T21:37:04.110Z"
   },
   {
    "duration": 53,
    "start_time": "2022-04-17T21:37:04.790Z"
   },
   {
    "duration": 51,
    "start_time": "2022-04-17T21:37:04.845Z"
   },
   {
    "duration": 35,
    "start_time": "2022-04-17T21:37:04.898Z"
   },
   {
    "duration": 4,
    "start_time": "2022-04-17T21:37:04.935Z"
   },
   {
    "duration": 4,
    "start_time": "2022-04-17T21:37:04.942Z"
   },
   {
    "duration": 8,
    "start_time": "2022-04-17T21:37:04.947Z"
   },
   {
    "duration": 7,
    "start_time": "2022-04-17T21:37:04.956Z"
   },
   {
    "duration": 14,
    "start_time": "2022-04-17T21:37:04.966Z"
   },
   {
    "duration": 49,
    "start_time": "2022-04-17T21:37:04.982Z"
   },
   {
    "duration": 14,
    "start_time": "2022-04-17T21:37:05.033Z"
   },
   {
    "duration": 15,
    "start_time": "2022-04-17T21:37:05.049Z"
   },
   {
    "duration": 5,
    "start_time": "2022-04-17T21:37:05.065Z"
   },
   {
    "duration": 16,
    "start_time": "2022-04-17T21:37:05.072Z"
   },
   {
    "duration": 47,
    "start_time": "2022-04-17T21:37:05.090Z"
   },
   {
    "duration": 30,
    "start_time": "2022-04-17T21:37:05.138Z"
   },
   {
    "duration": 95,
    "start_time": "2022-04-17T21:37:05.170Z"
   },
   {
    "duration": 28,
    "start_time": "2022-04-17T21:37:05.267Z"
   },
   {
    "duration": 26,
    "start_time": "2022-04-17T21:37:05.297Z"
   },
   {
    "duration": 41,
    "start_time": "2022-04-17T21:37:05.324Z"
   },
   {
    "duration": 1355,
    "start_time": "2022-04-17T21:37:05.367Z"
   },
   {
    "duration": 242,
    "start_time": "2022-04-17T21:37:06.724Z"
   },
   {
    "duration": 676,
    "start_time": "2022-04-17T21:37:06.967Z"
   },
   {
    "duration": 7,
    "start_time": "2022-04-17T21:37:07.645Z"
   },
   {
    "duration": 30,
    "start_time": "2022-04-17T21:37:07.653Z"
   },
   {
    "duration": 6,
    "start_time": "2022-04-17T21:37:07.685Z"
   },
   {
    "duration": 35,
    "start_time": "2022-04-17T21:37:07.695Z"
   },
   {
    "duration": 4,
    "start_time": "2022-04-17T21:37:07.732Z"
   },
   {
    "duration": 11,
    "start_time": "2022-04-17T21:37:07.738Z"
   },
   {
    "duration": 4,
    "start_time": "2022-04-17T21:37:07.751Z"
   },
   {
    "duration": 4569,
    "start_time": "2022-04-17T21:37:07.756Z"
   },
   {
    "duration": 3948,
    "start_time": "2022-04-17T21:38:36.386Z"
   },
   {
    "duration": 72,
    "start_time": "2022-04-17T21:46:58.386Z"
   },
   {
    "duration": 2053,
    "start_time": "2022-04-17T21:47:05.766Z"
   },
   {
    "duration": 12226,
    "start_time": "2022-04-17T21:47:07.821Z"
   },
   {
    "duration": 54,
    "start_time": "2022-04-17T21:47:20.048Z"
   },
   {
    "duration": 101,
    "start_time": "2022-04-17T21:47:20.123Z"
   },
   {
    "duration": 10,
    "start_time": "2022-04-17T21:47:20.226Z"
   },
   {
    "duration": 18,
    "start_time": "2022-04-17T21:47:20.238Z"
   },
   {
    "duration": 14,
    "start_time": "2022-04-17T21:47:20.258Z"
   },
   {
    "duration": 22,
    "start_time": "2022-04-17T21:47:20.274Z"
   },
   {
    "duration": 17,
    "start_time": "2022-04-17T21:47:20.298Z"
   },
   {
    "duration": 30,
    "start_time": "2022-04-17T21:47:20.319Z"
   },
   {
    "duration": 32,
    "start_time": "2022-04-17T21:47:20.351Z"
   },
   {
    "duration": 25,
    "start_time": "2022-04-17T21:47:20.385Z"
   },
   {
    "duration": 36,
    "start_time": "2022-04-17T21:47:20.412Z"
   },
   {
    "duration": 9,
    "start_time": "2022-04-17T21:47:20.450Z"
   },
   {
    "duration": 38,
    "start_time": "2022-04-17T21:47:20.460Z"
   },
   {
    "duration": 32,
    "start_time": "2022-04-17T21:47:20.501Z"
   },
   {
    "duration": 47,
    "start_time": "2022-04-17T21:47:20.536Z"
   },
   {
    "duration": 160,
    "start_time": "2022-04-17T21:47:20.585Z"
   },
   {
    "duration": 38,
    "start_time": "2022-04-17T21:47:20.748Z"
   },
   {
    "duration": 4,
    "start_time": "2022-04-17T21:47:20.788Z"
   },
   {
    "duration": 79,
    "start_time": "2022-04-17T21:47:20.795Z"
   },
   {
    "duration": 2122,
    "start_time": "2022-04-17T21:47:20.876Z"
   },
   {
    "duration": 354,
    "start_time": "2022-04-17T21:47:23.001Z"
   },
   {
    "duration": 1017,
    "start_time": "2022-04-17T21:47:23.357Z"
   },
   {
    "duration": 8,
    "start_time": "2022-04-17T21:47:24.376Z"
   },
   {
    "duration": 45,
    "start_time": "2022-04-17T21:47:24.386Z"
   },
   {
    "duration": 7,
    "start_time": "2022-04-17T21:47:24.433Z"
   },
   {
    "duration": 16,
    "start_time": "2022-04-17T21:47:24.444Z"
   },
   {
    "duration": 5,
    "start_time": "2022-04-17T21:47:24.462Z"
   },
   {
    "duration": 13,
    "start_time": "2022-04-17T21:47:24.469Z"
   },
   {
    "duration": 39,
    "start_time": "2022-04-17T21:47:24.485Z"
   },
   {
    "duration": 64,
    "start_time": "2022-04-17T21:47:58.626Z"
   },
   {
    "duration": 9,
    "start_time": "2022-04-17T21:48:50.083Z"
   },
   {
    "duration": 2069,
    "start_time": "2022-04-17T21:48:59.615Z"
   },
   {
    "duration": 8988,
    "start_time": "2022-04-17T21:49:01.687Z"
   },
   {
    "duration": 47,
    "start_time": "2022-04-17T21:49:10.676Z"
   },
   {
    "duration": 54,
    "start_time": "2022-04-17T21:49:10.725Z"
   },
   {
    "duration": 11,
    "start_time": "2022-04-17T21:49:10.781Z"
   },
   {
    "duration": 28,
    "start_time": "2022-04-17T21:49:10.794Z"
   },
   {
    "duration": 2,
    "start_time": "2022-04-17T21:49:10.824Z"
   },
   {
    "duration": 17,
    "start_time": "2022-04-17T21:49:10.828Z"
   },
   {
    "duration": 24,
    "start_time": "2022-04-17T21:49:10.846Z"
   },
   {
    "duration": 24,
    "start_time": "2022-04-17T21:49:10.873Z"
   },
   {
    "duration": 30,
    "start_time": "2022-04-17T21:49:10.899Z"
   },
   {
    "duration": 26,
    "start_time": "2022-04-17T21:49:10.931Z"
   },
   {
    "duration": 16,
    "start_time": "2022-04-17T21:49:10.958Z"
   },
   {
    "duration": 13,
    "start_time": "2022-04-17T21:49:10.976Z"
   },
   {
    "duration": 25,
    "start_time": "2022-04-17T21:49:10.991Z"
   },
   {
    "duration": 19,
    "start_time": "2022-04-17T21:49:11.018Z"
   },
   {
    "duration": 31,
    "start_time": "2022-04-17T21:49:11.039Z"
   },
   {
    "duration": 95,
    "start_time": "2022-04-17T21:49:11.071Z"
   },
   {
    "duration": 29,
    "start_time": "2022-04-17T21:49:11.167Z"
   },
   {
    "duration": 26,
    "start_time": "2022-04-17T21:49:11.197Z"
   },
   {
    "duration": 75,
    "start_time": "2022-04-17T21:49:11.225Z"
   },
   {
    "duration": 2320,
    "start_time": "2022-04-17T21:49:11.302Z"
   },
   {
    "duration": 385,
    "start_time": "2022-04-17T21:49:13.624Z"
   },
   {
    "duration": 1077,
    "start_time": "2022-04-17T21:49:14.011Z"
   },
   {
    "duration": 8,
    "start_time": "2022-04-17T21:49:15.090Z"
   },
   {
    "duration": 34,
    "start_time": "2022-04-17T21:49:15.100Z"
   },
   {
    "duration": 8,
    "start_time": "2022-04-17T21:49:15.136Z"
   },
   {
    "duration": 21,
    "start_time": "2022-04-17T21:49:15.148Z"
   },
   {
    "duration": 5,
    "start_time": "2022-04-17T21:49:15.171Z"
   },
   {
    "duration": 20,
    "start_time": "2022-04-17T21:49:15.178Z"
   },
   {
    "duration": 14,
    "start_time": "2022-04-17T21:49:15.200Z"
   },
   {
    "duration": 22,
    "start_time": "2022-04-17T21:49:15.216Z"
   },
   {
    "duration": 58,
    "start_time": "2022-04-17T22:03:16.614Z"
   },
   {
    "duration": 1957,
    "start_time": "2022-04-17T22:07:14.857Z"
   },
   {
    "duration": 14201,
    "start_time": "2022-04-17T22:07:16.816Z"
   },
   {
    "duration": 39,
    "start_time": "2022-04-17T22:07:31.019Z"
   },
   {
    "duration": 63,
    "start_time": "2022-04-17T22:07:31.060Z"
   },
   {
    "duration": 11,
    "start_time": "2022-04-17T22:07:31.125Z"
   },
   {
    "duration": 21,
    "start_time": "2022-04-17T22:07:31.137Z"
   },
   {
    "duration": 17,
    "start_time": "2022-04-17T22:07:31.159Z"
   },
   {
    "duration": 21,
    "start_time": "2022-04-17T22:07:31.177Z"
   },
   {
    "duration": 13,
    "start_time": "2022-04-17T22:07:31.200Z"
   },
   {
    "duration": 16,
    "start_time": "2022-04-17T22:07:31.216Z"
   },
   {
    "duration": 20,
    "start_time": "2022-04-17T22:07:31.234Z"
   },
   {
    "duration": 16,
    "start_time": "2022-04-17T22:07:31.256Z"
   },
   {
    "duration": 21,
    "start_time": "2022-04-17T22:07:31.274Z"
   },
   {
    "duration": 5,
    "start_time": "2022-04-17T22:07:31.297Z"
   },
   {
    "duration": 31,
    "start_time": "2022-04-17T22:07:31.303Z"
   },
   {
    "duration": 20,
    "start_time": "2022-04-17T22:07:31.336Z"
   },
   {
    "duration": 31,
    "start_time": "2022-04-17T22:07:31.358Z"
   },
   {
    "duration": 79,
    "start_time": "2022-04-17T22:07:31.422Z"
   },
   {
    "duration": 28,
    "start_time": "2022-04-17T22:07:31.522Z"
   },
   {
    "duration": 3,
    "start_time": "2022-04-17T22:07:31.552Z"
   },
   {
    "duration": 67,
    "start_time": "2022-04-17T22:07:31.558Z"
   },
   {
    "duration": 1414,
    "start_time": "2022-04-17T22:07:31.628Z"
   },
   {
    "duration": 229,
    "start_time": "2022-04-17T22:07:33.044Z"
   },
   {
    "duration": 747,
    "start_time": "2022-04-17T22:07:33.275Z"
   },
   {
    "duration": 6,
    "start_time": "2022-04-17T22:07:34.024Z"
   },
   {
    "duration": 45,
    "start_time": "2022-04-17T22:07:34.032Z"
   },
   {
    "duration": 6,
    "start_time": "2022-04-17T22:07:34.078Z"
   },
   {
    "duration": 20,
    "start_time": "2022-04-17T22:07:34.087Z"
   },
   {
    "duration": 18,
    "start_time": "2022-04-17T22:07:34.108Z"
   },
   {
    "duration": 22,
    "start_time": "2022-04-17T22:07:34.127Z"
   },
   {
    "duration": 6,
    "start_time": "2022-04-17T22:07:34.150Z"
   },
   {
    "duration": 2369,
    "start_time": "2022-04-17T22:07:34.158Z"
   },
   {
    "duration": 183,
    "start_time": "2022-04-17T22:09:33.338Z"
   },
   {
    "duration": 399,
    "start_time": "2022-04-17T22:09:42.166Z"
   },
   {
    "duration": 629,
    "start_time": "2022-04-17T22:09:59.187Z"
   },
   {
    "duration": 28337,
    "start_time": "2022-04-17T22:10:55.803Z"
   },
   {
    "duration": 1514,
    "start_time": "2022-04-17T22:12:01.848Z"
   },
   {
    "duration": 670,
    "start_time": "2022-04-17T22:12:03.363Z"
   },
   {
    "duration": 37,
    "start_time": "2022-04-17T22:12:04.035Z"
   },
   {
    "duration": 70,
    "start_time": "2022-04-17T22:12:04.074Z"
   },
   {
    "duration": 12,
    "start_time": "2022-04-17T22:12:04.145Z"
   },
   {
    "duration": 4,
    "start_time": "2022-04-17T22:12:04.158Z"
   },
   {
    "duration": 8,
    "start_time": "2022-04-17T22:12:04.164Z"
   },
   {
    "duration": 7,
    "start_time": "2022-04-17T22:12:04.174Z"
   },
   {
    "duration": 6,
    "start_time": "2022-04-17T22:12:04.183Z"
   },
   {
    "duration": 37,
    "start_time": "2022-04-17T22:12:04.191Z"
   },
   {
    "duration": 18,
    "start_time": "2022-04-17T22:12:04.230Z"
   },
   {
    "duration": 13,
    "start_time": "2022-04-17T22:12:04.249Z"
   },
   {
    "duration": 17,
    "start_time": "2022-04-17T22:12:04.264Z"
   },
   {
    "duration": 7,
    "start_time": "2022-04-17T22:12:04.282Z"
   },
   {
    "duration": 37,
    "start_time": "2022-04-17T22:12:04.290Z"
   },
   {
    "duration": 18,
    "start_time": "2022-04-17T22:12:04.329Z"
   },
   {
    "duration": 31,
    "start_time": "2022-04-17T22:12:04.348Z"
   },
   {
    "duration": 100,
    "start_time": "2022-04-17T22:12:04.380Z"
   },
   {
    "duration": 51,
    "start_time": "2022-04-17T22:12:04.482Z"
   },
   {
    "duration": 3,
    "start_time": "2022-04-17T22:12:04.535Z"
   },
   {
    "duration": 51,
    "start_time": "2022-04-17T22:12:04.541Z"
   },
   {
    "duration": 1333,
    "start_time": "2022-04-17T22:12:04.593Z"
   },
   {
    "duration": 227,
    "start_time": "2022-04-17T22:12:05.928Z"
   },
   {
    "duration": 641,
    "start_time": "2022-04-17T22:12:06.157Z"
   },
   {
    "duration": 7,
    "start_time": "2022-04-17T22:12:06.800Z"
   },
   {
    "duration": 38,
    "start_time": "2022-04-17T22:12:06.808Z"
   },
   {
    "duration": 6,
    "start_time": "2022-04-17T22:12:06.847Z"
   },
   {
    "duration": 12,
    "start_time": "2022-04-17T22:12:06.856Z"
   },
   {
    "duration": 3,
    "start_time": "2022-04-17T22:12:06.870Z"
   },
   {
    "duration": 13,
    "start_time": "2022-04-17T22:12:06.874Z"
   },
   {
    "duration": 8,
    "start_time": "2022-04-17T22:12:06.888Z"
   },
   {
    "duration": 2332,
    "start_time": "2022-04-17T22:12:06.898Z"
   },
   {
    "duration": 28700,
    "start_time": "2022-04-17T22:12:09.232Z"
   },
   {
    "duration": 27733,
    "start_time": "2022-04-17T22:13:31.920Z"
   },
   {
    "duration": 28312,
    "start_time": "2022-04-17T22:16:11.817Z"
   },
   {
    "duration": 76533,
    "start_time": "2022-04-17T22:27:28.675Z"
   },
   {
    "duration": 29411,
    "start_time": "2022-04-17T22:35:19.061Z"
   },
   {
    "duration": 105,
    "start_time": "2022-04-17T22:46:12.134Z"
   },
   {
    "duration": 3,
    "start_time": "2022-04-17T22:46:16.695Z"
   },
   {
    "duration": 1264,
    "start_time": "2022-04-17T22:46:21.063Z"
   },
   {
    "duration": 1144,
    "start_time": "2022-04-17T22:50:20.483Z"
   },
   {
    "duration": 1168,
    "start_time": "2022-04-17T22:51:59.855Z"
   },
   {
    "duration": 1409,
    "start_time": "2022-04-17T22:52:21.914Z"
   },
   {
    "duration": 1434,
    "start_time": "2022-04-17T22:52:28.491Z"
   },
   {
    "duration": 1355,
    "start_time": "2022-04-17T22:53:26.376Z"
   },
   {
    "duration": 0,
    "start_time": "2022-04-17T23:04:59.577Z"
   },
   {
    "duration": 1506,
    "start_time": "2022-04-17T23:05:10.466Z"
   },
   {
    "duration": 676,
    "start_time": "2022-04-17T23:05:11.973Z"
   },
   {
    "duration": 38,
    "start_time": "2022-04-17T23:05:12.650Z"
   },
   {
    "duration": 67,
    "start_time": "2022-04-17T23:05:12.690Z"
   },
   {
    "duration": 11,
    "start_time": "2022-04-17T23:05:12.759Z"
   },
   {
    "duration": 8,
    "start_time": "2022-04-17T23:05:12.772Z"
   },
   {
    "duration": 11,
    "start_time": "2022-04-17T23:05:12.781Z"
   },
   {
    "duration": 21,
    "start_time": "2022-04-17T23:05:12.793Z"
   },
   {
    "duration": 18,
    "start_time": "2022-04-17T23:05:12.816Z"
   },
   {
    "duration": 21,
    "start_time": "2022-04-17T23:05:12.837Z"
   },
   {
    "duration": 25,
    "start_time": "2022-04-17T23:05:12.859Z"
   },
   {
    "duration": 15,
    "start_time": "2022-04-17T23:05:12.885Z"
   },
   {
    "duration": 25,
    "start_time": "2022-04-17T23:05:12.902Z"
   },
   {
    "duration": 16,
    "start_time": "2022-04-17T23:05:12.929Z"
   },
   {
    "duration": 23,
    "start_time": "2022-04-17T23:05:12.947Z"
   },
   {
    "duration": 23,
    "start_time": "2022-04-17T23:05:12.972Z"
   },
   {
    "duration": 36,
    "start_time": "2022-04-17T23:05:12.996Z"
   },
   {
    "duration": 74,
    "start_time": "2022-04-17T23:05:13.034Z"
   },
   {
    "duration": 28,
    "start_time": "2022-04-17T23:05:13.123Z"
   },
   {
    "duration": 3,
    "start_time": "2022-04-17T23:05:13.153Z"
   },
   {
    "duration": 65,
    "start_time": "2022-04-17T23:05:13.158Z"
   },
   {
    "duration": 1339,
    "start_time": "2022-04-17T23:05:13.224Z"
   },
   {
    "duration": 221,
    "start_time": "2022-04-17T23:05:14.565Z"
   },
   {
    "duration": 712,
    "start_time": "2022-04-17T23:05:14.788Z"
   },
   {
    "duration": 6,
    "start_time": "2022-04-17T23:05:15.502Z"
   },
   {
    "duration": 42,
    "start_time": "2022-04-17T23:05:15.510Z"
   },
   {
    "duration": 6,
    "start_time": "2022-04-17T23:05:15.554Z"
   },
   {
    "duration": 31,
    "start_time": "2022-04-17T23:05:15.563Z"
   },
   {
    "duration": 13,
    "start_time": "2022-04-17T23:05:15.596Z"
   },
   {
    "duration": 21,
    "start_time": "2022-04-17T23:05:15.611Z"
   },
   {
    "duration": 10,
    "start_time": "2022-04-17T23:05:15.634Z"
   },
   {
    "duration": 1586,
    "start_time": "2022-04-17T23:05:15.646Z"
   },
   {
    "duration": 20055,
    "start_time": "2022-04-17T23:05:17.324Z"
   },
   {
    "duration": 0,
    "start_time": "2022-04-17T23:05:37.381Z"
   },
   {
    "duration": 15592,
    "start_time": "2022-04-17T23:08:21.852Z"
   },
   {
    "duration": 11,
    "start_time": "2022-04-17T23:12:12.954Z"
   },
   {
    "duration": 4,
    "start_time": "2022-04-17T23:13:19.842Z"
   },
   {
    "duration": 5,
    "start_time": "2022-04-17T23:13:23.527Z"
   },
   {
    "duration": 715,
    "start_time": "2022-04-17T23:13:23.533Z"
   },
   {
    "duration": 39,
    "start_time": "2022-04-17T23:13:24.250Z"
   },
   {
    "duration": 112,
    "start_time": "2022-04-17T23:13:24.291Z"
   },
   {
    "duration": 21,
    "start_time": "2022-04-17T23:13:24.405Z"
   },
   {
    "duration": 3,
    "start_time": "2022-04-17T23:13:24.428Z"
   },
   {
    "duration": 22,
    "start_time": "2022-04-17T23:13:24.433Z"
   },
   {
    "duration": 17,
    "start_time": "2022-04-17T23:13:24.456Z"
   },
   {
    "duration": 12,
    "start_time": "2022-04-17T23:13:24.475Z"
   },
   {
    "duration": 13,
    "start_time": "2022-04-17T23:13:24.489Z"
   },
   {
    "duration": 36,
    "start_time": "2022-04-17T23:13:24.504Z"
   },
   {
    "duration": 21,
    "start_time": "2022-04-17T23:13:24.542Z"
   },
   {
    "duration": 16,
    "start_time": "2022-04-17T23:13:24.564Z"
   },
   {
    "duration": 7,
    "start_time": "2022-04-17T23:13:24.582Z"
   },
   {
    "duration": 19,
    "start_time": "2022-04-17T23:13:24.590Z"
   },
   {
    "duration": 18,
    "start_time": "2022-04-17T23:13:24.610Z"
   },
   {
    "duration": 31,
    "start_time": "2022-04-17T23:13:24.630Z"
   },
   {
    "duration": 89,
    "start_time": "2022-04-17T23:13:24.663Z"
   },
   {
    "duration": 26,
    "start_time": "2022-04-17T23:13:24.754Z"
   },
   {
    "duration": 3,
    "start_time": "2022-04-17T23:13:24.782Z"
   },
   {
    "duration": 67,
    "start_time": "2022-04-17T23:13:24.787Z"
   },
   {
    "duration": 1363,
    "start_time": "2022-04-17T23:13:24.855Z"
   },
   {
    "duration": 216,
    "start_time": "2022-04-17T23:13:26.221Z"
   },
   {
    "duration": 541,
    "start_time": "2022-04-17T23:13:26.439Z"
   },
   {
    "duration": 7,
    "start_time": "2022-04-17T23:13:26.981Z"
   },
   {
    "duration": 36,
    "start_time": "2022-04-17T23:13:26.990Z"
   },
   {
    "duration": 7,
    "start_time": "2022-04-17T23:13:27.027Z"
   },
   {
    "duration": 19,
    "start_time": "2022-04-17T23:13:27.036Z"
   },
   {
    "duration": 3,
    "start_time": "2022-04-17T23:13:27.059Z"
   },
   {
    "duration": 7,
    "start_time": "2022-04-17T23:13:27.064Z"
   },
   {
    "duration": 3,
    "start_time": "2022-04-17T23:13:27.073Z"
   },
   {
    "duration": 1445,
    "start_time": "2022-04-17T23:13:27.078Z"
   },
   {
    "duration": 15761,
    "start_time": "2022-04-17T23:13:28.525Z"
   },
   {
    "duration": 2201,
    "start_time": "2022-04-17T23:20:12.754Z"
   },
   {
    "duration": 695,
    "start_time": "2022-04-17T23:20:14.957Z"
   },
   {
    "duration": 41,
    "start_time": "2022-04-17T23:20:15.653Z"
   },
   {
    "duration": 76,
    "start_time": "2022-04-17T23:20:15.696Z"
   },
   {
    "duration": 12,
    "start_time": "2022-04-17T23:20:15.774Z"
   },
   {
    "duration": 4,
    "start_time": "2022-04-17T23:20:15.787Z"
   },
   {
    "duration": 4,
    "start_time": "2022-04-17T23:20:15.793Z"
   },
   {
    "duration": 4,
    "start_time": "2022-04-17T23:20:15.822Z"
   },
   {
    "duration": 7,
    "start_time": "2022-04-17T23:20:15.827Z"
   },
   {
    "duration": 13,
    "start_time": "2022-04-17T23:20:15.836Z"
   },
   {
    "duration": 18,
    "start_time": "2022-04-17T23:20:15.850Z"
   },
   {
    "duration": 13,
    "start_time": "2022-04-17T23:20:15.869Z"
   },
   {
    "duration": 42,
    "start_time": "2022-04-17T23:20:15.884Z"
   },
   {
    "duration": 3,
    "start_time": "2022-04-17T23:20:15.928Z"
   },
   {
    "duration": 13,
    "start_time": "2022-04-17T23:20:15.933Z"
   },
   {
    "duration": 18,
    "start_time": "2022-04-17T23:20:15.947Z"
   },
   {
    "duration": 30,
    "start_time": "2022-04-17T23:20:15.966Z"
   },
   {
    "duration": 96,
    "start_time": "2022-04-17T23:20:15.997Z"
   },
   {
    "duration": 52,
    "start_time": "2022-04-17T23:20:16.094Z"
   },
   {
    "duration": 4,
    "start_time": "2022-04-17T23:20:16.149Z"
   },
   {
    "duration": 43,
    "start_time": "2022-04-17T23:20:16.154Z"
   },
   {
    "duration": 1365,
    "start_time": "2022-04-17T23:20:16.223Z"
   },
   {
    "duration": 231,
    "start_time": "2022-04-17T23:20:17.589Z"
   },
   {
    "duration": 665,
    "start_time": "2022-04-17T23:20:17.822Z"
   },
   {
    "duration": 7,
    "start_time": "2022-04-17T23:20:18.489Z"
   },
   {
    "duration": 40,
    "start_time": "2022-04-17T23:20:18.498Z"
   },
   {
    "duration": 6,
    "start_time": "2022-04-17T23:20:18.540Z"
   },
   {
    "duration": 12,
    "start_time": "2022-04-17T23:20:18.549Z"
   },
   {
    "duration": 4,
    "start_time": "2022-04-17T23:20:18.562Z"
   },
   {
    "duration": 8,
    "start_time": "2022-04-17T23:20:18.567Z"
   },
   {
    "duration": 3,
    "start_time": "2022-04-17T23:20:18.577Z"
   },
   {
    "duration": 1245,
    "start_time": "2022-04-17T23:20:18.582Z"
   },
   {
    "duration": 21774,
    "start_time": "2022-04-17T23:20:19.829Z"
   },
   {
    "duration": 1527,
    "start_time": "2022-04-17T23:33:13.379Z"
   },
   {
    "duration": 707,
    "start_time": "2022-04-17T23:33:14.908Z"
   },
   {
    "duration": 37,
    "start_time": "2022-04-17T23:33:15.617Z"
   },
   {
    "duration": 50,
    "start_time": "2022-04-17T23:33:15.656Z"
   },
   {
    "duration": 20,
    "start_time": "2022-04-17T23:33:15.708Z"
   },
   {
    "duration": 4,
    "start_time": "2022-04-17T23:33:15.730Z"
   },
   {
    "duration": 9,
    "start_time": "2022-04-17T23:33:15.736Z"
   },
   {
    "duration": 9,
    "start_time": "2022-04-17T23:33:15.747Z"
   },
   {
    "duration": 9,
    "start_time": "2022-04-17T23:33:15.758Z"
   },
   {
    "duration": 18,
    "start_time": "2022-04-17T23:33:15.770Z"
   },
   {
    "duration": 18,
    "start_time": "2022-04-17T23:33:15.790Z"
   },
   {
    "duration": 12,
    "start_time": "2022-04-17T23:33:15.810Z"
   },
   {
    "duration": 21,
    "start_time": "2022-04-17T23:33:15.824Z"
   },
   {
    "duration": 3,
    "start_time": "2022-04-17T23:33:15.847Z"
   },
   {
    "duration": 24,
    "start_time": "2022-04-17T23:33:15.852Z"
   },
   {
    "duration": 25,
    "start_time": "2022-04-17T23:33:15.877Z"
   },
   {
    "duration": 28,
    "start_time": "2022-04-17T23:33:15.903Z"
   },
   {
    "duration": 73,
    "start_time": "2022-04-17T23:33:15.932Z"
   },
   {
    "duration": 28,
    "start_time": "2022-04-17T23:33:16.007Z"
   },
   {
    "duration": 4,
    "start_time": "2022-04-17T23:33:16.036Z"
   },
   {
    "duration": 44,
    "start_time": "2022-04-17T23:33:16.041Z"
   },
   {
    "duration": 1485,
    "start_time": "2022-04-17T23:33:16.086Z"
   },
   {
    "duration": 229,
    "start_time": "2022-04-17T23:33:17.572Z"
   },
   {
    "duration": 652,
    "start_time": "2022-04-17T23:33:17.803Z"
   },
   {
    "duration": 6,
    "start_time": "2022-04-17T23:33:18.457Z"
   },
   {
    "duration": 27,
    "start_time": "2022-04-17T23:33:18.465Z"
   },
   {
    "duration": 6,
    "start_time": "2022-04-17T23:33:18.493Z"
   },
   {
    "duration": 32,
    "start_time": "2022-04-17T23:33:18.502Z"
   },
   {
    "duration": 3,
    "start_time": "2022-04-17T23:33:18.535Z"
   },
   {
    "duration": 14,
    "start_time": "2022-04-17T23:33:18.539Z"
   },
   {
    "duration": 23,
    "start_time": "2022-04-17T23:33:18.555Z"
   },
   {
    "duration": 1544,
    "start_time": "2022-04-17T23:33:18.580Z"
   },
   {
    "duration": 21284,
    "start_time": "2022-04-17T23:33:20.126Z"
   },
   {
    "duration": 6404,
    "start_time": "2022-04-18T00:11:33.855Z"
   },
   {
    "duration": 0,
    "start_time": "2022-04-18T00:11:40.262Z"
   },
   {
    "duration": 1481,
    "start_time": "2022-04-18T04:25:52.902Z"
   },
   {
    "duration": 643,
    "start_time": "2022-04-18T04:25:54.385Z"
   },
   {
    "duration": 39,
    "start_time": "2022-04-18T04:25:55.029Z"
   },
   {
    "duration": 68,
    "start_time": "2022-04-18T04:25:55.070Z"
   },
   {
    "duration": 12,
    "start_time": "2022-04-18T04:25:55.139Z"
   },
   {
    "duration": 4,
    "start_time": "2022-04-18T04:25:55.152Z"
   },
   {
    "duration": 4,
    "start_time": "2022-04-18T04:25:55.157Z"
   },
   {
    "duration": 8,
    "start_time": "2022-04-18T04:25:55.162Z"
   },
   {
    "duration": 6,
    "start_time": "2022-04-18T04:25:55.171Z"
   },
   {
    "duration": 43,
    "start_time": "2022-04-18T04:25:55.180Z"
   },
   {
    "duration": 18,
    "start_time": "2022-04-18T04:25:55.224Z"
   },
   {
    "duration": 12,
    "start_time": "2022-04-18T04:25:55.243Z"
   },
   {
    "duration": 13,
    "start_time": "2022-04-18T04:25:55.256Z"
   },
   {
    "duration": 4,
    "start_time": "2022-04-18T04:25:55.270Z"
   },
   {
    "duration": 14,
    "start_time": "2022-04-18T04:25:55.275Z"
   },
   {
    "duration": 45,
    "start_time": "2022-04-18T04:25:55.291Z"
   },
   {
    "duration": 27,
    "start_time": "2022-04-18T04:25:55.337Z"
   },
   {
    "duration": 85,
    "start_time": "2022-04-18T04:25:55.365Z"
   },
   {
    "duration": 28,
    "start_time": "2022-04-18T04:25:55.452Z"
   },
   {
    "duration": 3,
    "start_time": "2022-04-18T04:25:55.482Z"
   },
   {
    "duration": 63,
    "start_time": "2022-04-18T04:25:55.486Z"
   },
   {
    "duration": 1310,
    "start_time": "2022-04-18T04:25:55.551Z"
   },
   {
    "duration": 215,
    "start_time": "2022-04-18T04:25:56.862Z"
   },
   {
    "duration": 643,
    "start_time": "2022-04-18T04:25:57.079Z"
   },
   {
    "duration": 6,
    "start_time": "2022-04-18T04:25:57.724Z"
   },
   {
    "duration": 37,
    "start_time": "2022-04-18T04:25:57.732Z"
   },
   {
    "duration": 5,
    "start_time": "2022-04-18T04:25:57.771Z"
   },
   {
    "duration": 24,
    "start_time": "2022-04-18T04:25:57.779Z"
   },
   {
    "duration": 6,
    "start_time": "2022-04-18T04:25:57.804Z"
   },
   {
    "duration": 16,
    "start_time": "2022-04-18T04:25:57.811Z"
   },
   {
    "duration": 15,
    "start_time": "2022-04-18T04:25:57.829Z"
   },
   {
    "duration": 1379,
    "start_time": "2022-04-18T04:25:57.845Z"
   },
   {
    "duration": 20420,
    "start_time": "2022-04-18T04:25:59.226Z"
   },
   {
    "duration": 147425,
    "start_time": "2022-04-18T04:26:19.648Z"
   },
   {
    "duration": 7504,
    "start_time": "2022-04-18T04:28:47.075Z"
   },
   {
    "duration": 1586,
    "start_time": "2022-04-18T04:30:25.005Z"
   },
   {
    "duration": 661,
    "start_time": "2022-04-18T04:30:26.592Z"
   },
   {
    "duration": 39,
    "start_time": "2022-04-18T04:30:27.255Z"
   },
   {
    "duration": 70,
    "start_time": "2022-04-18T04:30:27.296Z"
   },
   {
    "duration": 12,
    "start_time": "2022-04-18T04:30:27.367Z"
   },
   {
    "duration": 4,
    "start_time": "2022-04-18T04:30:27.380Z"
   },
   {
    "duration": 5,
    "start_time": "2022-04-18T04:30:27.386Z"
   },
   {
    "duration": 6,
    "start_time": "2022-04-18T04:30:27.392Z"
   },
   {
    "duration": 26,
    "start_time": "2022-04-18T04:30:27.400Z"
   },
   {
    "duration": 13,
    "start_time": "2022-04-18T04:30:27.429Z"
   },
   {
    "duration": 18,
    "start_time": "2022-04-18T04:30:27.443Z"
   },
   {
    "duration": 14,
    "start_time": "2022-04-18T04:30:27.463Z"
   },
   {
    "duration": 13,
    "start_time": "2022-04-18T04:30:27.478Z"
   },
   {
    "duration": 31,
    "start_time": "2022-04-18T04:30:27.493Z"
   },
   {
    "duration": 10,
    "start_time": "2022-04-18T04:30:27.526Z"
   },
   {
    "duration": 17,
    "start_time": "2022-04-18T04:30:27.538Z"
   },
   {
    "duration": 27,
    "start_time": "2022-04-18T04:30:27.557Z"
   },
   {
    "duration": 92,
    "start_time": "2022-04-18T04:30:27.586Z"
   },
   {
    "duration": 43,
    "start_time": "2022-04-18T04:30:27.679Z"
   },
   {
    "duration": 3,
    "start_time": "2022-04-18T04:30:27.724Z"
   },
   {
    "duration": 39,
    "start_time": "2022-04-18T04:30:27.728Z"
   },
   {
    "duration": 1331,
    "start_time": "2022-04-18T04:30:27.769Z"
   },
   {
    "duration": 223,
    "start_time": "2022-04-18T04:30:29.101Z"
   },
   {
    "duration": 619,
    "start_time": "2022-04-18T04:30:29.325Z"
   },
   {
    "duration": 7,
    "start_time": "2022-04-18T04:30:29.945Z"
   },
   {
    "duration": 26,
    "start_time": "2022-04-18T04:30:29.953Z"
   },
   {
    "duration": 6,
    "start_time": "2022-04-18T04:30:29.980Z"
   },
   {
    "duration": 35,
    "start_time": "2022-04-18T04:30:29.989Z"
   },
   {
    "duration": 4,
    "start_time": "2022-04-18T04:30:30.025Z"
   },
   {
    "duration": 8,
    "start_time": "2022-04-18T04:30:30.031Z"
   },
   {
    "duration": 3,
    "start_time": "2022-04-18T04:30:30.041Z"
   },
   {
    "duration": 1578,
    "start_time": "2022-04-18T04:30:30.046Z"
   },
   {
    "duration": 18551,
    "start_time": "2022-04-18T04:30:31.625Z"
   },
   {
    "duration": 341397,
    "start_time": "2022-04-18T04:30:50.179Z"
   },
   {
    "duration": 7593,
    "start_time": "2022-04-18T04:36:31.578Z"
   },
   {
    "duration": 19458,
    "start_time": "2022-04-18T05:02:10.223Z"
   },
   {
    "duration": 3,
    "start_time": "2022-04-18T05:04:32.867Z"
   },
   {
    "duration": 50,
    "start_time": "2022-04-18T18:51:55.198Z"
   },
   {
    "duration": 8,
    "start_time": "2022-04-18T19:00:01.291Z"
   },
   {
    "duration": 1761,
    "start_time": "2022-04-18T19:00:07.196Z"
   },
   {
    "duration": 697,
    "start_time": "2022-04-18T19:00:08.959Z"
   },
   {
    "duration": 56,
    "start_time": "2022-04-18T19:00:09.657Z"
   },
   {
    "duration": 52,
    "start_time": "2022-04-18T19:00:09.716Z"
   },
   {
    "duration": 11,
    "start_time": "2022-04-18T19:00:09.770Z"
   },
   {
    "duration": 5,
    "start_time": "2022-04-18T19:00:09.799Z"
   },
   {
    "duration": 31,
    "start_time": "2022-04-18T19:00:09.806Z"
   },
   {
    "duration": 23,
    "start_time": "2022-04-18T19:00:09.839Z"
   },
   {
    "duration": 37,
    "start_time": "2022-04-18T19:00:09.864Z"
   },
   {
    "duration": 49,
    "start_time": "2022-04-18T19:00:09.904Z"
   },
   {
    "duration": 34,
    "start_time": "2022-04-18T19:00:09.954Z"
   },
   {
    "duration": 50,
    "start_time": "2022-04-18T19:00:09.990Z"
   },
   {
    "duration": 42,
    "start_time": "2022-04-18T19:00:10.042Z"
   },
   {
    "duration": 33,
    "start_time": "2022-04-18T19:00:10.085Z"
   },
   {
    "duration": 24,
    "start_time": "2022-04-18T19:00:10.119Z"
   },
   {
    "duration": 25,
    "start_time": "2022-04-18T19:00:10.144Z"
   },
   {
    "duration": 32,
    "start_time": "2022-04-18T19:00:10.170Z"
   },
   {
    "duration": 82,
    "start_time": "2022-04-18T19:00:10.203Z"
   },
   {
    "duration": 34,
    "start_time": "2022-04-18T19:00:10.287Z"
   },
   {
    "duration": 3,
    "start_time": "2022-04-18T19:00:10.323Z"
   },
   {
    "duration": 65,
    "start_time": "2022-04-18T19:00:10.328Z"
   },
   {
    "duration": 1457,
    "start_time": "2022-04-18T19:00:10.395Z"
   },
   {
    "duration": 521,
    "start_time": "2022-04-18T19:00:15.101Z"
   },
   {
    "duration": 1708,
    "start_time": "2022-04-18T19:15:10.429Z"
   },
   {
    "duration": 690,
    "start_time": "2022-04-18T19:15:12.139Z"
   },
   {
    "duration": 41,
    "start_time": "2022-04-18T19:15:12.830Z"
   },
   {
    "duration": 67,
    "start_time": "2022-04-18T19:15:12.873Z"
   },
   {
    "duration": 12,
    "start_time": "2022-04-18T19:15:12.941Z"
   },
   {
    "duration": 5,
    "start_time": "2022-04-18T19:15:12.954Z"
   },
   {
    "duration": 3,
    "start_time": "2022-04-18T19:15:12.960Z"
   },
   {
    "duration": 9,
    "start_time": "2022-04-18T19:15:12.964Z"
   },
   {
    "duration": 6,
    "start_time": "2022-04-18T19:15:13.000Z"
   },
   {
    "duration": 16,
    "start_time": "2022-04-18T19:15:13.008Z"
   },
   {
    "duration": 18,
    "start_time": "2022-04-18T19:15:13.026Z"
   },
   {
    "duration": 14,
    "start_time": "2022-04-18T19:15:13.046Z"
   },
   {
    "duration": 14,
    "start_time": "2022-04-18T19:15:13.062Z"
   },
   {
    "duration": 24,
    "start_time": "2022-04-18T19:15:13.078Z"
   },
   {
    "duration": 17,
    "start_time": "2022-04-18T19:15:13.103Z"
   },
   {
    "duration": 19,
    "start_time": "2022-04-18T19:15:13.121Z"
   },
   {
    "duration": 30,
    "start_time": "2022-04-18T19:15:13.142Z"
   },
   {
    "duration": 99,
    "start_time": "2022-04-18T19:15:13.173Z"
   },
   {
    "duration": 44,
    "start_time": "2022-04-18T19:15:13.273Z"
   },
   {
    "duration": 3,
    "start_time": "2022-04-18T19:15:13.318Z"
   },
   {
    "duration": 43,
    "start_time": "2022-04-18T19:15:13.323Z"
   },
   {
    "duration": 1362,
    "start_time": "2022-04-18T19:15:13.367Z"
   },
   {
    "duration": 313,
    "start_time": "2022-04-18T19:15:14.730Z"
   },
   {
    "duration": 633,
    "start_time": "2022-04-18T19:15:15.044Z"
   },
   {
    "duration": 6,
    "start_time": "2022-04-18T19:15:15.679Z"
   },
   {
    "duration": 34,
    "start_time": "2022-04-18T19:15:15.686Z"
   },
   {
    "duration": 6,
    "start_time": "2022-04-18T19:15:15.721Z"
   },
   {
    "duration": 12,
    "start_time": "2022-04-18T19:15:15.730Z"
   },
   {
    "duration": 3,
    "start_time": "2022-04-18T19:15:15.743Z"
   },
   {
    "duration": 7,
    "start_time": "2022-04-18T19:15:15.747Z"
   },
   {
    "duration": 3,
    "start_time": "2022-04-18T19:15:15.755Z"
   },
   {
    "duration": 135,
    "start_time": "2022-04-18T19:15:15.760Z"
   },
   {
    "duration": 0,
    "start_time": "2022-04-18T19:15:15.896Z"
   },
   {
    "duration": 0,
    "start_time": "2022-04-18T19:15:15.897Z"
   },
   {
    "duration": 0,
    "start_time": "2022-04-18T19:15:15.900Z"
   },
   {
    "duration": 11,
    "start_time": "2022-04-18T19:26:46.796Z"
   },
   {
    "duration": 12,
    "start_time": "2022-04-18T19:27:00.512Z"
   },
   {
    "duration": 7,
    "start_time": "2022-04-18T19:27:58.363Z"
   },
   {
    "duration": 13,
    "start_time": "2022-04-18T19:28:21.877Z"
   },
   {
    "duration": 12,
    "start_time": "2022-04-18T19:28:30.882Z"
   },
   {
    "duration": 12,
    "start_time": "2022-04-18T19:28:36.802Z"
   },
   {
    "duration": 12,
    "start_time": "2022-04-18T19:28:41.832Z"
   },
   {
    "duration": 218,
    "start_time": "2022-04-18T19:29:17.095Z"
   },
   {
    "duration": 6,
    "start_time": "2022-04-18T19:29:21.345Z"
   },
   {
    "duration": 2,
    "start_time": "2022-04-18T19:29:23.044Z"
   },
   {
    "duration": 1568,
    "start_time": "2022-04-18T19:29:25.177Z"
   },
   {
    "duration": 1650,
    "start_time": "2022-04-18T19:29:36.754Z"
   },
   {
    "duration": 650,
    "start_time": "2022-04-18T19:29:38.406Z"
   },
   {
    "duration": 58,
    "start_time": "2022-04-18T19:29:39.057Z"
   },
   {
    "duration": 94,
    "start_time": "2022-04-18T19:29:39.118Z"
   },
   {
    "duration": 15,
    "start_time": "2022-04-18T19:29:39.213Z"
   },
   {
    "duration": 5,
    "start_time": "2022-04-18T19:29:39.230Z"
   },
   {
    "duration": 6,
    "start_time": "2022-04-18T19:29:39.236Z"
   },
   {
    "duration": 8,
    "start_time": "2022-04-18T19:29:39.244Z"
   },
   {
    "duration": 8,
    "start_time": "2022-04-18T19:29:39.253Z"
   },
   {
    "duration": 35,
    "start_time": "2022-04-18T19:29:39.265Z"
   },
   {
    "duration": 28,
    "start_time": "2022-04-18T19:29:39.302Z"
   },
   {
    "duration": 20,
    "start_time": "2022-04-18T19:29:39.331Z"
   },
   {
    "duration": 22,
    "start_time": "2022-04-18T19:29:39.352Z"
   },
   {
    "duration": 4,
    "start_time": "2022-04-18T19:29:39.376Z"
   },
   {
    "duration": 13,
    "start_time": "2022-04-18T19:29:39.401Z"
   },
   {
    "duration": 21,
    "start_time": "2022-04-18T19:29:39.416Z"
   },
   {
    "duration": 35,
    "start_time": "2022-04-18T19:29:39.439Z"
   },
   {
    "duration": 71,
    "start_time": "2022-04-18T19:29:39.500Z"
   },
   {
    "duration": 42,
    "start_time": "2022-04-18T19:29:39.573Z"
   },
   {
    "duration": 3,
    "start_time": "2022-04-18T19:29:39.616Z"
   },
   {
    "duration": 40,
    "start_time": "2022-04-18T19:29:39.620Z"
   },
   {
    "duration": 1269,
    "start_time": "2022-04-18T19:29:39.661Z"
   },
   {
    "duration": 286,
    "start_time": "2022-04-18T19:29:40.931Z"
   },
   {
    "duration": 610,
    "start_time": "2022-04-18T19:29:41.218Z"
   },
   {
    "duration": 6,
    "start_time": "2022-04-18T19:29:41.830Z"
   },
   {
    "duration": 25,
    "start_time": "2022-04-18T19:29:41.837Z"
   },
   {
    "duration": 7,
    "start_time": "2022-04-18T19:29:41.863Z"
   },
   {
    "duration": 37,
    "start_time": "2022-04-18T19:29:41.873Z"
   },
   {
    "duration": 5,
    "start_time": "2022-04-18T19:29:41.911Z"
   },
   {
    "duration": 7,
    "start_time": "2022-04-18T19:29:41.918Z"
   },
   {
    "duration": 4,
    "start_time": "2022-04-18T19:29:41.926Z"
   },
   {
    "duration": 1673,
    "start_time": "2022-04-18T19:29:41.931Z"
   },
   {
    "duration": 21198,
    "start_time": "2022-04-18T19:29:43.606Z"
   },
   {
    "duration": 341439,
    "start_time": "2022-04-18T19:30:04.806Z"
   },
   {
    "duration": 1006,
    "start_time": "2022-04-18T19:35:46.246Z"
   },
   {
    "duration": 13,
    "start_time": "2022-04-18T19:39:19.926Z"
   },
   {
    "duration": 1636,
    "start_time": "2022-04-18T19:39:56.885Z"
   },
   {
    "duration": 679,
    "start_time": "2022-04-18T19:39:58.523Z"
   },
   {
    "duration": 37,
    "start_time": "2022-04-18T19:39:59.203Z"
   },
   {
    "duration": 74,
    "start_time": "2022-04-18T19:39:59.242Z"
   },
   {
    "duration": 11,
    "start_time": "2022-04-18T19:39:59.318Z"
   },
   {
    "duration": 4,
    "start_time": "2022-04-18T19:39:59.330Z"
   },
   {
    "duration": 5,
    "start_time": "2022-04-18T19:39:59.335Z"
   },
   {
    "duration": 7,
    "start_time": "2022-04-18T19:39:59.341Z"
   },
   {
    "duration": 6,
    "start_time": "2022-04-18T19:39:59.350Z"
   },
   {
    "duration": 15,
    "start_time": "2022-04-18T19:39:59.358Z"
   },
   {
    "duration": 42,
    "start_time": "2022-04-18T19:39:59.374Z"
   },
   {
    "duration": 14,
    "start_time": "2022-04-18T19:39:59.418Z"
   },
   {
    "duration": 16,
    "start_time": "2022-04-18T19:39:59.434Z"
   },
   {
    "duration": 5,
    "start_time": "2022-04-18T19:39:59.451Z"
   },
   {
    "duration": 12,
    "start_time": "2022-04-18T19:39:59.457Z"
   },
   {
    "duration": 19,
    "start_time": "2022-04-18T19:39:59.500Z"
   },
   {
    "duration": 34,
    "start_time": "2022-04-18T19:39:59.520Z"
   },
   {
    "duration": 98,
    "start_time": "2022-04-18T19:39:59.556Z"
   },
   {
    "duration": 46,
    "start_time": "2022-04-18T19:39:59.655Z"
   },
   {
    "duration": 3,
    "start_time": "2022-04-18T19:39:59.703Z"
   },
   {
    "duration": 50,
    "start_time": "2022-04-18T19:39:59.707Z"
   },
   {
    "duration": 1373,
    "start_time": "2022-04-18T19:39:59.759Z"
   },
   {
    "duration": 307,
    "start_time": "2022-04-18T19:40:01.134Z"
   },
   {
    "duration": 674,
    "start_time": "2022-04-18T19:40:01.443Z"
   },
   {
    "duration": 6,
    "start_time": "2022-04-18T19:40:02.118Z"
   },
   {
    "duration": 39,
    "start_time": "2022-04-18T19:40:02.125Z"
   },
   {
    "duration": 6,
    "start_time": "2022-04-18T19:40:02.165Z"
   },
   {
    "duration": 27,
    "start_time": "2022-04-18T19:40:02.176Z"
   },
   {
    "duration": 4,
    "start_time": "2022-04-18T19:40:02.204Z"
   },
   {
    "duration": 17,
    "start_time": "2022-04-18T19:40:02.209Z"
   },
   {
    "duration": 11,
    "start_time": "2022-04-18T19:40:02.228Z"
   },
   {
    "duration": 1663,
    "start_time": "2022-04-18T19:40:02.241Z"
   },
   {
    "duration": 21011,
    "start_time": "2022-04-18T19:40:03.910Z"
   },
   {
    "duration": 336450,
    "start_time": "2022-04-18T19:40:24.923Z"
   },
   {
    "duration": 2383,
    "start_time": "2022-04-18T19:46:01.375Z"
   }
  ],
  "kernelspec": {
   "display_name": "Python 3 (ipykernel)",
   "language": "python",
   "name": "python3"
  },
  "language_info": {
   "codemirror_mode": {
    "name": "ipython",
    "version": 3
   },
   "file_extension": ".py",
   "mimetype": "text/x-python",
   "name": "python",
   "nbconvert_exporter": "python",
   "pygments_lexer": "ipython3",
   "version": "3.9.5"
  },
  "toc": {
   "base_numbering": 1,
   "nav_menu": {},
   "number_sections": true,
   "sideBar": true,
   "skip_h1_title": true,
   "title_cell": "Содержание",
   "title_sidebar": "Contents",
   "toc_cell": true,
   "toc_position": {
    "height": "calc(100% - 180px)",
    "left": "10px",
    "top": "150px",
    "width": "285.99px"
   },
   "toc_section_display": true,
   "toc_window_display": false
  }
 },
 "nbformat": 4,
 "nbformat_minor": 2
}
